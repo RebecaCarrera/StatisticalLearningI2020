{
 "cells": [
  {
   "cell_type": "markdown",
   "metadata": {},
   "source": [
    "###  Autor: Lilian Rebeca Carrera Lemus \n",
    "No. Carnet: 20008077  \n",
    "\n",
    "\n",
    "# Práctica No. 2 - Regresión Polinomial & Feature engineering\n",
    "\n",
    "### Parte 1 - Modelo exponencial de covid-19 usando feature-eng\n",
    "\n",
    "Usando el ejemplo de covid-19 en el notebook de feature-eng (https://colab.research.google.com/drive/1sJV2HG7tQgCGKES3-dIclzHQJ9qAWB3b?usp=sharing) crear un modelo de covid-19 para Guatemala.\n",
    "\n",
    "* Convertir la fecha a un entero \"número de día\", por ejemplo si se usan datos desde el 22 de abril, este es el día 0, el 23 es el día 1.\n",
    "* Aplicar regresión lineal sobre la variable \"Confirmed\" transformada.\n",
    "* Una vez entrenado el modelo usarlo para aproximar la cantidad de casos confirmados para el 30 de mayo. Se debe reportar la cantidad de casos, no la cantidad transformada obtenida."
   ]
  },
  {
   "cell_type": "code",
   "execution_count": 1,
   "metadata": {},
   "outputs": [],
   "source": [
    "#Importamos las librerías que utilizaremos en esta práctica\n",
    "import numpy as np\n",
    "import pandas as pd\n",
    "import matplotlib.pyplot as plt\n",
    "import tensorflow as tf\n",
    "import datetime as dt"
   ]
  },
  {
   "cell_type": "code",
   "execution_count": 2,
   "metadata": {},
   "outputs": [
    {
     "name": "stdout",
     "output_type": "stream",
     "text": [
      "WARNING:tensorflow:From C:\\Users\\Rebeca\\Anaconda3\\lib\\site-packages\\tensorflow_core\\python\\compat\\v2_compat.py:88: disable_resource_variables (from tensorflow.python.ops.variable_scope) is deprecated and will be removed in a future version.\n",
      "Instructions for updating:\n",
      "non-resource variables are not supported in the long term\n",
      "Enabled compatitility to tf1.x\n"
     ]
    }
   ],
   "source": [
    "if tf.__version__.startswith(\"2.\"):\n",
    "    import tensorflow.compat.v1 as tf\n",
    "    tf.compat.v1.disable_v2_behavior()\n",
    "    tf.compat.v1.disable_eager_execution()\n",
    "    print(\"Enabled compatitility to tf1.x\")"
   ]
  },
  {
   "cell_type": "code",
   "execution_count": 3,
   "metadata": {},
   "outputs": [
    {
     "data": {
      "text/html": [
       "<div>\n",
       "<style scoped>\n",
       "    .dataframe tbody tr th:only-of-type {\n",
       "        vertical-align: middle;\n",
       "    }\n",
       "\n",
       "    .dataframe tbody tr th {\n",
       "        vertical-align: top;\n",
       "    }\n",
       "\n",
       "    .dataframe thead th {\n",
       "        text-align: right;\n",
       "    }\n",
       "</style>\n",
       "<table border=\"1\" class=\"dataframe\">\n",
       "  <thead>\n",
       "    <tr style=\"text-align: right;\">\n",
       "      <th></th>\n",
       "      <th>Province/State</th>\n",
       "      <th>Country/Region</th>\n",
       "      <th>Lat</th>\n",
       "      <th>Long</th>\n",
       "      <th>Date</th>\n",
       "      <th>Confirmed</th>\n",
       "      <th>Deaths</th>\n",
       "      <th>Recovered</th>\n",
       "    </tr>\n",
       "  </thead>\n",
       "  <tbody>\n",
       "    <tr>\n",
       "      <th>0</th>\n",
       "      <td>NaN</td>\n",
       "      <td>Afghanistan</td>\n",
       "      <td>33.000000</td>\n",
       "      <td>65.000000</td>\n",
       "      <td>1/22/20</td>\n",
       "      <td>0</td>\n",
       "      <td>0</td>\n",
       "      <td>0</td>\n",
       "    </tr>\n",
       "    <tr>\n",
       "      <th>1</th>\n",
       "      <td>NaN</td>\n",
       "      <td>Albania</td>\n",
       "      <td>41.153300</td>\n",
       "      <td>20.168300</td>\n",
       "      <td>1/22/20</td>\n",
       "      <td>0</td>\n",
       "      <td>0</td>\n",
       "      <td>0</td>\n",
       "    </tr>\n",
       "    <tr>\n",
       "      <th>2</th>\n",
       "      <td>NaN</td>\n",
       "      <td>Algeria</td>\n",
       "      <td>28.033900</td>\n",
       "      <td>1.659600</td>\n",
       "      <td>1/22/20</td>\n",
       "      <td>0</td>\n",
       "      <td>0</td>\n",
       "      <td>0</td>\n",
       "    </tr>\n",
       "    <tr>\n",
       "      <th>3</th>\n",
       "      <td>NaN</td>\n",
       "      <td>Andorra</td>\n",
       "      <td>42.506300</td>\n",
       "      <td>1.521800</td>\n",
       "      <td>1/22/20</td>\n",
       "      <td>0</td>\n",
       "      <td>0</td>\n",
       "      <td>0</td>\n",
       "    </tr>\n",
       "    <tr>\n",
       "      <th>4</th>\n",
       "      <td>NaN</td>\n",
       "      <td>Angola</td>\n",
       "      <td>-11.202700</td>\n",
       "      <td>17.873900</td>\n",
       "      <td>1/22/20</td>\n",
       "      <td>0</td>\n",
       "      <td>0</td>\n",
       "      <td>0</td>\n",
       "    </tr>\n",
       "    <tr>\n",
       "      <th>...</th>\n",
       "      <td>...</td>\n",
       "      <td>...</td>\n",
       "      <td>...</td>\n",
       "      <td>...</td>\n",
       "      <td>...</td>\n",
       "      <td>...</td>\n",
       "      <td>...</td>\n",
       "      <td>...</td>\n",
       "    </tr>\n",
       "    <tr>\n",
       "      <th>29035</th>\n",
       "      <td>NaN</td>\n",
       "      <td>Western Sahara</td>\n",
       "      <td>24.215500</td>\n",
       "      <td>-12.885800</td>\n",
       "      <td>5/10/20</td>\n",
       "      <td>6</td>\n",
       "      <td>0</td>\n",
       "      <td>5</td>\n",
       "    </tr>\n",
       "    <tr>\n",
       "      <th>29036</th>\n",
       "      <td>NaN</td>\n",
       "      <td>Sao Tome and Principe</td>\n",
       "      <td>0.186360</td>\n",
       "      <td>6.613081</td>\n",
       "      <td>5/10/20</td>\n",
       "      <td>208</td>\n",
       "      <td>5</td>\n",
       "      <td>4</td>\n",
       "    </tr>\n",
       "    <tr>\n",
       "      <th>29037</th>\n",
       "      <td>NaN</td>\n",
       "      <td>Yemen</td>\n",
       "      <td>15.552727</td>\n",
       "      <td>48.516388</td>\n",
       "      <td>5/10/20</td>\n",
       "      <td>51</td>\n",
       "      <td>8</td>\n",
       "      <td>1</td>\n",
       "    </tr>\n",
       "    <tr>\n",
       "      <th>29038</th>\n",
       "      <td>NaN</td>\n",
       "      <td>Comoros</td>\n",
       "      <td>-11.645500</td>\n",
       "      <td>43.333300</td>\n",
       "      <td>5/10/20</td>\n",
       "      <td>11</td>\n",
       "      <td>1</td>\n",
       "      <td>0</td>\n",
       "    </tr>\n",
       "    <tr>\n",
       "      <th>29039</th>\n",
       "      <td>NaN</td>\n",
       "      <td>Tajikistan</td>\n",
       "      <td>38.861034</td>\n",
       "      <td>71.276093</td>\n",
       "      <td>5/10/20</td>\n",
       "      <td>612</td>\n",
       "      <td>20</td>\n",
       "      <td>0</td>\n",
       "    </tr>\n",
       "  </tbody>\n",
       "</table>\n",
       "<p>29040 rows × 8 columns</p>\n",
       "</div>"
      ],
      "text/plain": [
       "      Province/State         Country/Region        Lat       Long     Date  \\\n",
       "0                NaN            Afghanistan  33.000000  65.000000  1/22/20   \n",
       "1                NaN                Albania  41.153300  20.168300  1/22/20   \n",
       "2                NaN                Algeria  28.033900   1.659600  1/22/20   \n",
       "3                NaN                Andorra  42.506300   1.521800  1/22/20   \n",
       "4                NaN                 Angola -11.202700  17.873900  1/22/20   \n",
       "...              ...                    ...        ...        ...      ...   \n",
       "29035            NaN         Western Sahara  24.215500 -12.885800  5/10/20   \n",
       "29036            NaN  Sao Tome and Principe   0.186360   6.613081  5/10/20   \n",
       "29037            NaN                  Yemen  15.552727  48.516388  5/10/20   \n",
       "29038            NaN                Comoros -11.645500  43.333300  5/10/20   \n",
       "29039            NaN             Tajikistan  38.861034  71.276093  5/10/20   \n",
       "\n",
       "       Confirmed  Deaths  Recovered  \n",
       "0              0       0          0  \n",
       "1              0       0          0  \n",
       "2              0       0          0  \n",
       "3              0       0          0  \n",
       "4              0       0          0  \n",
       "...          ...     ...        ...  \n",
       "29035          6       0          5  \n",
       "29036        208       5          4  \n",
       "29037         51       8          1  \n",
       "29038         11       1          0  \n",
       "29039        612      20          0  \n",
       "\n",
       "[29040 rows x 8 columns]"
      ]
     },
     "execution_count": 3,
     "metadata": {},
     "output_type": "execute_result"
    }
   ],
   "source": [
    "#Cargamos los datos del archivo a utilizar\n",
    "datos_covid = pd.read_csv('covid_19_clean_complete.csv')\n",
    "datos_covid"
   ]
  },
  {
   "cell_type": "markdown",
   "metadata": {},
   "source": [
    "### Limpieza de Datos\n",
    "\n",
    "Para empezar se realizará una limpieza de datos, esto con el objetivo de que al momento de hacer el entrenamiento de nuestro modelo, le proporcionemos los mejores datos posibles, es decir datos limpios.\n",
    "\n",
    " **a)Eliminar observaciones no deseadas**  \n",
    "Como primer paso para la limpieza de datos se eliminarán las observaciones no deseadas del su conjunto de datos, lo cual incluye observaciones duplicadas  o  irrelevantes. En este caso solo necesitamos los valores correspondientes al país de Guatemala y se eliminarán las observaciones correspondientes a otros Países, ya que nuestro modelo busca realizar predicciones solamente para Guatemala.\n"
   ]
  },
  {
   "cell_type": "code",
   "execution_count": 4,
   "metadata": {},
   "outputs": [
    {
     "data": {
      "text/html": [
       "<div>\n",
       "<style scoped>\n",
       "    .dataframe tbody tr th:only-of-type {\n",
       "        vertical-align: middle;\n",
       "    }\n",
       "\n",
       "    .dataframe tbody tr th {\n",
       "        vertical-align: top;\n",
       "    }\n",
       "\n",
       "    .dataframe thead th {\n",
       "        text-align: right;\n",
       "    }\n",
       "</style>\n",
       "<table border=\"1\" class=\"dataframe\">\n",
       "  <thead>\n",
       "    <tr style=\"text-align: right;\">\n",
       "      <th></th>\n",
       "      <th>Province/State</th>\n",
       "      <th>Country/Region</th>\n",
       "      <th>Lat</th>\n",
       "      <th>Long</th>\n",
       "      <th>Date</th>\n",
       "      <th>Confirmed</th>\n",
       "      <th>Deaths</th>\n",
       "      <th>Recovered</th>\n",
       "    </tr>\n",
       "  </thead>\n",
       "  <tbody>\n",
       "    <tr>\n",
       "      <th>123</th>\n",
       "      <td>NaN</td>\n",
       "      <td>Guatemala</td>\n",
       "      <td>15.7835</td>\n",
       "      <td>-90.2308</td>\n",
       "      <td>1/22/20</td>\n",
       "      <td>0</td>\n",
       "      <td>0</td>\n",
       "      <td>0</td>\n",
       "    </tr>\n",
       "    <tr>\n",
       "      <th>387</th>\n",
       "      <td>NaN</td>\n",
       "      <td>Guatemala</td>\n",
       "      <td>15.7835</td>\n",
       "      <td>-90.2308</td>\n",
       "      <td>1/23/20</td>\n",
       "      <td>0</td>\n",
       "      <td>0</td>\n",
       "      <td>0</td>\n",
       "    </tr>\n",
       "    <tr>\n",
       "      <th>651</th>\n",
       "      <td>NaN</td>\n",
       "      <td>Guatemala</td>\n",
       "      <td>15.7835</td>\n",
       "      <td>-90.2308</td>\n",
       "      <td>1/24/20</td>\n",
       "      <td>0</td>\n",
       "      <td>0</td>\n",
       "      <td>0</td>\n",
       "    </tr>\n",
       "    <tr>\n",
       "      <th>915</th>\n",
       "      <td>NaN</td>\n",
       "      <td>Guatemala</td>\n",
       "      <td>15.7835</td>\n",
       "      <td>-90.2308</td>\n",
       "      <td>1/25/20</td>\n",
       "      <td>0</td>\n",
       "      <td>0</td>\n",
       "      <td>0</td>\n",
       "    </tr>\n",
       "    <tr>\n",
       "      <th>1179</th>\n",
       "      <td>NaN</td>\n",
       "      <td>Guatemala</td>\n",
       "      <td>15.7835</td>\n",
       "      <td>-90.2308</td>\n",
       "      <td>1/26/20</td>\n",
       "      <td>0</td>\n",
       "      <td>0</td>\n",
       "      <td>0</td>\n",
       "    </tr>\n",
       "    <tr>\n",
       "      <th>...</th>\n",
       "      <td>...</td>\n",
       "      <td>...</td>\n",
       "      <td>...</td>\n",
       "      <td>...</td>\n",
       "      <td>...</td>\n",
       "      <td>...</td>\n",
       "      <td>...</td>\n",
       "      <td>...</td>\n",
       "    </tr>\n",
       "    <tr>\n",
       "      <th>27843</th>\n",
       "      <td>NaN</td>\n",
       "      <td>Guatemala</td>\n",
       "      <td>15.7835</td>\n",
       "      <td>-90.2308</td>\n",
       "      <td>5/6/20</td>\n",
       "      <td>798</td>\n",
       "      <td>21</td>\n",
       "      <td>86</td>\n",
       "    </tr>\n",
       "    <tr>\n",
       "      <th>28107</th>\n",
       "      <td>NaN</td>\n",
       "      <td>Guatemala</td>\n",
       "      <td>15.7835</td>\n",
       "      <td>-90.2308</td>\n",
       "      <td>5/7/20</td>\n",
       "      <td>832</td>\n",
       "      <td>23</td>\n",
       "      <td>90</td>\n",
       "    </tr>\n",
       "    <tr>\n",
       "      <th>28371</th>\n",
       "      <td>NaN</td>\n",
       "      <td>Guatemala</td>\n",
       "      <td>15.7835</td>\n",
       "      <td>-90.2308</td>\n",
       "      <td>5/8/20</td>\n",
       "      <td>900</td>\n",
       "      <td>24</td>\n",
       "      <td>101</td>\n",
       "    </tr>\n",
       "    <tr>\n",
       "      <th>28635</th>\n",
       "      <td>NaN</td>\n",
       "      <td>Guatemala</td>\n",
       "      <td>15.7835</td>\n",
       "      <td>-90.2308</td>\n",
       "      <td>5/9/20</td>\n",
       "      <td>967</td>\n",
       "      <td>24</td>\n",
       "      <td>104</td>\n",
       "    </tr>\n",
       "    <tr>\n",
       "      <th>28899</th>\n",
       "      <td>NaN</td>\n",
       "      <td>Guatemala</td>\n",
       "      <td>15.7835</td>\n",
       "      <td>-90.2308</td>\n",
       "      <td>5/10/20</td>\n",
       "      <td>1052</td>\n",
       "      <td>26</td>\n",
       "      <td>110</td>\n",
       "    </tr>\n",
       "  </tbody>\n",
       "</table>\n",
       "<p>110 rows × 8 columns</p>\n",
       "</div>"
      ],
      "text/plain": [
       "      Province/State Country/Region      Lat     Long     Date  Confirmed  \\\n",
       "123              NaN      Guatemala  15.7835 -90.2308  1/22/20          0   \n",
       "387              NaN      Guatemala  15.7835 -90.2308  1/23/20          0   \n",
       "651              NaN      Guatemala  15.7835 -90.2308  1/24/20          0   \n",
       "915              NaN      Guatemala  15.7835 -90.2308  1/25/20          0   \n",
       "1179             NaN      Guatemala  15.7835 -90.2308  1/26/20          0   \n",
       "...              ...            ...      ...      ...      ...        ...   \n",
       "27843            NaN      Guatemala  15.7835 -90.2308   5/6/20        798   \n",
       "28107            NaN      Guatemala  15.7835 -90.2308   5/7/20        832   \n",
       "28371            NaN      Guatemala  15.7835 -90.2308   5/8/20        900   \n",
       "28635            NaN      Guatemala  15.7835 -90.2308   5/9/20        967   \n",
       "28899            NaN      Guatemala  15.7835 -90.2308  5/10/20       1052   \n",
       "\n",
       "       Deaths  Recovered  \n",
       "123         0          0  \n",
       "387         0          0  \n",
       "651         0          0  \n",
       "915         0          0  \n",
       "1179        0          0  \n",
       "...       ...        ...  \n",
       "27843      21         86  \n",
       "28107      23         90  \n",
       "28371      24        101  \n",
       "28635      24        104  \n",
       "28899      26        110  \n",
       "\n",
       "[110 rows x 8 columns]"
      ]
     },
     "execution_count": 4,
     "metadata": {},
     "output_type": "execute_result"
    }
   ],
   "source": [
    "df_covid = datos_covid[datos_covid[\"Country/Region\"] == 'Guatemala'].copy()\n",
    "df_covid"
   ]
  },
  {
   "cell_type": "markdown",
   "metadata": {},
   "source": [
    "**b)Filtrar valores atípicos no deseados:**  \n",
    "Se filtrarán los valores no deseados, ya que estos pueden causar problemas con nuestro modelo.\n",
    "En este caso se tomarán solo los valores confirmados mayores a 0, para que nos queden los días desde donde iniciaron los casos confirmados en Guatemala."
   ]
  },
  {
   "cell_type": "code",
   "execution_count": 5,
   "metadata": {},
   "outputs": [
    {
     "data": {
      "text/html": [
       "<div>\n",
       "<style scoped>\n",
       "    .dataframe tbody tr th:only-of-type {\n",
       "        vertical-align: middle;\n",
       "    }\n",
       "\n",
       "    .dataframe tbody tr th {\n",
       "        vertical-align: top;\n",
       "    }\n",
       "\n",
       "    .dataframe thead th {\n",
       "        text-align: right;\n",
       "    }\n",
       "</style>\n",
       "<table border=\"1\" class=\"dataframe\">\n",
       "  <thead>\n",
       "    <tr style=\"text-align: right;\">\n",
       "      <th></th>\n",
       "      <th>Province/State</th>\n",
       "      <th>Country/Region</th>\n",
       "      <th>Lat</th>\n",
       "      <th>Long</th>\n",
       "      <th>Date</th>\n",
       "      <th>Confirmed</th>\n",
       "      <th>Deaths</th>\n",
       "      <th>Recovered</th>\n",
       "    </tr>\n",
       "  </thead>\n",
       "  <tbody>\n",
       "    <tr>\n",
       "      <th>13851</th>\n",
       "      <td>NaN</td>\n",
       "      <td>Guatemala</td>\n",
       "      <td>15.7835</td>\n",
       "      <td>-90.2308</td>\n",
       "      <td>3/14/20</td>\n",
       "      <td>1</td>\n",
       "      <td>0</td>\n",
       "      <td>0</td>\n",
       "    </tr>\n",
       "    <tr>\n",
       "      <th>14115</th>\n",
       "      <td>NaN</td>\n",
       "      <td>Guatemala</td>\n",
       "      <td>15.7835</td>\n",
       "      <td>-90.2308</td>\n",
       "      <td>3/15/20</td>\n",
       "      <td>1</td>\n",
       "      <td>0</td>\n",
       "      <td>0</td>\n",
       "    </tr>\n",
       "    <tr>\n",
       "      <th>14379</th>\n",
       "      <td>NaN</td>\n",
       "      <td>Guatemala</td>\n",
       "      <td>15.7835</td>\n",
       "      <td>-90.2308</td>\n",
       "      <td>3/16/20</td>\n",
       "      <td>2</td>\n",
       "      <td>1</td>\n",
       "      <td>0</td>\n",
       "    </tr>\n",
       "    <tr>\n",
       "      <th>14643</th>\n",
       "      <td>NaN</td>\n",
       "      <td>Guatemala</td>\n",
       "      <td>15.7835</td>\n",
       "      <td>-90.2308</td>\n",
       "      <td>3/17/20</td>\n",
       "      <td>6</td>\n",
       "      <td>1</td>\n",
       "      <td>0</td>\n",
       "    </tr>\n",
       "    <tr>\n",
       "      <th>14907</th>\n",
       "      <td>NaN</td>\n",
       "      <td>Guatemala</td>\n",
       "      <td>15.7835</td>\n",
       "      <td>-90.2308</td>\n",
       "      <td>3/18/20</td>\n",
       "      <td>6</td>\n",
       "      <td>1</td>\n",
       "      <td>0</td>\n",
       "    </tr>\n",
       "  </tbody>\n",
       "</table>\n",
       "</div>"
      ],
      "text/plain": [
       "      Province/State Country/Region      Lat     Long     Date  Confirmed  \\\n",
       "13851            NaN      Guatemala  15.7835 -90.2308  3/14/20          1   \n",
       "14115            NaN      Guatemala  15.7835 -90.2308  3/15/20          1   \n",
       "14379            NaN      Guatemala  15.7835 -90.2308  3/16/20          2   \n",
       "14643            NaN      Guatemala  15.7835 -90.2308  3/17/20          6   \n",
       "14907            NaN      Guatemala  15.7835 -90.2308  3/18/20          6   \n",
       "\n",
       "       Deaths  Recovered  \n",
       "13851       0          0  \n",
       "14115       0          0  \n",
       "14379       1          0  \n",
       "14643       1          0  \n",
       "14907       1          0  "
      ]
     },
     "execution_count": 5,
     "metadata": {},
     "output_type": "execute_result"
    }
   ],
   "source": [
    "df_covid = df_covid[df_covid[\"Confirmed\"] > 0]\n",
    "df_covid.head()"
   ]
  },
  {
   "cell_type": "markdown",
   "metadata": {},
   "source": [
    "### Feature engineering\n",
    "\n",
    "Después de la limpieza de datos realizaremos ingeniería de características para ayudar a nuestros algoritmos y mejorar el rendimiento del modelo.\n",
    "\n",
    " **a)Seleccionar**  \n",
    " Como primer paso vamos a seleccionar solamente las caracteristicas que vamos a utilizar y que nos interesan, que son relevantes para este modelo. En este caso solamente vamos a seleccionar la fecha y los casos confirmados, ya que no necesitamos el País porque en el paso anterior filtramos solamente Guatemala."
   ]
  },
  {
   "cell_type": "code",
   "execution_count": 6,
   "metadata": {},
   "outputs": [
    {
     "data": {
      "text/html": [
       "<div>\n",
       "<style scoped>\n",
       "    .dataframe tbody tr th:only-of-type {\n",
       "        vertical-align: middle;\n",
       "    }\n",
       "\n",
       "    .dataframe tbody tr th {\n",
       "        vertical-align: top;\n",
       "    }\n",
       "\n",
       "    .dataframe thead th {\n",
       "        text-align: right;\n",
       "    }\n",
       "</style>\n",
       "<table border=\"1\" class=\"dataframe\">\n",
       "  <thead>\n",
       "    <tr style=\"text-align: right;\">\n",
       "      <th></th>\n",
       "      <th>Date</th>\n",
       "      <th>Confirmed</th>\n",
       "    </tr>\n",
       "  </thead>\n",
       "  <tbody>\n",
       "    <tr>\n",
       "      <th>13851</th>\n",
       "      <td>3/14/20</td>\n",
       "      <td>1</td>\n",
       "    </tr>\n",
       "    <tr>\n",
       "      <th>14115</th>\n",
       "      <td>3/15/20</td>\n",
       "      <td>1</td>\n",
       "    </tr>\n",
       "    <tr>\n",
       "      <th>14379</th>\n",
       "      <td>3/16/20</td>\n",
       "      <td>2</td>\n",
       "    </tr>\n",
       "    <tr>\n",
       "      <th>14643</th>\n",
       "      <td>3/17/20</td>\n",
       "      <td>6</td>\n",
       "    </tr>\n",
       "    <tr>\n",
       "      <th>14907</th>\n",
       "      <td>3/18/20</td>\n",
       "      <td>6</td>\n",
       "    </tr>\n",
       "  </tbody>\n",
       "</table>\n",
       "</div>"
      ],
      "text/plain": [
       "          Date  Confirmed\n",
       "13851  3/14/20          1\n",
       "14115  3/15/20          1\n",
       "14379  3/16/20          2\n",
       "14643  3/17/20          6\n",
       "14907  3/18/20          6"
      ]
     },
     "execution_count": 6,
     "metadata": {},
     "output_type": "execute_result"
    }
   ],
   "source": [
    "#Seleccionamos solo las columnas que nos interesan para este ejercicio\n",
    "df_covid = df_covid.loc[:,[\"Date\", \"Confirmed\"]]\n",
    "df_covid.head()"
   ]
  },
  {
   "cell_type": "markdown",
   "metadata": {},
   "source": [
    "**Eliminación de observaciones con valores nulos**  \n",
    " Como ya hemos seleccionado la información que vamos a utilizar, se procedió  a verificar que no existan valores nulos o NA, ya que la falta de datos resulta en un problema en el aprendizaje de nuestro modelo. En ete caso confirmamos que no hay valores nulos o NA en nuestros datos.  \n",
    " Este paso va en la limpieza de datos, sin embargo como en este ejercicio ya se nos indicó que variables especificas utilizar, hasta ahora confirmo que no hayan valores faltantes."
   ]
  },
  {
   "cell_type": "code",
   "execution_count": 7,
   "metadata": {},
   "outputs": [
    {
     "name": "stdout",
     "output_type": "stream",
     "text": [
      "<class 'pandas.core.frame.DataFrame'>\n",
      "Int64Index: 58 entries, 13851 to 28899\n",
      "Data columns (total 2 columns):\n",
      " #   Column     Non-Null Count  Dtype \n",
      "---  ------     --------------  ----- \n",
      " 0   Date       58 non-null     object\n",
      " 1   Confirmed  58 non-null     int64 \n",
      "dtypes: int64(1), object(1)\n",
      "memory usage: 1.4+ KB\n"
     ]
    }
   ],
   "source": [
    "# Verificamos la información de cada columna\n",
    "#Podemos observar que no hay datos nulos\n",
    "df_covid.info()"
   ]
  },
  {
   "cell_type": "markdown",
   "metadata": {},
   "source": [
    " **b)Crear y transformar**  \n",
    " Se crearán nuevas features derivadas de las existentes y otras se transformarán con el objetivo es facilitar y hacer que los algoritmos funcionen y sean óptimos a través de estas transformaciónes de los datos de entrada. \n",
    " \n",
    "En este caso:\n",
    "* Creamos una nueva columna de día, en la cual se transforma de la columna de fecha a números enteros, así la fecha de 14 de marzo será el día 0 y se le sumará 1 al cada uno de los días que le siguen.\n",
    "* Transformaremos la variable objetivo de datos confirmados a Logaritmo Natural "
   ]
  },
  {
   "cell_type": "code",
   "execution_count": 8,
   "metadata": {},
   "outputs": [
    {
     "data": {
      "text/html": [
       "<div>\n",
       "<style scoped>\n",
       "    .dataframe tbody tr th:only-of-type {\n",
       "        vertical-align: middle;\n",
       "    }\n",
       "\n",
       "    .dataframe tbody tr th {\n",
       "        vertical-align: top;\n",
       "    }\n",
       "\n",
       "    .dataframe thead th {\n",
       "        text-align: right;\n",
       "    }\n",
       "</style>\n",
       "<table border=\"1\" class=\"dataframe\">\n",
       "  <thead>\n",
       "    <tr style=\"text-align: right;\">\n",
       "      <th></th>\n",
       "      <th>Date</th>\n",
       "      <th>Confirmed</th>\n",
       "      <th>Day</th>\n",
       "    </tr>\n",
       "  </thead>\n",
       "  <tbody>\n",
       "    <tr>\n",
       "      <th>13851</th>\n",
       "      <td>3/14/20</td>\n",
       "      <td>1</td>\n",
       "      <td>0</td>\n",
       "    </tr>\n",
       "    <tr>\n",
       "      <th>14115</th>\n",
       "      <td>3/15/20</td>\n",
       "      <td>1</td>\n",
       "      <td>1</td>\n",
       "    </tr>\n",
       "    <tr>\n",
       "      <th>14379</th>\n",
       "      <td>3/16/20</td>\n",
       "      <td>2</td>\n",
       "      <td>2</td>\n",
       "    </tr>\n",
       "    <tr>\n",
       "      <th>14643</th>\n",
       "      <td>3/17/20</td>\n",
       "      <td>6</td>\n",
       "      <td>3</td>\n",
       "    </tr>\n",
       "    <tr>\n",
       "      <th>14907</th>\n",
       "      <td>3/18/20</td>\n",
       "      <td>6</td>\n",
       "      <td>4</td>\n",
       "    </tr>\n",
       "  </tbody>\n",
       "</table>\n",
       "</div>"
      ],
      "text/plain": [
       "          Date  Confirmed  Day\n",
       "13851  3/14/20          1    0\n",
       "14115  3/15/20          1    1\n",
       "14379  3/16/20          2    2\n",
       "14643  3/17/20          6    3\n",
       "14907  3/18/20          6    4"
      ]
     },
     "execution_count": 8,
     "metadata": {},
     "output_type": "execute_result"
    }
   ],
   "source": [
    "#Se crea la nueva columnna de día, derivada o basandonos en la columna de fecha\n",
    "df_covid['Day'] = np.linspace(start= 0, stop = len(df_covid[\"Date\"]), num = len(df_covid['Date']), endpoint=False, dtype = int)\n",
    "df_covid.head() "
   ]
  },
  {
   "cell_type": "code",
   "execution_count": 9,
   "metadata": {},
   "outputs": [
    {
     "data": {
      "text/html": [
       "<div>\n",
       "<style scoped>\n",
       "    .dataframe tbody tr th:only-of-type {\n",
       "        vertical-align: middle;\n",
       "    }\n",
       "\n",
       "    .dataframe tbody tr th {\n",
       "        vertical-align: top;\n",
       "    }\n",
       "\n",
       "    .dataframe thead th {\n",
       "        text-align: right;\n",
       "    }\n",
       "</style>\n",
       "<table border=\"1\" class=\"dataframe\">\n",
       "  <thead>\n",
       "    <tr style=\"text-align: right;\">\n",
       "      <th></th>\n",
       "      <th>Date</th>\n",
       "      <th>Confirmed</th>\n",
       "      <th>Day</th>\n",
       "    </tr>\n",
       "  </thead>\n",
       "  <tbody>\n",
       "    <tr>\n",
       "      <th>28899</th>\n",
       "      <td>5/10/20</td>\n",
       "      <td>1052</td>\n",
       "      <td>57</td>\n",
       "    </tr>\n",
       "  </tbody>\n",
       "</table>\n",
       "</div>"
      ],
      "text/plain": [
       "          Date  Confirmed  Day\n",
       "28899  5/10/20       1052   57"
      ]
     },
     "execution_count": 9,
     "metadata": {},
     "output_type": "execute_result"
    }
   ],
   "source": [
    "#El último día para el cual se tiene información disponible es para el 10 de mayo 2020\n",
    "ultimo_dia = df_covid[-1:]\n",
    "ultimo_dia"
   ]
  },
  {
   "cell_type": "markdown",
   "metadata": {},
   "source": [
    "**Análisis Exploratorio de Datos**  \n",
    " Se procedió a realizar un poco de análisis exploratorio en los datos seleccionados para ver el comportamiento de los mismos.\n"
   ]
  },
  {
   "cell_type": "code",
   "execution_count": 10,
   "metadata": {},
   "outputs": [
    {
     "data": {
      "text/plain": [
       "Text(0.5, 1.0, 'Casos confirmados por número de día en Guatemala')"
      ]
     },
     "execution_count": 10,
     "metadata": {},
     "output_type": "execute_result"
    },
    {
     "data": {
      "image/png": "[encoded data removed]",
      "text/plain": [
       "<Figure size 432x288 with 1 Axes>"
      ]
     },
     "metadata": {
      "needs_background": "light"
     },
     "output_type": "display_data"
    }
   ],
   "source": [
    "df_covid.plot.scatter(x =\"Day\",y=\"Confirmed\")\n",
    "plt.title('Casos confirmados por número de día en Guatemala')"
   ]
  },
  {
   "cell_type": "markdown",
   "metadata": {},
   "source": [
    "La idea para este problema es entrenar un modelo de regresión líneal para predecir el comportamiento de los casos confirmados de Covid19 en Guatemala para los proximos días. Sin embargo, podemos obserevar en la gráfica que el comportamiento o patrón de los datos no es del todo líneal, por lo cual aplicaremos el Logartimo Natural a nuestra variable objetivo de casos confirmados"
   ]
  },
  {
   "cell_type": "code",
   "execution_count": 11,
   "metadata": {},
   "outputs": [
    {
     "data": {
      "text/plain": [
       "Text(0.5, 1.0, 'Ln de Casos confirmados por número de día en Guatemala')"
      ]
     },
     "execution_count": 11,
     "metadata": {},
     "output_type": "execute_result"
    },
    {
     "data": {
      "image/png": "[encoded data removed]",
      "text/plain": [
       "<Figure size 432x288 with 1 Axes>"
      ]
     },
     "metadata": {
      "needs_background": "light"
     },
     "output_type": "display_data"
    }
   ],
   "source": [
    "df_covid[\"ln_confirmed\"] = np.log(df_covid[\"Confirmed\"])\n",
    "df_covid.plot.scatter(x =\"Day\",y=\"ln_confirmed\")\n",
    "plt.title('Ln de Casos confirmados por número de día en Guatemala')"
   ]
  },
  {
   "cell_type": "markdown",
   "metadata": {},
   "source": [
    "Observamos ahora que con esta transformación, los datos siguen un comportamiento con un patrón lineal.\n",
    "Se procederá también a filtrar y quitar los primeros ocho días, ya que por ser los primeros días presentan un comportamiento atípico."
   ]
  },
  {
   "cell_type": "code",
   "execution_count": 36,
   "metadata": {},
   "outputs": [
    {
     "data": {
      "text/plain": [
       "Text(0.5, 1.0, 'Ln de Casos confirmados por número de día en Guatemala')"
      ]
     },
     "execution_count": 36,
     "metadata": {},
     "output_type": "execute_result"
    },
    {
     "data": {
      "image/png": "[encoded data removed]",
      "text/plain": [
       "<Figure size 432x288 with 1 Axes>"
      ]
     },
     "metadata": {
      "needs_background": "light"
     },
     "output_type": "display_data"
    }
   ],
   "source": [
    "df_covid_10 = df_covid[df_covid.Day >= 8]\n",
    "df_covid_10.plot.scatter(x =\"Day\",y=\"ln_confirmed\")\n",
    "plt.title('Ln de Casos confirmados por número de día en Guatemala')"
   ]
  },
  {
   "cell_type": "code",
   "execution_count": 13,
   "metadata": {},
   "outputs": [
    {
     "data": {
      "text/html": [
       "<div>\n",
       "<style scoped>\n",
       "    .dataframe tbody tr th:only-of-type {\n",
       "        vertical-align: middle;\n",
       "    }\n",
       "\n",
       "    .dataframe tbody tr th {\n",
       "        vertical-align: top;\n",
       "    }\n",
       "\n",
       "    .dataframe thead th {\n",
       "        text-align: right;\n",
       "    }\n",
       "</style>\n",
       "<table border=\"1\" class=\"dataframe\">\n",
       "  <thead>\n",
       "    <tr style=\"text-align: right;\">\n",
       "      <th></th>\n",
       "      <th>Date</th>\n",
       "      <th>Confirmed</th>\n",
       "      <th>Day</th>\n",
       "      <th>ln_confirmed</th>\n",
       "    </tr>\n",
       "  </thead>\n",
       "  <tbody>\n",
       "    <tr>\n",
       "      <th>15963</th>\n",
       "      <td>3/22/20</td>\n",
       "      <td>19</td>\n",
       "      <td>8</td>\n",
       "      <td>2.944439</td>\n",
       "    </tr>\n",
       "    <tr>\n",
       "      <th>16227</th>\n",
       "      <td>3/23/20</td>\n",
       "      <td>20</td>\n",
       "      <td>9</td>\n",
       "      <td>2.995732</td>\n",
       "    </tr>\n",
       "    <tr>\n",
       "      <th>16491</th>\n",
       "      <td>3/24/20</td>\n",
       "      <td>21</td>\n",
       "      <td>10</td>\n",
       "      <td>3.044522</td>\n",
       "    </tr>\n",
       "    <tr>\n",
       "      <th>16755</th>\n",
       "      <td>3/25/20</td>\n",
       "      <td>24</td>\n",
       "      <td>11</td>\n",
       "      <td>3.178054</td>\n",
       "    </tr>\n",
       "    <tr>\n",
       "      <th>17019</th>\n",
       "      <td>3/26/20</td>\n",
       "      <td>25</td>\n",
       "      <td>12</td>\n",
       "      <td>3.218876</td>\n",
       "    </tr>\n",
       "  </tbody>\n",
       "</table>\n",
       "</div>"
      ],
      "text/plain": [
       "          Date  Confirmed  Day  ln_confirmed\n",
       "15963  3/22/20         19    8      2.944439\n",
       "16227  3/23/20         20    9      2.995732\n",
       "16491  3/24/20         21   10      3.044522\n",
       "16755  3/25/20         24   11      3.178054\n",
       "17019  3/26/20         25   12      3.218876"
      ]
     },
     "execution_count": 13,
     "metadata": {},
     "output_type": "execute_result"
    }
   ],
   "source": [
    "#Con esto finalizamos Feature engineering y ya tenemos listo nuestro dataset de entrada para entrenar el modelo de Regresión Lineal\n",
    "df_covid_10.head()"
   ]
  },
  {
   "cell_type": "markdown",
   "metadata": {},
   "source": [
    "### Implementación de Modelo de Regresión Lineal"
   ]
  },
  {
   "cell_type": "code",
   "execution_count": 14,
   "metadata": {},
   "outputs": [],
   "source": [
    "#Aplicando reutilización de código por medio del uso de programación orientada a objetos para crear el modelo\n",
    "class RegresionLineal:    \n",
    "    def __init__(self,n):\n",
    "         # Vector de parametros, para pendiente e intercepto\n",
    "        self.parametros = tf.get_variable(\"parametros\",dtype=tf.float32,shape=[1,n],initializer=tf.zeros_initializer())\n",
    "    \n",
    "    def __call__(self,x):\n",
    "        #Calculamos \"y\" estimada\n",
    "        return tf.matmul(self.parametros,x, name=\"MatMul\")\n",
    "    \n",
    "    #Calculo del error MSE mediante la función de costo\n",
    "    def error(self, x, y):\n",
    "        mse = 0.5 * tf.reduce_mean(tf.math.square(y - self(x)))\n",
    "        return mse\n",
    "\n",
    "    def actualizar(self,x,y,learning_rate):\n",
    "        with tf.name_scope(\"funcion_costo\"):\n",
    "            error = self.error(x, y)\n",
    "            #Scalar para utilizar en tensorboard\n",
    "            error_summary = tf.summary.scalar(\"error_summary\", error)\n",
    "                                     \n",
    "        #Actualizamos los parametros por medio de Gradient Descent\n",
    "        gradiente = tf.gradients(error, [self.parametros], name=\"gradientes\")\n",
    "        actualizacion_parametros = tf.assign(self.parametros, self.parametros -learning_rate*gradiente[0], name=\"actualizar\")\n",
    "        \n",
    "        return actualizacion_parametros, error, error_summary"
   ]
  },
  {
   "cell_type": "code",
   "execution_count": 15,
   "metadata": {},
   "outputs": [],
   "source": [
    "#Aplicando reutilización de código por medio del uso de programación orientada a objetos p/definir la fun. de entrenamiento\n",
    "def entrenamiento_rl(x, y, lr, epochs, imprimir_error, gpolinomio):\n",
    "    # Definimos el string de configuración para cada experimiento\n",
    "    string_conf = './logs/'+ dt.datetime.now().strftime(\"%Y%m%d-%H%M%S\") +\"_lr=\"+str(lr)+ \"_epochs=\"+str(epochs)+ \"_polinomio_grado=\" + str(gpolinomio)\n",
    "\n",
    "    x_fil, x_col = np.shape(x)\n",
    "    tf.reset_default_graph()\n",
    "    g = tf.Graph()  #definición del grafo a usar\n",
    "    \n",
    "    with g.as_default():\n",
    "        modelo = RegresionLineal(x_fil)\n",
    "        # Definimos las entradas del grafo, los tensores para x y para y\n",
    "        tensor_y = tf.placeholder(float,[x_col], name=\"Y\")\n",
    "        tensor_x = tf.placeholder(float,[x_fil,x_col], name=\"X\")\n",
    "        \n",
    "        # Realizamos el entrenamiento mediante el metodo actualizar\n",
    "        actualizar_parametros = modelo.actualizar(tensor_x, tensor_y, lr)\n",
    "        \n",
    "        # Escribimos el archivo para tensorboard\n",
    "        writer = tf.summary.FileWriter(string_conf, g)\n",
    "        \n",
    "        with tf.train.MonitoredSession() as session:\n",
    "            dict_parametros = {tensor_x:x, tensor_y:y}\n",
    "            for i in range(1, epochs+1):   \n",
    "                # Ejecutamos el entrenamiento\n",
    "                entrenamiento = session.run(actualizar_parametros, feed_dict = dict_parametros)\n",
    "            \n",
    "                if (i)%imprimir_error == 0:\n",
    "                    # Calculamos los parametros para cada epoch que se va a imprimir\n",
    "                    parametros = session.run(modelo.parametros, feed_dict = dict_parametros)\n",
    "                    # Agregamos un escalar para monitorear el MSE posteriormente en tensorboard\n",
    "                    writer.add_summary(entrenamiento[2], i)\n",
    "                    print(\"Iteración:\",i,\", Parametros:\", parametros,\", Error:\",entrenamiento[1])\n",
    "                    print(\"_______________________________________________________________________________________________________\")\n",
    "            \n",
    "            return parametros, entrenamiento[1]\n",
    "            writer.close()"
   ]
  },
  {
   "cell_type": "code",
   "execution_count": 35,
   "metadata": {},
   "outputs": [],
   "source": [
    "#Obtenemos los valores para \"x\" y \"\"y  del data frame de entrenamiento de covid\n",
    "x = df_covid_10[\"Day\"]\n",
    "#Transformamos x para poder utilizarla en el modelo\n",
    "x = np.array([np.ones_like(x),x], dtype = \"float32\")\n",
    "y = df_covid_10[\"ln_confirmed\"]"
   ]
  },
  {
   "cell_type": "markdown",
   "metadata": {},
   "source": [
    "### Experimientos y Entrenamiento del Modelo  \n",
    "Se realizan varios experimientos para encontrar el número óptimo para los hiper-parametros del modelo y así poder obtener el mejor modelo posible, que en este caso será el que presente un menor error (MSE)"
   ]
  },
  {
   "cell_type": "code",
   "execution_count": 22,
   "metadata": {},
   "outputs": [
    {
     "name": "stdout",
     "output_type": "stream",
     "text": [
      "INFO:tensorflow:Graph was finalized.\n",
      "INFO:tensorflow:Running local_init_op.\n",
      "INFO:tensorflow:Done running local_init_op.\n",
      "Iteración: 2000 , Parametros: [[nan nan]] , Error: nan\n",
      "_______________________________________________________________________________________________________\n",
      "Iteración: 4000 , Parametros: [[nan nan]] , Error: nan\n",
      "_______________________________________________________________________________________________________\n",
      "Iteración: 6000 , Parametros: [[nan nan]] , Error: nan\n",
      "_______________________________________________________________________________________________________\n",
      "Iteración: 8000 , Parametros: [[nan nan]] , Error: nan\n",
      "_______________________________________________________________________________________________________\n",
      "Iteración: 10000 , Parametros: [[nan nan]] , Error: nan\n",
      "_______________________________________________________________________________________________________\n"
     ]
    }
   ],
   "source": [
    "#lr = 0.01, epochs= 10000\n",
    "ml_parametros, MSE = entrenamiento_rl(x, y, 0.01, 10000,2000,1)"
   ]
  },
  {
   "cell_type": "code",
   "execution_count": 23,
   "metadata": {},
   "outputs": [
    {
     "name": "stdout",
     "output_type": "stream",
     "text": [
      "INFO:tensorflow:Graph was finalized.\n",
      "INFO:tensorflow:Running local_init_op.\n",
      "INFO:tensorflow:Done running local_init_op.\n",
      "Iteración: 200 , Parametros: [[0.07818374 0.14365079]] , Error: 0.41783643\n",
      "_______________________________________________________________________________________________________\n",
      "Iteración: 400 , Parametros: [[0.1502152 0.1417992]] , Error: 0.3918679\n",
      "_______________________________________________________________________________________________________\n",
      "Iteración: 600 , Parametros: [[0.21991396 0.14000757]] , Error: 0.3675541\n",
      "_______________________________________________________________________________________________________\n",
      "Iteración: 800 , Parametros: [[0.28735575 0.13827397]] , Error: 0.34478948\n",
      "_______________________________________________________________________________________________________\n",
      "Iteración: 1000 , Parametros: [[0.3526134  0.13659652]] , Error: 0.3234754\n",
      "_______________________________________________________________________________________________________\n"
     ]
    }
   ],
   "source": [
    "#lr = 0.001, epochs= 1000\n",
    "ml_parametros, MSE = entrenamiento_rl(x, y, 0.001, 1000,200,1)"
   ]
  },
  {
   "cell_type": "code",
   "execution_count": 24,
   "metadata": {},
   "outputs": [
    {
     "name": "stdout",
     "output_type": "stream",
     "text": [
      "INFO:tensorflow:Graph was finalized.\n",
      "INFO:tensorflow:Running local_init_op.\n",
      "INFO:tensorflow:Done running local_init_op.\n",
      "Iteración: 200 , Parametros: [[0.01129615 0.14537019]] , Error: 0.44258776\n",
      "_______________________________________________________________________________________________________\n",
      "Iteración: 400 , Parametros: [[0.01882572 0.14517656]] , Error: 0.4397511\n",
      "_______________________________________________________________________________________________________\n",
      "Iteración: 600 , Parametros: [[0.02633056 0.14498366]] , Error: 0.43693307\n",
      "_______________________________________________________________________________________________________\n",
      "Iteración: 800 , Parametros: [[0.03381073 0.14479141]] , Error: 0.43413344\n",
      "_______________________________________________________________________________________________________\n",
      "Iteración: 1000 , Parametros: [[0.0412663  0.14459978]] , Error: 0.43135232\n",
      "_______________________________________________________________________________________________________\n"
     ]
    }
   ],
   "source": [
    "#lr = 0.0001, epochs= 1000\n",
    "ml_parametros, MSE = entrenamiento_rl(x, y, 0.0001, 1000,200,1)"
   ]
  },
  {
   "cell_type": "code",
   "execution_count": 25,
   "metadata": {},
   "outputs": [
    {
     "name": "stdout",
     "output_type": "stream",
     "text": [
      "INFO:tensorflow:Graph was finalized.\n",
      "INFO:tensorflow:Running local_init_op.\n",
      "INFO:tensorflow:Done running local_init_op.\n",
      "Iteración: 2000 , Parametros: [[0.6485391  0.12898968]] , Error: 0.23562601\n",
      "_______________________________________________________________________________________________________\n",
      "Iteración: 4000 , Parametros: [[1.1124752  0.11706411]] , Error: 0.1269389\n",
      "_______________________________________________________________________________________________________\n",
      "Iteración: 6000 , Parametros: [[1.4462813  0.10848355]] , Error: 0.07067249\n",
      "_______________________________________________________________________________________________________\n",
      "Iteración: 8000 , Parametros: [[1.6864568  0.10230979]] , Error: 0.04154398\n",
      "_______________________________________________________________________________________________________\n",
      "Iteración: 10000 , Parametros: [[1.8592651  0.09786772]] , Error: 0.026464395\n",
      "_______________________________________________________________________________________________________\n"
     ]
    }
   ],
   "source": [
    "#lr = 0.001, epochs= 10000\n",
    "ml_parametros, MSE = entrenamiento_rl(x, y, 0.001, 10000,2000,1)"
   ]
  },
  {
   "cell_type": "code",
   "execution_count": 26,
   "metadata": {},
   "outputs": [
    {
     "name": "stdout",
     "output_type": "stream",
     "text": [
      "INFO:tensorflow:Graph was finalized.\n",
      "INFO:tensorflow:Running local_init_op.\n",
      "INFO:tensorflow:Done running local_init_op.\n",
      "Iteración: 10000 , Parametros: [[1.8592651  0.09786772]] , Error: 0.026464395\n",
      "_______________________________________________________________________________________________________\n",
      "Iteración: 20000 , Parametros: [[2.2170637  0.08867044]] , Error: 0.010880555\n",
      "_______________________________________________________________________________________________________\n",
      "Iteración: 30000 , Parametros: [[2.2860584  0.08689691]] , Error: 0.010301067\n",
      "_______________________________________________________________________________________________________\n",
      "Iteración: 40000 , Parametros: [[2.2993186  0.08655605]] , Error: 0.01027954\n",
      "_______________________________________________________________________________________________________\n",
      "Iteración: 50000 , Parametros: [[2.3018203  0.08649175]] , Error: 0.010278731\n",
      "_______________________________________________________________________________________________________\n"
     ]
    }
   ],
   "source": [
    "#lr = 0.001, epochs= 50000\n",
    "ml_parametros, MSE = entrenamiento_rl(x, y, 0.001, 50000,10000,1)"
   ]
  },
  {
   "cell_type": "code",
   "execution_count": 27,
   "metadata": {},
   "outputs": [
    {
     "name": "stdout",
     "output_type": "stream",
     "text": [
      "INFO:tensorflow:Graph was finalized.\n",
      "INFO:tensorflow:Running local_init_op.\n",
      "INFO:tensorflow:Done running local_init_op.\n",
      "Iteración: 10000 , Parametros: [[1.8592651  0.09786772]] , Error: 0.026464395\n",
      "_______________________________________________________________________________________________________\n",
      "Iteración: 20000 , Parametros: [[2.2170637  0.08867044]] , Error: 0.010880555\n",
      "_______________________________________________________________________________________________________\n",
      "Iteración: 30000 , Parametros: [[2.2860584  0.08689691]] , Error: 0.010301067\n",
      "_______________________________________________________________________________________________________\n",
      "Iteración: 40000 , Parametros: [[2.2993186  0.08655605]] , Error: 0.01027954\n",
      "_______________________________________________________________________________________________________\n",
      "Iteración: 50000 , Parametros: [[2.3018203  0.08649175]] , Error: 0.010278731\n",
      "_______________________________________________________________________________________________________\n",
      "Iteración: 60000 , Parametros: [[2.3018203  0.08649175]] , Error: 0.010278731\n",
      "_______________________________________________________________________________________________________\n",
      "Iteración: 70000 , Parametros: [[2.3018203  0.08649175]] , Error: 0.010278731\n",
      "_______________________________________________________________________________________________________\n",
      "Iteración: 80000 , Parametros: [[2.3018203  0.08649175]] , Error: 0.010278731\n",
      "_______________________________________________________________________________________________________\n",
      "Iteración: 90000 , Parametros: [[2.3018203  0.08649175]] , Error: 0.010278731\n",
      "_______________________________________________________________________________________________________\n",
      "Iteración: 100000 , Parametros: [[2.3018203  0.08649175]] , Error: 0.010278731\n",
      "_______________________________________________________________________________________________________\n"
     ]
    }
   ],
   "source": [
    "#lr = 0.001, epochs= 100000\n",
    "ml_parametros, MSE = entrenamiento_rl(x, y, 0.001, 100000,10000,1)"
   ]
  },
  {
   "cell_type": "markdown",
   "metadata": {},
   "source": [
    "### Predicciones\n",
    "\n",
    "Calculamos las predicciones, con los parametros obtenidos mediante el mejor modelo de acuerdo al entrenamiento."
   ]
  },
  {
   "cell_type": "code",
   "execution_count": 30,
   "metadata": {},
   "outputs": [
    {
     "name": "stdout",
     "output_type": "stream",
     "text": [
      "Parámetros Modelo:  [[2.3018203  0.08649175]] MSE:  0.010278731\n"
     ]
    }
   ],
   "source": [
    "#Parámetros del mejor modelo:\n",
    "print(\"Parámetros Modelo: \", ml_parametros, \"MSE: \", MSE)"
   ]
  },
  {
   "cell_type": "code",
   "execution_count": 43,
   "metadata": {},
   "outputs": [],
   "source": [
    "predicciones = ml_parametros[0][1] * df_covid_10['Day'] + ml_parametros[0][0]"
   ]
  },
  {
   "cell_type": "markdown",
   "metadata": {},
   "source": [
    "Gráficamos los resultados obtenidos de las predicciones, tanto en Logartimo Natural que sería nuestra variable transformada, como también la salida final de la variable, la cual sería el número de casos confirmados."
   ]
  },
  {
   "cell_type": "code",
   "execution_count": 44,
   "metadata": {},
   "outputs": [
    {
     "data": {
      "image/png": "[encoded data removed]",
      "text/plain": [
       "<Figure size 432x288 with 1 Axes>"
      ]
     },
     "metadata": {
      "needs_background": "light"
     },
     "output_type": "display_data"
    }
   ],
   "source": [
    "fig = plt.figure()\n",
    "ax = fig.add_subplot(1, 1, 1)\n",
    "ax.scatter(x=df_covid_10[\"Day\"], y=df_covid_10[\"ln_confirmed\"])\n",
    "ax.plot(df_covid_10[\"Day\"], predicciones, 'red')\n",
    "ax.set_xlabel(\"Día\")\n",
    "ax.set_ylabel(\"Casos\")\n",
    "ax.set_title(\"Casos confirmados por día y Recta de Regresión Lineal\")\n",
    "ax.set_aspect('auto')\n",
    "plt.show()"
   ]
  },
  {
   "cell_type": "code",
   "execution_count": 45,
   "metadata": {},
   "outputs": [
    {
     "data": {
      "image/png": "[encoded data removed]",
      "text/plain": [
       "<Figure size 432x288 with 1 Axes>"
      ]
     },
     "metadata": {
      "needs_background": "light"
     },
     "output_type": "display_data"
    }
   ],
   "source": [
    "fig = plt.figure()\n",
    "ax = fig.add_subplot(1, 1, 1)\n",
    "ax.scatter(df_covid_10[\"Day\"], df_covid_10[\"Confirmed\"])\n",
    "ax.plot(df_covid_10[\"Day\"], np.exp(predicciones), 'red')\n",
    "ax.set_xlabel(\"Día\")\n",
    "ax.set_ylabel(\"Casos\")\n",
    "ax.set_title(\"Casos confirmados y proyectados por día\")\n",
    "ax.set_aspect('auto')\n",
    "plt.show()"
   ]
  },
  {
   "cell_type": "markdown",
   "metadata": {},
   "source": [
    "### Conclusión:\n",
    "\n",
    "Debido a que en el ejercicio se solicita realizar la predicción de los casos confirmados para el día 30 de mayo, procederemos a realizar el cálculo de las predicciones desde el día 0 hasta el día 78 (que sería el 30 de mayo)."
   ]
  },
  {
   "cell_type": "code",
   "execution_count": 48,
   "metadata": {},
   "outputs": [],
   "source": [
    "#Obtenemos el total de predicciones hasta el día no.77 que sería el 30 de mayo\n",
    "#(pero debemos tomar en cuenta que iniciamos en el día 0, por lo cual sería de 1 a 78)\n",
    "Tprediction = ml_parametros[0][1] * np.linspace(1,78, 78) + ml_parametros[0][0]"
   ]
  },
  {
   "cell_type": "code",
   "execution_count": 49,
   "metadata": {},
   "outputs": [
    {
     "data": {
      "image/png": "[encoded data removed]",
      "text/plain": [
       "<Figure size 432x288 with 1 Axes>"
      ]
     },
     "metadata": {
      "needs_background": "light"
     },
     "output_type": "display_data"
    }
   ],
   "source": [
    "fig = plt.figure()\n",
    "ax = fig.add_subplot(1, 1, 1)\n",
    "ax.scatter(df_covid[\"Day\"], df_covid[\"Confirmed\"])\n",
    "ax.plot(np.linspace(1,78,78), np.exp(Tprediction), 'red')\n",
    "ax.set_xlabel(\"Día\")\n",
    "ax.set_ylabel(\"Casos\")\n",
    "ax.set_title(\"Casos confirmados y proyectados por día, desde el día 0 al día 77\")\n",
    "ax.set_aspect('auto')\n",
    "plt.show()"
   ]
  },
  {
   "cell_type": "code",
   "execution_count": 50,
   "metadata": {},
   "outputs": [
    {
     "name": "stdout",
     "output_type": "stream",
     "text": [
      "La predicción para el 30 de mayo es:  8503.0  casos\n"
     ]
    }
   ],
   "source": [
    "#Predicción para el día 30 de mayo\n",
    "prediccion_30mayo = np.exp(Tprediction[-1])\n",
    "print(\"La predicción para el 30 de mayo es: \", np.round(prediccion_30mayo), \" casos\")"
   ]
  },
  {
   "cell_type": "markdown",
   "metadata": {},
   "source": [
    "Según el modelo obtenido, la predicción para el 30 de mayo de 2020 es de 8,503 casos confirmados. Sin embargo, la información oficial de casos confirmados para ese día fue de 4,739 casos, por lo cual podemos decir que el modelo está bastante desfasado con respecto a los casos reales.\n",
    "\n",
    "De acuerdo a los experimentos realizados, el modelo con el error más pequeño (MSE), se presenta al utilizar un **learning rate = 0.001 con 5000 iteraciones**. Lo cual corresponde a un **MSE = 0.010278731**"
   ]
  },
  {
   "cell_type": "markdown",
   "metadata": {},
   "source": [
    "### Parte 2 - Modelo polinomial de calidad de vinos"
   ]
  },
  {
   "cell_type": "markdown",
   "metadata": {},
   "source": [
    "Es permitido utilizar [sklearn.preprocessing.polynomialfeatures](https://scikit-learn.org/stable/modules/generated/sklearn.preprocessing.PolynomialFeatures.html)\n",
    "\n",
    "\n",
    "### Instrucciones\n",
    "\n",
    "1. Seleccionar y transformar(generando las combinaciones polinomiales para un polinomio de grado dos o tres a elección) las features que considere que son las mejores para predecir la calidad del vino, utilizar como minimo 2 features. Para seleccionar las features, hacer un analisis exploratorio por ejemplo(pero no limitado a ):  graficando y viendo la forma en que se comportan los datos.\n",
    "\n",
    " Por ejemplo, se tienen las features \"a\" y \"b\" y seleccionamos polinomio de grado 2, hacemos feature engineering para obtener :\n",
    " \n",
    " $[a,b,a^{2},b^{2},ab]$\n",
    " \n",
    " No olvidar el \"bias\" (parámetro multiplicado por 1) ,con lo cual el dataset puede quedar con las columnas:\n",
    " \n",
    " $[1,a,b,a^{2},b^{2},ab]$\n",
    "2. Una vez transformada la data aplicar regresion lineal con las features polinomiales usando Tensorflow.\n",
    "\n",
    "Requisitos adicionales:\n",
    "* Se debe agregar al notebook un screenshot del grafo de tensorboard, simplificando(usando  names , y name_scope como visto en clase).\n",
    "\n",
    "* Se debe generar un directorio de logs de tensorboard para cada corrida/experimento , con cada directorio identificando facilmente la configuración del experimento como visto en clase, por ejemplo para un experimento con learning rate = 0.1 , y polinomio grado 2  crear un directorio: lr=0.1_polinomio_grado=2. (Agregar al notebook un screenshot de estas gráficas)\n",
    "\n",
    "* Concluir en markdown cual es el mejor modelo para este caso basado en la comparativa entre curvas de costo/error en tensorboard."
   ]
  },
  {
   "cell_type": "code",
   "execution_count": 51,
   "metadata": {},
   "outputs": [],
   "source": [
    "#Librerías a utilizar\n",
    "import pandas as pd\n",
    "import seaborn as sb\n",
    "from sklearn.preprocessing import PolynomialFeatures\n",
    "%load_ext tensorboard"
   ]
  },
  {
   "cell_type": "code",
   "execution_count": 52,
   "metadata": {},
   "outputs": [],
   "source": [
    "#cargar datos\n",
    "data = pd.read_csv('winequality-red.csv')"
   ]
  },
  {
   "cell_type": "markdown",
   "metadata": {},
   "source": [
    "### Red Wine Quality Data\n",
    "\n",
    "Se aplicará regresión para crear un modelo de la calidad de vino en función de características del mismo, siendo 1 el peor vino y 10 el mejor.\n",
    "\n",
    "Variables de entrada:\n",
    "1. fixed acidity \n",
    "2. volatile acidity \n",
    "3. citric acid \n",
    "4. residual sugar \n",
    "5. chlorides \n",
    "6. free sulfur dioxide \n",
    "7. total sulfur dioxide \n",
    "8. density \n",
    "9. pH \n",
    "10. sulphates \n",
    "11. alcohol \n",
    "\n",
    "Varaible a predecir: \n",
    "12. quality (puntuacion  entre 0 y 10) \n",
    "\n"
   ]
  },
  {
   "cell_type": "code",
   "execution_count": 53,
   "metadata": {},
   "outputs": [
    {
     "data": {
      "text/html": [
       "<div>\n",
       "<style scoped>\n",
       "    .dataframe tbody tr th:only-of-type {\n",
       "        vertical-align: middle;\n",
       "    }\n",
       "\n",
       "    .dataframe tbody tr th {\n",
       "        vertical-align: top;\n",
       "    }\n",
       "\n",
       "    .dataframe thead th {\n",
       "        text-align: right;\n",
       "    }\n",
       "</style>\n",
       "<table border=\"1\" class=\"dataframe\">\n",
       "  <thead>\n",
       "    <tr style=\"text-align: right;\">\n",
       "      <th></th>\n",
       "      <th>fixed acidity</th>\n",
       "      <th>volatile acidity</th>\n",
       "      <th>citric acid</th>\n",
       "      <th>residual sugar</th>\n",
       "      <th>chlorides</th>\n",
       "      <th>free sulfur dioxide</th>\n",
       "      <th>total sulfur dioxide</th>\n",
       "      <th>density</th>\n",
       "      <th>pH</th>\n",
       "      <th>sulphates</th>\n",
       "      <th>alcohol</th>\n",
       "      <th>quality</th>\n",
       "    </tr>\n",
       "  </thead>\n",
       "  <tbody>\n",
       "    <tr>\n",
       "      <th>0</th>\n",
       "      <td>7.4</td>\n",
       "      <td>0.70</td>\n",
       "      <td>0.00</td>\n",
       "      <td>1.9</td>\n",
       "      <td>0.076</td>\n",
       "      <td>11.0</td>\n",
       "      <td>34.0</td>\n",
       "      <td>0.9978</td>\n",
       "      <td>3.51</td>\n",
       "      <td>0.56</td>\n",
       "      <td>9.4</td>\n",
       "      <td>5</td>\n",
       "    </tr>\n",
       "    <tr>\n",
       "      <th>1</th>\n",
       "      <td>7.8</td>\n",
       "      <td>0.88</td>\n",
       "      <td>0.00</td>\n",
       "      <td>2.6</td>\n",
       "      <td>0.098</td>\n",
       "      <td>25.0</td>\n",
       "      <td>67.0</td>\n",
       "      <td>0.9968</td>\n",
       "      <td>3.20</td>\n",
       "      <td>0.68</td>\n",
       "      <td>9.8</td>\n",
       "      <td>5</td>\n",
       "    </tr>\n",
       "    <tr>\n",
       "      <th>2</th>\n",
       "      <td>7.8</td>\n",
       "      <td>0.76</td>\n",
       "      <td>0.04</td>\n",
       "      <td>2.3</td>\n",
       "      <td>0.092</td>\n",
       "      <td>15.0</td>\n",
       "      <td>54.0</td>\n",
       "      <td>0.9970</td>\n",
       "      <td>3.26</td>\n",
       "      <td>0.65</td>\n",
       "      <td>9.8</td>\n",
       "      <td>5</td>\n",
       "    </tr>\n",
       "    <tr>\n",
       "      <th>3</th>\n",
       "      <td>11.2</td>\n",
       "      <td>0.28</td>\n",
       "      <td>0.56</td>\n",
       "      <td>1.9</td>\n",
       "      <td>0.075</td>\n",
       "      <td>17.0</td>\n",
       "      <td>60.0</td>\n",
       "      <td>0.9980</td>\n",
       "      <td>3.16</td>\n",
       "      <td>0.58</td>\n",
       "      <td>9.8</td>\n",
       "      <td>6</td>\n",
       "    </tr>\n",
       "    <tr>\n",
       "      <th>4</th>\n",
       "      <td>7.4</td>\n",
       "      <td>0.70</td>\n",
       "      <td>0.00</td>\n",
       "      <td>1.9</td>\n",
       "      <td>0.076</td>\n",
       "      <td>11.0</td>\n",
       "      <td>34.0</td>\n",
       "      <td>0.9978</td>\n",
       "      <td>3.51</td>\n",
       "      <td>0.56</td>\n",
       "      <td>9.4</td>\n",
       "      <td>5</td>\n",
       "    </tr>\n",
       "  </tbody>\n",
       "</table>\n",
       "</div>"
      ],
      "text/plain": [
       "   fixed acidity  volatile acidity  citric acid  residual sugar  chlorides  \\\n",
       "0            7.4              0.70         0.00             1.9      0.076   \n",
       "1            7.8              0.88         0.00             2.6      0.098   \n",
       "2            7.8              0.76         0.04             2.3      0.092   \n",
       "3           11.2              0.28         0.56             1.9      0.075   \n",
       "4            7.4              0.70         0.00             1.9      0.076   \n",
       "\n",
       "   free sulfur dioxide  total sulfur dioxide  density    pH  sulphates  \\\n",
       "0                 11.0                  34.0   0.9978  3.51       0.56   \n",
       "1                 25.0                  67.0   0.9968  3.20       0.68   \n",
       "2                 15.0                  54.0   0.9970  3.26       0.65   \n",
       "3                 17.0                  60.0   0.9980  3.16       0.58   \n",
       "4                 11.0                  34.0   0.9978  3.51       0.56   \n",
       "\n",
       "   alcohol  quality  \n",
       "0      9.4        5  \n",
       "1      9.8        5  \n",
       "2      9.8        5  \n",
       "3      9.8        6  \n",
       "4      9.4        5  "
      ]
     },
     "execution_count": 53,
     "metadata": {},
     "output_type": "execute_result"
    }
   ],
   "source": [
    "data.head()"
   ]
  },
  {
   "cell_type": "code",
   "execution_count": 54,
   "metadata": {},
   "outputs": [
    {
     "name": "stdout",
     "output_type": "stream",
     "text": [
      "<class 'pandas.core.frame.DataFrame'>\n",
      "RangeIndex: 1599 entries, 0 to 1598\n",
      "Data columns (total 12 columns):\n",
      " #   Column                Non-Null Count  Dtype  \n",
      "---  ------                --------------  -----  \n",
      " 0   fixed acidity         1599 non-null   float64\n",
      " 1   volatile acidity      1599 non-null   float64\n",
      " 2   citric acid           1599 non-null   float64\n",
      " 3   residual sugar        1599 non-null   float64\n",
      " 4   chlorides             1599 non-null   float64\n",
      " 5   free sulfur dioxide   1599 non-null   float64\n",
      " 6   total sulfur dioxide  1599 non-null   float64\n",
      " 7   density               1599 non-null   float64\n",
      " 8   pH                    1599 non-null   float64\n",
      " 9   sulphates             1599 non-null   float64\n",
      " 10  alcohol               1599 non-null   float64\n",
      " 11  quality               1599 non-null   int64  \n",
      "dtypes: float64(11), int64(1)\n",
      "memory usage: 150.0 KB\n"
     ]
    }
   ],
   "source": [
    "#Información de dataset\n",
    "data.info() #verificamos las columnas, tipos de datos, si hay datos nulos"
   ]
  },
  {
   "cell_type": "code",
   "execution_count": 55,
   "metadata": {
    "jupyter": {
     "outputs_hidden": true
    }
   },
   "outputs": [
    {
     "name": "stdout",
     "output_type": "stream",
     "text": [
      "Longitud del data frame completo:  1599\n",
      "Longitud del data frame de entrenamiento:  1279\n",
      "Longitud del data frame de validación:  320\n"
     ]
    }
   ],
   "source": [
    "'''Se dividen los datos de la siguiente manera:\n",
    "80% de las filas serán datos de entrenamiento y 20% de las filas serán para pruebas '''\n",
    "\n",
    "#Datos de entrenamiento\n",
    "d_entrenamiento = int(0.8 * len(data))\n",
    "df_entrenamiento = data[:d_entrenamiento]\n",
    "#datos de validacion\n",
    "df_validacion = data[d_entrenamiento:]\n",
    "\n",
    "print('Longitud del data frame completo: ',len(data))\n",
    "print('Longitud del data frame de entrenamiento: ',len(df_entrenamiento))\n",
    "print('Longitud del data frame de validación: ',len(df_validacion))"
   ]
  },
  {
   "cell_type": "markdown",
   "metadata": {},
   "source": [
    "### 1. Seleccionar y Transformar las Variables\n",
    "\n",
    "#### Análisis exploratorio de datos"
   ]
  },
  {
   "cell_type": "code",
   "execution_count": 56,
   "metadata": {},
   "outputs": [
    {
     "data": {
      "text/html": [
       "<div>\n",
       "<style scoped>\n",
       "    .dataframe tbody tr th:only-of-type {\n",
       "        vertical-align: middle;\n",
       "    }\n",
       "\n",
       "    .dataframe tbody tr th {\n",
       "        vertical-align: top;\n",
       "    }\n",
       "\n",
       "    .dataframe thead th {\n",
       "        text-align: right;\n",
       "    }\n",
       "</style>\n",
       "<table border=\"1\" class=\"dataframe\">\n",
       "  <thead>\n",
       "    <tr style=\"text-align: right;\">\n",
       "      <th></th>\n",
       "      <th>fixed acidity</th>\n",
       "      <th>volatile acidity</th>\n",
       "      <th>citric acid</th>\n",
       "      <th>residual sugar</th>\n",
       "      <th>chlorides</th>\n",
       "      <th>free sulfur dioxide</th>\n",
       "      <th>total sulfur dioxide</th>\n",
       "      <th>density</th>\n",
       "      <th>pH</th>\n",
       "      <th>sulphates</th>\n",
       "      <th>alcohol</th>\n",
       "      <th>quality</th>\n",
       "    </tr>\n",
       "  </thead>\n",
       "  <tbody>\n",
       "    <tr>\n",
       "      <th>count</th>\n",
       "      <td>1599.000000</td>\n",
       "      <td>1599.000000</td>\n",
       "      <td>1599.000000</td>\n",
       "      <td>1599.000000</td>\n",
       "      <td>1599.000000</td>\n",
       "      <td>1599.000000</td>\n",
       "      <td>1599.000000</td>\n",
       "      <td>1599.000000</td>\n",
       "      <td>1599.000000</td>\n",
       "      <td>1599.000000</td>\n",
       "      <td>1599.000000</td>\n",
       "      <td>1599.000000</td>\n",
       "    </tr>\n",
       "    <tr>\n",
       "      <th>mean</th>\n",
       "      <td>8.319637</td>\n",
       "      <td>0.527821</td>\n",
       "      <td>0.270976</td>\n",
       "      <td>2.538806</td>\n",
       "      <td>0.087467</td>\n",
       "      <td>15.874922</td>\n",
       "      <td>46.467792</td>\n",
       "      <td>0.996747</td>\n",
       "      <td>3.311113</td>\n",
       "      <td>0.658149</td>\n",
       "      <td>10.422983</td>\n",
       "      <td>5.636023</td>\n",
       "    </tr>\n",
       "    <tr>\n",
       "      <th>std</th>\n",
       "      <td>1.741096</td>\n",
       "      <td>0.179060</td>\n",
       "      <td>0.194801</td>\n",
       "      <td>1.409928</td>\n",
       "      <td>0.047065</td>\n",
       "      <td>10.460157</td>\n",
       "      <td>32.895324</td>\n",
       "      <td>0.001887</td>\n",
       "      <td>0.154386</td>\n",
       "      <td>0.169507</td>\n",
       "      <td>1.065668</td>\n",
       "      <td>0.807569</td>\n",
       "    </tr>\n",
       "    <tr>\n",
       "      <th>min</th>\n",
       "      <td>4.600000</td>\n",
       "      <td>0.120000</td>\n",
       "      <td>0.000000</td>\n",
       "      <td>0.900000</td>\n",
       "      <td>0.012000</td>\n",
       "      <td>1.000000</td>\n",
       "      <td>6.000000</td>\n",
       "      <td>0.990070</td>\n",
       "      <td>2.740000</td>\n",
       "      <td>0.330000</td>\n",
       "      <td>8.400000</td>\n",
       "      <td>3.000000</td>\n",
       "    </tr>\n",
       "    <tr>\n",
       "      <th>25%</th>\n",
       "      <td>7.100000</td>\n",
       "      <td>0.390000</td>\n",
       "      <td>0.090000</td>\n",
       "      <td>1.900000</td>\n",
       "      <td>0.070000</td>\n",
       "      <td>7.000000</td>\n",
       "      <td>22.000000</td>\n",
       "      <td>0.995600</td>\n",
       "      <td>3.210000</td>\n",
       "      <td>0.550000</td>\n",
       "      <td>9.500000</td>\n",
       "      <td>5.000000</td>\n",
       "    </tr>\n",
       "    <tr>\n",
       "      <th>50%</th>\n",
       "      <td>7.900000</td>\n",
       "      <td>0.520000</td>\n",
       "      <td>0.260000</td>\n",
       "      <td>2.200000</td>\n",
       "      <td>0.079000</td>\n",
       "      <td>14.000000</td>\n",
       "      <td>38.000000</td>\n",
       "      <td>0.996750</td>\n",
       "      <td>3.310000</td>\n",
       "      <td>0.620000</td>\n",
       "      <td>10.200000</td>\n",
       "      <td>6.000000</td>\n",
       "    </tr>\n",
       "    <tr>\n",
       "      <th>75%</th>\n",
       "      <td>9.200000</td>\n",
       "      <td>0.640000</td>\n",
       "      <td>0.420000</td>\n",
       "      <td>2.600000</td>\n",
       "      <td>0.090000</td>\n",
       "      <td>21.000000</td>\n",
       "      <td>62.000000</td>\n",
       "      <td>0.997835</td>\n",
       "      <td>3.400000</td>\n",
       "      <td>0.730000</td>\n",
       "      <td>11.100000</td>\n",
       "      <td>6.000000</td>\n",
       "    </tr>\n",
       "    <tr>\n",
       "      <th>max</th>\n",
       "      <td>15.900000</td>\n",
       "      <td>1.580000</td>\n",
       "      <td>1.000000</td>\n",
       "      <td>15.500000</td>\n",
       "      <td>0.611000</td>\n",
       "      <td>72.000000</td>\n",
       "      <td>289.000000</td>\n",
       "      <td>1.003690</td>\n",
       "      <td>4.010000</td>\n",
       "      <td>2.000000</td>\n",
       "      <td>14.900000</td>\n",
       "      <td>8.000000</td>\n",
       "    </tr>\n",
       "  </tbody>\n",
       "</table>\n",
       "</div>"
      ],
      "text/plain": [
       "       fixed acidity  volatile acidity  citric acid  residual sugar  \\\n",
       "count    1599.000000       1599.000000  1599.000000     1599.000000   \n",
       "mean        8.319637          0.527821     0.270976        2.538806   \n",
       "std         1.741096          0.179060     0.194801        1.409928   \n",
       "min         4.600000          0.120000     0.000000        0.900000   \n",
       "25%         7.100000          0.390000     0.090000        1.900000   \n",
       "50%         7.900000          0.520000     0.260000        2.200000   \n",
       "75%         9.200000          0.640000     0.420000        2.600000   \n",
       "max        15.900000          1.580000     1.000000       15.500000   \n",
       "\n",
       "         chlorides  free sulfur dioxide  total sulfur dioxide      density  \\\n",
       "count  1599.000000          1599.000000           1599.000000  1599.000000   \n",
       "mean      0.087467            15.874922             46.467792     0.996747   \n",
       "std       0.047065            10.460157             32.895324     0.001887   \n",
       "min       0.012000             1.000000              6.000000     0.990070   \n",
       "25%       0.070000             7.000000             22.000000     0.995600   \n",
       "50%       0.079000            14.000000             38.000000     0.996750   \n",
       "75%       0.090000            21.000000             62.000000     0.997835   \n",
       "max       0.611000            72.000000            289.000000     1.003690   \n",
       "\n",
       "                pH    sulphates      alcohol      quality  \n",
       "count  1599.000000  1599.000000  1599.000000  1599.000000  \n",
       "mean      3.311113     0.658149    10.422983     5.636023  \n",
       "std       0.154386     0.169507     1.065668     0.807569  \n",
       "min       2.740000     0.330000     8.400000     3.000000  \n",
       "25%       3.210000     0.550000     9.500000     5.000000  \n",
       "50%       3.310000     0.620000    10.200000     6.000000  \n",
       "75%       3.400000     0.730000    11.100000     6.000000  \n",
       "max       4.010000     2.000000    14.900000     8.000000  "
      ]
     },
     "execution_count": 56,
     "metadata": {},
     "output_type": "execute_result"
    }
   ],
   "source": [
    "#Mediante la función \"describe\" de pandas podemos generar un resumen descriptivo de un  dataframe\n",
    "data.describe()"
   ]
  },
  {
   "cell_type": "code",
   "execution_count": 57,
   "metadata": {},
   "outputs": [
    {
     "data": {
      "image/png": "[encoded data removed]",
      "text/plain": [
       "<Figure size 432x288 with 1 Axes>"
      ]
     },
     "metadata": {
      "needs_background": "light"
     },
     "output_type": "display_data"
    },
    {
     "data": {
      "image/png": "[encoded data removed]",
      "text/plain": [
       "<Figure size 432x288 with 1 Axes>"
      ]
     },
     "metadata": {
      "needs_background": "light"
     },
     "output_type": "display_data"
    },
    {
     "data": {
      "image/png": "[encoded data removed]",
      "text/plain": [
       "<Figure size 432x288 with 1 Axes>"
      ]
     },
     "metadata": {
      "needs_background": "light"
     },
     "output_type": "display_data"
    },
    {
     "data": {
      "image/png": "[encoded data removed]",
      "text/plain": [
       "<Figure size 432x288 with 1 Axes>"
      ]
     },
     "metadata": {
      "needs_background": "light"
     },
     "output_type": "display_data"
    },
    {
     "data": {
      "image/png": "[encoded data removed]",
      "text/plain": [
       "<Figure size 432x288 with 1 Axes>"
      ]
     },
     "metadata": {
      "needs_background": "light"
     },
     "output_type": "display_data"
    },
    {
     "data": {
      "image/png": "[encoded data removed]",
      "text/plain": [
       "<Figure size 432x288 with 1 Axes>"
      ]
     },
     "metadata": {
      "needs_background": "light"
     },
     "output_type": "display_data"
    },
    {
     "data": {
      "image/png": "[encoded data removed]",
      "text/plain": [
       "<Figure size 432x288 with 1 Axes>"
      ]
     },
     "metadata": {
      "needs_background": "light"
     },
     "output_type": "display_data"
    },
    {
     "data": {
      "image/png": "[encoded data removed]",
      "text/plain": [
       "<Figure size 432x288 with 1 Axes>"
      ]
     },
     "metadata": {
      "needs_background": "light"
     },
     "output_type": "display_data"
    },
    {
     "data": {
      "image/png": "[encoded data removed]",
      "text/plain": [
       "<Figure size 432x288 with 1 Axes>"
      ]
     },
     "metadata": {
      "needs_background": "light"
     },
     "output_type": "display_data"
    },
    {
     "data": {
      "image/png": "[encoded data removed]",
      "text/plain": [
       "<Figure size 432x288 with 1 Axes>"
      ]
     },
     "metadata": {
      "needs_background": "light"
     },
     "output_type": "display_data"
    },
    {
     "data": {
      "image/png": "[encoded data removed]",
      "text/plain": [
       "<Figure size 432x288 with 1 Axes>"
      ]
     },
     "metadata": {
      "needs_background": "light"
     },
     "output_type": "display_data"
    },
    {
     "data": {
      "image/png": "[encoded data removed]",
      "text/plain": [
       "<Figure size 432x288 with 1 Axes>"
      ]
     },
     "metadata": {
      "needs_background": "light"
     },
     "output_type": "display_data"
    }
   ],
   "source": [
    "#Graficamos los histogramas para cada una de las variables con el objetivo de verifiar la forma de la distribución de cada\n",
    "#variable\n",
    "\n",
    "for i in range(0,len(data.columns)):\n",
    "    nombre_var = str(data.columns[i])  \n",
    "    titulo_g = \"Histograma de distribución para la variable: \" + nombre_var\n",
    "    \n",
    "    sb.distplot(data[data.columns[i]]).set_title(titulo_g)\n",
    "    plt.show()"
   ]
  },
  {
   "cell_type": "markdown",
   "metadata": {},
   "source": [
    "Se procede a determinar la correlación entre cada una de las variables independientes y la variable dependiente quality, para decidir cuales 2 o 3 variables independientes (features) utilizar en el modelo."
   ]
  },
  {
   "cell_type": "code",
   "execution_count": 58,
   "metadata": {},
   "outputs": [
    {
     "data": {
      "text/html": [
       "<div>\n",
       "<style scoped>\n",
       "    .dataframe tbody tr th:only-of-type {\n",
       "        vertical-align: middle;\n",
       "    }\n",
       "\n",
       "    .dataframe tbody tr th {\n",
       "        vertical-align: top;\n",
       "    }\n",
       "\n",
       "    .dataframe thead th {\n",
       "        text-align: right;\n",
       "    }\n",
       "</style>\n",
       "<table border=\"1\" class=\"dataframe\">\n",
       "  <thead>\n",
       "    <tr style=\"text-align: right;\">\n",
       "      <th></th>\n",
       "      <th>fixed acidity</th>\n",
       "      <th>volatile acidity</th>\n",
       "      <th>citric acid</th>\n",
       "      <th>residual sugar</th>\n",
       "      <th>chlorides</th>\n",
       "      <th>free sulfur dioxide</th>\n",
       "      <th>total sulfur dioxide</th>\n",
       "      <th>density</th>\n",
       "      <th>pH</th>\n",
       "      <th>sulphates</th>\n",
       "      <th>alcohol</th>\n",
       "      <th>quality</th>\n",
       "    </tr>\n",
       "  </thead>\n",
       "  <tbody>\n",
       "    <tr>\n",
       "      <th>fixed acidity</th>\n",
       "      <td>1.000000</td>\n",
       "      <td>-0.256131</td>\n",
       "      <td>0.671703</td>\n",
       "      <td>0.114777</td>\n",
       "      <td>0.093705</td>\n",
       "      <td>-0.153794</td>\n",
       "      <td>-0.113181</td>\n",
       "      <td>0.668047</td>\n",
       "      <td>-0.682978</td>\n",
       "      <td>0.183006</td>\n",
       "      <td>-0.061668</td>\n",
       "      <td>0.124052</td>\n",
       "    </tr>\n",
       "    <tr>\n",
       "      <th>volatile acidity</th>\n",
       "      <td>-0.256131</td>\n",
       "      <td>1.000000</td>\n",
       "      <td>-0.552496</td>\n",
       "      <td>0.001918</td>\n",
       "      <td>0.061298</td>\n",
       "      <td>-0.010504</td>\n",
       "      <td>0.076470</td>\n",
       "      <td>0.022026</td>\n",
       "      <td>0.234937</td>\n",
       "      <td>-0.260987</td>\n",
       "      <td>-0.202288</td>\n",
       "      <td>-0.390558</td>\n",
       "    </tr>\n",
       "    <tr>\n",
       "      <th>citric acid</th>\n",
       "      <td>0.671703</td>\n",
       "      <td>-0.552496</td>\n",
       "      <td>1.000000</td>\n",
       "      <td>0.143577</td>\n",
       "      <td>0.203823</td>\n",
       "      <td>-0.060978</td>\n",
       "      <td>0.035533</td>\n",
       "      <td>0.364947</td>\n",
       "      <td>-0.541904</td>\n",
       "      <td>0.312770</td>\n",
       "      <td>0.109903</td>\n",
       "      <td>0.226373</td>\n",
       "    </tr>\n",
       "    <tr>\n",
       "      <th>residual sugar</th>\n",
       "      <td>0.114777</td>\n",
       "      <td>0.001918</td>\n",
       "      <td>0.143577</td>\n",
       "      <td>1.000000</td>\n",
       "      <td>0.055610</td>\n",
       "      <td>0.187049</td>\n",
       "      <td>0.203028</td>\n",
       "      <td>0.355283</td>\n",
       "      <td>-0.085652</td>\n",
       "      <td>0.005527</td>\n",
       "      <td>0.042075</td>\n",
       "      <td>0.013732</td>\n",
       "    </tr>\n",
       "    <tr>\n",
       "      <th>chlorides</th>\n",
       "      <td>0.093705</td>\n",
       "      <td>0.061298</td>\n",
       "      <td>0.203823</td>\n",
       "      <td>0.055610</td>\n",
       "      <td>1.000000</td>\n",
       "      <td>0.005562</td>\n",
       "      <td>0.047400</td>\n",
       "      <td>0.200632</td>\n",
       "      <td>-0.265026</td>\n",
       "      <td>0.371260</td>\n",
       "      <td>-0.221141</td>\n",
       "      <td>-0.128907</td>\n",
       "    </tr>\n",
       "    <tr>\n",
       "      <th>free sulfur dioxide</th>\n",
       "      <td>-0.153794</td>\n",
       "      <td>-0.010504</td>\n",
       "      <td>-0.060978</td>\n",
       "      <td>0.187049</td>\n",
       "      <td>0.005562</td>\n",
       "      <td>1.000000</td>\n",
       "      <td>0.667666</td>\n",
       "      <td>-0.021946</td>\n",
       "      <td>0.070377</td>\n",
       "      <td>0.051658</td>\n",
       "      <td>-0.069408</td>\n",
       "      <td>-0.050656</td>\n",
       "    </tr>\n",
       "    <tr>\n",
       "      <th>total sulfur dioxide</th>\n",
       "      <td>-0.113181</td>\n",
       "      <td>0.076470</td>\n",
       "      <td>0.035533</td>\n",
       "      <td>0.203028</td>\n",
       "      <td>0.047400</td>\n",
       "      <td>0.667666</td>\n",
       "      <td>1.000000</td>\n",
       "      <td>0.071269</td>\n",
       "      <td>-0.066495</td>\n",
       "      <td>0.042947</td>\n",
       "      <td>-0.205654</td>\n",
       "      <td>-0.185100</td>\n",
       "    </tr>\n",
       "    <tr>\n",
       "      <th>density</th>\n",
       "      <td>0.668047</td>\n",
       "      <td>0.022026</td>\n",
       "      <td>0.364947</td>\n",
       "      <td>0.355283</td>\n",
       "      <td>0.200632</td>\n",
       "      <td>-0.021946</td>\n",
       "      <td>0.071269</td>\n",
       "      <td>1.000000</td>\n",
       "      <td>-0.341699</td>\n",
       "      <td>0.148506</td>\n",
       "      <td>-0.496180</td>\n",
       "      <td>-0.174919</td>\n",
       "    </tr>\n",
       "    <tr>\n",
       "      <th>pH</th>\n",
       "      <td>-0.682978</td>\n",
       "      <td>0.234937</td>\n",
       "      <td>-0.541904</td>\n",
       "      <td>-0.085652</td>\n",
       "      <td>-0.265026</td>\n",
       "      <td>0.070377</td>\n",
       "      <td>-0.066495</td>\n",
       "      <td>-0.341699</td>\n",
       "      <td>1.000000</td>\n",
       "      <td>-0.196648</td>\n",
       "      <td>0.205633</td>\n",
       "      <td>-0.057731</td>\n",
       "    </tr>\n",
       "    <tr>\n",
       "      <th>sulphates</th>\n",
       "      <td>0.183006</td>\n",
       "      <td>-0.260987</td>\n",
       "      <td>0.312770</td>\n",
       "      <td>0.005527</td>\n",
       "      <td>0.371260</td>\n",
       "      <td>0.051658</td>\n",
       "      <td>0.042947</td>\n",
       "      <td>0.148506</td>\n",
       "      <td>-0.196648</td>\n",
       "      <td>1.000000</td>\n",
       "      <td>0.093595</td>\n",
       "      <td>0.251397</td>\n",
       "    </tr>\n",
       "    <tr>\n",
       "      <th>alcohol</th>\n",
       "      <td>-0.061668</td>\n",
       "      <td>-0.202288</td>\n",
       "      <td>0.109903</td>\n",
       "      <td>0.042075</td>\n",
       "      <td>-0.221141</td>\n",
       "      <td>-0.069408</td>\n",
       "      <td>-0.205654</td>\n",
       "      <td>-0.496180</td>\n",
       "      <td>0.205633</td>\n",
       "      <td>0.093595</td>\n",
       "      <td>1.000000</td>\n",
       "      <td>0.476166</td>\n",
       "    </tr>\n",
       "    <tr>\n",
       "      <th>quality</th>\n",
       "      <td>0.124052</td>\n",
       "      <td>-0.390558</td>\n",
       "      <td>0.226373</td>\n",
       "      <td>0.013732</td>\n",
       "      <td>-0.128907</td>\n",
       "      <td>-0.050656</td>\n",
       "      <td>-0.185100</td>\n",
       "      <td>-0.174919</td>\n",
       "      <td>-0.057731</td>\n",
       "      <td>0.251397</td>\n",
       "      <td>0.476166</td>\n",
       "      <td>1.000000</td>\n",
       "    </tr>\n",
       "  </tbody>\n",
       "</table>\n",
       "</div>"
      ],
      "text/plain": [
       "                      fixed acidity  volatile acidity  citric acid  \\\n",
       "fixed acidity              1.000000         -0.256131     0.671703   \n",
       "volatile acidity          -0.256131          1.000000    -0.552496   \n",
       "citric acid                0.671703         -0.552496     1.000000   \n",
       "residual sugar             0.114777          0.001918     0.143577   \n",
       "chlorides                  0.093705          0.061298     0.203823   \n",
       "free sulfur dioxide       -0.153794         -0.010504    -0.060978   \n",
       "total sulfur dioxide      -0.113181          0.076470     0.035533   \n",
       "density                    0.668047          0.022026     0.364947   \n",
       "pH                        -0.682978          0.234937    -0.541904   \n",
       "sulphates                  0.183006         -0.260987     0.312770   \n",
       "alcohol                   -0.061668         -0.202288     0.109903   \n",
       "quality                    0.124052         -0.390558     0.226373   \n",
       "\n",
       "                      residual sugar  chlorides  free sulfur dioxide  \\\n",
       "fixed acidity               0.114777   0.093705            -0.153794   \n",
       "volatile acidity            0.001918   0.061298            -0.010504   \n",
       "citric acid                 0.143577   0.203823            -0.060978   \n",
       "residual sugar              1.000000   0.055610             0.187049   \n",
       "chlorides                   0.055610   1.000000             0.005562   \n",
       "free sulfur dioxide         0.187049   0.005562             1.000000   \n",
       "total sulfur dioxide        0.203028   0.047400             0.667666   \n",
       "density                     0.355283   0.200632            -0.021946   \n",
       "pH                         -0.085652  -0.265026             0.070377   \n",
       "sulphates                   0.005527   0.371260             0.051658   \n",
       "alcohol                     0.042075  -0.221141            -0.069408   \n",
       "quality                     0.013732  -0.128907            -0.050656   \n",
       "\n",
       "                      total sulfur dioxide   density        pH  sulphates  \\\n",
       "fixed acidity                    -0.113181  0.668047 -0.682978   0.183006   \n",
       "volatile acidity                  0.076470  0.022026  0.234937  -0.260987   \n",
       "citric acid                       0.035533  0.364947 -0.541904   0.312770   \n",
       "residual sugar                    0.203028  0.355283 -0.085652   0.005527   \n",
       "chlorides                         0.047400  0.200632 -0.265026   0.371260   \n",
       "free sulfur dioxide               0.667666 -0.021946  0.070377   0.051658   \n",
       "total sulfur dioxide              1.000000  0.071269 -0.066495   0.042947   \n",
       "density                           0.071269  1.000000 -0.341699   0.148506   \n",
       "pH                               -0.066495 -0.341699  1.000000  -0.196648   \n",
       "sulphates                         0.042947  0.148506 -0.196648   1.000000   \n",
       "alcohol                          -0.205654 -0.496180  0.205633   0.093595   \n",
       "quality                          -0.185100 -0.174919 -0.057731   0.251397   \n",
       "\n",
       "                       alcohol   quality  \n",
       "fixed acidity        -0.061668  0.124052  \n",
       "volatile acidity     -0.202288 -0.390558  \n",
       "citric acid           0.109903  0.226373  \n",
       "residual sugar        0.042075  0.013732  \n",
       "chlorides            -0.221141 -0.128907  \n",
       "free sulfur dioxide  -0.069408 -0.050656  \n",
       "total sulfur dioxide -0.205654 -0.185100  \n",
       "density              -0.496180 -0.174919  \n",
       "pH                    0.205633 -0.057731  \n",
       "sulphates             0.093595  0.251397  \n",
       "alcohol               1.000000  0.476166  \n",
       "quality               0.476166  1.000000  "
      ]
     },
     "execution_count": 58,
     "metadata": {},
     "output_type": "execute_result"
    }
   ],
   "source": [
    "#Calculamos el coeficiente de correlación\n",
    "df_correlacion = data.corr()\n",
    "df_correlacion"
   ]
  },
  {
   "cell_type": "code",
   "execution_count": 59,
   "metadata": {},
   "outputs": [
    {
     "data": {
      "image/png": "[encoded data removed]",
      "text/plain": [
       "<Figure size 432x288 with 1 Axes>"
      ]
     },
     "metadata": {
      "needs_background": "light"
     },
     "output_type": "display_data"
    },
    {
     "data": {
      "image/png": "[encoded data removed]",
      "text/plain": [
       "<Figure size 432x288 with 1 Axes>"
      ]
     },
     "metadata": {
      "needs_background": "light"
     },
     "output_type": "display_data"
    },
    {
     "data": {
      "image/png": "[encoded data removed]",
      "text/plain": [
       "<Figure size 432x288 with 1 Axes>"
      ]
     },
     "metadata": {
      "needs_background": "light"
     },
     "output_type": "display_data"
    },
    {
     "data": {
      "image/png": "[encoded data removed]",
      "text/plain": [
       "<Figure size 432x288 with 1 Axes>"
      ]
     },
     "metadata": {
      "needs_background": "light"
     },
     "output_type": "display_data"
    },
    {
     "data": {
      "image/png": "[encoded data removed]",
      "text/plain": [
       "<Figure size 432x288 with 1 Axes>"
      ]
     },
     "metadata": {
      "needs_background": "light"
     },
     "output_type": "display_data"
    },
    {
     "data": {
      "image/png": "[encoded data removed]",
      "text/plain": [
       "<Figure size 432x288 with 1 Axes>"
      ]
     },
     "metadata": {
      "needs_background": "light"
     },
     "output_type": "display_data"
    },
    {
     "data": {
      "image/png": "[encoded data removed]",
      "text/plain": [
       "<Figure size 432x288 with 1 Axes>"
      ]
     },
     "metadata": {
      "needs_background": "light"
     },
     "output_type": "display_data"
    },
    {
     "data": {
      "image/png": "[encoded data removed]",
      "text/plain": [
       "<Figure size 432x288 with 1 Axes>"
      ]
     },
     "metadata": {
      "needs_background": "light"
     },
     "output_type": "display_data"
    },
    {
     "data": {
      "image/png": "[encoded data removed]",
      "text/plain": [
       "<Figure size 432x288 with 1 Axes>"
      ]
     },
     "metadata": {
      "needs_background": "light"
     },
     "output_type": "display_data"
    },
    {
     "data": {
      "image/png": "[encoded data removed]",
      "text/plain": [
       "<Figure size 432x288 with 1 Axes>"
      ]
     },
     "metadata": {
      "needs_background": "light"
     },
     "output_type": "display_data"
    },
    {
     "data": {
      "image/png": "[encoded data removed]",
      "text/plain": [
       "<Figure size 432x288 with 1 Axes>"
      ]
     },
     "metadata": {
      "needs_background": "light"
     },
     "output_type": "display_data"
    }
   ],
   "source": [
    "#Gráficas de dispersión para cada una de las variables independientes\n",
    "for columna in data.columns:\n",
    "    if(columna != 'quality'): #La variable \"y\" es la variable de intéres por lo cual es fija\n",
    "        #calculamos el coeficiente de correlación de cada una de las variables independientes con respecto a la variable dependiente\n",
    "        correlacion = round(data['quality'].corr(data[columna]),4)\n",
    "        \n",
    "        fig = plt.figure()\n",
    "        fig.suptitle(\"Gráficas de Dispersión de \" + columna)\n",
    "        ax = fig.add_subplot(1,1,1)\n",
    "        ax.scatter(data[columna], data[\"quality\"])\n",
    "        ax.set_xlabel(columna)\n",
    "        ax.set_ylabel(\"Quality\")\n",
    "        ax.set_title('R = ' + str(correlacion))\n",
    "    \n",
    "plt.show()"
   ]
  },
  {
   "cell_type": "markdown",
   "metadata": {},
   "source": [
    "##### Elección de Variables\n",
    "Las tres variables independientes con mayor coeficiente de correlación, ya sea positiva o negativa (valor absoluto) son alcohol, volatile acidity y sulphates. \n",
    "\n",
    "Basados en las graficas y coeficientes de correlación, se ha decidido elegir las variables de alcohol y volatile acidity, ya que de acuerdo a su coeficiente de correlación, son las dos variables que mejor explican o estiman la calidad del vino."
   ]
  },
  {
   "cell_type": "markdown",
   "metadata": {},
   "source": [
    "##### Transformación de Variables\n",
    "Generamos las combinaciones polinomiales para un polinomio de grado dos para las features que seleccionamos, las cuales son alcohol y volatile acidity.\n",
    "\n",
    " $[a,b,a^{2},b^{2},ab]$\n",
    " \n",
    " En donde $a=alcohol$ y $b=volatile$ $acidity$\n"
   ]
  },
  {
   "cell_type": "code",
   "execution_count": 60,
   "metadata": {},
   "outputs": [
    {
     "data": {
      "text/html": [
       "<div>\n",
       "<style scoped>\n",
       "    .dataframe tbody tr th:only-of-type {\n",
       "        vertical-align: middle;\n",
       "    }\n",
       "\n",
       "    .dataframe tbody tr th {\n",
       "        vertical-align: top;\n",
       "    }\n",
       "\n",
       "    .dataframe thead th {\n",
       "        text-align: right;\n",
       "    }\n",
       "</style>\n",
       "<table border=\"1\" class=\"dataframe\">\n",
       "  <thead>\n",
       "    <tr style=\"text-align: right;\">\n",
       "      <th></th>\n",
       "      <th>alcohol</th>\n",
       "      <th>volatile acidity</th>\n",
       "    </tr>\n",
       "  </thead>\n",
       "  <tbody>\n",
       "    <tr>\n",
       "      <th>0</th>\n",
       "      <td>9.4</td>\n",
       "      <td>0.700</td>\n",
       "    </tr>\n",
       "    <tr>\n",
       "      <th>1</th>\n",
       "      <td>9.8</td>\n",
       "      <td>0.880</td>\n",
       "    </tr>\n",
       "    <tr>\n",
       "      <th>2</th>\n",
       "      <td>9.8</td>\n",
       "      <td>0.760</td>\n",
       "    </tr>\n",
       "    <tr>\n",
       "      <th>3</th>\n",
       "      <td>9.8</td>\n",
       "      <td>0.280</td>\n",
       "    </tr>\n",
       "    <tr>\n",
       "      <th>4</th>\n",
       "      <td>9.4</td>\n",
       "      <td>0.700</td>\n",
       "    </tr>\n",
       "    <tr>\n",
       "      <th>...</th>\n",
       "      <td>...</td>\n",
       "      <td>...</td>\n",
       "    </tr>\n",
       "    <tr>\n",
       "      <th>1274</th>\n",
       "      <td>11.2</td>\n",
       "      <td>0.580</td>\n",
       "    </tr>\n",
       "    <tr>\n",
       "      <th>1275</th>\n",
       "      <td>9.5</td>\n",
       "      <td>0.715</td>\n",
       "    </tr>\n",
       "    <tr>\n",
       "      <th>1276</th>\n",
       "      <td>12.0</td>\n",
       "      <td>0.400</td>\n",
       "    </tr>\n",
       "    <tr>\n",
       "      <th>1277</th>\n",
       "      <td>9.7</td>\n",
       "      <td>0.690</td>\n",
       "    </tr>\n",
       "    <tr>\n",
       "      <th>1278</th>\n",
       "      <td>9.5</td>\n",
       "      <td>0.715</td>\n",
       "    </tr>\n",
       "  </tbody>\n",
       "</table>\n",
       "<p>1279 rows × 2 columns</p>\n",
       "</div>"
      ],
      "text/plain": [
       "      alcohol  volatile acidity\n",
       "0         9.4             0.700\n",
       "1         9.8             0.880\n",
       "2         9.8             0.760\n",
       "3         9.8             0.280\n",
       "4         9.4             0.700\n",
       "...       ...               ...\n",
       "1274     11.2             0.580\n",
       "1275      9.5             0.715\n",
       "1276     12.0             0.400\n",
       "1277      9.7             0.690\n",
       "1278      9.5             0.715\n",
       "\n",
       "[1279 rows x 2 columns]"
      ]
     },
     "execution_count": 60,
     "metadata": {},
     "output_type": "execute_result"
    }
   ],
   "source": [
    "#Obtenemos los valores para las variables independientes \"x\" y la variable dependiente \"y\"  del data frame de entrenamiento para usarlos en los experimentos\n",
    "y_vino = df_entrenamiento['quality']\n",
    "x_vino = df_entrenamiento[['alcohol','volatile acidity']]\n",
    "x_vino"
   ]
  },
  {
   "cell_type": "code",
   "execution_count": 61,
   "metadata": {},
   "outputs": [
    {
     "data": {
      "text/plain": [
       "array([[  1.      ,   1.      ,   1.      , ...,   1.      ,   1.      ,\n",
       "          1.      ],\n",
       "       [  9.4     ,   9.8     ,   9.8     , ...,  12.      ,   9.7     ,\n",
       "          9.5     ],\n",
       "       [  0.7     ,   0.88    ,   0.76    , ...,   0.4     ,   0.69    ,\n",
       "          0.715   ],\n",
       "       [ 88.36    ,  96.04    ,  96.04    , ..., 144.      ,  94.09    ,\n",
       "         90.25    ],\n",
       "       [  6.58    ,   8.624   ,   7.448   , ...,   4.8     ,   6.693   ,\n",
       "          6.7925  ],\n",
       "       [  0.49    ,   0.7744  ,   0.5776  , ...,   0.16    ,   0.4761  ,\n",
       "          0.511225]])"
      ]
     },
     "execution_count": 61,
     "metadata": {},
     "output_type": "execute_result"
    }
   ],
   "source": [
    "#transformamos las variables dependientes\n",
    "x_transformada = PolynomialFeatures(degree=2).fit_transform(x_vino).T\n",
    "x_transformada"
   ]
  },
  {
   "cell_type": "markdown",
   "metadata": {},
   "source": [
    "### 2. Aplicamos Regresión Lineal a las Variables Transformadas"
   ]
  },
  {
   "cell_type": "code",
   "execution_count": 62,
   "metadata": {},
   "outputs": [
    {
     "name": "stdout",
     "output_type": "stream",
     "text": [
      "INFO:tensorflow:Graph was finalized.\n",
      "INFO:tensorflow:Running local_init_op.\n",
      "INFO:tensorflow:Done running local_init_op.\n",
      "Iteración: 200 , Parametros: [[nan nan nan nan nan nan]] , Error: nan\n",
      "_______________________________________________________________________________________________________\n",
      "Iteración: 400 , Parametros: [[nan nan nan nan nan nan]] , Error: nan\n",
      "_______________________________________________________________________________________________________\n",
      "Iteración: 600 , Parametros: [[nan nan nan nan nan nan]] , Error: nan\n",
      "_______________________________________________________________________________________________________\n",
      "Iteración: 800 , Parametros: [[nan nan nan nan nan nan]] , Error: nan\n",
      "_______________________________________________________________________________________________________\n",
      "Iteración: 1000 , Parametros: [[nan nan nan nan nan nan]] , Error: nan\n",
      "_______________________________________________________________________________________________________\n"
     ]
    },
    {
     "data": {
      "text/plain": [
       "(array([[nan, nan, nan, nan, nan, nan]], dtype=float32), nan)"
      ]
     },
     "execution_count": 62,
     "metadata": {},
     "output_type": "execute_result"
    }
   ],
   "source": [
    "#lr = 0.01, epochs= 1000\n",
    "entrenamiento_rl(x_transformada, y_vino, 0.01, 1000,200,2)"
   ]
  },
  {
   "cell_type": "code",
   "execution_count": 63,
   "metadata": {},
   "outputs": [
    {
     "name": "stdout",
     "output_type": "stream",
     "text": [
      "INFO:tensorflow:Graph was finalized.\n",
      "INFO:tensorflow:Running local_init_op.\n",
      "INFO:tensorflow:Done running local_init_op.\n",
      "Iteración: 200 , Parametros: [[nan nan nan nan nan nan]] , Error: nan\n",
      "_______________________________________________________________________________________________________\n",
      "Iteración: 400 , Parametros: [[nan nan nan nan nan nan]] , Error: nan\n",
      "_______________________________________________________________________________________________________\n",
      "Iteración: 600 , Parametros: [[nan nan nan nan nan nan]] , Error: nan\n",
      "_______________________________________________________________________________________________________\n",
      "Iteración: 800 , Parametros: [[nan nan nan nan nan nan]] , Error: nan\n",
      "_______________________________________________________________________________________________________\n",
      "Iteración: 1000 , Parametros: [[nan nan nan nan nan nan]] , Error: nan\n",
      "_______________________________________________________________________________________________________\n"
     ]
    },
    {
     "data": {
      "text/plain": [
       "(array([[nan, nan, nan, nan, nan, nan]], dtype=float32), nan)"
      ]
     },
     "execution_count": 63,
     "metadata": {},
     "output_type": "execute_result"
    }
   ],
   "source": [
    "#lr = 0.001, epochs= 1000\n",
    "entrenamiento_rl(x_transformada, y_vino, 0.001, 1000,200,2)"
   ]
  },
  {
   "cell_type": "code",
   "execution_count": 64,
   "metadata": {},
   "outputs": [
    {
     "name": "stdout",
     "output_type": "stream",
     "text": [
      "INFO:tensorflow:Graph was finalized.\n",
      "INFO:tensorflow:Running local_init_op.\n",
      "INFO:tensorflow:Done running local_init_op.\n",
      "Iteración: 200 , Parametros: [[0.00381334 0.02285553 0.00172661 0.04758912 0.00959271 0.00074296]] , Error: 0.5574203\n",
      "_______________________________________________________________________________________________________\n",
      "Iteración: 400 , Parametros: [[0.00707244 0.04045077 0.00310436 0.04562651 0.01581603 0.00125087]] , Error: 0.53916\n",
      "_______________________________________________________________________________________________________\n",
      "Iteración: 600 , Parametros: [[0.01021834 0.05743752 0.00436636 0.04376594 0.02110886 0.00166187]] , Error: 0.5225652\n",
      "_______________________________________________________________________________________________________\n",
      "Iteración: 800 , Parametros: [[0.01325791 0.07385264 0.00552309 0.04199948 0.02556394 0.00198586]] , Error: 0.50740093\n",
      "_______________________________________________________________________________________________________\n",
      "Iteración: 1000 , Parametros: [[0.01619743 0.08972985 0.00658406 0.04031994 0.02926533 0.00223182]] , Error: 0.49347162\n",
      "_______________________________________________________________________________________________________\n"
     ]
    },
    {
     "data": {
      "text/plain": [
       "(array([[0.01619743, 0.08972985, 0.00658406, 0.04031994, 0.02926533,\n",
       "         0.00223182]], dtype=float32),\n",
       " 0.49347162)"
      ]
     },
     "execution_count": 64,
     "metadata": {},
     "output_type": "execute_result"
    }
   ],
   "source": [
    "#lr = 0.0001, epochs= 1000\n",
    "entrenamiento_rl(x_transformada, y_vino, 0.0001, 1000,200,2)"
   ]
  },
  {
   "cell_type": "code",
   "execution_count": 65,
   "metadata": {},
   "outputs": [
    {
     "name": "stdout",
     "output_type": "stream",
     "text": [
      "INFO:tensorflow:Graph was finalized.\n",
      "INFO:tensorflow:Running local_init_op.\n",
      "INFO:tensorflow:Done running local_init_op.\n",
      "Iteración: 200 , Parametros: [[0.00077715 0.00646633 0.00037815 0.04944989 0.00311154 0.00019395]] , Error: 0.57541585\n",
      "_______________________________________________________________________________________________________\n",
      "Iteración: 400 , Parametros: [[0.00111948 0.00831408 0.00053332 0.04923854 0.00387517 0.0002595 ]] , Error: 0.573322\n",
      "_______________________________________________________________________________________________________\n",
      "Iteración: 600 , Parametros: [[0.00146054 0.01015501 0.00068711 0.04902836 0.0046276  0.00032387]] , Error: 0.57125014\n",
      "_______________________________________________________________________________________________________\n",
      "Iteración: 800 , Parametros: [[0.00180033 0.01198915 0.00083954 0.04881934 0.00536894 0.00038709]] , Error: 0.56920004\n",
      "_______________________________________________________________________________________________________\n",
      "Iteración: 1000 , Parametros: [[0.00213888 0.01381655 0.00099063 0.04861151 0.0060993  0.00044916]] , Error: 0.56717116\n",
      "_______________________________________________________________________________________________________\n"
     ]
    },
    {
     "data": {
      "text/plain": [
       "(array([[0.00213888, 0.01381655, 0.00099063, 0.04861151, 0.0060993 ,\n",
       "         0.00044916]], dtype=float32),\n",
       " 0.56717116)"
      ]
     },
     "execution_count": 65,
     "metadata": {},
     "output_type": "execute_result"
    }
   ],
   "source": [
    "#lr = 0.00001, epochs= 1000\n",
    "entrenamiento_rl(x_transformada, y_vino, 0.00001, 1000,200,2)"
   ]
  },
  {
   "cell_type": "code",
   "execution_count": 66,
   "metadata": {},
   "outputs": [
    {
     "name": "stdout",
     "output_type": "stream",
     "text": [
      "INFO:tensorflow:Graph was finalized.\n",
      "INFO:tensorflow:Running local_init_op.\n",
      "INFO:tensorflow:Done running local_init_op.\n",
      "Iteración: 200 , Parametros: [[nan nan nan nan nan nan]] , Error: nan\n",
      "_______________________________________________________________________________________________________\n",
      "Iteración: 400 , Parametros: [[nan nan nan nan nan nan]] , Error: nan\n",
      "_______________________________________________________________________________________________________\n",
      "Iteración: 600 , Parametros: [[nan nan nan nan nan nan]] , Error: nan\n",
      "_______________________________________________________________________________________________________\n",
      "Iteración: 800 , Parametros: [[nan nan nan nan nan nan]] , Error: nan\n",
      "_______________________________________________________________________________________________________\n",
      "Iteración: 1000 , Parametros: [[nan nan nan nan nan nan]] , Error: nan\n",
      "_______________________________________________________________________________________________________\n"
     ]
    },
    {
     "data": {
      "text/plain": [
       "(array([[nan, nan, nan, nan, nan, nan]], dtype=float32), nan)"
      ]
     },
     "execution_count": 66,
     "metadata": {},
     "output_type": "execute_result"
    }
   ],
   "source": [
    "#lr = 0.0002, epochs= 1000\n",
    "entrenamiento_rl(x_transformada, y_vino, 0.0002, 1000,200,2)"
   ]
  },
  {
   "cell_type": "code",
   "execution_count": 67,
   "metadata": {},
   "outputs": [
    {
     "name": "stdout",
     "output_type": "stream",
     "text": [
      "INFO:tensorflow:Graph was finalized.\n",
      "INFO:tensorflow:Running local_init_op.\n",
      "INFO:tensorflow:Done running local_init_op.\n",
      "Iteración: 200 , Parametros: [[0.00077715 0.00646633 0.00037815 0.04944989 0.00311154 0.00019395]] , Error: 0.57541585\n",
      "_______________________________________________________________________________________________________\n",
      "Iteración: 400 , Parametros: [[0.00111948 0.00831408 0.00053332 0.04923854 0.00387517 0.0002595 ]] , Error: 0.573322\n",
      "_______________________________________________________________________________________________________\n",
      "Iteración: 600 , Parametros: [[0.00146054 0.01015501 0.00068711 0.04902836 0.0046276  0.00032387]] , Error: 0.57125014\n",
      "_______________________________________________________________________________________________________\n",
      "Iteración: 800 , Parametros: [[0.00180033 0.01198915 0.00083954 0.04881934 0.00536894 0.00038709]] , Error: 0.56920004\n",
      "_______________________________________________________________________________________________________\n",
      "Iteración: 1000 , Parametros: [[0.00213888 0.01381655 0.00099063 0.04861151 0.0060993  0.00044916]] , Error: 0.56717116\n",
      "_______________________________________________________________________________________________________\n"
     ]
    },
    {
     "data": {
      "text/plain": [
       "(array([[0.00213888, 0.01381655, 0.00099063, 0.04861151, 0.0060993 ,\n",
       "         0.00044916]], dtype=float32),\n",
       " 0.56717116)"
      ]
     },
     "execution_count": 67,
     "metadata": {},
     "output_type": "execute_result"
    }
   ],
   "source": [
    "#lr = 0.00001, epochs= 1000\n",
    "entrenamiento_rl(x_transformada, y_vino, 0.00001, 1000,200,2)"
   ]
  },
  {
   "cell_type": "code",
   "execution_count": 68,
   "metadata": {},
   "outputs": [
    {
     "name": "stdout",
     "output_type": "stream",
     "text": [
      "INFO:tensorflow:Graph was finalized.\n",
      "INFO:tensorflow:Running local_init_op.\n",
      "INFO:tensorflow:Done running local_init_op.\n",
      "Iteración: 1000 , Parametros: [[0.00213888 0.01381655 0.00099063 0.04861151 0.0060993  0.00044916]] , Error: 0.56717116\n",
      "_______________________________________________________________________________________________________\n",
      "Iteración: 2000 , Parametros: [[0.00381306 0.022854   0.00172632 0.04758937 0.00959035 0.00074271]] , Error: 0.5573362\n",
      "_______________________________________________________________________________________________________\n",
      "Iteración: 3000 , Parametros: [[0.00545709 0.03172939 0.00243023 0.04659491 0.01282348 0.00100934]] , Error: 0.5479867\n",
      "_______________________________________________________________________________________________________\n",
      "Iteración: 4000 , Parametros: [[0.00707192 0.04044787 0.00310383 0.04562699 0.01581178 0.00125043]] , Error: 0.53908575\n",
      "_______________________________________________________________________________________________________\n",
      "Iteración: 5000 , Parametros: [[0.00865846 0.04901432 0.00374852 0.04468455 0.01856771 0.00146732]] , Error: 0.5306\n",
      "_______________________________________________________________________________________________________\n"
     ]
    },
    {
     "data": {
      "text/plain": [
       "(array([[0.00865846, 0.04901432, 0.00374852, 0.04468455, 0.01856771,\n",
       "         0.00146732]], dtype=float32),\n",
       " 0.5306)"
      ]
     },
     "execution_count": 68,
     "metadata": {},
     "output_type": "execute_result"
    }
   ],
   "source": [
    "#lr = 0.00001, epochs= 5000\n",
    "entrenamiento_rl(x_transformada, y_vino, 0.00001, 5000,1000,2)"
   ]
  },
  {
   "cell_type": "code",
   "execution_count": 69,
   "metadata": {},
   "outputs": [
    {
     "name": "stdout",
     "output_type": "stream",
     "text": [
      "INFO:tensorflow:Graph was finalized.\n",
      "INFO:tensorflow:Running local_init_op.\n",
      "INFO:tensorflow:Done running local_init_op.\n",
      "Iteración: 1000 , Parametros: [[0.01619743 0.08972985 0.00658406 0.04031994 0.02926533 0.00223182]] , Error: 0.49347162\n",
      "_______________________________________________________________________________________________________\n",
      "Iteración: 2000 , Parametros: [[0.02958132 0.16204982 0.01072806 0.03301504 0.03889495 0.00254995]] , Error: 0.4374773\n",
      "_______________________________________________________________________________________________________\n",
      "Iteración: 3000 , Parametros: [[0.04116102 0.22466008 0.01348442 0.02710756 0.03850867 0.00185723]] , Error: 0.3963851\n",
      "_______________________________________________________________________________________________________\n",
      "Iteración: 4000 , Parametros: [[0.05132224 0.27963054 0.01536676 0.02219014 0.03253362 0.00062315]] , Error: 0.36442515\n",
      "_______________________________________________________________________________________________________\n",
      "Iteración: 5000 , Parametros: [[ 0.06033073  0.32838848  0.0166932   0.01799998  0.02364342 -0.00087056]] , Error: 0.33879885\n",
      "_______________________________________________________________________________________________________\n"
     ]
    },
    {
     "data": {
      "text/plain": [
       "(array([[ 0.06033073,  0.32838848,  0.0166932 ,  0.01799998,  0.02364342,\n",
       "         -0.00087056]], dtype=float32),\n",
       " 0.33879885)"
      ]
     },
     "execution_count": 69,
     "metadata": {},
     "output_type": "execute_result"
    }
   ],
   "source": [
    "#lr = 0.0001, epochs= 5000\n",
    "entrenamiento_rl(x_transformada, y_vino, 0.0001, 5000,1000,2)"
   ]
  },
  {
   "cell_type": "code",
   "execution_count": 70,
   "metadata": {},
   "outputs": [
    {
     "name": "stdout",
     "output_type": "stream",
     "text": [
      "INFO:tensorflow:Graph was finalized.\n",
      "INFO:tensorflow:Running local_init_op.\n",
      "INFO:tensorflow:Done running local_init_op.\n",
      "Iteración: 2000 , Parametros: [[0.02958132 0.16204982 0.01072806 0.03301504 0.03889495 0.00254995]] , Error: 0.4374773\n",
      "_______________________________________________________________________________________________________\n",
      "Iteración: 4000 , Parametros: [[0.05132224 0.27963054 0.01536676 0.02219014 0.03253362 0.00062315]] , Error: 0.36442515\n",
      "_______________________________________________________________________________________________________\n",
      "Iteración: 6000 , Parametros: [[ 0.06837583  0.37195182  0.01766136  0.0143644   0.01343624 -0.00245718]] , Error: 0.31794178\n",
      "_______________________________________________________________________________________________________\n",
      "Iteración: 8000 , Parametros: [[ 0.08210284  0.44632912  0.01896939  0.00832819 -0.00756814 -0.00556558]] , Error: 0.28678554\n",
      "_______________________________________________________________________________________________________\n",
      "Iteración: 10000 , Parametros: [[ 0.0932909   0.5070028   0.01982286  0.00350842 -0.02688391 -0.00834687]] , Error: 0.26565966\n",
      "_______________________________________________________________________________________________________\n"
     ]
    },
    {
     "data": {
      "text/plain": [
       "(array([[ 0.0932909 ,  0.5070028 ,  0.01982286,  0.00350842, -0.02688391,\n",
       "         -0.00834687]], dtype=float32),\n",
       " 0.26565966)"
      ]
     },
     "execution_count": 70,
     "metadata": {},
     "output_type": "execute_result"
    }
   ],
   "source": [
    "#lr = 0.0001, epochs= 10000\n",
    "entrenamiento_rl(x_transformada, y_vino, 0.0001, 10000,2000,2)"
   ]
  },
  {
   "cell_type": "code",
   "execution_count": 71,
   "metadata": {},
   "outputs": [
    {
     "name": "stdout",
     "output_type": "stream",
     "text": [
      "INFO:tensorflow:Graph was finalized.\n",
      "INFO:tensorflow:Running local_init_op.\n",
      "INFO:tensorflow:Done running local_init_op.\n",
      "Iteración: 10000 , Parametros: [[ 0.0932909   0.5070028   0.01982286  0.00350842 -0.02688391 -0.00834687]] , Error: 0.26565966\n",
      "_______________________________________________________________________________________________________\n",
      "Iteración: 20000 , Parametros: [[ 0.1255081   0.68227875  0.02180682 -0.01020781 -0.08699615 -0.0169036 ]] , Error: 0.22729872\n",
      "_______________________________________________________________________________________________________\n",
      "Iteración: 30000 , Parametros: [[ 0.13763444  0.74906075  0.02241941 -0.0154127  -0.11030168 -0.02027285]] , Error: 0.22171365\n",
      "_______________________________________________________________________________________________________\n",
      "Iteración: 40000 , Parametros: [[ 0.14211853  0.77457404  0.02255093 -0.0174004  -0.11918098 -0.02162149]] , Error: 0.22090039\n",
      "_______________________________________________________________________________________________________\n",
      "Iteración: 50000 , Parametros: [[ 0.1436877   0.78433496  0.02249897 -0.01816019 -0.12255209 -0.0221986 ]] , Error: 0.22078189\n",
      "_______________________________________________________________________________________________________\n"
     ]
    },
    {
     "data": {
      "text/plain": [
       "(array([[ 0.1436877 ,  0.78433496,  0.02249897, -0.01816019, -0.12255209,\n",
       "         -0.0221986 ]], dtype=float32),\n",
       " 0.22078189)"
      ]
     },
     "execution_count": 71,
     "metadata": {},
     "output_type": "execute_result"
    }
   ],
   "source": [
    "#lr = 0.0001, epochs= 50000\n",
    "entrenamiento_rl(x_transformada, y_vino, 0.0001, 50000,10000,2)"
   ]
  },
  {
   "cell_type": "code",
   "execution_count": 72,
   "metadata": {},
   "outputs": [
    {
     "name": "stdout",
     "output_type": "stream",
     "text": [
      "INFO:tensorflow:Graph was finalized.\n",
      "INFO:tensorflow:Running local_init_op.\n",
      "INFO:tensorflow:Done running local_init_op.\n",
      "Iteración: 20000 , Parametros: [[ 0.1255081   0.68227875  0.02180682 -0.01020781 -0.08699615 -0.0169036 ]] , Error: 0.22729872\n",
      "_______________________________________________________________________________________________________\n",
      "Iteración: 40000 , Parametros: [[ 0.14211853  0.77457404  0.02255093 -0.0174004  -0.11918098 -0.02162149]] , Error: 0.22090039\n",
      "_______________________________________________________________________________________________________\n",
      "Iteración: 60000 , Parametros: [[ 0.14414205  0.78808445  0.02237827 -0.01845143 -0.12381978 -0.0224809 ]] , Error: 0.22076455\n",
      "_______________________________________________________________________________________________________\n",
      "Iteración: 80000 , Parametros: [[ 0.14403392  0.790156    0.02207396 -0.01861111 -0.12444942 -0.02277805]] , Error: 0.22076142\n",
      "_______________________________________________________________________________________________________\n",
      "Iteración: 100000 , Parametros: [[ 0.1437359   0.79032105  0.02176761 -0.01862155 -0.1244578  -0.02298285]] , Error: 0.22076131\n",
      "_______________________________________________________________________________________________________\n"
     ]
    },
    {
     "data": {
      "text/plain": [
       "(array([[ 0.1437359 ,  0.79032105,  0.02176761, -0.01862155, -0.1244578 ,\n",
       "         -0.02298285]], dtype=float32),\n",
       " 0.22076131)"
      ]
     },
     "execution_count": 72,
     "metadata": {},
     "output_type": "execute_result"
    }
   ],
   "source": [
    "#lr = 0.0001, epochs= 100000\n",
    "entrenamiento_rl(x_transformada, y_vino, 0.0001, 100000,20000,2)"
   ]
  },
  {
   "cell_type": "markdown",
   "metadata": {},
   "source": [
    "Vemos que después de varios experimentos, el error sigue bajando pero muy lentamente, por lo cual se decidió realizar más pruebas, ahora con tres variables independientes, las tres variables que tienen mayor correlación (como se vió en la sección de Aánalisis exploratorio de datos\""
   ]
  },
  {
   "cell_type": "code",
   "execution_count": 73,
   "metadata": {},
   "outputs": [
    {
     "data": {
      "text/html": [
       "<div>\n",
       "<style scoped>\n",
       "    .dataframe tbody tr th:only-of-type {\n",
       "        vertical-align: middle;\n",
       "    }\n",
       "\n",
       "    .dataframe tbody tr th {\n",
       "        vertical-align: top;\n",
       "    }\n",
       "\n",
       "    .dataframe thead th {\n",
       "        text-align: right;\n",
       "    }\n",
       "</style>\n",
       "<table border=\"1\" class=\"dataframe\">\n",
       "  <thead>\n",
       "    <tr style=\"text-align: right;\">\n",
       "      <th></th>\n",
       "      <th>alcohol</th>\n",
       "      <th>volatile acidity</th>\n",
       "      <th>sulphates</th>\n",
       "    </tr>\n",
       "  </thead>\n",
       "  <tbody>\n",
       "    <tr>\n",
       "      <th>0</th>\n",
       "      <td>9.4</td>\n",
       "      <td>0.700</td>\n",
       "      <td>0.56</td>\n",
       "    </tr>\n",
       "    <tr>\n",
       "      <th>1</th>\n",
       "      <td>9.8</td>\n",
       "      <td>0.880</td>\n",
       "      <td>0.68</td>\n",
       "    </tr>\n",
       "    <tr>\n",
       "      <th>2</th>\n",
       "      <td>9.8</td>\n",
       "      <td>0.760</td>\n",
       "      <td>0.65</td>\n",
       "    </tr>\n",
       "    <tr>\n",
       "      <th>3</th>\n",
       "      <td>9.8</td>\n",
       "      <td>0.280</td>\n",
       "      <td>0.58</td>\n",
       "    </tr>\n",
       "    <tr>\n",
       "      <th>4</th>\n",
       "      <td>9.4</td>\n",
       "      <td>0.700</td>\n",
       "      <td>0.56</td>\n",
       "    </tr>\n",
       "    <tr>\n",
       "      <th>...</th>\n",
       "      <td>...</td>\n",
       "      <td>...</td>\n",
       "      <td>...</td>\n",
       "    </tr>\n",
       "    <tr>\n",
       "      <th>1274</th>\n",
       "      <td>11.2</td>\n",
       "      <td>0.580</td>\n",
       "      <td>0.53</td>\n",
       "    </tr>\n",
       "    <tr>\n",
       "      <th>1275</th>\n",
       "      <td>9.5</td>\n",
       "      <td>0.715</td>\n",
       "      <td>0.54</td>\n",
       "    </tr>\n",
       "    <tr>\n",
       "      <th>1276</th>\n",
       "      <td>12.0</td>\n",
       "      <td>0.400</td>\n",
       "      <td>0.56</td>\n",
       "    </tr>\n",
       "    <tr>\n",
       "      <th>1277</th>\n",
       "      <td>9.7</td>\n",
       "      <td>0.690</td>\n",
       "      <td>0.60</td>\n",
       "    </tr>\n",
       "    <tr>\n",
       "      <th>1278</th>\n",
       "      <td>9.5</td>\n",
       "      <td>0.715</td>\n",
       "      <td>0.54</td>\n",
       "    </tr>\n",
       "  </tbody>\n",
       "</table>\n",
       "<p>1279 rows × 3 columns</p>\n",
       "</div>"
      ],
      "text/plain": [
       "      alcohol  volatile acidity  sulphates\n",
       "0         9.4             0.700       0.56\n",
       "1         9.8             0.880       0.68\n",
       "2         9.8             0.760       0.65\n",
       "3         9.8             0.280       0.58\n",
       "4         9.4             0.700       0.56\n",
       "...       ...               ...        ...\n",
       "1274     11.2             0.580       0.53\n",
       "1275      9.5             0.715       0.54\n",
       "1276     12.0             0.400       0.56\n",
       "1277      9.7             0.690       0.60\n",
       "1278      9.5             0.715       0.54\n",
       "\n",
       "[1279 rows x 3 columns]"
      ]
     },
     "execution_count": 73,
     "metadata": {},
     "output_type": "execute_result"
    }
   ],
   "source": [
    "#Obtenemos los valores para las variables independientes \"x\" y la variable dependiente \"y\"  del data frame de entrenamiento para usarlos en los experimentos\n",
    "x_vino2 = df_entrenamiento[['alcohol','volatile acidity','sulphates']]\n",
    "x_vino2"
   ]
  },
  {
   "cell_type": "code",
   "execution_count": 74,
   "metadata": {},
   "outputs": [
    {
     "data": {
      "text/plain": [
       "array([[ 1.      ,  1.      ,  1.      , ...,  1.      ,  1.      ,\n",
       "         1.      ],\n",
       "       [ 9.4     ,  9.8     ,  9.8     , ..., 12.      ,  9.7     ,\n",
       "         9.5     ],\n",
       "       [ 0.7     ,  0.88    ,  0.76    , ...,  0.4     ,  0.69    ,\n",
       "         0.715   ],\n",
       "       ...,\n",
       "       [ 0.49    ,  0.7744  ,  0.5776  , ...,  0.16    ,  0.4761  ,\n",
       "         0.511225],\n",
       "       [ 0.392   ,  0.5984  ,  0.494   , ...,  0.224   ,  0.414   ,\n",
       "         0.3861  ],\n",
       "       [ 0.3136  ,  0.4624  ,  0.4225  , ...,  0.3136  ,  0.36    ,\n",
       "         0.2916  ]])"
      ]
     },
     "execution_count": 74,
     "metadata": {},
     "output_type": "execute_result"
    }
   ],
   "source": [
    "#transformamos las variables dependientes\n",
    "x_transformada2 = PolynomialFeatures(degree=2).fit_transform(x_vino2).T\n",
    "x_transformada2"
   ]
  },
  {
   "cell_type": "markdown",
   "metadata": {},
   "source": [
    "Se realiza el entrenamiento ahora con tres features"
   ]
  },
  {
   "cell_type": "code",
   "execution_count": 75,
   "metadata": {},
   "outputs": [
    {
     "name": "stdout",
     "output_type": "stream",
     "text": [
      "INFO:tensorflow:Graph was finalized.\n",
      "INFO:tensorflow:Running local_init_op.\n",
      "INFO:tensorflow:Done running local_init_op.\n",
      "Iteración: 20000 , Parametros: [[ 0.1118945   0.608279    0.02111225  0.04194998 -0.0106154  -0.06432329\n",
      "   0.09938533 -0.01314699 -0.0031614  -0.01963903]] , Error: 0.22391787\n",
      "_______________________________________________________________________________________________________\n",
      "Iteración: 40000 , Parametros: [[ 0.13127372  0.71544135  0.02243087  0.04262509 -0.01731557 -0.10054916\n",
      "   0.07408877 -0.01815641 -0.00976092 -0.04937715]] , Error: 0.21513261\n",
      "_______________________________________________________________________________________________________\n",
      "Iteración: 60000 , Parametros: [[ 0.13499524  0.73797387  0.02264323  0.04071717 -0.018842   -0.10795597\n",
      "   0.07197332 -0.01916515 -0.01334091 -0.07248396]] , Error: 0.21450305\n",
      "_______________________________________________________________________________________________________\n",
      "Iteración: 80000 , Parametros: [[ 0.13540797  0.7425768   0.02262393  0.03829665 -0.01927268 -0.10925326\n",
      "   0.07474525 -0.01932443 -0.01625849 -0.09387695]] , Error: 0.21424875\n",
      "_______________________________________________________________________________________________________\n",
      "Iteración: 100000 , Parametros: [[ 0.13513857  0.74321324  0.02256719  0.03579653 -0.019456   -0.10923139\n",
      "   0.0785132  -0.01930857 -0.01900869 -0.11461392]] , Error: 0.2140193\n",
      "_______________________________________________________________________________________________________\n"
     ]
    },
    {
     "data": {
      "text/plain": [
       "(array([[ 0.13513857,  0.74321324,  0.02256719,  0.03579653, -0.019456  ,\n",
       "         -0.10923139,  0.0785132 , -0.01930857, -0.01900869, -0.11461392]],\n",
       "       dtype=float32),\n",
       " 0.2140193)"
      ]
     },
     "execution_count": 75,
     "metadata": {},
     "output_type": "execute_result"
    }
   ],
   "source": [
    "#lr = 0.0001, epochs= 100000\n",
    "entrenamiento_rl(x_transformada2, y_vino, 0.0001, 100000,20000,2)"
   ]
  },
  {
   "cell_type": "code",
   "execution_count": 76,
   "metadata": {},
   "outputs": [
    {
     "name": "stdout",
     "output_type": "stream",
     "text": [
      "INFO:tensorflow:Graph was finalized.\n",
      "INFO:tensorflow:Running local_init_op.\n",
      "INFO:tensorflow:Done running local_init_op.\n",
      "Iteración: 20000 , Parametros: [[ 0.1118945   0.608279    0.02111225  0.04194998 -0.0106154  -0.06432329\n",
      "   0.09938533 -0.01314699 -0.0031614  -0.01963903]] , Error: 0.22391787\n",
      "_______________________________________________________________________________________________________\n",
      "Iteración: 40000 , Parametros: [[ 0.13127372  0.71544135  0.02243087  0.04262509 -0.01731557 -0.10054916\n",
      "   0.07408877 -0.01815641 -0.00976092 -0.04937715]] , Error: 0.21513261\n",
      "_______________________________________________________________________________________________________\n",
      "Iteración: 60000 , Parametros: [[ 0.13499524  0.73797387  0.02264323  0.04071717 -0.018842   -0.10795597\n",
      "   0.07197332 -0.01916515 -0.01334091 -0.07248396]] , Error: 0.21450305\n",
      "_______________________________________________________________________________________________________\n",
      "Iteración: 80000 , Parametros: [[ 0.13540797  0.7425768   0.02262393  0.03829665 -0.01927268 -0.10925326\n",
      "   0.07474525 -0.01932443 -0.01625849 -0.09387695]] , Error: 0.21424875\n",
      "_______________________________________________________________________________________________________\n",
      "Iteración: 100000 , Parametros: [[ 0.13513857  0.74321324  0.02256719  0.03579653 -0.019456   -0.10923139\n",
      "   0.0785132  -0.01930857 -0.01900869 -0.11461392]] , Error: 0.2140193\n",
      "_______________________________________________________________________________________________________\n",
      "Iteración: 120000 , Parametros: [[ 0.13484055  0.74321324  0.02249268  0.03333784 -0.0196016  -0.10896726\n",
      "   0.08241141 -0.01926118 -0.02170455 -0.13492617]] , Error: 0.21379869\n",
      "_______________________________________________________________________________________________________\n",
      "Iteración: 140000 , Parametros: [[ 0.13432601  0.74321324  0.02241818  0.03087914 -0.01974471 -0.10869676\n",
      "   0.08626592 -0.01918667 -0.02437785 -0.15483382]] , Error: 0.21358621\n",
      "_______________________________________________________________________________________________________\n",
      "Iteración: 160000 , Parametros: [[ 0.13372996  0.7431974   0.02232952  0.02842045 -0.01988264 -0.10842139\n",
      "   0.09004405 -0.01911216 -0.02702095 -0.1743807 ]] , Error: 0.21338122\n",
      "_______________________________________________________________________________________________________\n"
     ]
    },
    {
     "data": {
      "text/plain": [
       "(array([[ 0.13372996,  0.7431974 ,  0.02232952,  0.02842045, -0.01988264,\n",
       "         -0.10842139,  0.09004405, -0.01911216, -0.02702095, -0.1743807 ]],\n",
       "       dtype=float32),\n",
       " 0.21338122)"
      ]
     },
     "execution_count": 76,
     "metadata": {},
     "output_type": "execute_result"
    }
   ],
   "source": [
    "#lr = 0.0001, epochs= 160000\n",
    "entrenamiento_rl(x_transformada2, y_vino, 0.0001, 160000,20000,2)"
   ]
  },
  {
   "cell_type": "code",
   "execution_count": 77,
   "metadata": {},
   "outputs": [
    {
     "data": {
      "text/plain": [
       "Reusing TensorBoard on port 6006 (pid 18148), started 1:06:10 ago. (Use '!kill 18148' to kill it.)"
      ]
     },
     "metadata": {},
     "output_type": "display_data"
    },
    {
     "data": {
      "text/html": [
       "\n",
       "      <iframe id=\"tensorboard-frame-e61feca2c649930\" width=\"100%\" height=\"800\" frameborder=\"0\">\n",
       "      </iframe>\n",
       "      <script>\n",
       "        (function() {\n",
       "          const frame = document.getElementById(\"tensorboard-frame-e61feca2c649930\");\n",
       "          const url = new URL(\"/\", window.location);\n",
       "          url.port = 6006;\n",
       "          frame.src = url;\n",
       "        })();\n",
       "      </script>\n",
       "  "
      ],
      "text/plain": [
       "<IPython.core.display.HTML object>"
      ]
     },
     "metadata": {},
     "output_type": "display_data"
    }
   ],
   "source": [
    "%tensorboard --logdir logs"
   ]
  },
  {
   "cell_type": "code",
   "execution_count": null,
   "metadata": {},
   "outputs": [],
   "source": [
    "%tensorboard --logdir logs"
   ]
  },
  {
   "cell_type": "markdown",
   "metadata": {},
   "source": [
    "#### Grafo de Modelo\n",
    "\n",
    "<img src=\"./Imagenes/grafo_modelo.png\">"
   ]
  },
  {
   "cell_type": "markdown",
   "metadata": {},
   "source": [
    "#### Gráficas del Costo o Error del Modelo\n",
    "\n",
    "<img src=\"./Imagenes/error_modelo.png\">"
   ]
  },
  {
   "cell_type": "markdown",
   "metadata": {},
   "source": [
    "#### Conclusión\n",
    "Como se puede observar en los experimentos, el mejor modelo, de acuerdo al menor error(mse) se obtiene utilizando las tres variables independientes con mayor correlación: **alcohol, volatile acidity y sulphates**  \n",
    "\n",
    "Así mismo, los mejores hyper-parámetros de acuerdo a los experimentos son un **larning rate = 0.0001 y 100000 iteraciones**, con lo cual se obtiene un **mse de: 0.2140193**, el cual es un poco menor que el obtenido con estos mismos hyper'parámetros pero con dos features.  \n",
    "\n",
    "Tanto cuando se utilizaron dos features, como cuando se usaron tres el error aún sigue disminuyendo si aumentamos las iteraciones, sin embargo es muy poco lo que baja, esto se puede eobservar en ambos casos después de la iteración 60000.  \n",
    "\n",
    "En la imagen siguiente se seleccionaron los últimos tres experimentos, en los cuales vemos la disminución del error de usar dos y tres variables con los mismos hyper-párametros. Marcadas en rojo, con punto gris el modelo utilizando dos features y con punto rojo utilizando tres features\n",
    "<img src=\"./Imagenes/detalle_error.png\">"
   ]
  }
 ],
 "metadata": {
  "kernelspec": {
   "display_name": "Python 3",
   "language": "python",
   "name": "python3"
  },
  "language_info": {
   "codemirror_mode": {
    "name": "ipython",
    "version": 3
   },
   "file_extension": ".py",
   "mimetype": "text/x-python",
   "name": "python",
   "nbconvert_exporter": "python",
   "pygments_lexer": "ipython3",
   "version": "3.7.7"
  }
 },
 "nbformat": 4,
 "nbformat_minor": 4
}
