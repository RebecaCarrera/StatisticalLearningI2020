{
 "cells": [
  {
   "cell_type": "markdown",
   "metadata": {},
   "source": [
    "# Proyecto Statistical Learning I\n",
    "##### Autor: Lilian Rebeca Carrera Lemus\n"
   ]
  },
  {
   "cell_type": "code",
   "execution_count": 1,
   "metadata": {},
   "outputs": [],
   "source": [
    "#Quitar comentario para instalar la librería\n",
    "#pip install tensorboard_logger"
   ]
  },
  {
   "cell_type": "code",
   "execution_count": 2,
   "metadata": {},
   "outputs": [],
   "source": [
    "#Importar librerías a utilizar\n",
    "import pandas as pd\n",
    "import tensorflow as tf\n",
    "import numpy as np\n",
    "import matplotlib.pyplot as plt\n",
    "import seaborn as sns\n",
    "from sklearn.preprocessing import scale, normalize\n",
    "from sklearn.model_selection import train_test_split\n",
    "from sklearn import tree\n",
    "from tensorboard_logger import tensorboard_logger,configure, log_value\n",
    "from sklearn.metrics import classification_report \n",
    "from sklearn.metrics import accuracy_score\n",
    "from sklearn.metrics import precision_score\n",
    "from sklearn.metrics import recall_score\n",
    "from sklearn.metrics import f1_score\n",
    "from sklearn.tree import DecisionTreeClassifier\n",
    "from sklearn.utils import resample\n",
    "from sklearn.svm import SVC\n",
    "from sklearn.naive_bayes import GaussianNB\n",
    "from joblib import dump\n",
    "import datetime\n",
    "from scipy import stats\n",
    "%load_ext tensorboard"
   ]
  },
  {
   "cell_type": "code",
   "execution_count": 3,
   "metadata": {},
   "outputs": [
    {
     "name": "stdout",
     "output_type": "stream",
     "text": [
      "WARNING:tensorflow:From C:\\Users\\Rebeca\\Anaconda3\\lib\\site-packages\\tensorflow_core\\python\\compat\\v2_compat.py:88: disable_resource_variables (from tensorflow.python.ops.variable_scope) is deprecated and will be removed in a future version.\n",
      "Instructions for updating:\n",
      "non-resource variables are not supported in the long term\n",
      "Enabled compatitility to tf1.x\n"
     ]
    }
   ],
   "source": [
    "if tf.__version__.startswith(\"2.\"):\n",
    "    import tensorflow.compat.v1 as tf\n",
    "    tf.compat.v1.disable_v2_behavior()\n",
    "    tf.compat.v1.disable_eager_execution()\n",
    "    print(\"Enabled compatitility to tf1.x\")"
   ]
  },
  {
   "cell_type": "markdown",
   "metadata": {},
   "source": [
    "## 1.  Entrenamiento, Selección y Validación"
   ]
  },
  {
   "cell_type": "code",
   "execution_count": 4,
   "metadata": {},
   "outputs": [
    {
     "data": {
      "text/html": [
       "<div>\n",
       "<style scoped>\n",
       "    .dataframe tbody tr th:only-of-type {\n",
       "        vertical-align: middle;\n",
       "    }\n",
       "\n",
       "    .dataframe tbody tr th {\n",
       "        vertical-align: top;\n",
       "    }\n",
       "\n",
       "    .dataframe thead th {\n",
       "        text-align: right;\n",
       "    }\n",
       "</style>\n",
       "<table border=\"1\" class=\"dataframe\">\n",
       "  <thead>\n",
       "    <tr style=\"text-align: right;\">\n",
       "      <th></th>\n",
       "      <th>PassengerId</th>\n",
       "      <th>Name</th>\n",
       "      <th>Age</th>\n",
       "      <th>SibSp</th>\n",
       "      <th>Parch</th>\n",
       "      <th>Ticket</th>\n",
       "      <th>Fare</th>\n",
       "      <th>Cabin</th>\n",
       "      <th>Embarked</th>\n",
       "      <th>passenger_class</th>\n",
       "      <th>passenger_sex</th>\n",
       "      <th>passenger_survived</th>\n",
       "    </tr>\n",
       "  </thead>\n",
       "  <tbody>\n",
       "    <tr>\n",
       "      <th>0</th>\n",
       "      <td>1</td>\n",
       "      <td>Braund, Mr. Owen Harris</td>\n",
       "      <td>22.0</td>\n",
       "      <td>1</td>\n",
       "      <td>0</td>\n",
       "      <td>A/5 21171</td>\n",
       "      <td>7.2500</td>\n",
       "      <td>NaN</td>\n",
       "      <td>S</td>\n",
       "      <td>Lower</td>\n",
       "      <td>M</td>\n",
       "      <td>N</td>\n",
       "    </tr>\n",
       "    <tr>\n",
       "      <th>1</th>\n",
       "      <td>2</td>\n",
       "      <td>Cumings, Mrs. John Bradley (Florence Briggs Th...</td>\n",
       "      <td>38.0</td>\n",
       "      <td>1</td>\n",
       "      <td>0</td>\n",
       "      <td>PC 17599</td>\n",
       "      <td>71.2833</td>\n",
       "      <td>C85</td>\n",
       "      <td>C</td>\n",
       "      <td>Upper</td>\n",
       "      <td>F</td>\n",
       "      <td>Y</td>\n",
       "    </tr>\n",
       "    <tr>\n",
       "      <th>2</th>\n",
       "      <td>3</td>\n",
       "      <td>Heikkinen, Miss. Laina</td>\n",
       "      <td>26.0</td>\n",
       "      <td>0</td>\n",
       "      <td>0</td>\n",
       "      <td>STON/O2. 3101282</td>\n",
       "      <td>7.9250</td>\n",
       "      <td>NaN</td>\n",
       "      <td>S</td>\n",
       "      <td>Lower</td>\n",
       "      <td>F</td>\n",
       "      <td>Y</td>\n",
       "    </tr>\n",
       "    <tr>\n",
       "      <th>3</th>\n",
       "      <td>4</td>\n",
       "      <td>Futrelle, Mrs. Jacques Heath (Lily May Peel)</td>\n",
       "      <td>35.0</td>\n",
       "      <td>1</td>\n",
       "      <td>0</td>\n",
       "      <td>113803</td>\n",
       "      <td>53.1000</td>\n",
       "      <td>C123</td>\n",
       "      <td>S</td>\n",
       "      <td>Upper</td>\n",
       "      <td>F</td>\n",
       "      <td>Y</td>\n",
       "    </tr>\n",
       "    <tr>\n",
       "      <th>4</th>\n",
       "      <td>5</td>\n",
       "      <td>Allen, Mr. William Henry</td>\n",
       "      <td>35.0</td>\n",
       "      <td>0</td>\n",
       "      <td>0</td>\n",
       "      <td>373450</td>\n",
       "      <td>8.0500</td>\n",
       "      <td>NaN</td>\n",
       "      <td>S</td>\n",
       "      <td>Lower</td>\n",
       "      <td>M</td>\n",
       "      <td>N</td>\n",
       "    </tr>\n",
       "  </tbody>\n",
       "</table>\n",
       "</div>"
      ],
      "text/plain": [
       "   PassengerId                                               Name   Age  \\\n",
       "0            1                            Braund, Mr. Owen Harris  22.0   \n",
       "1            2  Cumings, Mrs. John Bradley (Florence Briggs Th...  38.0   \n",
       "2            3                             Heikkinen, Miss. Laina  26.0   \n",
       "3            4       Futrelle, Mrs. Jacques Heath (Lily May Peel)  35.0   \n",
       "4            5                           Allen, Mr. William Henry  35.0   \n",
       "\n",
       "   SibSp  Parch            Ticket     Fare Cabin Embarked passenger_class  \\\n",
       "0      1      0         A/5 21171   7.2500   NaN        S           Lower   \n",
       "1      1      0          PC 17599  71.2833   C85        C           Upper   \n",
       "2      0      0  STON/O2. 3101282   7.9250   NaN        S           Lower   \n",
       "3      1      0            113803  53.1000  C123        S           Upper   \n",
       "4      0      0            373450   8.0500   NaN        S           Lower   \n",
       "\n",
       "  passenger_sex passenger_survived  \n",
       "0             M                  N  \n",
       "1             F                  Y  \n",
       "2             F                  Y  \n",
       "3             F                  Y  \n",
       "4             M                  N  "
      ]
     },
     "execution_count": 4,
     "metadata": {},
     "output_type": "execute_result"
    }
   ],
   "source": [
    "df_data = pd.read_csv('data_titanic_proyecto.csv')\n",
    "df_data.head()"
   ]
  },
  {
   "cell_type": "markdown",
   "metadata": {
    "collapsed": true,
    "jupyter": {
     "outputs_hidden": true
    }
   },
   "source": [
    "**Descripción de variables:**  \n",
    "* ***PassengerId:*** identificador único del pasajero\n",
    "* ***Name:*** nombre del pasajero\n",
    "* ***Age:*** edad del pasajero\n",
    "* ***SibSp:*** número de hermanos(as) y hermanastros(as) en el barco\n",
    "* ***Parch:*** número de padres e hijos en el barco.\n",
    "* ***Ticket:*** identificador del boleto\n",
    "* ***Fare:*** precio pagado por el boleto\n",
    "* ***Cabin:*** identificador del camarote asignado al pasajero\n",
    "* ***Embarked:*** puerto en el que embarcó el pasajero (C= Cherbourg, Q= Queenstown, S= Southampton)\n",
    "* ***passenger_class:*** clase a la que pertenecía el pasajero\n",
    "* ***passenger_sex:*** sexo del pasajero, masculino(M) y femenino(F)\n",
    "* ***passenger_survived:*** indica si el pasajero sobrevivió al naufragio. Si (Y) o no sobrevivió (N)"
   ]
  },
  {
   "cell_type": "code",
   "execution_count": 5,
   "metadata": {},
   "outputs": [
    {
     "data": {
      "text/html": [
       "<div>\n",
       "<style scoped>\n",
       "    .dataframe tbody tr th:only-of-type {\n",
       "        vertical-align: middle;\n",
       "    }\n",
       "\n",
       "    .dataframe tbody tr th {\n",
       "        vertical-align: top;\n",
       "    }\n",
       "\n",
       "    .dataframe thead th {\n",
       "        text-align: right;\n",
       "    }\n",
       "</style>\n",
       "<table border=\"1\" class=\"dataframe\">\n",
       "  <thead>\n",
       "    <tr style=\"text-align: right;\">\n",
       "      <th></th>\n",
       "      <th>PassengerId</th>\n",
       "      <th>Name</th>\n",
       "      <th>Age</th>\n",
       "      <th>SibSp</th>\n",
       "      <th>Parch</th>\n",
       "      <th>Ticket</th>\n",
       "      <th>Fare</th>\n",
       "      <th>Cabin</th>\n",
       "      <th>Embarked</th>\n",
       "      <th>Pclass</th>\n",
       "      <th>Sex</th>\n",
       "      <th>Survived</th>\n",
       "    </tr>\n",
       "  </thead>\n",
       "  <tbody>\n",
       "    <tr>\n",
       "      <th>0</th>\n",
       "      <td>1</td>\n",
       "      <td>Braund, Mr. Owen Harris</td>\n",
       "      <td>22.0</td>\n",
       "      <td>1</td>\n",
       "      <td>0</td>\n",
       "      <td>A/5 21171</td>\n",
       "      <td>7.2500</td>\n",
       "      <td>NaN</td>\n",
       "      <td>S</td>\n",
       "      <td>Lower</td>\n",
       "      <td>M</td>\n",
       "      <td>N</td>\n",
       "    </tr>\n",
       "    <tr>\n",
       "      <th>1</th>\n",
       "      <td>2</td>\n",
       "      <td>Cumings, Mrs. John Bradley (Florence Briggs Th...</td>\n",
       "      <td>38.0</td>\n",
       "      <td>1</td>\n",
       "      <td>0</td>\n",
       "      <td>PC 17599</td>\n",
       "      <td>71.2833</td>\n",
       "      <td>C85</td>\n",
       "      <td>C</td>\n",
       "      <td>Upper</td>\n",
       "      <td>F</td>\n",
       "      <td>Y</td>\n",
       "    </tr>\n",
       "    <tr>\n",
       "      <th>2</th>\n",
       "      <td>3</td>\n",
       "      <td>Heikkinen, Miss. Laina</td>\n",
       "      <td>26.0</td>\n",
       "      <td>0</td>\n",
       "      <td>0</td>\n",
       "      <td>STON/O2. 3101282</td>\n",
       "      <td>7.9250</td>\n",
       "      <td>NaN</td>\n",
       "      <td>S</td>\n",
       "      <td>Lower</td>\n",
       "      <td>F</td>\n",
       "      <td>Y</td>\n",
       "    </tr>\n",
       "    <tr>\n",
       "      <th>3</th>\n",
       "      <td>4</td>\n",
       "      <td>Futrelle, Mrs. Jacques Heath (Lily May Peel)</td>\n",
       "      <td>35.0</td>\n",
       "      <td>1</td>\n",
       "      <td>0</td>\n",
       "      <td>113803</td>\n",
       "      <td>53.1000</td>\n",
       "      <td>C123</td>\n",
       "      <td>S</td>\n",
       "      <td>Upper</td>\n",
       "      <td>F</td>\n",
       "      <td>Y</td>\n",
       "    </tr>\n",
       "    <tr>\n",
       "      <th>4</th>\n",
       "      <td>5</td>\n",
       "      <td>Allen, Mr. William Henry</td>\n",
       "      <td>35.0</td>\n",
       "      <td>0</td>\n",
       "      <td>0</td>\n",
       "      <td>373450</td>\n",
       "      <td>8.0500</td>\n",
       "      <td>NaN</td>\n",
       "      <td>S</td>\n",
       "      <td>Lower</td>\n",
       "      <td>M</td>\n",
       "      <td>N</td>\n",
       "    </tr>\n",
       "  </tbody>\n",
       "</table>\n",
       "</div>"
      ],
      "text/plain": [
       "   PassengerId                                               Name   Age  \\\n",
       "0            1                            Braund, Mr. Owen Harris  22.0   \n",
       "1            2  Cumings, Mrs. John Bradley (Florence Briggs Th...  38.0   \n",
       "2            3                             Heikkinen, Miss. Laina  26.0   \n",
       "3            4       Futrelle, Mrs. Jacques Heath (Lily May Peel)  35.0   \n",
       "4            5                           Allen, Mr. William Henry  35.0   \n",
       "\n",
       "   SibSp  Parch            Ticket     Fare Cabin Embarked Pclass Sex Survived  \n",
       "0      1      0         A/5 21171   7.2500   NaN        S  Lower   M        N  \n",
       "1      1      0          PC 17599  71.2833   C85        C  Upper   F        Y  \n",
       "2      0      0  STON/O2. 3101282   7.9250   NaN        S  Lower   F        Y  \n",
       "3      1      0            113803  53.1000  C123        S  Upper   F        Y  \n",
       "4      0      0            373450   8.0500   NaN        S  Lower   M        N  "
      ]
     },
     "execution_count": 5,
     "metadata": {},
     "output_type": "execute_result"
    }
   ],
   "source": [
    "#Debido a que los nombres de las variables son muy grandes, cambiaremos algunas con nombres más cortos para que sea más fácil su mnipulación\n",
    "df_data = df_data.rename(columns={'passenger_class':'Pclass', 'passenger_sex':'Sex', 'passenger_survived':'Survived'})\n",
    "\n",
    "df_data.head()"
   ]
  },
  {
   "cell_type": "markdown",
   "metadata": {},
   "source": [
    "**Tipos de Características**\n",
    "* Características numéricas: \n",
    "    * Age (continua)\n",
    "    * Fare (continua)\n",
    "    * SibSp (discreta) \n",
    "    * Parch (discreta)\n",
    "* Características categóricas: \n",
    "    * Survived\n",
    "    * Sex \n",
    "    * Embarked\n",
    "    * Pclass\n",
    "* Características alfanuméricas: \n",
    "    * Ticket \n",
    "    * Cabin\n",
    "* Identificadores y nombres:\n",
    "    * PassengerId\n",
    "    * Name"
   ]
  },
  {
   "cell_type": "code",
   "execution_count": 6,
   "metadata": {},
   "outputs": [
    {
     "data": {
      "text/plain": [
       "(891, 12)"
      ]
     },
     "execution_count": 6,
     "metadata": {},
     "output_type": "execute_result"
    }
   ],
   "source": [
    "#contamos con 891 observaciones y 12 variables, 11 variables independientes y nuestra variable dependiente\n",
    "np.shape(df_data)"
   ]
  },
  {
   "cell_type": "code",
   "execution_count": 7,
   "metadata": {},
   "outputs": [
    {
     "name": "stdout",
     "output_type": "stream",
     "text": [
      "<class 'pandas.core.frame.DataFrame'>\n",
      "RangeIndex: 891 entries, 0 to 890\n",
      "Data columns (total 12 columns):\n",
      " #   Column       Non-Null Count  Dtype  \n",
      "---  ------       --------------  -----  \n",
      " 0   PassengerId  891 non-null    int64  \n",
      " 1   Name         891 non-null    object \n",
      " 2   Age          714 non-null    float64\n",
      " 3   SibSp        891 non-null    int64  \n",
      " 4   Parch        891 non-null    int64  \n",
      " 5   Ticket       891 non-null    object \n",
      " 6   Fare         891 non-null    float64\n",
      " 7   Cabin        204 non-null    object \n",
      " 8   Embarked     889 non-null    object \n",
      " 9   Pclass       891 non-null    object \n",
      " 10  Sex          891 non-null    object \n",
      " 11  Survived     891 non-null    object \n",
      "dtypes: float64(2), int64(3), object(7)\n",
      "memory usage: 83.7+ KB\n"
     ]
    }
   ],
   "source": [
    "#Información importante del dataset \n",
    "df_data.info()"
   ]
  },
  {
   "cell_type": "code",
   "execution_count": 8,
   "metadata": {},
   "outputs": [
    {
     "data": {
      "text/plain": [
       "PassengerId      0\n",
       "Name             0\n",
       "Age            177\n",
       "SibSp            0\n",
       "Parch            0\n",
       "Ticket           0\n",
       "Fare             0\n",
       "Cabin          687\n",
       "Embarked         2\n",
       "Pclass           0\n",
       "Sex              0\n",
       "Survived         0\n",
       "dtype: int64"
      ]
     },
     "execution_count": 8,
     "metadata": {},
     "output_type": "execute_result"
    }
   ],
   "source": [
    "#Verificamos los valores faltantes y nulos en los datos\n",
    "#Las variables de edad y número de cabina cuentan con valores nulos\n",
    "df_data.isnull().sum()"
   ]
  },
  {
   "cell_type": "code",
   "execution_count": 9,
   "metadata": {},
   "outputs": [
    {
     "data": {
      "text/html": [
       "<div>\n",
       "<style scoped>\n",
       "    .dataframe tbody tr th:only-of-type {\n",
       "        vertical-align: middle;\n",
       "    }\n",
       "\n",
       "    .dataframe tbody tr th {\n",
       "        vertical-align: top;\n",
       "    }\n",
       "\n",
       "    .dataframe thead th {\n",
       "        text-align: right;\n",
       "    }\n",
       "</style>\n",
       "<table border=\"1\" class=\"dataframe\">\n",
       "  <thead>\n",
       "    <tr style=\"text-align: right;\">\n",
       "      <th></th>\n",
       "      <th>PassengerId</th>\n",
       "      <th>Age</th>\n",
       "      <th>SibSp</th>\n",
       "      <th>Parch</th>\n",
       "      <th>Fare</th>\n",
       "    </tr>\n",
       "  </thead>\n",
       "  <tbody>\n",
       "    <tr>\n",
       "      <th>count</th>\n",
       "      <td>891.000000</td>\n",
       "      <td>714.000000</td>\n",
       "      <td>891.000000</td>\n",
       "      <td>891.000000</td>\n",
       "      <td>891.000000</td>\n",
       "    </tr>\n",
       "    <tr>\n",
       "      <th>mean</th>\n",
       "      <td>446.000000</td>\n",
       "      <td>29.699118</td>\n",
       "      <td>0.523008</td>\n",
       "      <td>0.381594</td>\n",
       "      <td>32.204208</td>\n",
       "    </tr>\n",
       "    <tr>\n",
       "      <th>std</th>\n",
       "      <td>257.353842</td>\n",
       "      <td>14.526497</td>\n",
       "      <td>1.102743</td>\n",
       "      <td>0.806057</td>\n",
       "      <td>49.693429</td>\n",
       "    </tr>\n",
       "    <tr>\n",
       "      <th>min</th>\n",
       "      <td>1.000000</td>\n",
       "      <td>0.420000</td>\n",
       "      <td>0.000000</td>\n",
       "      <td>0.000000</td>\n",
       "      <td>0.000000</td>\n",
       "    </tr>\n",
       "    <tr>\n",
       "      <th>25%</th>\n",
       "      <td>223.500000</td>\n",
       "      <td>20.125000</td>\n",
       "      <td>0.000000</td>\n",
       "      <td>0.000000</td>\n",
       "      <td>7.910400</td>\n",
       "    </tr>\n",
       "    <tr>\n",
       "      <th>50%</th>\n",
       "      <td>446.000000</td>\n",
       "      <td>28.000000</td>\n",
       "      <td>0.000000</td>\n",
       "      <td>0.000000</td>\n",
       "      <td>14.454200</td>\n",
       "    </tr>\n",
       "    <tr>\n",
       "      <th>75%</th>\n",
       "      <td>668.500000</td>\n",
       "      <td>38.000000</td>\n",
       "      <td>1.000000</td>\n",
       "      <td>0.000000</td>\n",
       "      <td>31.000000</td>\n",
       "    </tr>\n",
       "    <tr>\n",
       "      <th>max</th>\n",
       "      <td>891.000000</td>\n",
       "      <td>80.000000</td>\n",
       "      <td>8.000000</td>\n",
       "      <td>6.000000</td>\n",
       "      <td>512.329200</td>\n",
       "    </tr>\n",
       "  </tbody>\n",
       "</table>\n",
       "</div>"
      ],
      "text/plain": [
       "       PassengerId         Age       SibSp       Parch        Fare\n",
       "count   891.000000  714.000000  891.000000  891.000000  891.000000\n",
       "mean    446.000000   29.699118    0.523008    0.381594   32.204208\n",
       "std     257.353842   14.526497    1.102743    0.806057   49.693429\n",
       "min       1.000000    0.420000    0.000000    0.000000    0.000000\n",
       "25%     223.500000   20.125000    0.000000    0.000000    7.910400\n",
       "50%     446.000000   28.000000    0.000000    0.000000   14.454200\n",
       "75%     668.500000   38.000000    1.000000    0.000000   31.000000\n",
       "max     891.000000   80.000000    8.000000    6.000000  512.329200"
      ]
     },
     "execution_count": 9,
     "metadata": {},
     "output_type": "execute_result"
    }
   ],
   "source": [
    "#Estadísticos importantes sobre las variables númericas\n",
    "df_data.describe()"
   ]
  },
  {
   "cell_type": "code",
   "execution_count": 10,
   "metadata": {},
   "outputs": [
    {
     "data": {
      "text/html": [
       "<div>\n",
       "<style scoped>\n",
       "    .dataframe tbody tr th:only-of-type {\n",
       "        vertical-align: middle;\n",
       "    }\n",
       "\n",
       "    .dataframe tbody tr th {\n",
       "        vertical-align: top;\n",
       "    }\n",
       "\n",
       "    .dataframe thead th {\n",
       "        text-align: right;\n",
       "    }\n",
       "</style>\n",
       "<table border=\"1\" class=\"dataframe\">\n",
       "  <thead>\n",
       "    <tr style=\"text-align: right;\">\n",
       "      <th></th>\n",
       "      <th>PassengerId</th>\n",
       "      <th>Name</th>\n",
       "      <th>Age</th>\n",
       "      <th>SibSp</th>\n",
       "      <th>Parch</th>\n",
       "      <th>Ticket</th>\n",
       "      <th>Fare</th>\n",
       "      <th>Cabin</th>\n",
       "      <th>Embarked</th>\n",
       "      <th>Pclass</th>\n",
       "      <th>Sex</th>\n",
       "      <th>Survived</th>\n",
       "    </tr>\n",
       "  </thead>\n",
       "  <tbody>\n",
       "    <tr>\n",
       "      <th>count</th>\n",
       "      <td>891.000000</td>\n",
       "      <td>891</td>\n",
       "      <td>714.000000</td>\n",
       "      <td>891.000000</td>\n",
       "      <td>891.000000</td>\n",
       "      <td>891</td>\n",
       "      <td>891.000000</td>\n",
       "      <td>204</td>\n",
       "      <td>889</td>\n",
       "      <td>891</td>\n",
       "      <td>891</td>\n",
       "      <td>891</td>\n",
       "    </tr>\n",
       "    <tr>\n",
       "      <th>unique</th>\n",
       "      <td>NaN</td>\n",
       "      <td>891</td>\n",
       "      <td>NaN</td>\n",
       "      <td>NaN</td>\n",
       "      <td>NaN</td>\n",
       "      <td>681</td>\n",
       "      <td>NaN</td>\n",
       "      <td>147</td>\n",
       "      <td>3</td>\n",
       "      <td>3</td>\n",
       "      <td>2</td>\n",
       "      <td>2</td>\n",
       "    </tr>\n",
       "    <tr>\n",
       "      <th>top</th>\n",
       "      <td>NaN</td>\n",
       "      <td>Leinonen, Mr. Antti Gustaf</td>\n",
       "      <td>NaN</td>\n",
       "      <td>NaN</td>\n",
       "      <td>NaN</td>\n",
       "      <td>347082</td>\n",
       "      <td>NaN</td>\n",
       "      <td>B96 B98</td>\n",
       "      <td>S</td>\n",
       "      <td>Lower</td>\n",
       "      <td>M</td>\n",
       "      <td>N</td>\n",
       "    </tr>\n",
       "    <tr>\n",
       "      <th>freq</th>\n",
       "      <td>NaN</td>\n",
       "      <td>1</td>\n",
       "      <td>NaN</td>\n",
       "      <td>NaN</td>\n",
       "      <td>NaN</td>\n",
       "      <td>7</td>\n",
       "      <td>NaN</td>\n",
       "      <td>4</td>\n",
       "      <td>644</td>\n",
       "      <td>491</td>\n",
       "      <td>577</td>\n",
       "      <td>549</td>\n",
       "    </tr>\n",
       "    <tr>\n",
       "      <th>mean</th>\n",
       "      <td>446.000000</td>\n",
       "      <td>NaN</td>\n",
       "      <td>29.699118</td>\n",
       "      <td>0.523008</td>\n",
       "      <td>0.381594</td>\n",
       "      <td>NaN</td>\n",
       "      <td>32.204208</td>\n",
       "      <td>NaN</td>\n",
       "      <td>NaN</td>\n",
       "      <td>NaN</td>\n",
       "      <td>NaN</td>\n",
       "      <td>NaN</td>\n",
       "    </tr>\n",
       "    <tr>\n",
       "      <th>std</th>\n",
       "      <td>257.353842</td>\n",
       "      <td>NaN</td>\n",
       "      <td>14.526497</td>\n",
       "      <td>1.102743</td>\n",
       "      <td>0.806057</td>\n",
       "      <td>NaN</td>\n",
       "      <td>49.693429</td>\n",
       "      <td>NaN</td>\n",
       "      <td>NaN</td>\n",
       "      <td>NaN</td>\n",
       "      <td>NaN</td>\n",
       "      <td>NaN</td>\n",
       "    </tr>\n",
       "    <tr>\n",
       "      <th>min</th>\n",
       "      <td>1.000000</td>\n",
       "      <td>NaN</td>\n",
       "      <td>0.420000</td>\n",
       "      <td>0.000000</td>\n",
       "      <td>0.000000</td>\n",
       "      <td>NaN</td>\n",
       "      <td>0.000000</td>\n",
       "      <td>NaN</td>\n",
       "      <td>NaN</td>\n",
       "      <td>NaN</td>\n",
       "      <td>NaN</td>\n",
       "      <td>NaN</td>\n",
       "    </tr>\n",
       "    <tr>\n",
       "      <th>25%</th>\n",
       "      <td>223.500000</td>\n",
       "      <td>NaN</td>\n",
       "      <td>20.125000</td>\n",
       "      <td>0.000000</td>\n",
       "      <td>0.000000</td>\n",
       "      <td>NaN</td>\n",
       "      <td>7.910400</td>\n",
       "      <td>NaN</td>\n",
       "      <td>NaN</td>\n",
       "      <td>NaN</td>\n",
       "      <td>NaN</td>\n",
       "      <td>NaN</td>\n",
       "    </tr>\n",
       "    <tr>\n",
       "      <th>50%</th>\n",
       "      <td>446.000000</td>\n",
       "      <td>NaN</td>\n",
       "      <td>28.000000</td>\n",
       "      <td>0.000000</td>\n",
       "      <td>0.000000</td>\n",
       "      <td>NaN</td>\n",
       "      <td>14.454200</td>\n",
       "      <td>NaN</td>\n",
       "      <td>NaN</td>\n",
       "      <td>NaN</td>\n",
       "      <td>NaN</td>\n",
       "      <td>NaN</td>\n",
       "    </tr>\n",
       "    <tr>\n",
       "      <th>75%</th>\n",
       "      <td>668.500000</td>\n",
       "      <td>NaN</td>\n",
       "      <td>38.000000</td>\n",
       "      <td>1.000000</td>\n",
       "      <td>0.000000</td>\n",
       "      <td>NaN</td>\n",
       "      <td>31.000000</td>\n",
       "      <td>NaN</td>\n",
       "      <td>NaN</td>\n",
       "      <td>NaN</td>\n",
       "      <td>NaN</td>\n",
       "      <td>NaN</td>\n",
       "    </tr>\n",
       "    <tr>\n",
       "      <th>max</th>\n",
       "      <td>891.000000</td>\n",
       "      <td>NaN</td>\n",
       "      <td>80.000000</td>\n",
       "      <td>8.000000</td>\n",
       "      <td>6.000000</td>\n",
       "      <td>NaN</td>\n",
       "      <td>512.329200</td>\n",
       "      <td>NaN</td>\n",
       "      <td>NaN</td>\n",
       "      <td>NaN</td>\n",
       "      <td>NaN</td>\n",
       "      <td>NaN</td>\n",
       "    </tr>\n",
       "  </tbody>\n",
       "</table>\n",
       "</div>"
      ],
      "text/plain": [
       "        PassengerId                        Name         Age       SibSp  \\\n",
       "count    891.000000                         891  714.000000  891.000000   \n",
       "unique          NaN                         891         NaN         NaN   \n",
       "top             NaN  Leinonen, Mr. Antti Gustaf         NaN         NaN   \n",
       "freq            NaN                           1         NaN         NaN   \n",
       "mean     446.000000                         NaN   29.699118    0.523008   \n",
       "std      257.353842                         NaN   14.526497    1.102743   \n",
       "min        1.000000                         NaN    0.420000    0.000000   \n",
       "25%      223.500000                         NaN   20.125000    0.000000   \n",
       "50%      446.000000                         NaN   28.000000    0.000000   \n",
       "75%      668.500000                         NaN   38.000000    1.000000   \n",
       "max      891.000000                         NaN   80.000000    8.000000   \n",
       "\n",
       "             Parch  Ticket        Fare    Cabin Embarked Pclass  Sex Survived  \n",
       "count   891.000000     891  891.000000      204      889    891  891      891  \n",
       "unique         NaN     681         NaN      147        3      3    2        2  \n",
       "top            NaN  347082         NaN  B96 B98        S  Lower    M        N  \n",
       "freq           NaN       7         NaN        4      644    491  577      549  \n",
       "mean      0.381594     NaN   32.204208      NaN      NaN    NaN  NaN      NaN  \n",
       "std       0.806057     NaN   49.693429      NaN      NaN    NaN  NaN      NaN  \n",
       "min       0.000000     NaN    0.000000      NaN      NaN    NaN  NaN      NaN  \n",
       "25%       0.000000     NaN    7.910400      NaN      NaN    NaN  NaN      NaN  \n",
       "50%       0.000000     NaN   14.454200      NaN      NaN    NaN  NaN      NaN  \n",
       "75%       0.000000     NaN   31.000000      NaN      NaN    NaN  NaN      NaN  \n",
       "max       6.000000     NaN  512.329200      NaN      NaN    NaN  NaN      NaN  "
      ]
     },
     "execution_count": 10,
     "metadata": {},
     "output_type": "execute_result"
    }
   ],
   "source": [
    "#Verificamos también alguna información disponible de las variables categoricas\n",
    "df_data.describe(include = \"all\")"
   ]
  },
  {
   "cell_type": "markdown",
   "metadata": {},
   "source": [
    "De acuerdo al análisis realizado hasta el momento podemos observar:  \n",
    "\n",
    "* Hay un total de 891 pasajeros el el dataset proporcionado.\n",
    "* La característica de edad tiene valores faltantes, sin embargo es una variable importante y que influye en la supervivencia de un pasajero, por lo cual tenemos que completar los campos faltantes.\n",
    "* A la variable cabina le faltan mucho más de la mitad de los valores, por lo cual sería difícil completar los valores faltantes, por lo cual eliminaremos esta variable de nuestro conjunto de datos.\n",
    "* A la variable de embarque le faltan solo dos valores, lo cual es muy poco y serán llenados con la clase que más se repite.\n",
    "* Las característica Ticket puede eliminarse de nuestro análisis ya que contiene una alta proporción de duplicados y puede que no haya una correlación entre Ticket y la supervivencia.\n",
    "* La característica PassengerId puede ser eliminada del conjunto de datos ya que no contribuye a la supervivencia.\n",
    "* La característica de nombre es relativamente no estándar, puede no contribuir directamente a la supervivencia, sin embargo transformandola podríamos obtener información importante."
   ]
  },
  {
   "cell_type": "code",
   "execution_count": 11,
   "metadata": {},
   "outputs": [],
   "source": [
    "#Eliminamos las características que no son necesarias, de acuerdo al análisis previo\n",
    "df_data.drop(['PassengerId'], axis=1,inplace=True )\n",
    "df_data.drop(['Cabin'], axis=1,inplace=True )\n",
    "df_data.drop(['Ticket'], axis=1,inplace=True )"
   ]
  },
  {
   "cell_type": "code",
   "execution_count": 12,
   "metadata": {},
   "outputs": [],
   "source": [
    "#Completamos los valores faltantes en el conjunto de datos\n",
    "\n",
    "#completamos la edad con la mediana \n",
    "df_data['Age'].fillna(df_data['Age'].median(), inplace = True)\n",
    "\n",
    "#Completamos el embarque con la moda, ya que esta es una variable categórica \n",
    "df_data['Embarked'].fillna(df_data['Embarked'].mode()[0], inplace = True)"
   ]
  },
  {
   "cell_type": "markdown",
   "metadata": {},
   "source": [
    "Para proceder con el análisis cuantitativo de datos, se procederá a convertir la variable obejtivo a valor númerico"
   ]
  },
  {
   "cell_type": "code",
   "execution_count": 13,
   "metadata": {},
   "outputs": [
    {
     "data": {
      "text/html": [
       "<div>\n",
       "<style scoped>\n",
       "    .dataframe tbody tr th:only-of-type {\n",
       "        vertical-align: middle;\n",
       "    }\n",
       "\n",
       "    .dataframe tbody tr th {\n",
       "        vertical-align: top;\n",
       "    }\n",
       "\n",
       "    .dataframe thead th {\n",
       "        text-align: right;\n",
       "    }\n",
       "</style>\n",
       "<table border=\"1\" class=\"dataframe\">\n",
       "  <thead>\n",
       "    <tr style=\"text-align: right;\">\n",
       "      <th></th>\n",
       "      <th>Name</th>\n",
       "      <th>Age</th>\n",
       "      <th>SibSp</th>\n",
       "      <th>Parch</th>\n",
       "      <th>Fare</th>\n",
       "      <th>Embarked</th>\n",
       "      <th>Pclass</th>\n",
       "      <th>Sex</th>\n",
       "      <th>Survived</th>\n",
       "    </tr>\n",
       "  </thead>\n",
       "  <tbody>\n",
       "    <tr>\n",
       "      <th>0</th>\n",
       "      <td>Braund, Mr. Owen Harris</td>\n",
       "      <td>22.0</td>\n",
       "      <td>1</td>\n",
       "      <td>0</td>\n",
       "      <td>7.2500</td>\n",
       "      <td>S</td>\n",
       "      <td>Lower</td>\n",
       "      <td>M</td>\n",
       "      <td>0</td>\n",
       "    </tr>\n",
       "    <tr>\n",
       "      <th>1</th>\n",
       "      <td>Cumings, Mrs. John Bradley (Florence Briggs Th...</td>\n",
       "      <td>38.0</td>\n",
       "      <td>1</td>\n",
       "      <td>0</td>\n",
       "      <td>71.2833</td>\n",
       "      <td>C</td>\n",
       "      <td>Upper</td>\n",
       "      <td>F</td>\n",
       "      <td>1</td>\n",
       "    </tr>\n",
       "    <tr>\n",
       "      <th>2</th>\n",
       "      <td>Heikkinen, Miss. Laina</td>\n",
       "      <td>26.0</td>\n",
       "      <td>0</td>\n",
       "      <td>0</td>\n",
       "      <td>7.9250</td>\n",
       "      <td>S</td>\n",
       "      <td>Lower</td>\n",
       "      <td>F</td>\n",
       "      <td>1</td>\n",
       "    </tr>\n",
       "    <tr>\n",
       "      <th>3</th>\n",
       "      <td>Futrelle, Mrs. Jacques Heath (Lily May Peel)</td>\n",
       "      <td>35.0</td>\n",
       "      <td>1</td>\n",
       "      <td>0</td>\n",
       "      <td>53.1000</td>\n",
       "      <td>S</td>\n",
       "      <td>Upper</td>\n",
       "      <td>F</td>\n",
       "      <td>1</td>\n",
       "    </tr>\n",
       "    <tr>\n",
       "      <th>4</th>\n",
       "      <td>Allen, Mr. William Henry</td>\n",
       "      <td>35.0</td>\n",
       "      <td>0</td>\n",
       "      <td>0</td>\n",
       "      <td>8.0500</td>\n",
       "      <td>S</td>\n",
       "      <td>Lower</td>\n",
       "      <td>M</td>\n",
       "      <td>0</td>\n",
       "    </tr>\n",
       "  </tbody>\n",
       "</table>\n",
       "</div>"
      ],
      "text/plain": [
       "                                                Name   Age  SibSp  Parch  \\\n",
       "0                            Braund, Mr. Owen Harris  22.0      1      0   \n",
       "1  Cumings, Mrs. John Bradley (Florence Briggs Th...  38.0      1      0   \n",
       "2                             Heikkinen, Miss. Laina  26.0      0      0   \n",
       "3       Futrelle, Mrs. Jacques Heath (Lily May Peel)  35.0      1      0   \n",
       "4                           Allen, Mr. William Henry  35.0      0      0   \n",
       "\n",
       "      Fare Embarked Pclass Sex  Survived  \n",
       "0   7.2500        S  Lower   M         0  \n",
       "1  71.2833        C  Upper   F         1  \n",
       "2   7.9250        S  Lower   F         1  \n",
       "3  53.1000        S  Upper   F         1  \n",
       "4   8.0500        S  Lower   M         0  "
      ]
     },
     "execution_count": 13,
     "metadata": {},
     "output_type": "execute_result"
    }
   ],
   "source": [
    "df_data['Survived'].replace(to_replace=['Y','N'], value=[1,0],inplace=True)\n",
    "\n",
    "df_data.head()"
   ]
  },
  {
   "cell_type": "markdown",
   "metadata": {},
   "source": [
    "Verificaremos cada columna del conjunto de datos, para verficar si las que elegimos si son necesarios o no, de acuerdo a como aportan en la cantidad de personas que sobrevivieron o no."
   ]
  },
  {
   "cell_type": "code",
   "execution_count": 14,
   "metadata": {},
   "outputs": [
    {
     "name": "stdout",
     "output_type": "stream",
     "text": [
      "Porcentaje de personas que Sobrevivieron al naufragio 38.38\n",
      "Porcentaje de personas que No sobrevivieron al naufragio 61.62\n"
     ]
    }
   ],
   "source": [
    "print('Porcentaje de personas que Sobrevivieron al naufragio', round(df_data.Survived.sum()/df_data.Survived.count()*100, 2))\n",
    "print('Porcentaje de personas que No sobrevivieron al naufragio', round([df_data[\"Survived\"] == 0][0].sum()/df_data.Survived.count()*100, 2))"
   ]
  },
  {
   "cell_type": "code",
   "execution_count": 15,
   "metadata": {},
   "outputs": [
    {
     "data": {
      "image/png": "[encoded data removed]",
      "text/plain": [
       "<Figure size 432x288 with 1 Axes>"
      ]
     },
     "metadata": {
      "needs_background": "light"
     },
     "output_type": "display_data"
    }
   ],
   "source": [
    "#Cuantas personas sobrevivieron y cuantas no\n",
    "#Se puede observar que la mayoría de personas no sobrevivió al naufragio\n",
    "sns.countplot(x='Survived', data=df_data);"
   ]
  },
  {
   "cell_type": "markdown",
   "metadata": {},
   "source": [
    "**Variables Categóricas**"
   ]
  },
  {
   "cell_type": "code",
   "execution_count": 16,
   "metadata": {},
   "outputs": [
    {
     "name": "stdout",
     "output_type": "stream",
     "text": [
      "Sex\n",
      "F    74.20\n",
      "M    18.89\n",
      "Name: Survived, dtype: float64\n"
     ]
    },
    {
     "data": {
      "text/plain": [
       "<matplotlib.axes._subplots.AxesSubplot at 0x2a15cc8c708>"
      ]
     },
     "execution_count": 16,
     "metadata": {},
     "output_type": "execute_result"
    },
    {
     "data": {
      "image/png": "[encoded data removed]",
      "text/plain": [
       "<Figure size 432x288 with 1 Axes>"
      ]
     },
     "metadata": {
      "needs_background": "light"
     },
     "output_type": "display_data"
    }
   ],
   "source": [
    "#Empezamos con el Sexo del pasajero\n",
    "#podemos observar que de acuerdo al lema de mujeres y niños primero, efectivamente, sobrevivieron más mujeres que hombres\n",
    "print(round(df_data.groupby(['Sex'])['Survived'].mean()*100,2))\n",
    "sns.barplot(x=\"Sex\", y=\"Survived\", data=df_data)"
   ]
  },
  {
   "cell_type": "code",
   "execution_count": 17,
   "metadata": {},
   "outputs": [
    {
     "name": "stdout",
     "output_type": "stream",
     "text": [
      "Porcentaje sobrevivientes de la clase <pandas.core.groupby.generic.DataFrameGroupBy object at 0x000002A15CD05C08> Pclass\n",
      "Lower     24.24\n",
      "Middle    47.28\n",
      "Upper     62.96\n",
      "Name: Survived, dtype: float64\n"
     ]
    },
    {
     "data": {
      "text/plain": [
       "<matplotlib.axes._subplots.AxesSubplot at 0x2a15cd0e288>"
      ]
     },
     "execution_count": 17,
     "metadata": {},
     "output_type": "execute_result"
    },
    {
     "data": {
      "image/png": "[encoded data removed]",
      "text/plain": [
       "<Figure size 432x288 with 1 Axes>"
      ]
     },
     "metadata": {
      "needs_background": "light"
     },
     "output_type": "display_data"
    }
   ],
   "source": [
    "#para Pclass\n",
    "#podemos observar que sobrevivieron más personas de la case alta y clase media\n",
    "print('Porcentaje sobrevivientes de la clase', df_data.groupby(['Pclass']), round(df_data.groupby(['Pclass'])['Survived'].mean()*100,2))\n",
    "sns.barplot(x=\"Pclass\", y=\"Survived\", data=df_data)"
   ]
  },
  {
   "cell_type": "code",
   "execution_count": 18,
   "metadata": {},
   "outputs": [
    {
     "name": "stdout",
     "output_type": "stream",
     "text": [
      "Embarked\n",
      "C    55.36\n",
      "Q    38.96\n",
      "S    33.90\n",
      "Name: Survived, dtype: float64\n"
     ]
    },
    {
     "data": {
      "text/plain": [
       "<matplotlib.axes._subplots.AxesSubplot at 0x2a15cd60888>"
      ]
     },
     "execution_count": 18,
     "metadata": {},
     "output_type": "execute_result"
    },
    {
     "data": {
      "image/png": "[encoded data removed]",
      "text/plain": [
       "<Figure size 432x288 with 1 Axes>"
      ]
     },
     "metadata": {
      "needs_background": "light"
     },
     "output_type": "display_data"
    }
   ],
   "source": [
    "#Para el puerto en el que embarcó el pasajero\n",
    "#Sobrebvivieron más pasajeros que embarcaron en Cherbourg\n",
    "print(round(df_data.groupby(['Embarked'])['Survived'].mean()*100,2))\n",
    "sns.barplot(x=\"Embarked\", y=\"Survived\", data=df_data)"
   ]
  },
  {
   "cell_type": "markdown",
   "metadata": {},
   "source": [
    "**Variables Númericas**"
   ]
  },
  {
   "cell_type": "code",
   "execution_count": 19,
   "metadata": {},
   "outputs": [
    {
     "data": {
      "image/png": "[encoded data removed]",
      "text/plain": [
       "<Figure size 432x288 with 2 Axes>"
      ]
     },
     "metadata": {
      "needs_background": "light"
     },
     "output_type": "display_data"
    }
   ],
   "source": [
    "#Matriz de correlación entre las variables númericas (SibSp, Parch, Age, y Fare) y la variable objetivo Surivived\n",
    "Mcorrelacion = sns.heatmap(df_data[[\"Survived\",\"SibSp\",\"Parch\",\"Age\",\"Fare\"]].corr(),annot=True, fmt = \".2f\", cmap = \"coolwarm\")"
   ]
  },
  {
   "cell_type": "markdown",
   "metadata": {},
   "source": [
    "Solo la variable de Fare parece tener una correlación significativa con la probabilidad de supervivencia, sin embargo, esto no significa que las otras características no sean útiles. Las subpoblaciones en estas características se pueden correlacionar con la supervivencia. Para determinar esto, vamos a explorar más a detalle estas características"
   ]
  },
  {
   "cell_type": "code",
   "execution_count": 20,
   "metadata": {},
   "outputs": [
    {
     "data": {
      "image/png": "[encoded data removed]",
      "text/plain": [
       "<Figure size 432x432 with 1 Axes>"
      ]
     },
     "metadata": {
      "needs_background": "light"
     },
     "output_type": "display_data"
    }
   ],
   "source": [
    "# Para la característica SibSp vs Survived\n",
    "g = sns.catplot(x=\"SibSp\", y=\"Survived\", data=df_data, kind=\"bar\", height = 6, palette = \"muted\")\n",
    "g.despine(left=True)\n",
    "g = g.set_ylabels(\"probabilidad de supervivencia\")"
   ]
  },
  {
   "cell_type": "markdown",
   "metadata": {},
   "source": [
    "De acuerdo con la gráfica, parece que los pasajeros que tienen varios hermanos/cónyuge tienen menos posibilidades de sobrevivir, así mismo, los pasajeros que viajaban solos (SibSP = 0) o con otras dos personas (SibSP 1 o 2) tienen más posibilidades de sobrevivir.  \n",
    "Tomando en cuenta esta información podemos considerar una nueva característica que describa estas categorías"
   ]
  },
  {
   "cell_type": "code",
   "execution_count": 21,
   "metadata": {},
   "outputs": [
    {
     "data": {
      "image/png": "[encoded data removed]",
      "text/plain": [
       "<Figure size 432x432 with 1 Axes>"
      ]
     },
     "metadata": {
      "needs_background": "light"
     },
     "output_type": "display_data"
    }
   ],
   "source": [
    "#Para Parch vs Survived\n",
    "g  = sns.catplot(x=\"Parch\", y=\"Survived\", data=df_data, kind=\"bar\", height = 6 , palette = \"muted\")\n",
    "g.despine(left=True)\n",
    "g = g.set_ylabels(\"Probabiidad de Supervivencia\")"
   ]
  },
  {
   "cell_type": "markdown",
   "metadata": {},
   "source": [
    "Las familias pequeñas tienen más posibilidades de sobrevivir, más que los que viajan sin padres e hijos (Parch=0), familias medianas (Parch 3,4) y familias grandes (Parch 5,6). También se puede observar que hay una desviación estándar importante en la supervivencia de los pasajeros con Parch=3."
   ]
  },
  {
   "cell_type": "code",
   "execution_count": 22,
   "metadata": {},
   "outputs": [
    {
     "data": {
      "text/plain": [
       "<matplotlib.axes._subplots.AxesSubplot at 0x2a15dfca988>"
      ]
     },
     "execution_count": 22,
     "metadata": {},
     "output_type": "execute_result"
    },
    {
     "data": {
      "image/png": "[encoded data removed]",
      "text/plain": [
       "<Figure size 432x288 with 1 Axes>"
      ]
     },
     "metadata": {
      "needs_background": "light"
     },
     "output_type": "display_data"
    }
   ],
   "source": [
    "#Distribución para la edad\n",
    "sns.distplot(df_data['Age'][df_data['Survived']==0]) \n",
    "sns.distplot(df_data['Age'][df_data['Survived']==1], color = 'orange')"
   ]
  },
  {
   "cell_type": "code",
   "execution_count": 23,
   "metadata": {},
   "outputs": [
    {
     "data": {
      "image/png": "[encoded data removed]",
      "text/plain": [
       "<Figure size 432x216 with 2 Axes>"
      ]
     },
     "metadata": {
      "needs_background": "light"
     },
     "output_type": "display_data"
    }
   ],
   "source": [
    "g = sns.FacetGrid(df_data, col='Survived')\n",
    "g = g.map(sns.distplot, \"Age\")"
   ]
  },
  {
   "cell_type": "markdown",
   "metadata": {},
   "source": [
    "La distribución por edad parece ser una distribución gaussiana.\n",
    "Asi, mismo, podemos notar que las distribuciones de edad no son las mismas para survived=0(No sobrevivientes) y survived=1(Sobrevivientes). Hay un pico correspondiente a los pasajeros jóvenes que han sobrevivido. También vemos que los pasajeros entre 60 y 80 han sobrevivido menos.  \n",
    "También podemos ver que hay categorías de edad de pasajeros que tienen más o menos posibilidades de sobrevivir. Pareciera que los pasajeros muy jóvenes tienen más posibilidades de sobrevivir.  \n",
    "\n",
    "Cuando superponemos las dos densidades, vemos claramente un procentaje mayor de sobrevivencia (entre 0 y 5) para bebés y niños muy pequeños."
   ]
  },
  {
   "cell_type": "code",
   "execution_count": 24,
   "metadata": {},
   "outputs": [
    {
     "data": {
      "text/plain": [
       "<matplotlib.axes._subplots.AxesSubplot at 0x2a15e0d3648>"
      ]
     },
     "execution_count": 24,
     "metadata": {},
     "output_type": "execute_result"
    },
    {
     "data": {
      "image/png": "[encoded data removed]",
      "text/plain": [
       "<Figure size 432x288 with 1 Axes>"
      ]
     },
     "metadata": {
      "needs_background": "light"
     },
     "output_type": "display_data"
    }
   ],
   "source": [
    "sns.distplot(df_data['Fare'][df_data['Survived']==0])\n",
    "sns.distplot(df_data['Fare'][df_data['Survived']==1], color='Orange')"
   ]
  },
  {
   "cell_type": "markdown",
   "metadata": {},
   "source": [
    "Para las características de SibSp y Parch, vamos a agregar estas dos columnas a una nueva variable llamada Family, ya que por si solas estás variables no aportan mucho a nuestro modelo.\n",
    "\n",
    "\n",
    "Podemos imaginar que las familias numerosas tendrán más dificultades para evacuar, buscando a sus hermanas, hermanos, padres durante la evacuación. Entonces, se creará una variable \"Fsize\" (tamaño de familia) que es la suma de SibSp, Parch y 1 (incluido el pasajero)"
   ]
  },
  {
   "cell_type": "code",
   "execution_count": 25,
   "metadata": {},
   "outputs": [
    {
     "data": {
      "text/plain": [
       "1     537\n",
       "2     161\n",
       "3     102\n",
       "4      29\n",
       "6      22\n",
       "5      15\n",
       "7      12\n",
       "11      7\n",
       "8       6\n",
       "Name: Fsize, dtype: int64"
      ]
     },
     "execution_count": 25,
     "metadata": {},
     "output_type": "execute_result"
    }
   ],
   "source": [
    "df_data['Fsize']=df_data['SibSp'] + df_data['Parch'] + 1\n",
    "\n",
    "df_data['Fsize'].value_counts()"
   ]
  },
  {
   "cell_type": "code",
   "execution_count": 26,
   "metadata": {},
   "outputs": [
    {
     "name": "stdout",
     "output_type": "stream",
     "text": [
      "Fsize\n",
      "1     30.35\n",
      "2     55.28\n",
      "3     57.84\n",
      "4     72.41\n",
      "5     20.00\n",
      "6     13.64\n",
      "7     33.33\n",
      "8      0.00\n",
      "11     0.00\n",
      "Name: Survived, dtype: float64\n"
     ]
    }
   ],
   "source": [
    "print(round(df_data.groupby(['Fsize'])['Survived'].mean()*100,2))"
   ]
  },
  {
   "cell_type": "markdown",
   "metadata": {},
   "source": [
    "El tamaño de la familia parece jugar un papel importante, la probabilidad de supervivencia es peor para las familias numerosas, por lo cual se crearán 4 categorías de tamaño de familia."
   ]
  },
  {
   "cell_type": "code",
   "execution_count": 27,
   "metadata": {},
   "outputs": [
    {
     "data": {
      "text/html": [
       "<div>\n",
       "<style scoped>\n",
       "    .dataframe tbody tr th:only-of-type {\n",
       "        vertical-align: middle;\n",
       "    }\n",
       "\n",
       "    .dataframe tbody tr th {\n",
       "        vertical-align: top;\n",
       "    }\n",
       "\n",
       "    .dataframe thead th {\n",
       "        text-align: right;\n",
       "    }\n",
       "</style>\n",
       "<table border=\"1\" class=\"dataframe\">\n",
       "  <thead>\n",
       "    <tr style=\"text-align: right;\">\n",
       "      <th></th>\n",
       "      <th>Name</th>\n",
       "      <th>Age</th>\n",
       "      <th>SibSp</th>\n",
       "      <th>Parch</th>\n",
       "      <th>Fare</th>\n",
       "      <th>Embarked</th>\n",
       "      <th>Pclass</th>\n",
       "      <th>Sex</th>\n",
       "      <th>Survived</th>\n",
       "      <th>Fsize</th>\n",
       "      <th>Single</th>\n",
       "      <th>SmallF</th>\n",
       "      <th>MedF</th>\n",
       "      <th>LargeF</th>\n",
       "    </tr>\n",
       "  </thead>\n",
       "  <tbody>\n",
       "    <tr>\n",
       "      <th>0</th>\n",
       "      <td>Braund, Mr. Owen Harris</td>\n",
       "      <td>22.0</td>\n",
       "      <td>1</td>\n",
       "      <td>0</td>\n",
       "      <td>7.2500</td>\n",
       "      <td>S</td>\n",
       "      <td>Lower</td>\n",
       "      <td>M</td>\n",
       "      <td>0</td>\n",
       "      <td>2</td>\n",
       "      <td>0</td>\n",
       "      <td>1</td>\n",
       "      <td>0</td>\n",
       "      <td>0</td>\n",
       "    </tr>\n",
       "    <tr>\n",
       "      <th>1</th>\n",
       "      <td>Cumings, Mrs. John Bradley (Florence Briggs Th...</td>\n",
       "      <td>38.0</td>\n",
       "      <td>1</td>\n",
       "      <td>0</td>\n",
       "      <td>71.2833</td>\n",
       "      <td>C</td>\n",
       "      <td>Upper</td>\n",
       "      <td>F</td>\n",
       "      <td>1</td>\n",
       "      <td>2</td>\n",
       "      <td>0</td>\n",
       "      <td>1</td>\n",
       "      <td>0</td>\n",
       "      <td>0</td>\n",
       "    </tr>\n",
       "    <tr>\n",
       "      <th>2</th>\n",
       "      <td>Heikkinen, Miss. Laina</td>\n",
       "      <td>26.0</td>\n",
       "      <td>0</td>\n",
       "      <td>0</td>\n",
       "      <td>7.9250</td>\n",
       "      <td>S</td>\n",
       "      <td>Lower</td>\n",
       "      <td>F</td>\n",
       "      <td>1</td>\n",
       "      <td>1</td>\n",
       "      <td>1</td>\n",
       "      <td>0</td>\n",
       "      <td>0</td>\n",
       "      <td>0</td>\n",
       "    </tr>\n",
       "    <tr>\n",
       "      <th>3</th>\n",
       "      <td>Futrelle, Mrs. Jacques Heath (Lily May Peel)</td>\n",
       "      <td>35.0</td>\n",
       "      <td>1</td>\n",
       "      <td>0</td>\n",
       "      <td>53.1000</td>\n",
       "      <td>S</td>\n",
       "      <td>Upper</td>\n",
       "      <td>F</td>\n",
       "      <td>1</td>\n",
       "      <td>2</td>\n",
       "      <td>0</td>\n",
       "      <td>1</td>\n",
       "      <td>0</td>\n",
       "      <td>0</td>\n",
       "    </tr>\n",
       "    <tr>\n",
       "      <th>4</th>\n",
       "      <td>Allen, Mr. William Henry</td>\n",
       "      <td>35.0</td>\n",
       "      <td>0</td>\n",
       "      <td>0</td>\n",
       "      <td>8.0500</td>\n",
       "      <td>S</td>\n",
       "      <td>Lower</td>\n",
       "      <td>M</td>\n",
       "      <td>0</td>\n",
       "      <td>1</td>\n",
       "      <td>1</td>\n",
       "      <td>0</td>\n",
       "      <td>0</td>\n",
       "      <td>0</td>\n",
       "    </tr>\n",
       "  </tbody>\n",
       "</table>\n",
       "</div>"
      ],
      "text/plain": [
       "                                                Name   Age  SibSp  Parch  \\\n",
       "0                            Braund, Mr. Owen Harris  22.0      1      0   \n",
       "1  Cumings, Mrs. John Bradley (Florence Briggs Th...  38.0      1      0   \n",
       "2                             Heikkinen, Miss. Laina  26.0      0      0   \n",
       "3       Futrelle, Mrs. Jacques Heath (Lily May Peel)  35.0      1      0   \n",
       "4                           Allen, Mr. William Henry  35.0      0      0   \n",
       "\n",
       "      Fare Embarked Pclass Sex  Survived  Fsize  Single  SmallF  MedF  LargeF  \n",
       "0   7.2500        S  Lower   M         0      2       0       1     0       0  \n",
       "1  71.2833        C  Upper   F         1      2       0       1     0       0  \n",
       "2   7.9250        S  Lower   F         1      1       1       0     0       0  \n",
       "3  53.1000        S  Upper   F         1      2       0       1     0       0  \n",
       "4   8.0500        S  Lower   M         0      1       1       0     0       0  "
      ]
     },
     "execution_count": 27,
     "metadata": {},
     "output_type": "execute_result"
    }
   ],
   "source": [
    "df_data['Single'] = df_data['Fsize'].map(lambda s: 1 if s == 1 else 0)\n",
    "df_data['SmallF'] = df_data['Fsize'].map(lambda s: 1 if  s == 2  else 0)\n",
    "df_data['MedF'] = df_data['Fsize'].map(lambda s: 1 if 3 <= s <= 4 else 0)\n",
    "df_data['LargeF'] = df_data['Fsize'].map(lambda s: 1 if s >= 5 else 0)\n",
    "df_data.head()"
   ]
  },
  {
   "cell_type": "code",
   "execution_count": 28,
   "metadata": {},
   "outputs": [
    {
     "data": {
      "image/png": "[encoded data removed]",
      "text/plain": [
       "<Figure size 360x360 with 1 Axes>"
      ]
     },
     "metadata": {
      "needs_background": "light"
     },
     "output_type": "display_data"
    },
    {
     "data": {
      "image/png": "[encoded data removed]",
      "text/plain": [
       "<Figure size 360x360 with 1 Axes>"
      ]
     },
     "metadata": {
      "needs_background": "light"
     },
     "output_type": "display_data"
    },
    {
     "data": {
      "image/png": "[encoded data removed]",
      "text/plain": [
       "<Figure size 360x360 with 1 Axes>"
      ]
     },
     "metadata": {
      "needs_background": "light"
     },
     "output_type": "display_data"
    },
    {
     "data": {
      "image/png": "[encoded data removed]",
      "text/plain": [
       "<Figure size 360x360 with 1 Axes>"
      ]
     },
     "metadata": {
      "needs_background": "light"
     },
     "output_type": "display_data"
    }
   ],
   "source": [
    "gFS = sns.catplot(x=\"Single\",y=\"Survived\",data=df_data,kind=\"bar\")\n",
    "gFS = gFS.set_ylabels(\"Survival Probability\")\n",
    "gFS = sns.catplot(x=\"SmallF\",y=\"Survived\",data=df_data,kind=\"bar\")\n",
    "gFS = gFS.set_ylabels(\"Survival Probability\")\n",
    "gFS = sns.catplot(x=\"MedF\",y=\"Survived\",data=df_data,kind=\"bar\")\n",
    "gFS = gFS.set_ylabels(\"Survival Probability\")\n",
    "gFS = sns.catplot(x=\"LargeF\",y=\"Survived\",data=df_data,kind=\"bar\")\n",
    "gFS = gFS.set_ylabels(\"Survival Probability\")"
   ]
  },
  {
   "cell_type": "markdown",
   "metadata": {},
   "source": [
    "Las gráficas de las categorías de tamaño de familia muestran que las familias pequeñas y medianas tienen más posibilidades de sobrevivir que los pasajeros individuales y las familias numerosas."
   ]
  },
  {
   "cell_type": "code",
   "execution_count": 29,
   "metadata": {},
   "outputs": [],
   "source": [
    "# Convertimos la variable Sex en un valor categórico 0 para masculino y 1 para femenino\n",
    "df_data[\"Sex\"] = df_data[\"Sex\"].map({\"M\": 0, \"F\":1})"
   ]
  },
  {
   "cell_type": "code",
   "execution_count": 30,
   "metadata": {},
   "outputs": [],
   "source": [
    "#Realizamos one-hot encoding a la variable categorica de Embarked\n",
    "df_data = pd.get_dummies(df_data, columns = [\"Embarked\"], prefix=\"Em\")"
   ]
  },
  {
   "cell_type": "code",
   "execution_count": 31,
   "metadata": {},
   "outputs": [],
   "source": [
    "#Realizamos one-hot encoding a la variable categorica de Pclass\n",
    "#df_data[\"Pclass\"] = df_data[\"Pclass\"].astype(\"category\")\n",
    "df_data = pd.get_dummies(df_data, columns = [\"Pclass\"],prefix=\"Pc\")"
   ]
  },
  {
   "cell_type": "code",
   "execution_count": 32,
   "metadata": {},
   "outputs": [
    {
     "data": {
      "text/html": [
       "<div>\n",
       "<style scoped>\n",
       "    .dataframe tbody tr th:only-of-type {\n",
       "        vertical-align: middle;\n",
       "    }\n",
       "\n",
       "    .dataframe tbody tr th {\n",
       "        vertical-align: top;\n",
       "    }\n",
       "\n",
       "    .dataframe thead th {\n",
       "        text-align: right;\n",
       "    }\n",
       "</style>\n",
       "<table border=\"1\" class=\"dataframe\">\n",
       "  <thead>\n",
       "    <tr style=\"text-align: right;\">\n",
       "      <th></th>\n",
       "      <th>Name</th>\n",
       "      <th>Age</th>\n",
       "      <th>SibSp</th>\n",
       "      <th>Parch</th>\n",
       "      <th>Fare</th>\n",
       "      <th>Sex</th>\n",
       "      <th>Survived</th>\n",
       "      <th>Fsize</th>\n",
       "      <th>Single</th>\n",
       "      <th>SmallF</th>\n",
       "      <th>MedF</th>\n",
       "      <th>LargeF</th>\n",
       "      <th>Em_C</th>\n",
       "      <th>Em_Q</th>\n",
       "      <th>Em_S</th>\n",
       "      <th>Pc_Lower</th>\n",
       "      <th>Pc_Middle</th>\n",
       "      <th>Pc_Upper</th>\n",
       "    </tr>\n",
       "  </thead>\n",
       "  <tbody>\n",
       "    <tr>\n",
       "      <th>0</th>\n",
       "      <td>Braund, Mr. Owen Harris</td>\n",
       "      <td>22.0</td>\n",
       "      <td>1</td>\n",
       "      <td>0</td>\n",
       "      <td>7.2500</td>\n",
       "      <td>0</td>\n",
       "      <td>0</td>\n",
       "      <td>2</td>\n",
       "      <td>0</td>\n",
       "      <td>1</td>\n",
       "      <td>0</td>\n",
       "      <td>0</td>\n",
       "      <td>0</td>\n",
       "      <td>0</td>\n",
       "      <td>1</td>\n",
       "      <td>1</td>\n",
       "      <td>0</td>\n",
       "      <td>0</td>\n",
       "    </tr>\n",
       "    <tr>\n",
       "      <th>1</th>\n",
       "      <td>Cumings, Mrs. John Bradley (Florence Briggs Th...</td>\n",
       "      <td>38.0</td>\n",
       "      <td>1</td>\n",
       "      <td>0</td>\n",
       "      <td>71.2833</td>\n",
       "      <td>1</td>\n",
       "      <td>1</td>\n",
       "      <td>2</td>\n",
       "      <td>0</td>\n",
       "      <td>1</td>\n",
       "      <td>0</td>\n",
       "      <td>0</td>\n",
       "      <td>1</td>\n",
       "      <td>0</td>\n",
       "      <td>0</td>\n",
       "      <td>0</td>\n",
       "      <td>0</td>\n",
       "      <td>1</td>\n",
       "    </tr>\n",
       "    <tr>\n",
       "      <th>2</th>\n",
       "      <td>Heikkinen, Miss. Laina</td>\n",
       "      <td>26.0</td>\n",
       "      <td>0</td>\n",
       "      <td>0</td>\n",
       "      <td>7.9250</td>\n",
       "      <td>1</td>\n",
       "      <td>1</td>\n",
       "      <td>1</td>\n",
       "      <td>1</td>\n",
       "      <td>0</td>\n",
       "      <td>0</td>\n",
       "      <td>0</td>\n",
       "      <td>0</td>\n",
       "      <td>0</td>\n",
       "      <td>1</td>\n",
       "      <td>1</td>\n",
       "      <td>0</td>\n",
       "      <td>0</td>\n",
       "    </tr>\n",
       "    <tr>\n",
       "      <th>3</th>\n",
       "      <td>Futrelle, Mrs. Jacques Heath (Lily May Peel)</td>\n",
       "      <td>35.0</td>\n",
       "      <td>1</td>\n",
       "      <td>0</td>\n",
       "      <td>53.1000</td>\n",
       "      <td>1</td>\n",
       "      <td>1</td>\n",
       "      <td>2</td>\n",
       "      <td>0</td>\n",
       "      <td>1</td>\n",
       "      <td>0</td>\n",
       "      <td>0</td>\n",
       "      <td>0</td>\n",
       "      <td>0</td>\n",
       "      <td>1</td>\n",
       "      <td>0</td>\n",
       "      <td>0</td>\n",
       "      <td>1</td>\n",
       "    </tr>\n",
       "    <tr>\n",
       "      <th>4</th>\n",
       "      <td>Allen, Mr. William Henry</td>\n",
       "      <td>35.0</td>\n",
       "      <td>0</td>\n",
       "      <td>0</td>\n",
       "      <td>8.0500</td>\n",
       "      <td>0</td>\n",
       "      <td>0</td>\n",
       "      <td>1</td>\n",
       "      <td>1</td>\n",
       "      <td>0</td>\n",
       "      <td>0</td>\n",
       "      <td>0</td>\n",
       "      <td>0</td>\n",
       "      <td>0</td>\n",
       "      <td>1</td>\n",
       "      <td>1</td>\n",
       "      <td>0</td>\n",
       "      <td>0</td>\n",
       "    </tr>\n",
       "  </tbody>\n",
       "</table>\n",
       "</div>"
      ],
      "text/plain": [
       "                                                Name   Age  SibSp  Parch  \\\n",
       "0                            Braund, Mr. Owen Harris  22.0      1      0   \n",
       "1  Cumings, Mrs. John Bradley (Florence Briggs Th...  38.0      1      0   \n",
       "2                             Heikkinen, Miss. Laina  26.0      0      0   \n",
       "3       Futrelle, Mrs. Jacques Heath (Lily May Peel)  35.0      1      0   \n",
       "4                           Allen, Mr. William Henry  35.0      0      0   \n",
       "\n",
       "      Fare  Sex  Survived  Fsize  Single  SmallF  MedF  LargeF  Em_C  Em_Q  \\\n",
       "0   7.2500    0         0      2       0       1     0       0     0     0   \n",
       "1  71.2833    1         1      2       0       1     0       0     1     0   \n",
       "2   7.9250    1         1      1       1       0     0       0     0     0   \n",
       "3  53.1000    1         1      2       0       1     0       0     0     0   \n",
       "4   8.0500    0         0      1       1       0     0       0     0     0   \n",
       "\n",
       "   Em_S  Pc_Lower  Pc_Middle  Pc_Upper  \n",
       "0     1         1          0         0  \n",
       "1     0         0          0         1  \n",
       "2     1         1          0         0  \n",
       "3     1         0          0         1  \n",
       "4     1         1          0         0  "
      ]
     },
     "execution_count": 32,
     "metadata": {},
     "output_type": "execute_result"
    }
   ],
   "source": [
    "df_data.head()"
   ]
  },
  {
   "cell_type": "code",
   "execution_count": 33,
   "metadata": {},
   "outputs": [],
   "source": [
    "#Eliminamos las columnas que no son necesarias para el entrenamiento\n",
    "df_data.drop(['Name'], axis=1,inplace=True )"
   ]
  },
  {
   "cell_type": "code",
   "execution_count": 34,
   "metadata": {},
   "outputs": [],
   "source": [
    "# Normalizamos variables que no sean one hot encodings\n",
    "df_data[['Age', 'SibSp', 'Parch', 'Fare', 'Fsize']] = normalize(df_data[['Age', 'SibSp', 'Parch', 'Fare', 'Fsize']])\n",
    "df_data.drop(['SibSp', 'Parch', 'Fsize'], axis=1,inplace=True )"
   ]
  },
  {
   "cell_type": "code",
   "execution_count": 35,
   "metadata": {},
   "outputs": [
    {
     "data": {
      "text/html": [
       "<div>\n",
       "<style scoped>\n",
       "    .dataframe tbody tr th:only-of-type {\n",
       "        vertical-align: middle;\n",
       "    }\n",
       "\n",
       "    .dataframe tbody tr th {\n",
       "        vertical-align: top;\n",
       "    }\n",
       "\n",
       "    .dataframe thead th {\n",
       "        text-align: right;\n",
       "    }\n",
       "</style>\n",
       "<table border=\"1\" class=\"dataframe\">\n",
       "  <thead>\n",
       "    <tr style=\"text-align: right;\">\n",
       "      <th></th>\n",
       "      <th>Age</th>\n",
       "      <th>Fare</th>\n",
       "      <th>Sex</th>\n",
       "      <th>Survived</th>\n",
       "      <th>Single</th>\n",
       "      <th>SmallF</th>\n",
       "      <th>MedF</th>\n",
       "      <th>LargeF</th>\n",
       "      <th>Em_C</th>\n",
       "      <th>Em_Q</th>\n",
       "      <th>Em_S</th>\n",
       "      <th>Pc_Lower</th>\n",
       "      <th>Pc_Middle</th>\n",
       "      <th>Pc_Upper</th>\n",
       "    </tr>\n",
       "  </thead>\n",
       "  <tbody>\n",
       "    <tr>\n",
       "      <th>0</th>\n",
       "      <td>0.945363</td>\n",
       "      <td>0.311540</td>\n",
       "      <td>0</td>\n",
       "      <td>0</td>\n",
       "      <td>0</td>\n",
       "      <td>1</td>\n",
       "      <td>0</td>\n",
       "      <td>0</td>\n",
       "      <td>0</td>\n",
       "      <td>0</td>\n",
       "      <td>1</td>\n",
       "      <td>1</td>\n",
       "      <td>0</td>\n",
       "      <td>0</td>\n",
       "    </tr>\n",
       "    <tr>\n",
       "      <th>1</th>\n",
       "      <td>0.470237</td>\n",
       "      <td>0.882106</td>\n",
       "      <td>1</td>\n",
       "      <td>1</td>\n",
       "      <td>0</td>\n",
       "      <td>1</td>\n",
       "      <td>0</td>\n",
       "      <td>0</td>\n",
       "      <td>1</td>\n",
       "      <td>0</td>\n",
       "      <td>0</td>\n",
       "      <td>0</td>\n",
       "      <td>0</td>\n",
       "      <td>1</td>\n",
       "    </tr>\n",
       "    <tr>\n",
       "      <th>2</th>\n",
       "      <td>0.955905</td>\n",
       "      <td>0.291367</td>\n",
       "      <td>1</td>\n",
       "      <td>1</td>\n",
       "      <td>1</td>\n",
       "      <td>0</td>\n",
       "      <td>0</td>\n",
       "      <td>0</td>\n",
       "      <td>0</td>\n",
       "      <td>0</td>\n",
       "      <td>1</td>\n",
       "      <td>1</td>\n",
       "      <td>0</td>\n",
       "      <td>0</td>\n",
       "    </tr>\n",
       "    <tr>\n",
       "      <th>3</th>\n",
       "      <td>0.549998</td>\n",
       "      <td>0.834426</td>\n",
       "      <td>1</td>\n",
       "      <td>1</td>\n",
       "      <td>0</td>\n",
       "      <td>1</td>\n",
       "      <td>0</td>\n",
       "      <td>0</td>\n",
       "      <td>0</td>\n",
       "      <td>0</td>\n",
       "      <td>1</td>\n",
       "      <td>0</td>\n",
       "      <td>0</td>\n",
       "      <td>1</td>\n",
       "    </tr>\n",
       "    <tr>\n",
       "      <th>4</th>\n",
       "      <td>0.974178</td>\n",
       "      <td>0.224061</td>\n",
       "      <td>0</td>\n",
       "      <td>0</td>\n",
       "      <td>1</td>\n",
       "      <td>0</td>\n",
       "      <td>0</td>\n",
       "      <td>0</td>\n",
       "      <td>0</td>\n",
       "      <td>0</td>\n",
       "      <td>1</td>\n",
       "      <td>1</td>\n",
       "      <td>0</td>\n",
       "      <td>0</td>\n",
       "    </tr>\n",
       "  </tbody>\n",
       "</table>\n",
       "</div>"
      ],
      "text/plain": [
       "        Age      Fare  Sex  Survived  Single  SmallF  MedF  LargeF  Em_C  \\\n",
       "0  0.945363  0.311540    0         0       0       1     0       0     0   \n",
       "1  0.470237  0.882106    1         1       0       1     0       0     1   \n",
       "2  0.955905  0.291367    1         1       1       0     0       0     0   \n",
       "3  0.549998  0.834426    1         1       0       1     0       0     0   \n",
       "4  0.974178  0.224061    0         0       1       0     0       0     0   \n",
       "\n",
       "   Em_Q  Em_S  Pc_Lower  Pc_Middle  Pc_Upper  \n",
       "0     0     1         1          0         0  \n",
       "1     0     0         0          0         1  \n",
       "2     0     1         1          0         0  \n",
       "3     0     1         0          0         1  \n",
       "4     0     1         1          0         0  "
      ]
     },
     "execution_count": 35,
     "metadata": {},
     "output_type": "execute_result"
    }
   ],
   "source": [
    "df_data.head()"
   ]
  },
  {
   "cell_type": "markdown",
   "metadata": {},
   "source": [
    "**Train, val, test Split**"
   ]
  },
  {
   "cell_type": "code",
   "execution_count": 36,
   "metadata": {},
   "outputs": [
    {
     "name": "stdout",
     "output_type": "stream",
     "text": [
      "Longitud del data set completo:  891\n",
      "Longitud del data set de entrenamiento:  534\n",
      "Longitud del data set de pruebas:  357\n"
     ]
    }
   ],
   "source": [
    "#dividimos el data set en información de entrenamiento y pruebas primero\n",
    "df_train, df_test = train_test_split(df_data, test_size=0.40, random_state=42, shuffle=True)\n",
    "\n",
    "print('Longitud del data set completo: ',len(df_data))\n",
    "print('Longitud del data set de entrenamiento: ',len(df_train))\n",
    "print('Longitud del data set de pruebas: ',len(df_test))"
   ]
  },
  {
   "cell_type": "code",
   "execution_count": 37,
   "metadata": {},
   "outputs": [
    {
     "name": "stdout",
     "output_type": "stream",
     "text": [
      "Longitud del data set de pruebas:  178\n",
      "Longitud del data set de validación:  179\n"
     ]
    }
   ],
   "source": [
    "#Volvemos a dividir los datos para datos de pruebas y datos de validación\n",
    "df_test, df_val = train_test_split(df_test, test_size=0.50, random_state=42, shuffle=True)\n",
    "\n",
    "print('Longitud del data set de pruebas: ',len(df_test))\n",
    "print('Longitud del data set de validación: ',len(df_val))"
   ]
  },
  {
   "cell_type": "markdown",
   "metadata": {},
   "source": [
    "**Sampleo bootstrap**  \n",
    "Usando muestras de tamaño 400"
   ]
  },
  {
   "cell_type": "code",
   "execution_count": 38,
   "metadata": {},
   "outputs": [],
   "source": [
    "#Obtenemos un data frame para x con todas las variables independientes y una para Y con la variable a predecir\n",
    "cols_x = df_train.columns.tolist()\n",
    "cols_x.remove('Survived')\n",
    "#Datos Entrenamiento\n",
    "y_train = df_train['Survived']\n",
    "x_train = pd.DataFrame(data = df_train, columns = cols_x)\n",
    "\n",
    "#Datos Validación\n",
    "y_val = df_val['Survived']\n",
    "x_val = pd.DataFrame(data = df_val, columns = cols_x)\n",
    "\n",
    "#Datos pruebas\n",
    "y_test = df_test['Survived']\n",
    "x_test = pd.DataFrame(data = df_test, columns = cols_x)"
   ]
  },
  {
   "cell_type": "code",
   "execution_count": 39,
   "metadata": {},
   "outputs": [
    {
     "data": {
      "text/plain": [
       "['testdata.joblib']"
      ]
     },
     "execution_count": 39,
     "metadata": {},
     "output_type": "execute_result"
    }
   ],
   "source": [
    "dump(x_test, 'testdata.joblib')"
   ]
  },
  {
   "cell_type": "code",
   "execution_count": 40,
   "metadata": {},
   "outputs": [
    {
     "data": {
      "text/plain": [
       "['var_objetivo.joblib']"
      ]
     },
     "execution_count": 40,
     "metadata": {},
     "output_type": "execute_result"
    }
   ],
   "source": [
    "dump(y_test, 'var_objetivo.joblib')"
   ]
  },
  {
   "cell_type": "code",
   "execution_count": 41,
   "metadata": {},
   "outputs": [],
   "source": [
    "x_train_m1, y_train_m1 = resample(x_train, y_train, n_samples = 400)\n",
    "x_train_m2, y_train_m2 = resample(x_train, y_train, n_samples = 400)\n",
    "x_train_m3, y_train_m3 = resample(x_train, y_train, n_samples = 400)\n",
    "x_train_m4, y_train_m4 = resample(x_train, y_train, n_samples = 400)"
   ]
  },
  {
   "cell_type": "code",
   "execution_count": 42,
   "metadata": {},
   "outputs": [],
   "source": [
    "x_val_m1, y_val_m1 = resample(x_val, y_val, n_samples = 100)\n",
    "x_val_m2, y_val_m2 = resample(x_val, y_val, n_samples = 100)\n",
    "x_val_m3, y_val_m3 = resample(x_val, y_val, n_samples = 100)\n",
    "x_val_m4, y_val_m4 = resample(x_val, y_val, n_samples = 100)"
   ]
  },
  {
   "cell_type": "code",
   "execution_count": 43,
   "metadata": {},
   "outputs": [
    {
     "name": "stderr",
     "output_type": "stream",
     "text": [
      "C:\\Users\\Rebeca\\Anaconda3\\lib\\site-packages\\ipykernel_launcher.py:3: SettingWithCopyWarning: \n",
      "A value is trying to be set on a copy of a slice from a DataFrame.\n",
      "Try using .loc[row_indexer,col_indexer] = value instead\n",
      "\n",
      "See the caveats in the documentation: https://pandas.pydata.org/pandas-docs/stable/user_guide/indexing.html#returning-a-view-versus-a-copy\n",
      "  This is separate from the ipykernel package so we can avoid doing imports until\n",
      "C:\\Users\\Rebeca\\Anaconda3\\lib\\site-packages\\ipykernel_launcher.py:10: SettingWithCopyWarning: \n",
      "A value is trying to be set on a copy of a slice from a DataFrame.\n",
      "Try using .loc[row_indexer,col_indexer] = value instead\n",
      "\n",
      "See the caveats in the documentation: https://pandas.pydata.org/pandas-docs/stable/user_guide/indexing.html#returning-a-view-versus-a-copy\n",
      "  # Remove the CWD from sys.path while we load stuff.\n"
     ]
    },
    {
     "data": {
      "text/html": [
       "<div>\n",
       "<style scoped>\n",
       "    .dataframe tbody tr th:only-of-type {\n",
       "        vertical-align: middle;\n",
       "    }\n",
       "\n",
       "    .dataframe tbody tr th {\n",
       "        vertical-align: top;\n",
       "    }\n",
       "\n",
       "    .dataframe thead th {\n",
       "        text-align: right;\n",
       "    }\n",
       "</style>\n",
       "<table border=\"1\" class=\"dataframe\">\n",
       "  <thead>\n",
       "    <tr style=\"text-align: right;\">\n",
       "      <th></th>\n",
       "      <th>Bias</th>\n",
       "      <th>Age</th>\n",
       "      <th>Fare</th>\n",
       "      <th>Sex</th>\n",
       "      <th>Single</th>\n",
       "      <th>SmallF</th>\n",
       "      <th>MedF</th>\n",
       "      <th>LargeF</th>\n",
       "      <th>Em_C</th>\n",
       "      <th>Em_Q</th>\n",
       "      <th>Em_S</th>\n",
       "      <th>Pc_Lower</th>\n",
       "      <th>Pc_Middle</th>\n",
       "      <th>Pc_Upper</th>\n",
       "    </tr>\n",
       "  </thead>\n",
       "  <tbody>\n",
       "    <tr>\n",
       "      <th>849</th>\n",
       "      <td>1</td>\n",
       "      <td>0.299700</td>\n",
       "      <td>0.953733</td>\n",
       "      <td>1</td>\n",
       "      <td>0</td>\n",
       "      <td>1</td>\n",
       "      <td>0</td>\n",
       "      <td>0</td>\n",
       "      <td>1</td>\n",
       "      <td>0</td>\n",
       "      <td>0</td>\n",
       "      <td>0</td>\n",
       "      <td>0</td>\n",
       "      <td>1</td>\n",
       "    </tr>\n",
       "    <tr>\n",
       "      <th>331</th>\n",
       "      <td>1</td>\n",
       "      <td>0.847328</td>\n",
       "      <td>0.530744</td>\n",
       "      <td>0</td>\n",
       "      <td>1</td>\n",
       "      <td>0</td>\n",
       "      <td>0</td>\n",
       "      <td>0</td>\n",
       "      <td>0</td>\n",
       "      <td>0</td>\n",
       "      <td>1</td>\n",
       "      <td>0</td>\n",
       "      <td>0</td>\n",
       "      <td>1</td>\n",
       "    </tr>\n",
       "    <tr>\n",
       "      <th>260</th>\n",
       "      <td>1</td>\n",
       "      <td>0.963194</td>\n",
       "      <td>0.266598</td>\n",
       "      <td>0</td>\n",
       "      <td>1</td>\n",
       "      <td>0</td>\n",
       "      <td>0</td>\n",
       "      <td>0</td>\n",
       "      <td>0</td>\n",
       "      <td>1</td>\n",
       "      <td>0</td>\n",
       "      <td>1</td>\n",
       "      <td>0</td>\n",
       "      <td>0</td>\n",
       "    </tr>\n",
       "    <tr>\n",
       "      <th>316</th>\n",
       "      <td>1</td>\n",
       "      <td>0.676930</td>\n",
       "      <td>0.733341</td>\n",
       "      <td>1</td>\n",
       "      <td>0</td>\n",
       "      <td>1</td>\n",
       "      <td>0</td>\n",
       "      <td>0</td>\n",
       "      <td>0</td>\n",
       "      <td>0</td>\n",
       "      <td>1</td>\n",
       "      <td>0</td>\n",
       "      <td>1</td>\n",
       "      <td>0</td>\n",
       "    </tr>\n",
       "    <tr>\n",
       "      <th>292</th>\n",
       "      <td>1</td>\n",
       "      <td>0.941272</td>\n",
       "      <td>0.336635</td>\n",
       "      <td>0</td>\n",
       "      <td>1</td>\n",
       "      <td>0</td>\n",
       "      <td>0</td>\n",
       "      <td>0</td>\n",
       "      <td>1</td>\n",
       "      <td>0</td>\n",
       "      <td>0</td>\n",
       "      <td>0</td>\n",
       "      <td>1</td>\n",
       "      <td>0</td>\n",
       "    </tr>\n",
       "    <tr>\n",
       "      <th>...</th>\n",
       "      <td>...</td>\n",
       "      <td>...</td>\n",
       "      <td>...</td>\n",
       "      <td>...</td>\n",
       "      <td>...</td>\n",
       "      <td>...</td>\n",
       "      <td>...</td>\n",
       "      <td>...</td>\n",
       "      <td>...</td>\n",
       "      <td>...</td>\n",
       "      <td>...</td>\n",
       "      <td>...</td>\n",
       "      <td>...</td>\n",
       "      <td>...</td>\n",
       "    </tr>\n",
       "    <tr>\n",
       "      <th>311</th>\n",
       "      <td>1</td>\n",
       "      <td>0.068427</td>\n",
       "      <td>0.997417</td>\n",
       "      <td>1</td>\n",
       "      <td>0</td>\n",
       "      <td>0</td>\n",
       "      <td>0</td>\n",
       "      <td>1</td>\n",
       "      <td>1</td>\n",
       "      <td>0</td>\n",
       "      <td>0</td>\n",
       "      <td>0</td>\n",
       "      <td>0</td>\n",
       "      <td>1</td>\n",
       "    </tr>\n",
       "    <tr>\n",
       "      <th>670</th>\n",
       "      <td>1</td>\n",
       "      <td>0.714742</td>\n",
       "      <td>0.696873</td>\n",
       "      <td>1</td>\n",
       "      <td>0</td>\n",
       "      <td>0</td>\n",
       "      <td>1</td>\n",
       "      <td>0</td>\n",
       "      <td>0</td>\n",
       "      <td>0</td>\n",
       "      <td>1</td>\n",
       "      <td>0</td>\n",
       "      <td>1</td>\n",
       "      <td>0</td>\n",
       "    </tr>\n",
       "    <tr>\n",
       "      <th>172</th>\n",
       "      <td>1</td>\n",
       "      <td>0.085765</td>\n",
       "      <td>0.954847</td>\n",
       "      <td>1</td>\n",
       "      <td>0</td>\n",
       "      <td>0</td>\n",
       "      <td>1</td>\n",
       "      <td>0</td>\n",
       "      <td>0</td>\n",
       "      <td>0</td>\n",
       "      <td>1</td>\n",
       "      <td>1</td>\n",
       "      <td>0</td>\n",
       "      <td>0</td>\n",
       "    </tr>\n",
       "    <tr>\n",
       "      <th>587</th>\n",
       "      <td>1</td>\n",
       "      <td>0.603522</td>\n",
       "      <td>0.796648</td>\n",
       "      <td>0</td>\n",
       "      <td>0</td>\n",
       "      <td>0</td>\n",
       "      <td>1</td>\n",
       "      <td>0</td>\n",
       "      <td>1</td>\n",
       "      <td>0</td>\n",
       "      <td>0</td>\n",
       "      <td>0</td>\n",
       "      <td>0</td>\n",
       "      <td>1</td>\n",
       "    </tr>\n",
       "    <tr>\n",
       "      <th>291</th>\n",
       "      <td>1</td>\n",
       "      <td>0.204155</td>\n",
       "      <td>0.978644</td>\n",
       "      <td>1</td>\n",
       "      <td>0</td>\n",
       "      <td>1</td>\n",
       "      <td>0</td>\n",
       "      <td>0</td>\n",
       "      <td>1</td>\n",
       "      <td>0</td>\n",
       "      <td>0</td>\n",
       "      <td>0</td>\n",
       "      <td>0</td>\n",
       "      <td>1</td>\n",
       "    </tr>\n",
       "  </tbody>\n",
       "</table>\n",
       "<p>178 rows × 14 columns</p>\n",
       "</div>"
      ],
      "text/plain": [
       "     Bias       Age      Fare  Sex  Single  SmallF  MedF  LargeF  Em_C  Em_Q  \\\n",
       "849     1  0.299700  0.953733    1       0       1     0       0     1     0   \n",
       "331     1  0.847328  0.530744    0       1       0     0       0     0     0   \n",
       "260     1  0.963194  0.266598    0       1       0     0       0     0     1   \n",
       "316     1  0.676930  0.733341    1       0       1     0       0     0     0   \n",
       "292     1  0.941272  0.336635    0       1       0     0       0     1     0   \n",
       "..    ...       ...       ...  ...     ...     ...   ...     ...   ...   ...   \n",
       "311     1  0.068427  0.997417    1       0       0     0       1     1     0   \n",
       "670     1  0.714742  0.696873    1       0       0     1       0     0     0   \n",
       "172     1  0.085765  0.954847    1       0       0     1       0     0     0   \n",
       "587     1  0.603522  0.796648    0       0       0     1       0     1     0   \n",
       "291     1  0.204155  0.978644    1       0       1     0       0     1     0   \n",
       "\n",
       "     Em_S  Pc_Lower  Pc_Middle  Pc_Upper  \n",
       "849     0         0          0         1  \n",
       "331     1         0          0         1  \n",
       "260     0         1          0         0  \n",
       "316     1         0          1         0  \n",
       "292     0         0          1         0  \n",
       "..    ...       ...        ...       ...  \n",
       "311     0         0          0         1  \n",
       "670     1         0          1         0  \n",
       "172     1         1          0         0  \n",
       "587     0         0          0         1  \n",
       "291     0         0          0         1  \n",
       "\n",
       "[178 rows x 14 columns]"
      ]
     },
     "execution_count": 43,
     "metadata": {},
     "output_type": "execute_result"
    }
   ],
   "source": [
    "#Para la regresión \n",
    "#Entrenamiento\n",
    "x_train_m4['Bias']=1\n",
    "cols = x_train_m4.columns.tolist()\n",
    "cols = cols[-1:] + cols[:-1]\n",
    "x_train_m4 = pd.DataFrame(data = x_train_m4, columns = cols)\n",
    "x_train_m4\n",
    "\n",
    "#Validación\n",
    "x_val_m4['Bias']=1\n",
    "cols = x_val_m4.columns.tolist()\n",
    "cols = cols[-1:] + cols[:-1]\n",
    "x_val_m4 = pd.DataFrame(data = x_val_m4, columns = cols)\n",
    "x_val_m4\n",
    "\n",
    "#Pruebas\n",
    "x_test_reglog = x_test\n",
    "x_test_reglog['Bias']=1\n",
    "cols = x_test_reglog.columns.tolist()\n",
    "cols = cols[-1:] + cols[:-1]\n",
    "x_test_reglog = pd.DataFrame(data = x_test_reglog, columns = cols)\n",
    "x_test_reglog"
   ]
  },
  {
   "cell_type": "code",
   "execution_count": 44,
   "metadata": {},
   "outputs": [],
   "source": [
    "#Función para el cáclulo de las métricas de evaluación solicitadas\n",
    "def metricas_evaluacion(y_real, y_pred):\n",
    "    acurracy = accuracy_score(y_real, y_pred)\n",
    "    error = 1 - acurracy\n",
    "    precision = precision_score(y_real, y_pred)\n",
    "    recall = recall_score(y_real, y_pred)\n",
    "    f1 = f1_score(y_real, y_pred)\n",
    "    \n",
    "    return (acurracy, error, precision,recall,f1)"
   ]
  },
  {
   "cell_type": "markdown",
   "metadata": {},
   "source": [
    "### Modelo1: Árbol de decisión con sklearn"
   ]
  },
  {
   "cell_type": "code",
   "execution_count": 45,
   "metadata": {},
   "outputs": [],
   "source": [
    "#Definición de la función para entrenar nuestro modelo\n",
    "def entrenamiento_arbol(x_train, y_train, x_val, y_val,  max_depth = None, min_samples_split = 2, min_samples_leaf = 1):\n",
    "    # cadena para los datos del experimento\n",
    "    columnas = x_train.columns.tolist()\n",
    "    string = '/experimentos/'+\"arbol_\"+datetime.datetime.now().strftime(\"%Y%m%d-%H%M%S\")+\"_maxdepth=\" + str(max_depth) \\\n",
    "    + \"_minsamplesplit=\" + str(min_samples_split) + \"_minsampleleaf=\" + str(min_samples_leaf)\n",
    "    \n",
    "    dirlog = tensorboard_logger.Logger(string)\n",
    "    # Desicion trees\n",
    "    modelo_arbol = DecisionTreeClassifier(max_depth = max_depth, min_samples_split = min_samples_split, min_samples_leaf = min_samples_leaf)\n",
    "    modelo_arbol.fit(x_train, y_train)\n",
    "    \n",
    "    #Entrenamiento\n",
    "    y_pred_train = modelo_arbol.predict(x_train)\n",
    "    \n",
    "    acurracy_t, error_t, precision_t,recall_t,f1_t = metricas_evaluacion(y_train, y_pred_train)\n",
    "    #Escribir tensorflow  \n",
    "    dirlog.log_value('Acurracy_train', acurracy_t, 1)\n",
    "    dirlog.log_value('Error_train', error_t,1)\n",
    "    dirlog.log_value('Precision_train', precision_t, 1)\n",
    "    dirlog.log_value('Recall_train', recall_t, 1)\n",
    "    dirlog.log_value('F1_train', f1_t,1)\n",
    "    \n",
    "    metricas_dict_t = {'Modelo':'Arbol','Acurracy':acurracy_t, 'Error':error_t, 'Precision':precision_t, 'Recall':recall_t, 'F1':f1_t}\n",
    "    \n",
    "    #validación\n",
    "    y_pred_val = modelo_arbol.predict(x_val)\n",
    "    \n",
    "    acurracy_v, error_v, precision_v,recall_v,f1_v = metricas_evaluacion(y_val, y_pred_val)\n",
    "    #Escribir tensorflow  \n",
    "    dirlog.log_value('Acurracy_val', acurracy_v, 1)\n",
    "    dirlog.log_value('Error_val', error_v,1)\n",
    "    dirlog.log_value('Precision_val', precision_v, 1)\n",
    "    dirlog.log_value('Recall_val', recall_v, 1)\n",
    "    dirlog.log_value('F1_val', f1_v,1)\n",
    "    \n",
    "    metricas_dict_v = {'Modelo':'Arbol','Acurracy':acurracy_v, 'Error':error_v, 'Precision':precision_v, 'Recall':recall_v, 'F1':f1_v}\n",
    "    \n",
    "    print('Metrícas de Entrenamiento')\n",
    "    print(metricas_dict_t)\n",
    "    print('**************************')\n",
    "    print('Metrícas de Validación')\n",
    "    print(metricas_dict_v)\n",
    "    \n",
    "    return modelo_arbol\n",
    "   "
   ]
  },
  {
   "cell_type": "code",
   "execution_count": 46,
   "metadata": {},
   "outputs": [
    {
     "name": "stdout",
     "output_type": "stream",
     "text": [
      "Metrícas de Entrenamiento\n",
      "{'Modelo': 'Arbol', 'Acurracy': 0.9875, 'Error': 0.012499999999999956, 'Precision': 0.99375, 'Recall': 0.9754601226993865, 'F1': 0.9845201238390093}\n",
      "**************************\n",
      "Metrícas de Validación\n",
      "{'Modelo': 'Arbol', 'Acurracy': 0.79, 'Error': 0.20999999999999996, 'Precision': 0.7142857142857143, 'Recall': 0.6944444444444444, 'F1': 0.7042253521126761}\n"
     ]
    }
   ],
   "source": [
    "# Probamos la función de entrenamiento para árbol de decisión\n",
    "#Con los valores por defecto\n",
    "#Experimento 1\n",
    "modelo_arbol = entrenamiento_arbol(x_train_m1, y_train_m1, x_val_m1, y_val_m1)"
   ]
  },
  {
   "cell_type": "code",
   "execution_count": 47,
   "metadata": {},
   "outputs": [
    {
     "name": "stdout",
     "output_type": "stream",
     "text": [
      "Metrícas de Entrenamiento\n",
      "{'Modelo': 'Arbol', 'Acurracy': 0.8675, 'Error': 0.13249999999999995, 'Precision': 0.8985507246376812, 'Recall': 0.7607361963190185, 'F1': 0.8239202657807309}\n",
      "**************************\n",
      "Metrícas de Validación\n",
      "{'Modelo': 'Arbol', 'Acurracy': 0.83, 'Error': 0.17000000000000004, 'Precision': 0.7714285714285715, 'Recall': 0.75, 'F1': 0.7605633802816902}\n"
     ]
    }
   ],
   "source": [
    "#Experimento 2\n",
    "modelo_arbol = entrenamiento_arbol(x_train_m1, y_train_m1, x_val_m1, y_val_m1,max_depth = 5, min_samples_split = 2, min_samples_leaf = 1)"
   ]
  },
  {
   "cell_type": "code",
   "execution_count": 48,
   "metadata": {},
   "outputs": [
    {
     "name": "stdout",
     "output_type": "stream",
     "text": [
      "Metrícas de Entrenamiento\n",
      "{'Modelo': 'Arbol', 'Acurracy': 0.835, 'Error': 0.16500000000000004, 'Precision': 0.7975460122699386, 'Recall': 0.7975460122699386, 'F1': 0.7975460122699386}\n",
      "**************************\n",
      "Metrícas de Validación\n",
      "{'Modelo': 'Arbol', 'Acurracy': 0.85, 'Error': 0.15000000000000002, 'Precision': 0.7837837837837838, 'Recall': 0.8055555555555556, 'F1': 0.7945205479452055}\n"
     ]
    }
   ],
   "source": [
    "#Experimento 4\n",
    "modelo_arbol = entrenamiento_arbol(x_train_m1, y_train_m1, x_val_m1, y_val_m1,max_depth = None, min_samples_split = 3, min_samples_leaf = 15)"
   ]
  },
  {
   "cell_type": "code",
   "execution_count": 49,
   "metadata": {},
   "outputs": [
    {
     "name": "stdout",
     "output_type": "stream",
     "text": [
      "Metrícas de Entrenamiento\n",
      "{'Modelo': 'Arbol', 'Acurracy': 0.9475, 'Error': 0.05249999999999999, 'Precision': 0.9797297297297297, 'Recall': 0.8895705521472392, 'F1': 0.932475884244373}\n",
      "**************************\n",
      "Metrícas de Validación\n",
      "{'Modelo': 'Arbol', 'Acurracy': 0.8, 'Error': 0.19999999999999996, 'Precision': 0.7352941176470589, 'Recall': 0.6944444444444444, 'F1': 0.7142857142857144}\n"
     ]
    }
   ],
   "source": [
    "#Experimento 3\n",
    "modelo_arbol = entrenamiento_arbol(x_train_m1, y_train_m1, x_val_m1, y_val_m1,max_depth = 10, min_samples_split = 2, min_samples_leaf = 1)"
   ]
  },
  {
   "cell_type": "code",
   "execution_count": 50,
   "metadata": {},
   "outputs": [],
   "source": [
    "#Guardamos el árbol de decisión para su posterior uso\n",
    "tree.export_graphviz(modelo_arbol, \n",
    "                     out_file = \"modelos/modelo_arbol.dot\", \n",
    "                     feature_names = cols_x,\n",
    "                     filled=True, \n",
    "                     rounded=True,\n",
    "                     special_characters=True)"
   ]
  },
  {
   "cell_type": "code",
   "execution_count": 51,
   "metadata": {},
   "outputs": [],
   "source": [
    "from joblib import dump"
   ]
  },
  {
   "cell_type": "code",
   "execution_count": 52,
   "metadata": {},
   "outputs": [
    {
     "data": {
      "text/plain": [
       "['modelos/best_arbol(max_depth = None, min_samples_split = 3, min_samples_leaf = 15).joblib']"
      ]
     },
     "execution_count": 52,
     "metadata": {},
     "output_type": "execute_result"
    }
   ],
   "source": [
    "dump(modelo_arbol, \"modelos/best_arbol(max_depth = None, min_samples_split = 3, min_samples_leaf = 15).joblib\")"
   ]
  },
  {
   "cell_type": "markdown",
   "metadata": {},
   "source": [
    "### Modelo2: SVM con sklearn"
   ]
  },
  {
   "cell_type": "code",
   "execution_count": 53,
   "metadata": {},
   "outputs": [],
   "source": [
    "def entrenamiento_SVM(x_train, y_train, x_val, y_val, C = 1.0, kernel = 'rbf'):\n",
    "    # cadena para los datos del experimento\n",
    "    string = '/experimentos/'+\"svm_\"+datetime.datetime.now().strftime(\"%Y%m%d-%H%M%S\")+ \"_C=\" + str(C) + \"_kernel=\" + kernel\n",
    "    dirlog = tensorboard_logger.Logger(string)\n",
    "\n",
    "    #modelo_svm = svm.SVC(C=C, kernel=kernel)\n",
    "    modelo_svm = SVC(C=C, kernel=kernel)\n",
    "    modelo_svm.fit(x_train, y_train)\n",
    "    \n",
    "    y_pred_train = modelo_svm.predict(x_train)\n",
    "    \n",
    "    acurracy_t, error_t, precision_t,recall_t,f1_t = metricas_evaluacion(y_train, y_pred_train)\n",
    "    #Escribir tensorflow  \n",
    "    dirlog.log_value('Acurracy_train', acurracy_t, 2)\n",
    "    dirlog.log_value('Error_train', error_t,2)\n",
    "    dirlog.log_value('Precision_train', precision_t, 2)\n",
    "    dirlog.log_value('Recall_train', recall_t, 2)\n",
    "    dirlog.log_value('F1_train', f1_t,2)\n",
    "    \n",
    "    metricas_dict_t = {'Modelo':'SVM','Acurracy':acurracy_t, 'Error':error_t, 'Precision':precision_t, 'Recall':recall_t, 'F1':f1_t}\n",
    "    \n",
    "    #validación\n",
    "    y_pred_val = modelo_svm.predict(x_val)\n",
    "    \n",
    "    acurracy_v, error_v, precision_v,recall_v,f1_v = metricas_evaluacion(y_val, y_pred_val)\n",
    "    #Escribir tensorflow  \n",
    "    dirlog.log_value('Acurracy_val', acurracy_v, 1)\n",
    "    dirlog.log_value('Error_val', error_v,1)\n",
    "    dirlog.log_value('Precision_val', precision_v, 1)\n",
    "    dirlog.log_value('Recall_val', recall_v, 1)\n",
    "    dirlog.log_value('F1_val', f1_v,1)\n",
    "    \n",
    "    metricas_dict_v = {'Modelo':'SVM','Acurracy':acurracy_v, 'Error':error_v, 'Precision':precision_v, 'Recall':recall_v, 'F1':f1_v}\n",
    "    \n",
    "    print('Metrícas de Entrenamiento')\n",
    "    print(metricas_dict_t)\n",
    "    print('**************************')\n",
    "    print('Metrícas de Validación')\n",
    "    print(metricas_dict_v)\n",
    "    \n",
    "    \n",
    "    return modelo_svm"
   ]
  },
  {
   "cell_type": "code",
   "execution_count": 54,
   "metadata": {},
   "outputs": [
    {
     "name": "stdout",
     "output_type": "stream",
     "text": [
      "Metrícas de Entrenamiento\n",
      "{'Modelo': 'SVM', 'Acurracy': 0.8675, 'Error': 0.13249999999999995, 'Precision': 0.8780487804878049, 'Recall': 0.7397260273972602, 'F1': 0.8029739776951673}\n",
      "**************************\n",
      "Metrícas de Validación\n",
      "{'Modelo': 'SVM', 'Acurracy': 0.79, 'Error': 0.20999999999999996, 'Precision': 0.7878787878787878, 'Recall': 0.65, 'F1': 0.7123287671232875}\n"
     ]
    }
   ],
   "source": [
    "#llamamos a la función de entrenamiento para svm\n",
    "#Experimento 1 - Valores por default\n",
    "modelo_svm = entrenamiento_SVM(x_train_m2, y_train_m2, x_val_m2, y_val_m2)"
   ]
  },
  {
   "cell_type": "code",
   "execution_count": 55,
   "metadata": {},
   "outputs": [
    {
     "name": "stdout",
     "output_type": "stream",
     "text": [
      "Metrícas de Entrenamiento\n",
      "{'Modelo': 'SVM', 'Acurracy': 0.8175, 'Error': 0.1825, 'Precision': 0.7829457364341085, 'Recall': 0.6917808219178082, 'F1': 0.7345454545454545}\n",
      "**************************\n",
      "Metrícas de Validación\n",
      "{'Modelo': 'SVM', 'Acurracy': 0.85, 'Error': 0.15000000000000002, 'Precision': 0.8378378378378378, 'Recall': 0.775, 'F1': 0.8051948051948051}\n"
     ]
    }
   ],
   "source": [
    "#Experimento 2\n",
    "modelo_svm = entrenamiento_SVM(x_train_m2, y_train_m2, x_val_m2, y_val_m2, C = 1.0, kernel = 'linear')"
   ]
  },
  {
   "cell_type": "code",
   "execution_count": 56,
   "metadata": {},
   "outputs": [
    {
     "name": "stdout",
     "output_type": "stream",
     "text": [
      "Metrícas de Entrenamiento\n",
      "{'Modelo': 'SVM', 'Acurracy': 0.8725, 'Error': 0.12749999999999995, 'Precision': 0.8861788617886179, 'Recall': 0.7465753424657534, 'F1': 0.8104089219330854}\n",
      "**************************\n",
      "Metrícas de Validación\n",
      "{'Modelo': 'SVM', 'Acurracy': 0.79, 'Error': 0.20999999999999996, 'Precision': 0.7714285714285715, 'Recall': 0.675, 'F1': 0.72}\n"
     ]
    }
   ],
   "source": [
    "#Experimento 3\n",
    "modelo_svm = entrenamiento_SVM(x_train_m2, y_train_m2, x_val_m2, y_val_m2,C = 1.0, kernel = 'poly')"
   ]
  },
  {
   "cell_type": "code",
   "execution_count": 57,
   "metadata": {},
   "outputs": [
    {
     "name": "stdout",
     "output_type": "stream",
     "text": [
      "Metrícas de Entrenamiento\n",
      "{'Modelo': 'SVM', 'Acurracy': 0.8675, 'Error': 0.13249999999999995, 'Precision': 0.8780487804878049, 'Recall': 0.7397260273972602, 'F1': 0.8029739776951673}\n",
      "**************************\n",
      "Metrícas de Validación\n",
      "{'Modelo': 'SVM', 'Acurracy': 0.79, 'Error': 0.20999999999999996, 'Precision': 0.7878787878787878, 'Recall': 0.65, 'F1': 0.7123287671232875}\n"
     ]
    }
   ],
   "source": [
    "#Experimento 4\n",
    "modelo_svm = entrenamiento_SVM(x_train_m2, y_train_m2, x_val_m2, y_val_m2,C = 1, kernel = 'rbf')"
   ]
  },
  {
   "cell_type": "code",
   "execution_count": 58,
   "metadata": {},
   "outputs": [
    {
     "name": "stdout",
     "output_type": "stream",
     "text": [
      "Metrícas de Entrenamiento\n",
      "{'Modelo': 'SVM', 'Acurracy': 0.88, 'Error': 0.12, 'Precision': 0.8888888888888888, 'Recall': 0.7671232876712328, 'F1': 0.8235294117647058}\n",
      "**************************\n",
      "Metrícas de Validación\n",
      "{'Modelo': 'SVM', 'Acurracy': 0.79, 'Error': 0.20999999999999996, 'Precision': 0.7714285714285715, 'Recall': 0.675, 'F1': 0.72}\n"
     ]
    }
   ],
   "source": [
    "#Experimento 5\n",
    "modelo_svm = entrenamiento_SVM(x_train_m2, y_train_m2, x_val_m2, y_val_m2, C = 10.0, kernel = 'rbf')"
   ]
  },
  {
   "cell_type": "code",
   "execution_count": 59,
   "metadata": {},
   "outputs": [
    {
     "name": "stdout",
     "output_type": "stream",
     "text": [
      "Metrícas de Entrenamiento\n",
      "{'Modelo': 'SVM', 'Acurracy': 0.895, 'Error': 0.10499999999999998, 'Precision': 0.9126984126984127, 'Recall': 0.7876712328767124, 'F1': 0.8455882352941176}\n",
      "**************************\n",
      "Metrícas de Validación\n",
      "{'Modelo': 'SVM', 'Acurracy': 0.76, 'Error': 0.24, 'Precision': 0.7105263157894737, 'Recall': 0.675, 'F1': 0.6923076923076923}\n"
     ]
    }
   ],
   "source": [
    "#Experimento 6\n",
    "modelo_svm = entrenamiento_SVM(x_train_m2, y_train_m2, x_val_m2, y_val_m2,C = 100.0, kernel = 'rbf')"
   ]
  },
  {
   "cell_type": "code",
   "execution_count": 60,
   "metadata": {},
   "outputs": [
    {
     "data": {
      "text/plain": [
       "[\"modelos/best_svm(C = 100.0, kernel = 'rbf').joblib\"]"
      ]
     },
     "execution_count": 60,
     "metadata": {},
     "output_type": "execute_result"
    }
   ],
   "source": [
    "dump(modelo_svm, \"modelos/best_svm(C = 100.0, kernel = 'rbf').joblib\")"
   ]
  },
  {
   "cell_type": "markdown",
   "metadata": {},
   "source": [
    "### Modelo3: Naive bayes"
   ]
  },
  {
   "cell_type": "code",
   "execution_count": 61,
   "metadata": {},
   "outputs": [],
   "source": [
    "def entrenamiento_bayes(x_train, y_train, x_val, y_val, priors=None, var_smoothing=1e-09):\n",
    "    # cadena para los datos del experimento\n",
    "    #columnas = x_train.columns.tolist()\n",
    "    string = '/experimentos/'+\"bayes_\"+datetime.datetime.now().strftime(\"%Y%m%d-%H%M%S\")+\"_priors\"+str(priors)+\"_v_smoot\"+str(var_smoothing)\n",
    "    dirlog = tensorboard_logger.Logger(string)\n",
    "\n",
    "    modelo_bayes = GaussianNB()\n",
    "    modelo_bayes = modelo_bayes.fit(x_train, y_train)\n",
    "    \n",
    "    y_pred_train = modelo_bayes.predict(x_train)\n",
    "    \n",
    "    acurracy_t, error_t, precision_t,recall_t,f1_t = metricas_evaluacion(y_train, y_pred_train)\n",
    "    #Escribir tensorflow  \n",
    "    dirlog.log_value('Acurracy_train', acurracy_t, 1)\n",
    "    dirlog.log_value('Error_train', error_t,1)\n",
    "    dirlog.log_value('Precision_train', precision_t, 1)\n",
    "    dirlog.log_value('Recall_train', recall_t, 1)\n",
    "    dirlog.log_value('F1_train', f1_t,1)\n",
    "    \n",
    "    metricas_dict_t = {'Modelo':'NBayes','Acurracy':acurracy_t, 'Error':error_t, 'Precision':precision_t, 'Recall':recall_t, 'F1':f1_t}\n",
    "    \n",
    "    #validación\n",
    "    y_pred_val = modelo_bayes.predict(x_val)\n",
    "    \n",
    "    acurracy_v, error_v, precision_v,recall_v,f1_v = metricas_evaluacion(y_val, y_pred_val)\n",
    "    #Escribir tensorflow  \n",
    "    dirlog.log_value('Acurracy_val', acurracy_v, 1)\n",
    "    dirlog.log_value('Error_val', error_v,1)\n",
    "    dirlog.log_value('Precision_val', precision_v, 1)\n",
    "    dirlog.log_value('Recall_val', recall_v, 1)\n",
    "    dirlog.log_value('F1_val', f1_v,1)\n",
    "    \n",
    "    metricas_dict_v = {'Modelo':'NBayes','Acurracy':acurracy_v, 'Error':error_v, 'Precision':precision_v, 'Recall':recall_v, 'F1':f1_v}\n",
    "    \n",
    "    print('Metrícas de Entrenamiento')\n",
    "    print(metricas_dict_t)\n",
    "    print('**************************')\n",
    "    print('Metrícas de Validación')\n",
    "    print(metricas_dict_v)\n",
    "    \n",
    "    return modelo_bayes"
   ]
  },
  {
   "cell_type": "code",
   "execution_count": 62,
   "metadata": {},
   "outputs": [
    {
     "name": "stdout",
     "output_type": "stream",
     "text": [
      "Metrícas de Entrenamiento\n",
      "{'Modelo': 'NBayes', 'Acurracy': 0.7725, 'Error': 0.22750000000000004, 'Precision': 0.6232876712328768, 'Recall': 0.7165354330708661, 'F1': 0.6666666666666666}\n",
      "**************************\n",
      "Metrícas de Validación\n",
      "{'Modelo': 'NBayes', 'Acurracy': 0.73, 'Error': 0.27, 'Precision': 0.723404255319149, 'Recall': 0.7083333333333334, 'F1': 0.7157894736842105}\n"
     ]
    }
   ],
   "source": [
    "#Experimento 1\n",
    "#valores por default\n",
    "modelo_bayes = entrenamiento_bayes(x_train_m3, y_train_m3, x_val_m3, y_val_m3)"
   ]
  },
  {
   "cell_type": "code",
   "execution_count": 63,
   "metadata": {},
   "outputs": [
    {
     "name": "stdout",
     "output_type": "stream",
     "text": [
      "Metrícas de Entrenamiento\n",
      "{'Modelo': 'NBayes', 'Acurracy': 0.7725, 'Error': 0.22750000000000004, 'Precision': 0.6232876712328768, 'Recall': 0.7165354330708661, 'F1': 0.6666666666666666}\n",
      "**************************\n",
      "Metrícas de Validación\n",
      "{'Modelo': 'NBayes', 'Acurracy': 0.73, 'Error': 0.27, 'Precision': 0.723404255319149, 'Recall': 0.7083333333333334, 'F1': 0.7157894736842105}\n"
     ]
    }
   ],
   "source": [
    "#Experimento 2\n",
    "modelo_bayes = entrenamiento_bayes(x_train_m3, y_train_m3, x_val_m3, y_val_m3, priors=None, var_smoothing=1e-05)"
   ]
  },
  {
   "cell_type": "code",
   "execution_count": 64,
   "metadata": {},
   "outputs": [],
   "source": [
    "#Probaremos quitando las features correspondientes al tamaño de familia\n",
    "#x_sinvF_train = x_train_m3\n",
    "#x_sinvF_val = x_val_m3\n",
    "#x_sinvF_train.drop(['Single','SmallF', 'MedF', 'LargeF'], axis=1,inplace=True )\n",
    "#x_sinvF_val.drop(['Single','SmallF', 'MedF', 'LargeF'], axis=1,inplace=True )\n",
    "\n",
    "#modelo_bayes2 = entrenamiento_bayes(x_sinvF_train, y_train_m3, x_sinvF_val, y_val_m3,priors=None, var_smoothing=1e-08)"
   ]
  },
  {
   "cell_type": "markdown",
   "metadata": {},
   "source": [
    "Quitando las features de tamaño de familia mejoraron las métricas de validación"
   ]
  },
  {
   "cell_type": "code",
   "execution_count": 65,
   "metadata": {},
   "outputs": [
    {
     "name": "stdout",
     "output_type": "stream",
     "text": [
      "Metrícas de Entrenamiento\n",
      "{'Modelo': 'NBayes', 'Acurracy': 0.7725, 'Error': 0.22750000000000004, 'Precision': 0.6232876712328768, 'Recall': 0.7165354330708661, 'F1': 0.6666666666666666}\n",
      "**************************\n",
      "Metrícas de Validación\n",
      "{'Modelo': 'NBayes', 'Acurracy': 0.73, 'Error': 0.27, 'Precision': 0.723404255319149, 'Recall': 0.7083333333333334, 'F1': 0.7157894736842105}\n"
     ]
    }
   ],
   "source": [
    "#Experimento 4\n",
    "modelo_bayes = entrenamiento_bayes(x_train_m3, y_train_m3, x_val_m3, y_val_m3, priors=None, var_smoothing=1e-08)"
   ]
  },
  {
   "cell_type": "code",
   "execution_count": 66,
   "metadata": {},
   "outputs": [
    {
     "data": {
      "text/plain": [
       "['modelos/best_bayes(priors=None, var_smoothing=1e-08).joblib']"
      ]
     },
     "execution_count": 66,
     "metadata": {},
     "output_type": "execute_result"
    }
   ],
   "source": [
    "dump(modelo_bayes, \"modelos/best_bayes(priors=None, var_smoothing=1e-08).joblib\")"
   ]
  },
  {
   "cell_type": "markdown",
   "metadata": {},
   "source": [
    "### Modelo4: Reg. logística binaria(sigmoid)  en Tensorflow con regularización   \n",
    "Probar L1, L2 y distintos valores del factor de regularización y elegir el mejor) y mini-batch gradient descent usando tamaño de mini-batch como hyper-parametro.\n"
   ]
  },
  {
   "cell_type": "code",
   "execution_count": 67,
   "metadata": {},
   "outputs": [],
   "source": [
    "#definimos una clase para el modelo de la regresión logística\n",
    "class regresion_logistica:\n",
    "    def __init__(self, x, lmd, tipo_re):\n",
    "        #un parametro para cada x de cada clase\n",
    "        self.parametros = tf.get_variable(\"parametros\", dtype = tf.float32, shape = [x.shape[1],1], initializer = tf.zeros_initializer())\n",
    "        self.lmd_param = tf.constant(lmd, dtype = tf.float32)\n",
    "        self.reg = tipo_re\n",
    "        #self.error = tf.get_variable(\"error\",dtype=tf.float32, shape=[], initializer=tf.zeros_initializer())\n",
    "        \n",
    "    #Calcular los logits\n",
    "    def c_logits(self, x):\n",
    "        return tf.matmul(x, self.parametros, name=\"logits\")\n",
    "    \n",
    "    #Calculamos la prediccion de probabilidad para cada posible resultado mediante softmax\n",
    "    def probabilidades_sigmoid(self, x):\n",
    "        prob_sigmoid = tf.nn.sigmoid(self.c_logits(x))\n",
    "        predicciones = tf.round(prob_sigmoid)\n",
    "        return predicciones\n",
    "    \n",
    "    #Calculo del error o costo mediante la entropía cruzada\n",
    "    def c_error(self, x, y, lmd):        \n",
    "        entropia_cruzada = tf.reduce_mean(tf.nn.sigmoid_cross_entropy_with_logits(labels = y, logits = self.c_logits(x)))\n",
    "        if self.reg == 'L1':\n",
    "            self.error = tf.add(entropia_cruzada,tf.multiply(self.lmd_param, tf.reduce_sum(tf.abs(self.parametros))))\n",
    "        if self.reg == 'L2':\n",
    "            self.error = tf.add(entropia_cruzada, tf.multiply(self.lmd_param, tf.sqrt(tf.reduce_sum(tf.square(self.parametros)))))\n",
    "        return self.error\n",
    "    \n",
    "    def c_accuracy(self, p_probabilidades, labels):\n",
    "        accuracy = tf.equal(p_probabilidades, labels)\n",
    "        accuracy = tf.dtypes.cast(accuracy, tf.int32)\n",
    "        #para calcular el acurracy = predicciones correctas del modelo/total predicciones\n",
    "        accuracy = tf.divide(tf.reduce_sum(accuracy), tf.shape(labels)[0])        \n",
    "        return accuracy\n",
    "            \n",
    "    def actualizar_gd(self, x_train, labels_train, lr,lmd, tipo_re):\n",
    "        \n",
    "        with tf.name_scope(\"funcion_costo\"):\n",
    "            train_error = self.c_error(x_train, labels_train, lmd)\n",
    "            train_error_summary = tf.summary.scalar(\"error_entrenamiento\", train_error)\n",
    "        \n",
    "        with tf.name_scope(\"sigmoid\"):\n",
    "            with tf.name_scope(\"logits\"):\n",
    "                predicciones_train = self.probabilidades_sigmoid(x_train)\n",
    "        \n",
    "        with tf.name_scope(\"acurracy\"):\n",
    "            train_accuracy = self.c_accuracy(predicciones_train, labels_train)\n",
    "            train_accuracy_summary = tf.summary.scalar(\"acurracy_entrenamiento\", train_accuracy)\n",
    "            \n",
    "        #actualización de parámetros por medio de gradient descent\n",
    "        gradiente = tf.gradients(train_error, [self.parametros])\n",
    "        param_actualizados = tf.assign(self.parametros, self.parametros - lr * gradiente[0])\n",
    "        return param_actualizados, train_error, train_accuracy, train_error_summary, train_accuracy_summary"
   ]
  },
  {
   "cell_type": "code",
   "execution_count": 68,
   "metadata": {},
   "outputs": [],
   "source": [
    "#Definición de la función para entrenar nuestro modelo\n",
    "def entrenamiento_rlog(x_train, labels_train, lr, epochs, error_cada, lmd, tipo_re, mb):\n",
    "    # cadena para los datos del experimento\n",
    "    string = './experimentos/RegLog'+ datetime.datetime.now().strftime(\"%Y%m%d-%H%M%S\") +\"_lr=\"+str(lr)+ \"_epochs=\"+str(epochs)+ \"_lambda=\"+str(lmd)+ \"_TipoReg=\"+str(tipo_re)\n",
    "    \n",
    "    #para entrenamiento con gradient descent se utilizarán mini batch de tamaño mb\n",
    "    tamaño_mbatch = mb\n",
    "    total_iteraciones = int((labels_train.shape[0] / tamaño_mbatch) * epochs)\n",
    "    \n",
    "    g = tf.Graph()\n",
    "    with g.as_default():\n",
    "        \n",
    "        modelo = regresion_logistica(x_train, lmd, tipo_re)\n",
    "        # Definicion de placeholders para entradas de data a grafo\n",
    "        with tf.name_scope(\"x_entrenamiento\"):\n",
    "            tensor_x_train = tf.placeholder(tf.float32, [None,x_train.shape[1]], \"tensor_x_train\")\n",
    "\n",
    "        with tf.name_scope(\"labels_entrenamiento\"):\n",
    "            tensor_labels_train = tf.placeholder(tf.float32, [None,1], \"tensor_labels_train\")\n",
    "\n",
    "        #Para realizar el entrenamiento\n",
    "        parametros_actualizados = modelo.actualizar_gd(tensor_x_train, tensor_labels_train, lr, lmd, tipo_re)\n",
    "    \n",
    "        # Writer para tensorboard\n",
    "        writer = tf.summary.FileWriter(string, g)\n",
    "               \n",
    "        with tf.train.MonitoredSession() as session:\n",
    "            \n",
    "            for i in range(total_iteraciones + 1):\n",
    "                #Definición de mini-batchs de tamaño 32 para entrenamiento\n",
    "                offset = (i * tamaño_mbatch) % (labels_train.shape[0] - tamaño_mbatch)\n",
    "                batch_x = x_train[offset:(offset + tamaño_mbatch),]\n",
    "                batch_labels = labels_train[offset:(offset + tamaño_mbatch),]\n",
    "                dict_parametros = {tensor_x_train:batch_x, tensor_labels_train:batch_labels}\n",
    "                \n",
    "                entrenamiento = session.run(parametros_actualizados, feed_dict = dict_parametros) # Entrenamiento\n",
    "                #impresión de eror y escritura para tensorboard\n",
    "                if (i)%error_cada == 0:\n",
    "                    \n",
    "                    parametros = session.run(modelo.parametros, feed_dict = dict_parametros)\n",
    "                    # Agregar datos para poder visualizarlos en tensorboard\n",
    "                    writer.add_summary(entrenamiento[3], i)\n",
    "                    writer.add_summary(entrenamiento[4], i)\n",
    "                    \n",
    "                    print(\"No.epoch:\", int(i//(labels_train.shape[0] / tamaño_mbatch)+1), \", mini batch:\", i, \", error de entrenamiento:\", entrenamiento[1], \", accuracy de entrenamiento:\", entrenamiento[2])\n",
    "                    print(\"_________________________________________________________________________________________________________________________\")\n",
    "            \n",
    "            return parametros\n",
    "            writer.close()"
   ]
  },
  {
   "cell_type": "code",
   "execution_count": 69,
   "metadata": {},
   "outputs": [
    {
     "name": "stdout",
     "output_type": "stream",
     "text": [
      "INFO:tensorflow:Graph was finalized.\n",
      "INFO:tensorflow:Running local_init_op.\n",
      "INFO:tensorflow:Done running local_init_op.\n",
      "No.epoch: 1 , mini batch: 0 , error de entrenamiento: 0.6931472 , accuracy de entrenamiento: 0.5\n",
      "_________________________________________________________________________________________________________________________\n",
      "No.epoch: 2 , mini batch: 20 , error de entrenamiento: 0.691736 , accuracy de entrenamiento: 0.625\n",
      "_________________________________________________________________________________________________________________________\n",
      "No.epoch: 4 , mini batch: 40 , error de entrenamiento: 0.68967 , accuracy de entrenamiento: 0.65625\n",
      "_________________________________________________________________________________________________________________________\n",
      "No.epoch: 5 , mini batch: 60 , error de entrenamiento: 0.689139 , accuracy de entrenamiento: 0.59375\n",
      "_________________________________________________________________________________________________________________________\n",
      "No.epoch: 7 , mini batch: 80 , error de entrenamiento: 0.68989104 , accuracy de entrenamiento: 0.59375\n",
      "_________________________________________________________________________________________________________________________\n",
      "No.epoch: 9 , mini batch: 100 , error de entrenamiento: 0.6858149 , accuracy de entrenamiento: 0.65625\n",
      "_________________________________________________________________________________________________________________________\n",
      "No.epoch: 10 , mini batch: 120 , error de entrenamiento: 0.6826908 , accuracy de entrenamiento: 0.65625\n",
      "_________________________________________________________________________________________________________________________\n"
     ]
    }
   ],
   "source": [
    "#Experimento 1\n",
    "y_m4 = np.array(y_train_m4).reshape(len(y_train_m4),1)\n",
    "fil, col = np.shape(x_train_m4)\n",
    "x_m4 = np.array(x_train_m4).reshape(fil,col)\n",
    "modelo_reglog = entrenamiento_rlog(x_m4, y_m4, 0.001, 10, 20, 0.02, 'L1', 32)"
   ]
  },
  {
   "cell_type": "code",
   "execution_count": 70,
   "metadata": {},
   "outputs": [
    {
     "name": "stdout",
     "output_type": "stream",
     "text": [
      "INFO:tensorflow:Graph was finalized.\n",
      "INFO:tensorflow:Running local_init_op.\n",
      "INFO:tensorflow:Done running local_init_op.\n",
      "No.epoch: 1 , mini batch: 0 , error de entrenamiento: 0.6931472 , accuracy de entrenamiento: 0.5\n",
      "_________________________________________________________________________________________________________________________\n",
      "No.epoch: 81 , mini batch: 1000 , error de entrenamiento: 0.6819381 , accuracy de entrenamiento: 0.59375\n",
      "_________________________________________________________________________________________________________________________\n",
      "No.epoch: 161 , mini batch: 2000 , error de entrenamiento: 0.6234059 , accuracy de entrenamiento: 0.75\n",
      "_________________________________________________________________________________________________________________________\n",
      "No.epoch: 241 , mini batch: 3000 , error de entrenamiento: 0.6310473 , accuracy de entrenamiento: 0.71875\n",
      "_________________________________________________________________________________________________________________________\n",
      "No.epoch: 321 , mini batch: 4000 , error de entrenamiento: 0.67142946 , accuracy de entrenamiento: 0.6875\n",
      "_________________________________________________________________________________________________________________________\n",
      "No.epoch: 401 , mini batch: 5000 , error de entrenamiento: 0.6449479 , accuracy de entrenamiento: 0.71875\n",
      "_________________________________________________________________________________________________________________________\n",
      "No.epoch: 481 , mini batch: 6000 , error de entrenamiento: 0.63007355 , accuracy de entrenamiento: 0.6875\n",
      "_________________________________________________________________________________________________________________________\n",
      "No.epoch: 561 , mini batch: 7000 , error de entrenamiento: 0.6284711 , accuracy de entrenamiento: 0.65625\n",
      "_________________________________________________________________________________________________________________________\n",
      "No.epoch: 641 , mini batch: 8000 , error de entrenamiento: 0.61812556 , accuracy de entrenamiento: 0.6875\n",
      "_________________________________________________________________________________________________________________________\n",
      "No.epoch: 721 , mini batch: 9000 , error de entrenamiento: 0.61968595 , accuracy de entrenamiento: 0.75\n",
      "_________________________________________________________________________________________________________________________\n",
      "No.epoch: 801 , mini batch: 10000 , error de entrenamiento: 0.61682427 , accuracy de entrenamiento: 0.8125\n",
      "_________________________________________________________________________________________________________________________\n",
      "No.epoch: 881 , mini batch: 11000 , error de entrenamiento: 0.59533733 , accuracy de entrenamiento: 0.8125\n",
      "_________________________________________________________________________________________________________________________\n",
      "No.epoch: 961 , mini batch: 12000 , error de entrenamiento: 0.6021021 , accuracy de entrenamiento: 0.75\n",
      "_________________________________________________________________________________________________________________________\n"
     ]
    }
   ],
   "source": [
    "#Experimento 2\n",
    "modelo_reglog = entrenamiento_rlog(x_m4, y_m4, 0.001, 1000, 1000, 0.04, 'L1', 32)"
   ]
  },
  {
   "cell_type": "code",
   "execution_count": 71,
   "metadata": {},
   "outputs": [
    {
     "name": "stdout",
     "output_type": "stream",
     "text": [
      "INFO:tensorflow:Graph was finalized.\n",
      "INFO:tensorflow:Running local_init_op.\n",
      "INFO:tensorflow:Done running local_init_op.\n",
      "No.epoch: 1 , mini batch: 0 , error de entrenamiento: 0.6931472 , accuracy de entrenamiento: 0.5\n",
      "_________________________________________________________________________________________________________________________\n",
      "No.epoch: 801 , mini batch: 10000 , error de entrenamiento: 0.63556087 , accuracy de entrenamiento: 0.8125\n",
      "_________________________________________________________________________________________________________________________\n",
      "No.epoch: 1601 , mini batch: 20000 , error de entrenamiento: 0.5845986 , accuracy de entrenamiento: 0.875\n",
      "_________________________________________________________________________________________________________________________\n",
      "No.epoch: 2401 , mini batch: 30000 , error de entrenamiento: 0.6322236 , accuracy de entrenamiento: 0.78125\n",
      "_________________________________________________________________________________________________________________________\n",
      "No.epoch: 3201 , mini batch: 40000 , error de entrenamiento: 0.53129506 , accuracy de entrenamiento: 0.9375\n",
      "_________________________________________________________________________________________________________________________\n",
      "No.epoch: 4001 , mini batch: 50000 , error de entrenamiento: 0.68544626 , accuracy de entrenamiento: 0.75\n",
      "_________________________________________________________________________________________________________________________\n",
      "No.epoch: 4801 , mini batch: 60000 , error de entrenamiento: 0.56894773 , accuracy de entrenamiento: 0.84375\n",
      "_________________________________________________________________________________________________________________________\n",
      "No.epoch: 5601 , mini batch: 70000 , error de entrenamiento: 0.674828 , accuracy de entrenamiento: 0.71875\n",
      "_________________________________________________________________________________________________________________________\n",
      "No.epoch: 6401 , mini batch: 80000 , error de entrenamiento: 0.6066017 , accuracy de entrenamiento: 0.78125\n",
      "_________________________________________________________________________________________________________________________\n",
      "No.epoch: 7201 , mini batch: 90000 , error de entrenamiento: 0.61583924 , accuracy de entrenamiento: 0.8125\n",
      "_________________________________________________________________________________________________________________________\n",
      "No.epoch: 8001 , mini batch: 100000 , error de entrenamiento: 0.6080987 , accuracy de entrenamiento: 0.8125\n",
      "_________________________________________________________________________________________________________________________\n",
      "No.epoch: 8801 , mini batch: 110000 , error de entrenamiento: 0.5793771 , accuracy de entrenamiento: 0.84375\n",
      "_________________________________________________________________________________________________________________________\n",
      "No.epoch: 9601 , mini batch: 120000 , error de entrenamiento: 0.63168204 , accuracy de entrenamiento: 0.84375\n",
      "_________________________________________________________________________________________________________________________\n"
     ]
    }
   ],
   "source": [
    "#Experimento 3\n",
    "modelo_reglog = entrenamiento_rlog(x_m4, y_m4, 0.001, 10000, 10000, 0.05, 'L1', 32)"
   ]
  },
  {
   "cell_type": "code",
   "execution_count": 72,
   "metadata": {},
   "outputs": [
    {
     "name": "stdout",
     "output_type": "stream",
     "text": [
      "INFO:tensorflow:Graph was finalized.\n",
      "INFO:tensorflow:Running local_init_op.\n",
      "INFO:tensorflow:Done running local_init_op.\n",
      "No.epoch: 1 , mini batch: 0 , error de entrenamiento: 0.6931472 , accuracy de entrenamiento: 0.5\n",
      "_________________________________________________________________________________________________________________________\n",
      "No.epoch: 9 , mini batch: 100 , error de entrenamiento: 0.6827704 , accuracy de entrenamiento: 0.65625\n",
      "_________________________________________________________________________________________________________________________\n",
      "No.epoch: 17 , mini batch: 200 , error de entrenamiento: 0.6652111 , accuracy de entrenamiento: 0.75\n",
      "_________________________________________________________________________________________________________________________\n",
      "No.epoch: 25 , mini batch: 300 , error de entrenamiento: 0.66759247 , accuracy de entrenamiento: 0.59375\n",
      "_________________________________________________________________________________________________________________________\n",
      "No.epoch: 33 , mini batch: 400 , error de entrenamiento: 0.66286457 , accuracy de entrenamiento: 0.625\n",
      "_________________________________________________________________________________________________________________________\n",
      "No.epoch: 41 , mini batch: 500 , error de entrenamiento: 0.6457068 , accuracy de entrenamiento: 0.6875\n",
      "_________________________________________________________________________________________________________________________\n",
      "No.epoch: 49 , mini batch: 600 , error de entrenamiento: 0.66499853 , accuracy de entrenamiento: 0.5\n",
      "_________________________________________________________________________________________________________________________\n",
      "No.epoch: 57 , mini batch: 700 , error de entrenamiento: 0.63175863 , accuracy de entrenamiento: 0.71875\n",
      "_________________________________________________________________________________________________________________________\n",
      "No.epoch: 65 , mini batch: 800 , error de entrenamiento: 0.64162064 , accuracy de entrenamiento: 0.625\n",
      "_________________________________________________________________________________________________________________________\n",
      "No.epoch: 73 , mini batch: 900 , error de entrenamiento: 0.59373164 , accuracy de entrenamiento: 0.75\n",
      "_________________________________________________________________________________________________________________________\n",
      "No.epoch: 81 , mini batch: 1000 , error de entrenamiento: 0.65703636 , accuracy de entrenamiento: 0.59375\n",
      "_________________________________________________________________________________________________________________________\n",
      "No.epoch: 89 , mini batch: 1100 , error de entrenamiento: 0.6206304 , accuracy de entrenamiento: 0.6875\n",
      "_________________________________________________________________________________________________________________________\n",
      "No.epoch: 97 , mini batch: 1200 , error de entrenamiento: 0.64356613 , accuracy de entrenamiento: 0.65625\n",
      "_________________________________________________________________________________________________________________________\n"
     ]
    }
   ],
   "source": [
    "#Experimento 4\n",
    "modelo_reglog = entrenamiento_rlog(x_m4, y_m4, 0.001, 100, 100, 0.00000000000000000000000000000000000001, 'L2', 32)"
   ]
  },
  {
   "cell_type": "code",
   "execution_count": 73,
   "metadata": {},
   "outputs": [
    {
     "name": "stdout",
     "output_type": "stream",
     "text": [
      "INFO:tensorflow:Graph was finalized.\n",
      "INFO:tensorflow:Running local_init_op.\n",
      "INFO:tensorflow:Done running local_init_op.\n",
      "No.epoch: 1 , mini batch: 0 , error de entrenamiento: 0.6931472 , accuracy de entrenamiento: 0.5\n",
      "_________________________________________________________________________________________________________________________\n",
      "No.epoch: 801 , mini batch: 10000 , error de entrenamiento: 0.47259843 , accuracy de entrenamiento: 0.78125\n",
      "_________________________________________________________________________________________________________________________\n",
      "No.epoch: 1601 , mini batch: 20000 , error de entrenamiento: 0.36424878 , accuracy de entrenamiento: 0.90625\n",
      "_________________________________________________________________________________________________________________________\n",
      "No.epoch: 2401 , mini batch: 30000 , error de entrenamiento: 0.4201512 , accuracy de entrenamiento: 0.90625\n",
      "_________________________________________________________________________________________________________________________\n",
      "No.epoch: 3201 , mini batch: 40000 , error de entrenamiento: 0.2737398 , accuracy de entrenamiento: 0.90625\n",
      "_________________________________________________________________________________________________________________________\n",
      "No.epoch: 4001 , mini batch: 50000 , error de entrenamiento: 0.5192392 , accuracy de entrenamiento: 0.78125\n",
      "_________________________________________________________________________________________________________________________\n",
      "No.epoch: 4801 , mini batch: 60000 , error de entrenamiento: 0.344382 , accuracy de entrenamiento: 0.84375\n",
      "_________________________________________________________________________________________________________________________\n",
      "No.epoch: 5601 , mini batch: 70000 , error de entrenamiento: 0.51713467 , accuracy de entrenamiento: 0.75\n",
      "_________________________________________________________________________________________________________________________\n",
      "No.epoch: 6401 , mini batch: 80000 , error de entrenamiento: 0.31862268 , accuracy de entrenamiento: 0.875\n",
      "_________________________________________________________________________________________________________________________\n",
      "No.epoch: 7201 , mini batch: 90000 , error de entrenamiento: 0.37394428 , accuracy de entrenamiento: 0.875\n",
      "_________________________________________________________________________________________________________________________\n",
      "No.epoch: 8001 , mini batch: 100000 , error de entrenamiento: 0.3574434 , accuracy de entrenamiento: 0.8125\n",
      "_________________________________________________________________________________________________________________________\n",
      "No.epoch: 8801 , mini batch: 110000 , error de entrenamiento: 0.30187672 , accuracy de entrenamiento: 0.90625\n",
      "_________________________________________________________________________________________________________________________\n",
      "No.epoch: 9601 , mini batch: 120000 , error de entrenamiento: 0.4433162 , accuracy de entrenamiento: 0.84375\n",
      "_________________________________________________________________________________________________________________________\n"
     ]
    }
   ],
   "source": [
    "#Experimento 5\n",
    "modelo_reglog = entrenamiento_rlog(x_m4, y_m4, 0.001, 10000, 10000, 0.00000000000000000000000000000000000001, 'L2', 32)"
   ]
  },
  {
   "cell_type": "code",
   "execution_count": 74,
   "metadata": {},
   "outputs": [
    {
     "name": "stdout",
     "output_type": "stream",
     "text": [
      "INFO:tensorflow:Graph was finalized.\n",
      "INFO:tensorflow:Running local_init_op.\n",
      "INFO:tensorflow:Done running local_init_op.\n",
      "No.epoch: 1 , mini batch: 0 , error de entrenamiento: 0.6931472 , accuracy de entrenamiento: 0.5\n",
      "_________________________________________________________________________________________________________________________\n",
      "No.epoch: 801 , mini batch: 10000 , error de entrenamiento: 0.60533226 , accuracy de entrenamiento: 0.8125\n",
      "_________________________________________________________________________________________________________________________\n",
      "No.epoch: 1601 , mini batch: 20000 , error de entrenamiento: 0.5652245 , accuracy de entrenamiento: 0.875\n",
      "_________________________________________________________________________________________________________________________\n",
      "No.epoch: 2401 , mini batch: 30000 , error de entrenamiento: 0.63334334 , accuracy de entrenamiento: 0.78125\n",
      "_________________________________________________________________________________________________________________________\n",
      "No.epoch: 3201 , mini batch: 40000 , error de entrenamiento: 0.52576625 , accuracy de entrenamiento: 0.90625\n",
      "_________________________________________________________________________________________________________________________\n",
      "No.epoch: 4001 , mini batch: 50000 , error de entrenamiento: 0.6883666 , accuracy de entrenamiento: 0.75\n",
      "_________________________________________________________________________________________________________________________\n",
      "No.epoch: 4801 , mini batch: 60000 , error de entrenamiento: 0.5694199 , accuracy de entrenamiento: 0.84375\n",
      "_________________________________________________________________________________________________________________________\n",
      "No.epoch: 5601 , mini batch: 70000 , error de entrenamiento: 0.67589086 , accuracy de entrenamiento: 0.71875\n",
      "_________________________________________________________________________________________________________________________\n",
      "No.epoch: 6401 , mini batch: 80000 , error de entrenamiento: 0.60678923 , accuracy de entrenamiento: 0.78125\n",
      "_________________________________________________________________________________________________________________________\n",
      "No.epoch: 7201 , mini batch: 90000 , error de entrenamiento: 0.6157092 , accuracy de entrenamiento: 0.8125\n",
      "_________________________________________________________________________________________________________________________\n",
      "No.epoch: 8001 , mini batch: 100000 , error de entrenamiento: 0.60811394 , accuracy de entrenamiento: 0.8125\n",
      "_________________________________________________________________________________________________________________________\n",
      "No.epoch: 8801 , mini batch: 110000 , error de entrenamiento: 0.57924294 , accuracy de entrenamiento: 0.84375\n",
      "_________________________________________________________________________________________________________________________\n",
      "No.epoch: 9601 , mini batch: 120000 , error de entrenamiento: 0.63175267 , accuracy de entrenamiento: 0.84375\n",
      "_________________________________________________________________________________________________________________________\n"
     ]
    }
   ],
   "source": [
    "#Experimento 6\n",
    "modelo_reglog = entrenamiento_rlog(x_m4, y_m4, 0.01, 10000, 10000, 0.05, 'L1', 32)"
   ]
  },
  {
   "cell_type": "code",
   "execution_count": 75,
   "metadata": {},
   "outputs": [
    {
     "data": {
      "text/plain": [
       "[\"modelos/best_reglog(lr=0.01, epoch=10000, imp_error=10000, lambda=0.05, 'Lasso', bach_size=32).joblib\"]"
      ]
     },
     "execution_count": 75,
     "metadata": {},
     "output_type": "execute_result"
    }
   ],
   "source": [
    "dump(modelo_reglog, \"modelos/best_reglog(lr=0.01, epoch=10000, imp_error=10000, lambda=0.05, 'Lasso', bach_size=32).joblib\")"
   ]
  },
  {
   "cell_type": "code",
   "execution_count": 76,
   "metadata": {},
   "outputs": [],
   "source": [
    "def predecir_reglog(x, parametros):\n",
    "    \n",
    "    tf.reset_default_graph()\n",
    "    \n",
    "    tensor_w = tf.placeholder(tf.float32, shape = [None, None], name = \"tensor_w\")\n",
    "    tensor_x = tf.placeholder(tf.float32, shape = [None, None], name = \"tensor_x\")\n",
    "    \n",
    "    logits = tf.matmul(tensor_x, tensor_w)\n",
    "    sigmoid = tf.nn.sigmoid(logits)\n",
    "    prediccion = tf.round(sigmoid)\n",
    "    \n",
    "    with tf.train.MonitoredSession() as session:\n",
    "        feed_dictionary = {tensor_x: x, tensor_w:parametros}\n",
    "        \n",
    "        predicciones = session.run(prediccion, feed_dict= feed_dictionary)\n",
    "        \n",
    "        return predicciones"
   ]
  },
  {
   "cell_type": "code",
   "execution_count": 77,
   "metadata": {},
   "outputs": [],
   "source": [
    "def evaluacion_reglog(x_train, y_train, x_val, y_val, parametros):\n",
    "    # cadena para los datos del experimento\n",
    "    string = '/experimentos/'+\"reglog_\"+datetime.datetime.now().strftime(\"%Y%m%d-%H%M%S\")\n",
    "    dirlog = tensorboard_logger.Logger(string)\n",
    "\n",
    "    y_pred_train = predecir_reglog(x_train, parametros)\n",
    "    \n",
    "    acurracy_t, error_t, precision_t,recall_t,f1_t = metricas_evaluacion(y_train, y_pred_train)\n",
    "    #Escribir tensorflow  \n",
    "    dirlog.log_value('Acurracy_train', acurracy_t, 1)\n",
    "    dirlog.log_value('Error_train', error_t,1)\n",
    "    dirlog.log_value('Precision_train', precision_t, 1)\n",
    "    dirlog.log_value('Recall_train', recall_t, 1)\n",
    "    dirlog.log_value('F1_train', f1_t,1)\n",
    "    \n",
    "    metricas_dict_t = {'Modelo':'RegLog','Acurracy':acurracy_t, 'Error':error_t, 'Precision':precision_t, 'Recall':recall_t, 'F1':f1_t}\n",
    "    \n",
    "    #validación\n",
    "    y_pred_val = predecir_reglog(x_val, parametros)\n",
    "    \n",
    "    acurracy_v, error_v, precision_v,recall_v,f1_v = metricas_evaluacion(y_val, y_pred_val)\n",
    "    #Escribir tensorflow  \n",
    "    dirlog.log_value('Acurracy_val', acurracy_v, 1)\n",
    "    dirlog.log_value('Error_val', error_v,1)\n",
    "    dirlog.log_value('Precision_val', precision_v, 1)\n",
    "    dirlog.log_value('Recall_val', recall_v, 1)\n",
    "    dirlog.log_value('F1_val', f1_v,1)\n",
    "    \n",
    "    metricas_dict_v = {'Modelo':'RegLog','Acurracy':acurracy_v, 'Error':error_v, 'Precision':precision_v, 'Recall':recall_v, 'F1':f1_v}\n",
    "    \n",
    "    print('Metrícas de Entrenamiento')\n",
    "    print(metricas_dict_t)\n",
    "    print('**************************')\n",
    "    print('Metrícas de Validación')\n",
    "    print(metricas_dict_v)\n",
    "    \n",
    "    return 0"
   ]
  },
  {
   "cell_type": "code",
   "execution_count": 78,
   "metadata": {},
   "outputs": [
    {
     "name": "stdout",
     "output_type": "stream",
     "text": [
      "INFO:tensorflow:Graph was finalized.\n",
      "INFO:tensorflow:Running local_init_op.\n",
      "INFO:tensorflow:Done running local_init_op.\n",
      "INFO:tensorflow:Graph was finalized.\n",
      "INFO:tensorflow:Running local_init_op.\n",
      "INFO:tensorflow:Done running local_init_op.\n",
      "Metrícas de Entrenamiento\n",
      "{'Modelo': 'RegLog', 'Acurracy': 0.79, 'Error': 0.20999999999999996, 'Precision': 0.822429906542056, 'Recall': 0.5751633986928104, 'F1': 0.676923076923077}\n",
      "**************************\n",
      "Metrícas de Validación\n",
      "{'Modelo': 'RegLog', 'Acurracy': 0.81, 'Error': 0.18999999999999995, 'Precision': 0.9, 'Recall': 0.627906976744186, 'F1': 0.7397260273972602}\n"
     ]
    },
    {
     "data": {
      "text/plain": [
       "0"
      ]
     },
     "execution_count": 78,
     "metadata": {},
     "output_type": "execute_result"
    }
   ],
   "source": [
    "#Predicciones para train y validación para obtener las métricas para validar el modelo\n",
    "#y_m4_val = np.array(y_val_m4).reshape(len(y_val_m4),1)\n",
    "\n",
    "evaluacion_reglog(x_m4, y_m4, x_val_m4, y_val_m4, modelo_reglog)"
   ]
  },
  {
   "cell_type": "markdown",
   "metadata": {},
   "source": [
    "#### Grafo del Modelo\n",
    "\n",
    "<img src=\"./modelos/grafo_reglog.png\">"
   ]
  },
  {
   "cell_type": "markdown",
   "metadata": {},
   "source": [
    "**Tensorboard**"
   ]
  },
  {
   "cell_type": "code",
   "execution_count": 79,
   "metadata": {
    "scrolled": true
   },
   "outputs": [
    {
     "data": {
      "text/plain": [
       "ERROR: Timed out waiting for TensorBoard to start. It may still be running as pid 8696."
      ]
     },
     "metadata": {},
     "output_type": "display_data"
    }
   ],
   "source": [
    "%tensorboard --logdir experimentos"
   ]
  },
  {
   "cell_type": "markdown",
   "metadata": {},
   "source": [
    "### Prueba/Evaluación final"
   ]
  },
  {
   "cell_type": "code",
   "execution_count": 80,
   "metadata": {},
   "outputs": [],
   "source": [
    "#Obtenemos un data frame para x con todas las variables independientes y una para Y con la variable a predecir\n",
    "cols_x_te = df_test.columns.tolist()\n",
    "cols_x_te.remove('Survived')\n",
    "#Datos para pruebas\n",
    "y_test = df_test['Survived']\n",
    "x_test = pd.DataFrame(data = df_test, columns = cols_x_te)"
   ]
  },
  {
   "cell_type": "code",
   "execution_count": 81,
   "metadata": {},
   "outputs": [],
   "source": [
    "#Predicciones con el mejor modelo de árboles de desición\n",
    "predicciones_arbol = modelo_arbol.predict(x_test)"
   ]
  },
  {
   "cell_type": "code",
   "execution_count": 82,
   "metadata": {},
   "outputs": [],
   "source": [
    "#Predicciones con el mejor modelo de svm\n",
    "predicciones_svm = modelo_svm.predict(x_test)"
   ]
  },
  {
   "cell_type": "code",
   "execution_count": 83,
   "metadata": {},
   "outputs": [],
   "source": [
    "#Predicciones con el mejor modelo de Bayes\n",
    "predicciones_bayes = modelo_bayes.predict(x_test)"
   ]
  },
  {
   "cell_type": "code",
   "execution_count": 84,
   "metadata": {},
   "outputs": [
    {
     "name": "stdout",
     "output_type": "stream",
     "text": [
      "INFO:tensorflow:Graph was finalized.\n",
      "INFO:tensorflow:Running local_init_op.\n",
      "INFO:tensorflow:Done running local_init_op.\n"
     ]
    }
   ],
   "source": [
    "#Predicciones con el mejor modelo de regresión logística\n",
    "predicciones_reglog = predecir_reglog(x_test_reglog, modelo_reglog)\n",
    "predicciones_reglog = np.array(predicciones_reglog).reshape(len(predicciones_reglog))"
   ]
  },
  {
   "cell_type": "markdown",
   "metadata": {},
   "source": [
    "Resultados de todas las predicciones"
   ]
  },
  {
   "cell_type": "code",
   "execution_count": 85,
   "metadata": {},
   "outputs": [
    {
     "data": {
      "text/html": [
       "<div>\n",
       "<style scoped>\n",
       "    .dataframe tbody tr th:only-of-type {\n",
       "        vertical-align: middle;\n",
       "    }\n",
       "\n",
       "    .dataframe tbody tr th {\n",
       "        vertical-align: top;\n",
       "    }\n",
       "\n",
       "    .dataframe thead th {\n",
       "        text-align: right;\n",
       "    }\n",
       "</style>\n",
       "<table border=\"1\" class=\"dataframe\">\n",
       "  <thead>\n",
       "    <tr style=\"text-align: right;\">\n",
       "      <th></th>\n",
       "      <th>Arbol</th>\n",
       "      <th>SVM</th>\n",
       "      <th>Bayes</th>\n",
       "      <th>RegLog</th>\n",
       "    </tr>\n",
       "  </thead>\n",
       "  <tbody>\n",
       "    <tr>\n",
       "      <th>0</th>\n",
       "      <td>1</td>\n",
       "      <td>1</td>\n",
       "      <td>1</td>\n",
       "      <td>1</td>\n",
       "    </tr>\n",
       "    <tr>\n",
       "      <th>1</th>\n",
       "      <td>1</td>\n",
       "      <td>0</td>\n",
       "      <td>0</td>\n",
       "      <td>0</td>\n",
       "    </tr>\n",
       "    <tr>\n",
       "      <th>2</th>\n",
       "      <td>0</td>\n",
       "      <td>0</td>\n",
       "      <td>0</td>\n",
       "      <td>0</td>\n",
       "    </tr>\n",
       "    <tr>\n",
       "      <th>3</th>\n",
       "      <td>1</td>\n",
       "      <td>1</td>\n",
       "      <td>1</td>\n",
       "      <td>1</td>\n",
       "    </tr>\n",
       "    <tr>\n",
       "      <th>4</th>\n",
       "      <td>0</td>\n",
       "      <td>1</td>\n",
       "      <td>1</td>\n",
       "      <td>0</td>\n",
       "    </tr>\n",
       "  </tbody>\n",
       "</table>\n",
       "</div>"
      ],
      "text/plain": [
       "   Arbol  SVM  Bayes  RegLog\n",
       "0      1    1      1       1\n",
       "1      1    0      0       0\n",
       "2      0    0      0       0\n",
       "3      1    1      1       1\n",
       "4      0    1      1       0"
      ]
     },
     "execution_count": 85,
     "metadata": {},
     "output_type": "execute_result"
    }
   ],
   "source": [
    "resultados_pred = pd.DataFrame({\n",
    "    \"Arbol\": predicciones_arbol, \n",
    "    \"SVM\": predicciones_svm, \n",
    "    \"Bayes\": predicciones_bayes, \n",
    "    \"RegLog\": predicciones_reglog})\n",
    "\n",
    "resultados_pred = resultados_pred.astype({\"RegLog\": int})\n",
    "resultados_pred.head()"
   ]
  },
  {
   "cell_type": "code",
   "execution_count": 86,
   "metadata": {},
   "outputs": [
    {
     "data": {
      "text/html": [
       "<div>\n",
       "<style scoped>\n",
       "    .dataframe tbody tr th:only-of-type {\n",
       "        vertical-align: middle;\n",
       "    }\n",
       "\n",
       "    .dataframe tbody tr th {\n",
       "        vertical-align: top;\n",
       "    }\n",
       "\n",
       "    .dataframe thead th {\n",
       "        text-align: right;\n",
       "    }\n",
       "</style>\n",
       "<table border=\"1\" class=\"dataframe\">\n",
       "  <thead>\n",
       "    <tr style=\"text-align: right;\">\n",
       "      <th></th>\n",
       "      <th>Arbol</th>\n",
       "      <th>SVM</th>\n",
       "      <th>Bayes</th>\n",
       "      <th>RegLog</th>\n",
       "      <th>Prediccion_Final</th>\n",
       "    </tr>\n",
       "  </thead>\n",
       "  <tbody>\n",
       "    <tr>\n",
       "      <th>0</th>\n",
       "      <td>1</td>\n",
       "      <td>1</td>\n",
       "      <td>1</td>\n",
       "      <td>1</td>\n",
       "      <td>1</td>\n",
       "    </tr>\n",
       "    <tr>\n",
       "      <th>1</th>\n",
       "      <td>1</td>\n",
       "      <td>0</td>\n",
       "      <td>0</td>\n",
       "      <td>0</td>\n",
       "      <td>0</td>\n",
       "    </tr>\n",
       "    <tr>\n",
       "      <th>2</th>\n",
       "      <td>0</td>\n",
       "      <td>0</td>\n",
       "      <td>0</td>\n",
       "      <td>0</td>\n",
       "      <td>0</td>\n",
       "    </tr>\n",
       "    <tr>\n",
       "      <th>3</th>\n",
       "      <td>1</td>\n",
       "      <td>1</td>\n",
       "      <td>1</td>\n",
       "      <td>1</td>\n",
       "      <td>1</td>\n",
       "    </tr>\n",
       "    <tr>\n",
       "      <th>4</th>\n",
       "      <td>0</td>\n",
       "      <td>1</td>\n",
       "      <td>1</td>\n",
       "      <td>0</td>\n",
       "      <td>0</td>\n",
       "    </tr>\n",
       "  </tbody>\n",
       "</table>\n",
       "</div>"
      ],
      "text/plain": [
       "   Arbol  SVM  Bayes  RegLog  Prediccion_Final\n",
       "0      1    1      1       1                 1\n",
       "1      1    0      0       0                 0\n",
       "2      0    0      0       0                 0\n",
       "3      1    1      1       1                 1\n",
       "4      0    1      1       0                 0"
      ]
     },
     "execution_count": 86,
     "metadata": {},
     "output_type": "execute_result"
    }
   ],
   "source": [
    "moda = stats.mode(resultados_pred.T)[0].squeeze()\n",
    "resultados_pred['Prediccion_Final'] = moda\n",
    "resultados_pred.head()"
   ]
  },
  {
   "cell_type": "code",
   "execution_count": 87,
   "metadata": {},
   "outputs": [
    {
     "data": {
      "text/html": [
       "<div>\n",
       "<style scoped>\n",
       "    .dataframe tbody tr th:only-of-type {\n",
       "        vertical-align: middle;\n",
       "    }\n",
       "\n",
       "    .dataframe tbody tr th {\n",
       "        vertical-align: top;\n",
       "    }\n",
       "\n",
       "    .dataframe thead th {\n",
       "        text-align: right;\n",
       "    }\n",
       "</style>\n",
       "<table border=\"1\" class=\"dataframe\">\n",
       "  <thead>\n",
       "    <tr style=\"text-align: right;\">\n",
       "      <th></th>\n",
       "      <th>Age</th>\n",
       "      <th>Fare</th>\n",
       "      <th>Sex</th>\n",
       "      <th>Single</th>\n",
       "      <th>SmallF</th>\n",
       "      <th>MedF</th>\n",
       "      <th>LargeF</th>\n",
       "      <th>Em_C</th>\n",
       "      <th>Em_Q</th>\n",
       "      <th>Em_S</th>\n",
       "      <th>Pc_Lower</th>\n",
       "      <th>Pc_Middle</th>\n",
       "      <th>Pc_Upper</th>\n",
       "      <th>survived</th>\n",
       "      <th>survived_Pred</th>\n",
       "    </tr>\n",
       "  </thead>\n",
       "  <tbody>\n",
       "    <tr>\n",
       "      <th>849</th>\n",
       "      <td>0.299700</td>\n",
       "      <td>0.953733</td>\n",
       "      <td>1</td>\n",
       "      <td>0</td>\n",
       "      <td>1</td>\n",
       "      <td>0</td>\n",
       "      <td>0</td>\n",
       "      <td>1</td>\n",
       "      <td>0</td>\n",
       "      <td>0</td>\n",
       "      <td>0</td>\n",
       "      <td>0</td>\n",
       "      <td>1</td>\n",
       "      <td>1</td>\n",
       "      <td>1</td>\n",
       "    </tr>\n",
       "    <tr>\n",
       "      <th>331</th>\n",
       "      <td>0.847328</td>\n",
       "      <td>0.530744</td>\n",
       "      <td>0</td>\n",
       "      <td>1</td>\n",
       "      <td>0</td>\n",
       "      <td>0</td>\n",
       "      <td>0</td>\n",
       "      <td>0</td>\n",
       "      <td>0</td>\n",
       "      <td>1</td>\n",
       "      <td>0</td>\n",
       "      <td>0</td>\n",
       "      <td>1</td>\n",
       "      <td>0</td>\n",
       "      <td>0</td>\n",
       "    </tr>\n",
       "    <tr>\n",
       "      <th>260</th>\n",
       "      <td>0.963194</td>\n",
       "      <td>0.266598</td>\n",
       "      <td>0</td>\n",
       "      <td>1</td>\n",
       "      <td>0</td>\n",
       "      <td>0</td>\n",
       "      <td>0</td>\n",
       "      <td>0</td>\n",
       "      <td>1</td>\n",
       "      <td>0</td>\n",
       "      <td>1</td>\n",
       "      <td>0</td>\n",
       "      <td>0</td>\n",
       "      <td>0</td>\n",
       "      <td>0</td>\n",
       "    </tr>\n",
       "    <tr>\n",
       "      <th>316</th>\n",
       "      <td>0.676930</td>\n",
       "      <td>0.733341</td>\n",
       "      <td>1</td>\n",
       "      <td>0</td>\n",
       "      <td>1</td>\n",
       "      <td>0</td>\n",
       "      <td>0</td>\n",
       "      <td>0</td>\n",
       "      <td>0</td>\n",
       "      <td>1</td>\n",
       "      <td>0</td>\n",
       "      <td>1</td>\n",
       "      <td>0</td>\n",
       "      <td>1</td>\n",
       "      <td>1</td>\n",
       "    </tr>\n",
       "    <tr>\n",
       "      <th>292</th>\n",
       "      <td>0.941272</td>\n",
       "      <td>0.336635</td>\n",
       "      <td>0</td>\n",
       "      <td>1</td>\n",
       "      <td>0</td>\n",
       "      <td>0</td>\n",
       "      <td>0</td>\n",
       "      <td>1</td>\n",
       "      <td>0</td>\n",
       "      <td>0</td>\n",
       "      <td>0</td>\n",
       "      <td>1</td>\n",
       "      <td>0</td>\n",
       "      <td>0</td>\n",
       "      <td>0</td>\n",
       "    </tr>\n",
       "    <tr>\n",
       "      <th>...</th>\n",
       "      <td>...</td>\n",
       "      <td>...</td>\n",
       "      <td>...</td>\n",
       "      <td>...</td>\n",
       "      <td>...</td>\n",
       "      <td>...</td>\n",
       "      <td>...</td>\n",
       "      <td>...</td>\n",
       "      <td>...</td>\n",
       "      <td>...</td>\n",
       "      <td>...</td>\n",
       "      <td>...</td>\n",
       "      <td>...</td>\n",
       "      <td>...</td>\n",
       "      <td>...</td>\n",
       "    </tr>\n",
       "    <tr>\n",
       "      <th>311</th>\n",
       "      <td>0.068427</td>\n",
       "      <td>0.997417</td>\n",
       "      <td>1</td>\n",
       "      <td>0</td>\n",
       "      <td>0</td>\n",
       "      <td>0</td>\n",
       "      <td>1</td>\n",
       "      <td>1</td>\n",
       "      <td>0</td>\n",
       "      <td>0</td>\n",
       "      <td>0</td>\n",
       "      <td>0</td>\n",
       "      <td>1</td>\n",
       "      <td>1</td>\n",
       "      <td>1</td>\n",
       "    </tr>\n",
       "    <tr>\n",
       "      <th>670</th>\n",
       "      <td>0.714742</td>\n",
       "      <td>0.696873</td>\n",
       "      <td>1</td>\n",
       "      <td>0</td>\n",
       "      <td>0</td>\n",
       "      <td>1</td>\n",
       "      <td>0</td>\n",
       "      <td>0</td>\n",
       "      <td>0</td>\n",
       "      <td>1</td>\n",
       "      <td>0</td>\n",
       "      <td>1</td>\n",
       "      <td>0</td>\n",
       "      <td>1</td>\n",
       "      <td>1</td>\n",
       "    </tr>\n",
       "    <tr>\n",
       "      <th>172</th>\n",
       "      <td>0.085765</td>\n",
       "      <td>0.954847</td>\n",
       "      <td>1</td>\n",
       "      <td>0</td>\n",
       "      <td>0</td>\n",
       "      <td>1</td>\n",
       "      <td>0</td>\n",
       "      <td>0</td>\n",
       "      <td>0</td>\n",
       "      <td>1</td>\n",
       "      <td>1</td>\n",
       "      <td>0</td>\n",
       "      <td>0</td>\n",
       "      <td>1</td>\n",
       "      <td>1</td>\n",
       "    </tr>\n",
       "    <tr>\n",
       "      <th>587</th>\n",
       "      <td>0.603522</td>\n",
       "      <td>0.796648</td>\n",
       "      <td>0</td>\n",
       "      <td>0</td>\n",
       "      <td>0</td>\n",
       "      <td>1</td>\n",
       "      <td>0</td>\n",
       "      <td>1</td>\n",
       "      <td>0</td>\n",
       "      <td>0</td>\n",
       "      <td>0</td>\n",
       "      <td>0</td>\n",
       "      <td>1</td>\n",
       "      <td>1</td>\n",
       "      <td>0</td>\n",
       "    </tr>\n",
       "    <tr>\n",
       "      <th>291</th>\n",
       "      <td>0.204155</td>\n",
       "      <td>0.978644</td>\n",
       "      <td>1</td>\n",
       "      <td>0</td>\n",
       "      <td>1</td>\n",
       "      <td>0</td>\n",
       "      <td>0</td>\n",
       "      <td>1</td>\n",
       "      <td>0</td>\n",
       "      <td>0</td>\n",
       "      <td>0</td>\n",
       "      <td>0</td>\n",
       "      <td>1</td>\n",
       "      <td>1</td>\n",
       "      <td>1</td>\n",
       "    </tr>\n",
       "  </tbody>\n",
       "</table>\n",
       "<p>178 rows × 15 columns</p>\n",
       "</div>"
      ],
      "text/plain": [
       "          Age      Fare  Sex  Single  SmallF  MedF  LargeF  Em_C  Em_Q  Em_S  \\\n",
       "849  0.299700  0.953733    1       0       1     0       0     1     0     0   \n",
       "331  0.847328  0.530744    0       1       0     0       0     0     0     1   \n",
       "260  0.963194  0.266598    0       1       0     0       0     0     1     0   \n",
       "316  0.676930  0.733341    1       0       1     0       0     0     0     1   \n",
       "292  0.941272  0.336635    0       1       0     0       0     1     0     0   \n",
       "..        ...       ...  ...     ...     ...   ...     ...   ...   ...   ...   \n",
       "311  0.068427  0.997417    1       0       0     0       1     1     0     0   \n",
       "670  0.714742  0.696873    1       0       0     1       0     0     0     1   \n",
       "172  0.085765  0.954847    1       0       0     1       0     0     0     1   \n",
       "587  0.603522  0.796648    0       0       0     1       0     1     0     0   \n",
       "291  0.204155  0.978644    1       0       1     0       0     1     0     0   \n",
       "\n",
       "     Pc_Lower  Pc_Middle  Pc_Upper  survived  survived_Pred  \n",
       "849         0          0         1         1              1  \n",
       "331         0          0         1         0              0  \n",
       "260         1          0         0         0              0  \n",
       "316         0          1         0         1              1  \n",
       "292         0          1         0         0              0  \n",
       "..        ...        ...       ...       ...            ...  \n",
       "311         0          0         1         1              1  \n",
       "670         0          1         0         1              1  \n",
       "172         1          0         0         1              1  \n",
       "587         0          0         1         1              0  \n",
       "291         0          0         1         1              1  \n",
       "\n",
       "[178 rows x 15 columns]"
      ]
     },
     "execution_count": 87,
     "metadata": {},
     "output_type": "execute_result"
    }
   ],
   "source": [
    "df_final = x_test\n",
    "df_final['survived'] = y_test\n",
    "df_final['survived_Pred'] = moda\n",
    "df_final"
   ]
  },
  {
   "cell_type": "markdown",
   "metadata": {},
   "source": [
    "### Métricas Finales"
   ]
  },
  {
   "cell_type": "code",
   "execution_count": 88,
   "metadata": {},
   "outputs": [],
   "source": [
    "y_pred = df_final['survived_Pred']\n",
    "accuracy, error, precision, recall, f1 = metricas_evaluacion(y_test, y_pred)"
   ]
  },
  {
   "cell_type": "code",
   "execution_count": 89,
   "metadata": {},
   "outputs": [
    {
     "data": {
      "text/html": [
       "<div>\n",
       "<style scoped>\n",
       "    .dataframe tbody tr th:only-of-type {\n",
       "        vertical-align: middle;\n",
       "    }\n",
       "\n",
       "    .dataframe tbody tr th {\n",
       "        vertical-align: top;\n",
       "    }\n",
       "\n",
       "    .dataframe thead th {\n",
       "        text-align: right;\n",
       "    }\n",
       "</style>\n",
       "<table border=\"1\" class=\"dataframe\">\n",
       "  <thead>\n",
       "    <tr style=\"text-align: right;\">\n",
       "      <th></th>\n",
       "      <th>values</th>\n",
       "    </tr>\n",
       "  </thead>\n",
       "  <tbody>\n",
       "    <tr>\n",
       "      <th>accuracy</th>\n",
       "      <td>0.80</td>\n",
       "    </tr>\n",
       "    <tr>\n",
       "      <th>error</th>\n",
       "      <td>0.20</td>\n",
       "    </tr>\n",
       "    <tr>\n",
       "      <th>precision</th>\n",
       "      <td>0.79</td>\n",
       "    </tr>\n",
       "    <tr>\n",
       "      <th>recall</th>\n",
       "      <td>0.58</td>\n",
       "    </tr>\n",
       "    <tr>\n",
       "      <th>f1_score</th>\n",
       "      <td>0.67</td>\n",
       "    </tr>\n",
       "  </tbody>\n",
       "</table>\n",
       "</div>"
      ],
      "text/plain": [
       "           values\n",
       "accuracy     0.80\n",
       "error        0.20\n",
       "precision    0.79\n",
       "recall       0.58\n",
       "f1_score     0.67"
      ]
     },
     "execution_count": 89,
     "metadata": {},
     "output_type": "execute_result"
    }
   ],
   "source": [
    "values = [round(accuracy,1), round(error,1), round(precision,2), round(recall,2), round(f1,2)]\n",
    "metricas_finales = pd.DataFrame({'values':values}, index = ['accuracy', 'error', 'precision', 'recall', 'f1_score'])\n",
    "metricas_finales"
   ]
  },
  {
   "cell_type": "markdown",
   "metadata": {},
   "source": [
    "### Conclusiones:\n",
    "* Se puede crear un modelo ensemble combinando varios modelos diferentes y en el caso de que la variable objetivo sea categórica(como en este caso), obtener la moda de las predicciones que realizan.\n",
    "* Al realizar el modelo ensemble de una combinación de las predicciones realizadas por árboles de decisión, SVM, Naive Bayes y regresión logística, se obtuvo una exactitud o accuracy de 0.80, el cual es el mínimo permitido.\n",
    "* Se tuvieron que hacer muchas pruebas y experimentos para lograr llegar al 80%, ya que algunos de los modelos tomados en cuenta para la realización del ensemble no obtuvieron las métricas de evaluación deseadas, pero al momento de combinar el aprendizaje de los 4 modelos, se obtuvo, en general, predicciones más exactas.\n",
    "* La utilización de normalización de las variables númericas del dataset, disminuyó el error durante la fase de entrenamiento.\n",
    "* Se podrían realizar varias mejoras al modelo para mejorar las metrícas de evaluación, como por ejemplo realizar más cambios en feature engineering, realizar pruebas más robustas a través de cross validation con K folds, y grid search para la optimización de los hiperparámetros de los modelos.\n",
    "* También se podría cambiar el modelo de Naive Bayes por otro tipo y no obtar por el Gaussiano, ya que este modelo es el que tiene el menor desempeño.\n",
    "* Para los modelos de SVM, se observa que predicción realizada óptima depende mucho del kernel utilizado, como aprendido anteriormente. Esto debido a que el truco del kernel nos permite crear un clasificador de margen óptimo en un número mayor de dimensión.\n",
    "* Al momento de realizar regularización L2 en el entrenamiento de la regresión logística, se tuvo que utilizar un valor muy pequeño de lambda para poder obtener una disminución del error en la función del entrenamiento.\n",
    "* Es necesario siempre hacer un análisis exploratorio de datos previo a proceder a hacer el feature engineering, para así, poder conocer el dataset, y por tanto, poder crear features más descriptivos de la variable dependiente.\n"
   ]
  },
  {
   "cell_type": "markdown",
   "metadata": {},
   "source": [
    "### K Folds cross validation\n",
    "El método de validación cruzada por medio de K Folds es un método utilizado para evaluar el rendimiento de un modelo antes de hacer las pruebas de en datos específicos de prueba. \n",
    "\n",
    "Es una técnica de remuestreo que consiste en realizar k muestras aleatorias con la data de entrenamiento y utilizar una de esas k muestras para validación en cada epoch.\n",
    "\n",
    "**El algoritmo de K folds consiste en**:\n",
    "* Hacer una reorganización aleatoria de todos los datos del dataset.\n",
    "* Se divide el dataset en k diferentes grupos\n",
    "* Para cada uno de los grupos específicos se debe:\n",
    "    * Tomar el grupo como un grupo de validación\n",
    "    * Tomar todos los demás grupos como el dataset de entrenamiento\n",
    "    * Entrenar el modelo en este dataset de entrenamiento y evaluarlo en contra del grupo de validación\n",
    "    * Se guarda la métrica de evaluación y se descarta el modelo\n",
    "* Se calcula un promedio de todas las métricas de evaluación de todos los modelos generados durante el procedimiento  \n",
    "\n",
    "Existen tres técnicas comunes para elegir el tamaño de los k grupos en los que se deben de dividir el dataset, las cuales son:  \n",
    "* **K representativo:** el valor de K es escogido tal que cada grupo de entrenamiento/validación sea estadísticamente representativo del dataset completo.\n",
    "* **k = 10:** a través de experimentación se ha visto que este valor de K tiende a dar buenas estimación del rendimiento del modelo.\n",
    "* **K = n:** el valor de K se ajusta al tamaño total de la muestra a manera de que cada dato individual sea utilizado como un grupo de validación.  \n",
    "\n",
    "Se considera que la técnica de K folds tiende a dar buenas estimaciones, y en muchas ocasiones mejores, que realizar un split tradicional de train/test. Sin embargo, esta técnica tiende a ser computacionalmente costosa por lo que a veces, en datasets muy grandes, o en modelos muy complejos de entrenar, se vuelve una estrategia poco conveniente.  \n",
    "\n",
    "Otro uso que tiene el K folds es en datasets pequeños en los que sería poco conveniente realizar un entrenamiento con un número de datos pequeño, pero que a la vez represnte un porcentaje elevado del dataset completo.  \n",
    "\n",
    "Algunos de los usos que se le podría haber dado a K folds cross validation en este proyecto son:  \n",
    "* Para validar iterativamente los modelos al mismo tiempo que se entrenan, además de mostrar el desempeño que tiene cada vez que realice las validaciones.\n",
    "* Como una manera de verificar el paso de validación de hiperparámetros, para así, tener estimaciones más certeras de realmente cuáles son los mejores valores para estos.\n",
    "\n",
    "En esta tecnica, es importante mostrar que cada observación queda fija en el grupo que quedó durante el remuestreo de k grupos, esto quiere decir que cada observación será utilizada una vez como validación y k-1 veces como entrenamiento. Esto lo podemos ver en la siguiente imagen:\n",
    "\n",
    "<img src=\"./modelos/k_folds.png\">"
   ]
  },
  {
   "cell_type": "code",
   "execution_count": null,
   "metadata": {},
   "outputs": [],
   "source": []
  }
 ],
 "metadata": {
  "kernelspec": {
   "display_name": "Python 3",
   "language": "python",
   "name": "python3"
  },
  "language_info": {
   "codemirror_mode": {
    "name": "ipython",
    "version": 3
   },
   "file_extension": ".py",
   "mimetype": "text/x-python",
   "name": "python",
   "nbconvert_exporter": "python",
   "pygments_lexer": "ipython3",
   "version": "3.7.7"
  }
 },
 "nbformat": 4,
 "nbformat_minor": 4
}
