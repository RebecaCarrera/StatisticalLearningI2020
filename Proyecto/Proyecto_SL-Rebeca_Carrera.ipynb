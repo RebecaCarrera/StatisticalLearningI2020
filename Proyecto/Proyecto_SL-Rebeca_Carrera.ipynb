{
 "cells": [
  {
   "cell_type": "markdown",
   "metadata": {},
   "source": [
    "# Proyecto Statistical Learning I\n",
    "##### Autor: Lilian Rebeca Carrera Lemus\n",
    "\n",
    "### Parte 1 - Modelo exponencial de covid-19 usando feature-eng\n",
    "\n",
    "Usando el ejemplo de covid-19 en el notebook de feature-eng (https://colab.research.google.com/drive/1sJV2HG7tQgCGKES3-dIclzHQJ9qAWB3b?usp=sharing) crear un modelo de covid-19 para Guatemala.\n",
    "\n",
    "* Convertir la fecha a un entero \"número de día\", por ejemplo si se usan datos desde el 22 de abril, este es el día 0, el 23 es el día 1.\n",
    "* Aplicar regresión lineal sobre la variable \"Confirmed\" transformada.\n",
    "* Una vez entrenado el modelo usarlo para aproximar la cantidad de casos confirmados para el 30 de mayo. Se debe reportar la cantidad de casos, no la cantidad transformada obtenida."
   ]
  },
  {
   "cell_type": "markdown",
   "metadata": {},
   "source": [
    "### Parte 2 - Modelo polinomial de calidad de vinos"
   ]
  },
  {
   "cell_type": "code",
   "execution_count": 1,
   "metadata": {},
   "outputs": [
    {
     "name": "stdout",
     "output_type": "stream",
     "text": [
      "Requirement already satisfied: tensorboard_logger in c:\\users\\rebeca\\anaconda3\\lib\\site-packages (0.1.0)Note: you may need to restart the kernel to use updated packages.\n",
      "Requirement already satisfied: scipy>=0.19.1 in c:\\users\\rebeca\\anaconda3\\lib\\site-packages (from tensorboard_logger) (1.4.1)\n",
      "Requirement already satisfied: protobuf in c:\\users\\rebeca\\anaconda3\\lib\\site-packages (from tensorboard_logger) (3.11.4)\n",
      "Requirement already satisfied: pillow>=4.1.1 in c:\\users\\rebeca\\anaconda3\\lib\\site-packages (from tensorboard_logger) (7.0.0)\n",
      "Requirement already satisfied: numpy in c:\\users\\rebeca\\anaconda3\\lib\\site-packages (from tensorboard_logger) (1.18.1)\n",
      "Requirement already satisfied: six in c:\\users\\rebeca\\anaconda3\\lib\\site-packages (from tensorboard_logger) (1.14.0)\n",
      "Requirement already satisfied: setuptools in c:\\users\\rebeca\\anaconda3\\lib\\site-packages (from protobuf->tensorboard_logger) (46.1.3.post20200330)\n",
      "\n"
     ]
    }
   ],
   "source": [
    "pip install tensorboard_logger"
   ]
  },
  {
   "cell_type": "code",
   "execution_count": 2,
   "metadata": {},
   "outputs": [],
   "source": [
    "#Importar librerías a utilizar\n",
    "import pandas as pd\n",
    "import tensorflow as tf\n",
    "import numpy as np\n",
    "import matplotlib.pyplot as plt\n",
    "import seaborn as sns\n",
    "from sklearn.model_selection import train_test_split\n",
    "from sklearn import tree\n",
    "from tensorboard_logger import tensorboard_logger, log_value\n",
    "from sklearn.metrics import classification_report \n",
    "from sklearn.metrics import accuracy_score\n",
    "from sklearn.metrics import precision_score\n",
    "from sklearn.metrics import recall_score\n",
    "from sklearn.metrics import f1_score\n",
    "from sklearn.linear_model import LogisticRegression \n",
    "from sklearn.tree import DecisionTreeClassifier\n",
    "from sklearn.utils import resample\n",
    "from sklearn.svm import SVC\n",
    "from sklearn.naive_bayes import GaussianNB\n",
    "import datetime\n",
    "from scipy import stats\n",
    "%load_ext tensorboard"
   ]
  },
  {
   "cell_type": "code",
   "execution_count": 3,
   "metadata": {},
   "outputs": [
    {
     "name": "stdout",
     "output_type": "stream",
     "text": [
      "WARNING:tensorflow:From C:\\Users\\Rebeca\\Anaconda3\\lib\\site-packages\\tensorflow_core\\python\\compat\\v2_compat.py:88: disable_resource_variables (from tensorflow.python.ops.variable_scope) is deprecated and will be removed in a future version.\n",
      "Instructions for updating:\n",
      "non-resource variables are not supported in the long term\n",
      "Enabled compatitility to tf1.x\n"
     ]
    }
   ],
   "source": [
    "if tf.__version__.startswith(\"2.\"):\n",
    "    import tensorflow.compat.v1 as tf\n",
    "    tf.compat.v1.disable_v2_behavior()\n",
    "    tf.compat.v1.disable_eager_execution()\n",
    "    print(\"Enabled compatitility to tf1.x\")"
   ]
  },
  {
   "cell_type": "markdown",
   "metadata": {},
   "source": [
    "## 1.  Entrenamiento, Selección y Validación"
   ]
  },
  {
   "cell_type": "code",
   "execution_count": 4,
   "metadata": {},
   "outputs": [
    {
     "data": {
      "text/html": [
       "<div>\n",
       "<style scoped>\n",
       "    .dataframe tbody tr th:only-of-type {\n",
       "        vertical-align: middle;\n",
       "    }\n",
       "\n",
       "    .dataframe tbody tr th {\n",
       "        vertical-align: top;\n",
       "    }\n",
       "\n",
       "    .dataframe thead th {\n",
       "        text-align: right;\n",
       "    }\n",
       "</style>\n",
       "<table border=\"1\" class=\"dataframe\">\n",
       "  <thead>\n",
       "    <tr style=\"text-align: right;\">\n",
       "      <th></th>\n",
       "      <th>PassengerId</th>\n",
       "      <th>Name</th>\n",
       "      <th>Age</th>\n",
       "      <th>SibSp</th>\n",
       "      <th>Parch</th>\n",
       "      <th>Ticket</th>\n",
       "      <th>Fare</th>\n",
       "      <th>Cabin</th>\n",
       "      <th>Embarked</th>\n",
       "      <th>passenger_class</th>\n",
       "      <th>passenger_sex</th>\n",
       "      <th>passenger_survived</th>\n",
       "    </tr>\n",
       "  </thead>\n",
       "  <tbody>\n",
       "    <tr>\n",
       "      <th>0</th>\n",
       "      <td>1</td>\n",
       "      <td>Braund, Mr. Owen Harris</td>\n",
       "      <td>22.0</td>\n",
       "      <td>1</td>\n",
       "      <td>0</td>\n",
       "      <td>A/5 21171</td>\n",
       "      <td>7.2500</td>\n",
       "      <td>NaN</td>\n",
       "      <td>S</td>\n",
       "      <td>Lower</td>\n",
       "      <td>M</td>\n",
       "      <td>N</td>\n",
       "    </tr>\n",
       "    <tr>\n",
       "      <th>1</th>\n",
       "      <td>2</td>\n",
       "      <td>Cumings, Mrs. John Bradley (Florence Briggs Th...</td>\n",
       "      <td>38.0</td>\n",
       "      <td>1</td>\n",
       "      <td>0</td>\n",
       "      <td>PC 17599</td>\n",
       "      <td>71.2833</td>\n",
       "      <td>C85</td>\n",
       "      <td>C</td>\n",
       "      <td>Upper</td>\n",
       "      <td>F</td>\n",
       "      <td>Y</td>\n",
       "    </tr>\n",
       "    <tr>\n",
       "      <th>2</th>\n",
       "      <td>3</td>\n",
       "      <td>Heikkinen, Miss. Laina</td>\n",
       "      <td>26.0</td>\n",
       "      <td>0</td>\n",
       "      <td>0</td>\n",
       "      <td>STON/O2. 3101282</td>\n",
       "      <td>7.9250</td>\n",
       "      <td>NaN</td>\n",
       "      <td>S</td>\n",
       "      <td>Lower</td>\n",
       "      <td>F</td>\n",
       "      <td>Y</td>\n",
       "    </tr>\n",
       "    <tr>\n",
       "      <th>3</th>\n",
       "      <td>4</td>\n",
       "      <td>Futrelle, Mrs. Jacques Heath (Lily May Peel)</td>\n",
       "      <td>35.0</td>\n",
       "      <td>1</td>\n",
       "      <td>0</td>\n",
       "      <td>113803</td>\n",
       "      <td>53.1000</td>\n",
       "      <td>C123</td>\n",
       "      <td>S</td>\n",
       "      <td>Upper</td>\n",
       "      <td>F</td>\n",
       "      <td>Y</td>\n",
       "    </tr>\n",
       "    <tr>\n",
       "      <th>4</th>\n",
       "      <td>5</td>\n",
       "      <td>Allen, Mr. William Henry</td>\n",
       "      <td>35.0</td>\n",
       "      <td>0</td>\n",
       "      <td>0</td>\n",
       "      <td>373450</td>\n",
       "      <td>8.0500</td>\n",
       "      <td>NaN</td>\n",
       "      <td>S</td>\n",
       "      <td>Lower</td>\n",
       "      <td>M</td>\n",
       "      <td>N</td>\n",
       "    </tr>\n",
       "  </tbody>\n",
       "</table>\n",
       "</div>"
      ],
      "text/plain": [
       "   PassengerId                                               Name   Age  \\\n",
       "0            1                            Braund, Mr. Owen Harris  22.0   \n",
       "1            2  Cumings, Mrs. John Bradley (Florence Briggs Th...  38.0   \n",
       "2            3                             Heikkinen, Miss. Laina  26.0   \n",
       "3            4       Futrelle, Mrs. Jacques Heath (Lily May Peel)  35.0   \n",
       "4            5                           Allen, Mr. William Henry  35.0   \n",
       "\n",
       "   SibSp  Parch            Ticket     Fare Cabin Embarked passenger_class  \\\n",
       "0      1      0         A/5 21171   7.2500   NaN        S           Lower   \n",
       "1      1      0          PC 17599  71.2833   C85        C           Upper   \n",
       "2      0      0  STON/O2. 3101282   7.9250   NaN        S           Lower   \n",
       "3      1      0            113803  53.1000  C123        S           Upper   \n",
       "4      0      0            373450   8.0500   NaN        S           Lower   \n",
       "\n",
       "  passenger_sex passenger_survived  \n",
       "0             M                  N  \n",
       "1             F                  Y  \n",
       "2             F                  Y  \n",
       "3             F                  Y  \n",
       "4             M                  N  "
      ]
     },
     "execution_count": 4,
     "metadata": {},
     "output_type": "execute_result"
    }
   ],
   "source": [
    "df_data = pd.read_csv('data_titanic_proyecto.csv')\n",
    "df_data.head()"
   ]
  },
  {
   "cell_type": "markdown",
   "metadata": {
    "collapsed": true,
    "jupyter": {
     "outputs_hidden": true
    }
   },
   "source": [
    "**Descripción de variables:**  \n",
    "* ***PassengerId:*** identificador único del pasajero\n",
    "* ***Name:*** nombre del pasajero\n",
    "* ***Age:*** edad del pasajero\n",
    "* ***SibSp:*** número de hermanos(as) y hermanastros(as) en el barco\n",
    "* ***Parch:*** número de padres e hijos en el barco.\n",
    "* ***Ticket:*** identificador del boleto\n",
    "* ***Fare:*** precio pagado por el boleto\n",
    "* ***Cabin:*** identificador del camarote asignado al pasajero\n",
    "* ***Embarked:*** puerto en el que embarcó el pasajero (C= Cherbourg, Q= Queenstown, S= Southampton)\n",
    "* ***passenger_class:*** clase a la que pertenecía el pasajero\n",
    "* ***passenger_sex:*** sexo del pasajero, masculino(M) y femenino(F)\n",
    "* ***passenger_survived:*** indica si el pasajero sobrevivió al naufragio. Si (Y) o no sobrevivió (N)"
   ]
  },
  {
   "cell_type": "code",
   "execution_count": 5,
   "metadata": {},
   "outputs": [
    {
     "data": {
      "text/html": [
       "<div>\n",
       "<style scoped>\n",
       "    .dataframe tbody tr th:only-of-type {\n",
       "        vertical-align: middle;\n",
       "    }\n",
       "\n",
       "    .dataframe tbody tr th {\n",
       "        vertical-align: top;\n",
       "    }\n",
       "\n",
       "    .dataframe thead th {\n",
       "        text-align: right;\n",
       "    }\n",
       "</style>\n",
       "<table border=\"1\" class=\"dataframe\">\n",
       "  <thead>\n",
       "    <tr style=\"text-align: right;\">\n",
       "      <th></th>\n",
       "      <th>PassengerId</th>\n",
       "      <th>Name</th>\n",
       "      <th>Age</th>\n",
       "      <th>SibSp</th>\n",
       "      <th>Parch</th>\n",
       "      <th>Ticket</th>\n",
       "      <th>Fare</th>\n",
       "      <th>Cabin</th>\n",
       "      <th>Embarked</th>\n",
       "      <th>Pclass</th>\n",
       "      <th>Sex</th>\n",
       "      <th>Survived</th>\n",
       "    </tr>\n",
       "  </thead>\n",
       "  <tbody>\n",
       "    <tr>\n",
       "      <th>0</th>\n",
       "      <td>1</td>\n",
       "      <td>Braund, Mr. Owen Harris</td>\n",
       "      <td>22.0</td>\n",
       "      <td>1</td>\n",
       "      <td>0</td>\n",
       "      <td>A/5 21171</td>\n",
       "      <td>7.2500</td>\n",
       "      <td>NaN</td>\n",
       "      <td>S</td>\n",
       "      <td>Lower</td>\n",
       "      <td>M</td>\n",
       "      <td>N</td>\n",
       "    </tr>\n",
       "    <tr>\n",
       "      <th>1</th>\n",
       "      <td>2</td>\n",
       "      <td>Cumings, Mrs. John Bradley (Florence Briggs Th...</td>\n",
       "      <td>38.0</td>\n",
       "      <td>1</td>\n",
       "      <td>0</td>\n",
       "      <td>PC 17599</td>\n",
       "      <td>71.2833</td>\n",
       "      <td>C85</td>\n",
       "      <td>C</td>\n",
       "      <td>Upper</td>\n",
       "      <td>F</td>\n",
       "      <td>Y</td>\n",
       "    </tr>\n",
       "    <tr>\n",
       "      <th>2</th>\n",
       "      <td>3</td>\n",
       "      <td>Heikkinen, Miss. Laina</td>\n",
       "      <td>26.0</td>\n",
       "      <td>0</td>\n",
       "      <td>0</td>\n",
       "      <td>STON/O2. 3101282</td>\n",
       "      <td>7.9250</td>\n",
       "      <td>NaN</td>\n",
       "      <td>S</td>\n",
       "      <td>Lower</td>\n",
       "      <td>F</td>\n",
       "      <td>Y</td>\n",
       "    </tr>\n",
       "    <tr>\n",
       "      <th>3</th>\n",
       "      <td>4</td>\n",
       "      <td>Futrelle, Mrs. Jacques Heath (Lily May Peel)</td>\n",
       "      <td>35.0</td>\n",
       "      <td>1</td>\n",
       "      <td>0</td>\n",
       "      <td>113803</td>\n",
       "      <td>53.1000</td>\n",
       "      <td>C123</td>\n",
       "      <td>S</td>\n",
       "      <td>Upper</td>\n",
       "      <td>F</td>\n",
       "      <td>Y</td>\n",
       "    </tr>\n",
       "    <tr>\n",
       "      <th>4</th>\n",
       "      <td>5</td>\n",
       "      <td>Allen, Mr. William Henry</td>\n",
       "      <td>35.0</td>\n",
       "      <td>0</td>\n",
       "      <td>0</td>\n",
       "      <td>373450</td>\n",
       "      <td>8.0500</td>\n",
       "      <td>NaN</td>\n",
       "      <td>S</td>\n",
       "      <td>Lower</td>\n",
       "      <td>M</td>\n",
       "      <td>N</td>\n",
       "    </tr>\n",
       "  </tbody>\n",
       "</table>\n",
       "</div>"
      ],
      "text/plain": [
       "   PassengerId                                               Name   Age  \\\n",
       "0            1                            Braund, Mr. Owen Harris  22.0   \n",
       "1            2  Cumings, Mrs. John Bradley (Florence Briggs Th...  38.0   \n",
       "2            3                             Heikkinen, Miss. Laina  26.0   \n",
       "3            4       Futrelle, Mrs. Jacques Heath (Lily May Peel)  35.0   \n",
       "4            5                           Allen, Mr. William Henry  35.0   \n",
       "\n",
       "   SibSp  Parch            Ticket     Fare Cabin Embarked Pclass Sex Survived  \n",
       "0      1      0         A/5 21171   7.2500   NaN        S  Lower   M        N  \n",
       "1      1      0          PC 17599  71.2833   C85        C  Upper   F        Y  \n",
       "2      0      0  STON/O2. 3101282   7.9250   NaN        S  Lower   F        Y  \n",
       "3      1      0            113803  53.1000  C123        S  Upper   F        Y  \n",
       "4      0      0            373450   8.0500   NaN        S  Lower   M        N  "
      ]
     },
     "execution_count": 5,
     "metadata": {},
     "output_type": "execute_result"
    }
   ],
   "source": [
    "#Debido a que los nombres de las variables son muy grandes, cambiaremos algunas con nombres más cortos para que sea más fácil su mnipulación\n",
    "df_data = df_data.rename(columns={'passenger_class':'Pclass', 'passenger_sex':'Sex', 'passenger_survived':'Survived'})\n",
    "\n",
    "df_data.head()"
   ]
  },
  {
   "cell_type": "markdown",
   "metadata": {},
   "source": [
    "**Tipos de Características**\n",
    "* Características numéricas: \n",
    "    * Age (continua)\n",
    "    * Fare (continua)\n",
    "    * SibSp (discreta) \n",
    "    * Parch (discreta)\n",
    "* Características categóricas: \n",
    "    * Survived\n",
    "    * Sex \n",
    "    * Embarked\n",
    "    * Pclass\n",
    "* Características alfanuméricas: \n",
    "    * Ticket \n",
    "    * Cabin\n",
    "* Identificadores y nombres:\n",
    "    * PassengerId\n",
    "    * Name"
   ]
  },
  {
   "cell_type": "code",
   "execution_count": 6,
   "metadata": {},
   "outputs": [
    {
     "data": {
      "text/plain": [
       "(891, 12)"
      ]
     },
     "execution_count": 6,
     "metadata": {},
     "output_type": "execute_result"
    }
   ],
   "source": [
    "#contamos con 891 observaciones y 12 variables, 11 variables independientes y nuestra variable dependiente\n",
    "np.shape(df_data)"
   ]
  },
  {
   "cell_type": "code",
   "execution_count": 7,
   "metadata": {},
   "outputs": [
    {
     "name": "stdout",
     "output_type": "stream",
     "text": [
      "<class 'pandas.core.frame.DataFrame'>\n",
      "RangeIndex: 891 entries, 0 to 890\n",
      "Data columns (total 12 columns):\n",
      " #   Column       Non-Null Count  Dtype  \n",
      "---  ------       --------------  -----  \n",
      " 0   PassengerId  891 non-null    int64  \n",
      " 1   Name         891 non-null    object \n",
      " 2   Age          714 non-null    float64\n",
      " 3   SibSp        891 non-null    int64  \n",
      " 4   Parch        891 non-null    int64  \n",
      " 5   Ticket       891 non-null    object \n",
      " 6   Fare         891 non-null    float64\n",
      " 7   Cabin        204 non-null    object \n",
      " 8   Embarked     889 non-null    object \n",
      " 9   Pclass       891 non-null    object \n",
      " 10  Sex          891 non-null    object \n",
      " 11  Survived     891 non-null    object \n",
      "dtypes: float64(2), int64(3), object(7)\n",
      "memory usage: 83.7+ KB\n"
     ]
    }
   ],
   "source": [
    "#Información importante del dataset \n",
    "df_data.info()"
   ]
  },
  {
   "cell_type": "code",
   "execution_count": 8,
   "metadata": {},
   "outputs": [
    {
     "data": {
      "text/plain": [
       "PassengerId      0\n",
       "Name             0\n",
       "Age            177\n",
       "SibSp            0\n",
       "Parch            0\n",
       "Ticket           0\n",
       "Fare             0\n",
       "Cabin          687\n",
       "Embarked         2\n",
       "Pclass           0\n",
       "Sex              0\n",
       "Survived         0\n",
       "dtype: int64"
      ]
     },
     "execution_count": 8,
     "metadata": {},
     "output_type": "execute_result"
    }
   ],
   "source": [
    "#Verificamos los valores faltantes y nulos en los datos\n",
    "#Las variables de edad y número de cabina cuentan con valores nulos\n",
    "df_data.isnull().sum()"
   ]
  },
  {
   "cell_type": "code",
   "execution_count": 9,
   "metadata": {},
   "outputs": [
    {
     "data": {
      "text/html": [
       "<div>\n",
       "<style scoped>\n",
       "    .dataframe tbody tr th:only-of-type {\n",
       "        vertical-align: middle;\n",
       "    }\n",
       "\n",
       "    .dataframe tbody tr th {\n",
       "        vertical-align: top;\n",
       "    }\n",
       "\n",
       "    .dataframe thead th {\n",
       "        text-align: right;\n",
       "    }\n",
       "</style>\n",
       "<table border=\"1\" class=\"dataframe\">\n",
       "  <thead>\n",
       "    <tr style=\"text-align: right;\">\n",
       "      <th></th>\n",
       "      <th>PassengerId</th>\n",
       "      <th>Age</th>\n",
       "      <th>SibSp</th>\n",
       "      <th>Parch</th>\n",
       "      <th>Fare</th>\n",
       "    </tr>\n",
       "  </thead>\n",
       "  <tbody>\n",
       "    <tr>\n",
       "      <th>count</th>\n",
       "      <td>891.000000</td>\n",
       "      <td>714.000000</td>\n",
       "      <td>891.000000</td>\n",
       "      <td>891.000000</td>\n",
       "      <td>891.000000</td>\n",
       "    </tr>\n",
       "    <tr>\n",
       "      <th>mean</th>\n",
       "      <td>446.000000</td>\n",
       "      <td>29.699118</td>\n",
       "      <td>0.523008</td>\n",
       "      <td>0.381594</td>\n",
       "      <td>32.204208</td>\n",
       "    </tr>\n",
       "    <tr>\n",
       "      <th>std</th>\n",
       "      <td>257.353842</td>\n",
       "      <td>14.526497</td>\n",
       "      <td>1.102743</td>\n",
       "      <td>0.806057</td>\n",
       "      <td>49.693429</td>\n",
       "    </tr>\n",
       "    <tr>\n",
       "      <th>min</th>\n",
       "      <td>1.000000</td>\n",
       "      <td>0.420000</td>\n",
       "      <td>0.000000</td>\n",
       "      <td>0.000000</td>\n",
       "      <td>0.000000</td>\n",
       "    </tr>\n",
       "    <tr>\n",
       "      <th>25%</th>\n",
       "      <td>223.500000</td>\n",
       "      <td>20.125000</td>\n",
       "      <td>0.000000</td>\n",
       "      <td>0.000000</td>\n",
       "      <td>7.910400</td>\n",
       "    </tr>\n",
       "    <tr>\n",
       "      <th>50%</th>\n",
       "      <td>446.000000</td>\n",
       "      <td>28.000000</td>\n",
       "      <td>0.000000</td>\n",
       "      <td>0.000000</td>\n",
       "      <td>14.454200</td>\n",
       "    </tr>\n",
       "    <tr>\n",
       "      <th>75%</th>\n",
       "      <td>668.500000</td>\n",
       "      <td>38.000000</td>\n",
       "      <td>1.000000</td>\n",
       "      <td>0.000000</td>\n",
       "      <td>31.000000</td>\n",
       "    </tr>\n",
       "    <tr>\n",
       "      <th>max</th>\n",
       "      <td>891.000000</td>\n",
       "      <td>80.000000</td>\n",
       "      <td>8.000000</td>\n",
       "      <td>6.000000</td>\n",
       "      <td>512.329200</td>\n",
       "    </tr>\n",
       "  </tbody>\n",
       "</table>\n",
       "</div>"
      ],
      "text/plain": [
       "       PassengerId         Age       SibSp       Parch        Fare\n",
       "count   891.000000  714.000000  891.000000  891.000000  891.000000\n",
       "mean    446.000000   29.699118    0.523008    0.381594   32.204208\n",
       "std     257.353842   14.526497    1.102743    0.806057   49.693429\n",
       "min       1.000000    0.420000    0.000000    0.000000    0.000000\n",
       "25%     223.500000   20.125000    0.000000    0.000000    7.910400\n",
       "50%     446.000000   28.000000    0.000000    0.000000   14.454200\n",
       "75%     668.500000   38.000000    1.000000    0.000000   31.000000\n",
       "max     891.000000   80.000000    8.000000    6.000000  512.329200"
      ]
     },
     "execution_count": 9,
     "metadata": {},
     "output_type": "execute_result"
    }
   ],
   "source": [
    "#Estadísticos importantes sobre las variables númericas\n",
    "df_data.describe()"
   ]
  },
  {
   "cell_type": "code",
   "execution_count": 10,
   "metadata": {},
   "outputs": [
    {
     "data": {
      "text/html": [
       "<div>\n",
       "<style scoped>\n",
       "    .dataframe tbody tr th:only-of-type {\n",
       "        vertical-align: middle;\n",
       "    }\n",
       "\n",
       "    .dataframe tbody tr th {\n",
       "        vertical-align: top;\n",
       "    }\n",
       "\n",
       "    .dataframe thead th {\n",
       "        text-align: right;\n",
       "    }\n",
       "</style>\n",
       "<table border=\"1\" class=\"dataframe\">\n",
       "  <thead>\n",
       "    <tr style=\"text-align: right;\">\n",
       "      <th></th>\n",
       "      <th>PassengerId</th>\n",
       "      <th>Name</th>\n",
       "      <th>Age</th>\n",
       "      <th>SibSp</th>\n",
       "      <th>Parch</th>\n",
       "      <th>Ticket</th>\n",
       "      <th>Fare</th>\n",
       "      <th>Cabin</th>\n",
       "      <th>Embarked</th>\n",
       "      <th>Pclass</th>\n",
       "      <th>Sex</th>\n",
       "      <th>Survived</th>\n",
       "    </tr>\n",
       "  </thead>\n",
       "  <tbody>\n",
       "    <tr>\n",
       "      <th>count</th>\n",
       "      <td>891.000000</td>\n",
       "      <td>891</td>\n",
       "      <td>714.000000</td>\n",
       "      <td>891.000000</td>\n",
       "      <td>891.000000</td>\n",
       "      <td>891</td>\n",
       "      <td>891.000000</td>\n",
       "      <td>204</td>\n",
       "      <td>889</td>\n",
       "      <td>891</td>\n",
       "      <td>891</td>\n",
       "      <td>891</td>\n",
       "    </tr>\n",
       "    <tr>\n",
       "      <th>unique</th>\n",
       "      <td>NaN</td>\n",
       "      <td>891</td>\n",
       "      <td>NaN</td>\n",
       "      <td>NaN</td>\n",
       "      <td>NaN</td>\n",
       "      <td>681</td>\n",
       "      <td>NaN</td>\n",
       "      <td>147</td>\n",
       "      <td>3</td>\n",
       "      <td>3</td>\n",
       "      <td>2</td>\n",
       "      <td>2</td>\n",
       "    </tr>\n",
       "    <tr>\n",
       "      <th>top</th>\n",
       "      <td>NaN</td>\n",
       "      <td>Elsbury, Mr. William James</td>\n",
       "      <td>NaN</td>\n",
       "      <td>NaN</td>\n",
       "      <td>NaN</td>\n",
       "      <td>347082</td>\n",
       "      <td>NaN</td>\n",
       "      <td>G6</td>\n",
       "      <td>S</td>\n",
       "      <td>Lower</td>\n",
       "      <td>M</td>\n",
       "      <td>N</td>\n",
       "    </tr>\n",
       "    <tr>\n",
       "      <th>freq</th>\n",
       "      <td>NaN</td>\n",
       "      <td>1</td>\n",
       "      <td>NaN</td>\n",
       "      <td>NaN</td>\n",
       "      <td>NaN</td>\n",
       "      <td>7</td>\n",
       "      <td>NaN</td>\n",
       "      <td>4</td>\n",
       "      <td>644</td>\n",
       "      <td>491</td>\n",
       "      <td>577</td>\n",
       "      <td>549</td>\n",
       "    </tr>\n",
       "    <tr>\n",
       "      <th>mean</th>\n",
       "      <td>446.000000</td>\n",
       "      <td>NaN</td>\n",
       "      <td>29.699118</td>\n",
       "      <td>0.523008</td>\n",
       "      <td>0.381594</td>\n",
       "      <td>NaN</td>\n",
       "      <td>32.204208</td>\n",
       "      <td>NaN</td>\n",
       "      <td>NaN</td>\n",
       "      <td>NaN</td>\n",
       "      <td>NaN</td>\n",
       "      <td>NaN</td>\n",
       "    </tr>\n",
       "    <tr>\n",
       "      <th>std</th>\n",
       "      <td>257.353842</td>\n",
       "      <td>NaN</td>\n",
       "      <td>14.526497</td>\n",
       "      <td>1.102743</td>\n",
       "      <td>0.806057</td>\n",
       "      <td>NaN</td>\n",
       "      <td>49.693429</td>\n",
       "      <td>NaN</td>\n",
       "      <td>NaN</td>\n",
       "      <td>NaN</td>\n",
       "      <td>NaN</td>\n",
       "      <td>NaN</td>\n",
       "    </tr>\n",
       "    <tr>\n",
       "      <th>min</th>\n",
       "      <td>1.000000</td>\n",
       "      <td>NaN</td>\n",
       "      <td>0.420000</td>\n",
       "      <td>0.000000</td>\n",
       "      <td>0.000000</td>\n",
       "      <td>NaN</td>\n",
       "      <td>0.000000</td>\n",
       "      <td>NaN</td>\n",
       "      <td>NaN</td>\n",
       "      <td>NaN</td>\n",
       "      <td>NaN</td>\n",
       "      <td>NaN</td>\n",
       "    </tr>\n",
       "    <tr>\n",
       "      <th>25%</th>\n",
       "      <td>223.500000</td>\n",
       "      <td>NaN</td>\n",
       "      <td>20.125000</td>\n",
       "      <td>0.000000</td>\n",
       "      <td>0.000000</td>\n",
       "      <td>NaN</td>\n",
       "      <td>7.910400</td>\n",
       "      <td>NaN</td>\n",
       "      <td>NaN</td>\n",
       "      <td>NaN</td>\n",
       "      <td>NaN</td>\n",
       "      <td>NaN</td>\n",
       "    </tr>\n",
       "    <tr>\n",
       "      <th>50%</th>\n",
       "      <td>446.000000</td>\n",
       "      <td>NaN</td>\n",
       "      <td>28.000000</td>\n",
       "      <td>0.000000</td>\n",
       "      <td>0.000000</td>\n",
       "      <td>NaN</td>\n",
       "      <td>14.454200</td>\n",
       "      <td>NaN</td>\n",
       "      <td>NaN</td>\n",
       "      <td>NaN</td>\n",
       "      <td>NaN</td>\n",
       "      <td>NaN</td>\n",
       "    </tr>\n",
       "    <tr>\n",
       "      <th>75%</th>\n",
       "      <td>668.500000</td>\n",
       "      <td>NaN</td>\n",
       "      <td>38.000000</td>\n",
       "      <td>1.000000</td>\n",
       "      <td>0.000000</td>\n",
       "      <td>NaN</td>\n",
       "      <td>31.000000</td>\n",
       "      <td>NaN</td>\n",
       "      <td>NaN</td>\n",
       "      <td>NaN</td>\n",
       "      <td>NaN</td>\n",
       "      <td>NaN</td>\n",
       "    </tr>\n",
       "    <tr>\n",
       "      <th>max</th>\n",
       "      <td>891.000000</td>\n",
       "      <td>NaN</td>\n",
       "      <td>80.000000</td>\n",
       "      <td>8.000000</td>\n",
       "      <td>6.000000</td>\n",
       "      <td>NaN</td>\n",
       "      <td>512.329200</td>\n",
       "      <td>NaN</td>\n",
       "      <td>NaN</td>\n",
       "      <td>NaN</td>\n",
       "      <td>NaN</td>\n",
       "      <td>NaN</td>\n",
       "    </tr>\n",
       "  </tbody>\n",
       "</table>\n",
       "</div>"
      ],
      "text/plain": [
       "        PassengerId                        Name         Age       SibSp  \\\n",
       "count    891.000000                         891  714.000000  891.000000   \n",
       "unique          NaN                         891         NaN         NaN   \n",
       "top             NaN  Elsbury, Mr. William James         NaN         NaN   \n",
       "freq            NaN                           1         NaN         NaN   \n",
       "mean     446.000000                         NaN   29.699118    0.523008   \n",
       "std      257.353842                         NaN   14.526497    1.102743   \n",
       "min        1.000000                         NaN    0.420000    0.000000   \n",
       "25%      223.500000                         NaN   20.125000    0.000000   \n",
       "50%      446.000000                         NaN   28.000000    0.000000   \n",
       "75%      668.500000                         NaN   38.000000    1.000000   \n",
       "max      891.000000                         NaN   80.000000    8.000000   \n",
       "\n",
       "             Parch  Ticket        Fare Cabin Embarked Pclass  Sex Survived  \n",
       "count   891.000000     891  891.000000   204      889    891  891      891  \n",
       "unique         NaN     681         NaN   147        3      3    2        2  \n",
       "top            NaN  347082         NaN    G6        S  Lower    M        N  \n",
       "freq           NaN       7         NaN     4      644    491  577      549  \n",
       "mean      0.381594     NaN   32.204208   NaN      NaN    NaN  NaN      NaN  \n",
       "std       0.806057     NaN   49.693429   NaN      NaN    NaN  NaN      NaN  \n",
       "min       0.000000     NaN    0.000000   NaN      NaN    NaN  NaN      NaN  \n",
       "25%       0.000000     NaN    7.910400   NaN      NaN    NaN  NaN      NaN  \n",
       "50%       0.000000     NaN   14.454200   NaN      NaN    NaN  NaN      NaN  \n",
       "75%       0.000000     NaN   31.000000   NaN      NaN    NaN  NaN      NaN  \n",
       "max       6.000000     NaN  512.329200   NaN      NaN    NaN  NaN      NaN  "
      ]
     },
     "execution_count": 10,
     "metadata": {},
     "output_type": "execute_result"
    }
   ],
   "source": [
    "#Verificamos también alguna información disponible de las variables categoricas\n",
    "df_data.describe(include = \"all\")"
   ]
  },
  {
   "cell_type": "markdown",
   "metadata": {},
   "source": [
    "De acuerdo al análisis realizado hasta el momento podemos observar:  \n",
    "\n",
    "* Hay un total de 891 pasajeros el el dataset proporcionado.\n",
    "* La característica de edad tiene valores faltantes, sin embargo es una variable importante y que influye en la supervivencia de un pasajero, por lo cual tenemos que completar los campos faltantes.\n",
    "* A la variable cabina le faltan mucho más de la mitad de los valores, por lo cual sería difícil completar los valores faltantes, por lo cual eliminaremos esta variable de nuestro conjunto de datos.\n",
    "* A la variable de embarque le faltan solo dos valores, lo cual es muy poco y serán llenados con la clase que más se repite.\n",
    "* Las característica Ticket puede eliminarse de nuestro análisis ya que contiene una alta proporción de duplicados y puede que no haya una correlación entre Ticket y la supervivencia.\n",
    "* La característica PassengerId puede ser eliminada del conjunto de datos ya que no contribuye a la supervivencia.\n",
    "* La característica de nombre es relativamente no estándar, puede no contribuir directamente a la supervivencia, sin embargo transformandola podríamos obtener información importante."
   ]
  },
  {
   "cell_type": "code",
   "execution_count": 11,
   "metadata": {},
   "outputs": [],
   "source": [
    "#Eliminamos las características que no son necesarias, de acuerdo al análisis previo\n",
    "df_data.drop(['PassengerId'], axis=1,inplace=True )\n",
    "df_data.drop(['Cabin'], axis=1,inplace=True )\n",
    "df_data.drop(['Ticket'], axis=1,inplace=True )"
   ]
  },
  {
   "cell_type": "code",
   "execution_count": 12,
   "metadata": {},
   "outputs": [],
   "source": [
    "#Completamos los valores faltantes en el conjunto de datos\n",
    "\n",
    "#completamos la edad con la mediana \n",
    "df_data['Age'].fillna(df_data['Age'].median(), inplace = True)\n",
    "\n",
    "#Completamos el embarque con la moda, ya que esta es una variable categórica \n",
    "df_data['Embarked'].fillna(df_data['Embarked'].mode()[0], inplace = True)"
   ]
  },
  {
   "cell_type": "markdown",
   "metadata": {},
   "source": [
    "Para proceder con el análisis cuantitativo de datos, se procederá a convertir la variable obejtivo a valor númerico"
   ]
  },
  {
   "cell_type": "code",
   "execution_count": 13,
   "metadata": {},
   "outputs": [
    {
     "data": {
      "text/html": [
       "<div>\n",
       "<style scoped>\n",
       "    .dataframe tbody tr th:only-of-type {\n",
       "        vertical-align: middle;\n",
       "    }\n",
       "\n",
       "    .dataframe tbody tr th {\n",
       "        vertical-align: top;\n",
       "    }\n",
       "\n",
       "    .dataframe thead th {\n",
       "        text-align: right;\n",
       "    }\n",
       "</style>\n",
       "<table border=\"1\" class=\"dataframe\">\n",
       "  <thead>\n",
       "    <tr style=\"text-align: right;\">\n",
       "      <th></th>\n",
       "      <th>Name</th>\n",
       "      <th>Age</th>\n",
       "      <th>SibSp</th>\n",
       "      <th>Parch</th>\n",
       "      <th>Fare</th>\n",
       "      <th>Embarked</th>\n",
       "      <th>Pclass</th>\n",
       "      <th>Sex</th>\n",
       "      <th>Survived</th>\n",
       "    </tr>\n",
       "  </thead>\n",
       "  <tbody>\n",
       "    <tr>\n",
       "      <th>0</th>\n",
       "      <td>Braund, Mr. Owen Harris</td>\n",
       "      <td>22.0</td>\n",
       "      <td>1</td>\n",
       "      <td>0</td>\n",
       "      <td>7.2500</td>\n",
       "      <td>S</td>\n",
       "      <td>Lower</td>\n",
       "      <td>M</td>\n",
       "      <td>0</td>\n",
       "    </tr>\n",
       "    <tr>\n",
       "      <th>1</th>\n",
       "      <td>Cumings, Mrs. John Bradley (Florence Briggs Th...</td>\n",
       "      <td>38.0</td>\n",
       "      <td>1</td>\n",
       "      <td>0</td>\n",
       "      <td>71.2833</td>\n",
       "      <td>C</td>\n",
       "      <td>Upper</td>\n",
       "      <td>F</td>\n",
       "      <td>1</td>\n",
       "    </tr>\n",
       "    <tr>\n",
       "      <th>2</th>\n",
       "      <td>Heikkinen, Miss. Laina</td>\n",
       "      <td>26.0</td>\n",
       "      <td>0</td>\n",
       "      <td>0</td>\n",
       "      <td>7.9250</td>\n",
       "      <td>S</td>\n",
       "      <td>Lower</td>\n",
       "      <td>F</td>\n",
       "      <td>1</td>\n",
       "    </tr>\n",
       "    <tr>\n",
       "      <th>3</th>\n",
       "      <td>Futrelle, Mrs. Jacques Heath (Lily May Peel)</td>\n",
       "      <td>35.0</td>\n",
       "      <td>1</td>\n",
       "      <td>0</td>\n",
       "      <td>53.1000</td>\n",
       "      <td>S</td>\n",
       "      <td>Upper</td>\n",
       "      <td>F</td>\n",
       "      <td>1</td>\n",
       "    </tr>\n",
       "    <tr>\n",
       "      <th>4</th>\n",
       "      <td>Allen, Mr. William Henry</td>\n",
       "      <td>35.0</td>\n",
       "      <td>0</td>\n",
       "      <td>0</td>\n",
       "      <td>8.0500</td>\n",
       "      <td>S</td>\n",
       "      <td>Lower</td>\n",
       "      <td>M</td>\n",
       "      <td>0</td>\n",
       "    </tr>\n",
       "  </tbody>\n",
       "</table>\n",
       "</div>"
      ],
      "text/plain": [
       "                                                Name   Age  SibSp  Parch  \\\n",
       "0                            Braund, Mr. Owen Harris  22.0      1      0   \n",
       "1  Cumings, Mrs. John Bradley (Florence Briggs Th...  38.0      1      0   \n",
       "2                             Heikkinen, Miss. Laina  26.0      0      0   \n",
       "3       Futrelle, Mrs. Jacques Heath (Lily May Peel)  35.0      1      0   \n",
       "4                           Allen, Mr. William Henry  35.0      0      0   \n",
       "\n",
       "      Fare Embarked Pclass Sex  Survived  \n",
       "0   7.2500        S  Lower   M         0  \n",
       "1  71.2833        C  Upper   F         1  \n",
       "2   7.9250        S  Lower   F         1  \n",
       "3  53.1000        S  Upper   F         1  \n",
       "4   8.0500        S  Lower   M         0  "
      ]
     },
     "execution_count": 13,
     "metadata": {},
     "output_type": "execute_result"
    }
   ],
   "source": [
    "df_data['Survived'].replace(to_replace=['Y','N'], value=[1,0],inplace=True)\n",
    "\n",
    "df_data.head()"
   ]
  },
  {
   "cell_type": "markdown",
   "metadata": {},
   "source": [
    "Verificaremos cada columna del conjunto de datos, para verficar si las que elegimos si son necesarios o no, de acuerdo a como aportan en la cantidad de personas que sobrevivieron o no."
   ]
  },
  {
   "cell_type": "code",
   "execution_count": 14,
   "metadata": {},
   "outputs": [
    {
     "name": "stdout",
     "output_type": "stream",
     "text": [
      "Porcentaje de personas que Sobrevivieron al naufragio 38.38\n",
      "Porcentaje de personas que No sobrevivieron al naufragio 61.62\n"
     ]
    }
   ],
   "source": [
    "print('Porcentaje de personas que Sobrevivieron al naufragio', round(df_data.Survived.sum()/df_data.Survived.count()*100, 2))\n",
    "print('Porcentaje de personas que No sobrevivieron al naufragio', round([df_data[\"Survived\"] == 0][0].sum()/df_data.Survived.count()*100, 2))"
   ]
  },
  {
   "cell_type": "code",
   "execution_count": 15,
   "metadata": {},
   "outputs": [
    {
     "data": {
      "image/png": "[encoded data removed]",
      "text/plain": [
       "<Figure size 432x288 with 1 Axes>"
      ]
     },
     "metadata": {
      "needs_background": "light"
     },
     "output_type": "display_data"
    }
   ],
   "source": [
    "#Cuantas personas sobrevivieron y cuantas no\n",
    "#Se puede observar que la mayoría de personas no sobrevivió al naufragio\n",
    "sns.countplot(x='Survived', data=df_data);"
   ]
  },
  {
   "cell_type": "markdown",
   "metadata": {},
   "source": [
    "**Variables Categóricas**"
   ]
  },
  {
   "cell_type": "code",
   "execution_count": 16,
   "metadata": {},
   "outputs": [
    {
     "name": "stdout",
     "output_type": "stream",
     "text": [
      "Sex\n",
      "F    74.20\n",
      "M    18.89\n",
      "Name: Survived, dtype: float64\n"
     ]
    },
    {
     "data": {
      "text/plain": [
       "<matplotlib.axes._subplots.AxesSubplot at 0x1c1577578c8>"
      ]
     },
     "execution_count": 16,
     "metadata": {},
     "output_type": "execute_result"
    },
    {
     "data": {
      "image/png": "[encoded data removed]",
      "text/plain": [
       "<Figure size 432x288 with 1 Axes>"
      ]
     },
     "metadata": {
      "needs_background": "light"
     },
     "output_type": "display_data"
    }
   ],
   "source": [
    "#Empezamos con el Sexo del pasajero\n",
    "#podemos observar que de acuerdo al lema de mujeres y niños primero, efectivamente, sobrevivieron más mujeres que hombres\n",
    "print(round(df_data.groupby(['Sex'])['Survived'].mean()*100,2))\n",
    "sns.barplot(x=\"Sex\", y=\"Survived\", data=df_data)"
   ]
  },
  {
   "cell_type": "code",
   "execution_count": 17,
   "metadata": {},
   "outputs": [
    {
     "name": "stdout",
     "output_type": "stream",
     "text": [
      "Porcentaje sobrevivientes de la clase <pandas.core.groupby.generic.DataFrameGroupBy object at 0x000001C1577D0C08> Pclass\n",
      "Lower     24.24\n",
      "Middle    47.28\n",
      "Upper     62.96\n",
      "Name: Survived, dtype: float64\n"
     ]
    },
    {
     "data": {
      "text/plain": [
       "<matplotlib.axes._subplots.AxesSubplot at 0x1c1577df7c8>"
      ]
     },
     "execution_count": 17,
     "metadata": {},
     "output_type": "execute_result"
    },
    {
     "data": {
      "image/png": "[encoded data removed]",
      "text/plain": [
       "<Figure size 432x288 with 1 Axes>"
      ]
     },
     "metadata": {
      "needs_background": "light"
     },
     "output_type": "display_data"
    }
   ],
   "source": [
    "#para Pclass\n",
    "#podemos observar que sobrevivieron más personas de la case alta y clase media\n",
    "print('Porcentaje sobrevivientes de la clase', df_data.groupby(['Pclass']), round(df_data.groupby(['Pclass'])['Survived'].mean()*100,2))\n",
    "sns.barplot(x=\"Pclass\", y=\"Survived\", data=df_data)"
   ]
  },
  {
   "cell_type": "code",
   "execution_count": 18,
   "metadata": {},
   "outputs": [
    {
     "name": "stdout",
     "output_type": "stream",
     "text": [
      "Embarked\n",
      "C    55.36\n",
      "Q    38.96\n",
      "S    33.90\n",
      "Name: Survived, dtype: float64\n"
     ]
    },
    {
     "data": {
      "text/plain": [
       "<matplotlib.axes._subplots.AxesSubplot at 0x1c157836ac8>"
      ]
     },
     "execution_count": 18,
     "metadata": {},
     "output_type": "execute_result"
    },
    {
     "data": {
      "image/png": "[encoded data removed]",
      "text/plain": [
       "<Figure size 432x288 with 1 Axes>"
      ]
     },
     "metadata": {
      "needs_background": "light"
     },
     "output_type": "display_data"
    }
   ],
   "source": [
    "#Para el puerto en el que embarcó el pasajero\n",
    "#Sobrebvivieron más pasajeros que embarcaron en Cherbourg\n",
    "print(round(df_data.groupby(['Embarked'])['Survived'].mean()*100,2))\n",
    "sns.barplot(x=\"Embarked\", y=\"Survived\", data=df_data)"
   ]
  },
  {
   "cell_type": "markdown",
   "metadata": {},
   "source": [
    "**Variables Númericas**"
   ]
  },
  {
   "cell_type": "code",
   "execution_count": 19,
   "metadata": {},
   "outputs": [
    {
     "data": {
      "image/png": "[encoded data removed]",
      "text/plain": [
       "<Figure size 432x288 with 2 Axes>"
      ]
     },
     "metadata": {
      "needs_background": "light"
     },
     "output_type": "display_data"
    }
   ],
   "source": [
    "#Matriz de correlación entre las variables númericas (SibSp, Parch, Age, y Fare) y la variable objetivo Surivived\n",
    "Mcorrelacion = sns.heatmap(df_data[[\"Survived\",\"SibSp\",\"Parch\",\"Age\",\"Fare\"]].corr(),annot=True, fmt = \".2f\", cmap = \"coolwarm\")"
   ]
  },
  {
   "cell_type": "markdown",
   "metadata": {},
   "source": [
    "Solo la variable de Fare parece tener una correlación significativa con la probabilidad de supervivencia, sin embargo, esto no significa que las otras características no sean útiles. Las subpoblaciones en estas características se pueden correlacionar con la supervivencia. Para determinar esto, vamos a explorar más a detalle estas características"
   ]
  },
  {
   "cell_type": "code",
   "execution_count": 20,
   "metadata": {},
   "outputs": [
    {
     "data": {
      "image/png": "[encoded data removed]",
      "text/plain": [
       "<Figure size 432x432 with 1 Axes>"
      ]
     },
     "metadata": {
      "needs_background": "light"
     },
     "output_type": "display_data"
    }
   ],
   "source": [
    "# Para la característica SibSp vs Survived\n",
    "g = sns.catplot(x=\"SibSp\", y=\"Survived\", data=df_data, kind=\"bar\", height = 6, palette = \"muted\")\n",
    "g.despine(left=True)\n",
    "g = g.set_ylabels(\"probabilidad de supervivencia\")"
   ]
  },
  {
   "cell_type": "markdown",
   "metadata": {},
   "source": [
    "De acuerdo con la gráfica, parece que los pasajeros que tienen varios hermanos/cónyuge tienen menos posibilidades de sobrevivir, así mismo, los pasajeros que viajaban solos (SibSP = 0) o con otras dos personas (SibSP 1 o 2) tienen más posibilidades de sobrevivir.  \n",
    "Tomando en cuenta esta información podemos considerar una nueva característica que describa estas categorías"
   ]
  },
  {
   "cell_type": "code",
   "execution_count": 21,
   "metadata": {},
   "outputs": [
    {
     "data": {
      "image/png": "[encoded data removed]",
      "text/plain": [
       "<Figure size 432x432 with 1 Axes>"
      ]
     },
     "metadata": {
      "needs_background": "light"
     },
     "output_type": "display_data"
    }
   ],
   "source": [
    "#Para Parch vs Survived\n",
    "g  = sns.catplot(x=\"Parch\", y=\"Survived\", data=df_data, kind=\"bar\", height = 6 , palette = \"muted\")\n",
    "g.despine(left=True)\n",
    "g = g.set_ylabels(\"Probabiidad de Supervivencia\")"
   ]
  },
  {
   "cell_type": "markdown",
   "metadata": {},
   "source": [
    "Las familias pequeñas tienen más posibilidades de sobrevivir, más que los que viajan sin padres e hijos (Parch=0), familias medianas (Parch 3,4) y familias grandes (Parch 5,6). También se puede observar que hay una desviación estándar importante en la supervivencia de los pasajeros con Parch=3."
   ]
  },
  {
   "cell_type": "code",
   "execution_count": 22,
   "metadata": {},
   "outputs": [
    {
     "data": {
      "text/plain": [
       "<matplotlib.axes._subplots.AxesSubplot at 0x1c157acb388>"
      ]
     },
     "execution_count": 22,
     "metadata": {},
     "output_type": "execute_result"
    },
    {
     "data": {
      "image/png": "[encoded data removed]",
      "text/plain": [
       "<Figure size 432x288 with 1 Axes>"
      ]
     },
     "metadata": {
      "needs_background": "light"
     },
     "output_type": "display_data"
    }
   ],
   "source": [
    "#Distribución para la edad\n",
    "sns.distplot(df_data['Age'][df_data['Survived']==0]) \n",
    "sns.distplot(df_data['Age'][df_data['Survived']==1], color = 'orange')"
   ]
  },
  {
   "cell_type": "code",
   "execution_count": 23,
   "metadata": {},
   "outputs": [
    {
     "data": {
      "image/png": "[encoded data removed]",
      "text/plain": [
       "<Figure size 432x216 with 2 Axes>"
      ]
     },
     "metadata": {
      "needs_background": "light"
     },
     "output_type": "display_data"
    }
   ],
   "source": [
    "g = sns.FacetGrid(df_data, col='Survived')\n",
    "g = g.map(sns.distplot, \"Age\")"
   ]
  },
  {
   "cell_type": "markdown",
   "metadata": {},
   "source": [
    "La distribución por edad parece ser una distribución gaussiana.\n",
    "Asi, mismo, podemos notar que las distribuciones de edad no son las mismas para survived=0(No sobrevivientes) y survived=1(Sobrevivientes). Hay un pico correspondiente a los pasajeros jóvenes que han sobrevivido. También vemos que los pasajeros entre 60 y 80 han sobrevivido menos.  \n",
    "También podemos ver que hay categorías de edad de pasajeros que tienen más o menos posibilidades de sobrevivir. Pareciera que los pasajeros muy jóvenes tienen más posibilidades de sobrevivir.  \n",
    "\n",
    "Cuando superponemos las dos densidades, vemos claramente un procentaje mayor de sobrevivencia (entre 0 y 5) para bebés y niños muy pequeños."
   ]
  },
  {
   "cell_type": "code",
   "execution_count": 24,
   "metadata": {},
   "outputs": [
    {
     "data": {
      "text/plain": [
       "<matplotlib.axes._subplots.AxesSubplot at 0x1c158bb3648>"
      ]
     },
     "execution_count": 24,
     "metadata": {},
     "output_type": "execute_result"
    },
    {
     "data": {
      "image/png": "[encoded data removed]",
      "text/plain": [
       "<Figure size 432x288 with 1 Axes>"
      ]
     },
     "metadata": {
      "needs_background": "light"
     },
     "output_type": "display_data"
    }
   ],
   "source": [
    "sns.distplot(df_data['Fare'][df_data['Survived']==0])\n",
    "sns.distplot(df_data['Fare'][df_data['Survived']==1], color='Orange')"
   ]
  },
  {
   "cell_type": "markdown",
   "metadata": {},
   "source": [
    "Para las características de SibSp y Parch, vamos a agregar estas dos columnas a una nueva variable llamada Family, ya que por si solas estás variables no aportan mucho a nuestro modelo.\n",
    "\n",
    "\n",
    "Podemos imaginar que las familias numerosas tendrán más dificultades para evacuar, buscando a sus hermanas, hermanos, padres durante la evacuación. Entonces, se creará una variable \"Fsize\" (tamaño de familia) que es la suma de SibSp, Parch y 1 (incluido el pasajero)"
   ]
  },
  {
   "cell_type": "code",
   "execution_count": 25,
   "metadata": {},
   "outputs": [
    {
     "data": {
      "text/plain": [
       "1     537\n",
       "2     161\n",
       "3     102\n",
       "4      29\n",
       "6      22\n",
       "5      15\n",
       "7      12\n",
       "11      7\n",
       "8       6\n",
       "Name: Fsize, dtype: int64"
      ]
     },
     "execution_count": 25,
     "metadata": {},
     "output_type": "execute_result"
    }
   ],
   "source": [
    "df_data['Fsize']=df_data['SibSp'] + df_data['Parch'] + 1\n",
    "\n",
    "df_data['Fsize'].value_counts()"
   ]
  },
  {
   "cell_type": "code",
   "execution_count": 26,
   "metadata": {},
   "outputs": [
    {
     "name": "stdout",
     "output_type": "stream",
     "text": [
      "Fsize\n",
      "1     30.35\n",
      "2     55.28\n",
      "3     57.84\n",
      "4     72.41\n",
      "5     20.00\n",
      "6     13.64\n",
      "7     33.33\n",
      "8      0.00\n",
      "11     0.00\n",
      "Name: Survived, dtype: float64\n"
     ]
    }
   ],
   "source": [
    "print(round(df_data.groupby(['Fsize'])['Survived'].mean()*100,2))"
   ]
  },
  {
   "cell_type": "markdown",
   "metadata": {},
   "source": [
    "El tamaño de la familia parece jugar un papel importante, la probabilidad de supervivencia es peor para las familias numerosas, por lo cual se crearán 4 categorías de tamaño de familia."
   ]
  },
  {
   "cell_type": "code",
   "execution_count": 27,
   "metadata": {},
   "outputs": [
    {
     "data": {
      "text/html": [
       "<div>\n",
       "<style scoped>\n",
       "    .dataframe tbody tr th:only-of-type {\n",
       "        vertical-align: middle;\n",
       "    }\n",
       "\n",
       "    .dataframe tbody tr th {\n",
       "        vertical-align: top;\n",
       "    }\n",
       "\n",
       "    .dataframe thead th {\n",
       "        text-align: right;\n",
       "    }\n",
       "</style>\n",
       "<table border=\"1\" class=\"dataframe\">\n",
       "  <thead>\n",
       "    <tr style=\"text-align: right;\">\n",
       "      <th></th>\n",
       "      <th>Name</th>\n",
       "      <th>Age</th>\n",
       "      <th>SibSp</th>\n",
       "      <th>Parch</th>\n",
       "      <th>Fare</th>\n",
       "      <th>Embarked</th>\n",
       "      <th>Pclass</th>\n",
       "      <th>Sex</th>\n",
       "      <th>Survived</th>\n",
       "      <th>Fsize</th>\n",
       "      <th>Single</th>\n",
       "      <th>SmallF</th>\n",
       "      <th>MedF</th>\n",
       "      <th>LargeF</th>\n",
       "    </tr>\n",
       "  </thead>\n",
       "  <tbody>\n",
       "    <tr>\n",
       "      <th>0</th>\n",
       "      <td>Braund, Mr. Owen Harris</td>\n",
       "      <td>22.0</td>\n",
       "      <td>1</td>\n",
       "      <td>0</td>\n",
       "      <td>7.2500</td>\n",
       "      <td>S</td>\n",
       "      <td>Lower</td>\n",
       "      <td>M</td>\n",
       "      <td>0</td>\n",
       "      <td>2</td>\n",
       "      <td>0</td>\n",
       "      <td>1</td>\n",
       "      <td>0</td>\n",
       "      <td>0</td>\n",
       "    </tr>\n",
       "    <tr>\n",
       "      <th>1</th>\n",
       "      <td>Cumings, Mrs. John Bradley (Florence Briggs Th...</td>\n",
       "      <td>38.0</td>\n",
       "      <td>1</td>\n",
       "      <td>0</td>\n",
       "      <td>71.2833</td>\n",
       "      <td>C</td>\n",
       "      <td>Upper</td>\n",
       "      <td>F</td>\n",
       "      <td>1</td>\n",
       "      <td>2</td>\n",
       "      <td>0</td>\n",
       "      <td>1</td>\n",
       "      <td>0</td>\n",
       "      <td>0</td>\n",
       "    </tr>\n",
       "    <tr>\n",
       "      <th>2</th>\n",
       "      <td>Heikkinen, Miss. Laina</td>\n",
       "      <td>26.0</td>\n",
       "      <td>0</td>\n",
       "      <td>0</td>\n",
       "      <td>7.9250</td>\n",
       "      <td>S</td>\n",
       "      <td>Lower</td>\n",
       "      <td>F</td>\n",
       "      <td>1</td>\n",
       "      <td>1</td>\n",
       "      <td>1</td>\n",
       "      <td>0</td>\n",
       "      <td>0</td>\n",
       "      <td>0</td>\n",
       "    </tr>\n",
       "    <tr>\n",
       "      <th>3</th>\n",
       "      <td>Futrelle, Mrs. Jacques Heath (Lily May Peel)</td>\n",
       "      <td>35.0</td>\n",
       "      <td>1</td>\n",
       "      <td>0</td>\n",
       "      <td>53.1000</td>\n",
       "      <td>S</td>\n",
       "      <td>Upper</td>\n",
       "      <td>F</td>\n",
       "      <td>1</td>\n",
       "      <td>2</td>\n",
       "      <td>0</td>\n",
       "      <td>1</td>\n",
       "      <td>0</td>\n",
       "      <td>0</td>\n",
       "    </tr>\n",
       "    <tr>\n",
       "      <th>4</th>\n",
       "      <td>Allen, Mr. William Henry</td>\n",
       "      <td>35.0</td>\n",
       "      <td>0</td>\n",
       "      <td>0</td>\n",
       "      <td>8.0500</td>\n",
       "      <td>S</td>\n",
       "      <td>Lower</td>\n",
       "      <td>M</td>\n",
       "      <td>0</td>\n",
       "      <td>1</td>\n",
       "      <td>1</td>\n",
       "      <td>0</td>\n",
       "      <td>0</td>\n",
       "      <td>0</td>\n",
       "    </tr>\n",
       "  </tbody>\n",
       "</table>\n",
       "</div>"
      ],
      "text/plain": [
       "                                                Name   Age  SibSp  Parch  \\\n",
       "0                            Braund, Mr. Owen Harris  22.0      1      0   \n",
       "1  Cumings, Mrs. John Bradley (Florence Briggs Th...  38.0      1      0   \n",
       "2                             Heikkinen, Miss. Laina  26.0      0      0   \n",
       "3       Futrelle, Mrs. Jacques Heath (Lily May Peel)  35.0      1      0   \n",
       "4                           Allen, Mr. William Henry  35.0      0      0   \n",
       "\n",
       "      Fare Embarked Pclass Sex  Survived  Fsize  Single  SmallF  MedF  LargeF  \n",
       "0   7.2500        S  Lower   M         0      2       0       1     0       0  \n",
       "1  71.2833        C  Upper   F         1      2       0       1     0       0  \n",
       "2   7.9250        S  Lower   F         1      1       1       0     0       0  \n",
       "3  53.1000        S  Upper   F         1      2       0       1     0       0  \n",
       "4   8.0500        S  Lower   M         0      1       1       0     0       0  "
      ]
     },
     "execution_count": 27,
     "metadata": {},
     "output_type": "execute_result"
    }
   ],
   "source": [
    "df_data['Single'] = df_data['Fsize'].map(lambda s: 1 if s == 1 else 0)\n",
    "df_data['SmallF'] = df_data['Fsize'].map(lambda s: 1 if  s == 2  else 0)\n",
    "df_data['MedF'] = df_data['Fsize'].map(lambda s: 1 if 3 <= s <= 4 else 0)\n",
    "df_data['LargeF'] = df_data['Fsize'].map(lambda s: 1 if s >= 5 else 0)\n",
    "df_data.head()"
   ]
  },
  {
   "cell_type": "code",
   "execution_count": 28,
   "metadata": {},
   "outputs": [
    {
     "data": {
      "image/png": "[encoded data removed]",
      "text/plain": [
       "<Figure size 360x360 with 1 Axes>"
      ]
     },
     "metadata": {
      "needs_background": "light"
     },
     "output_type": "display_data"
    },
    {
     "data": {
      "image/png": "[encoded data removed]",
      "text/plain": [
       "<Figure size 360x360 with 1 Axes>"
      ]
     },
     "metadata": {
      "needs_background": "light"
     },
     "output_type": "display_data"
    },
    {
     "data": {
      "image/png": "[encoded data removed]",
      "text/plain": [
       "<Figure size 360x360 with 1 Axes>"
      ]
     },
     "metadata": {
      "needs_background": "light"
     },
     "output_type": "display_data"
    },
    {
     "data": {
      "image/png": "[encoded data removed]",
      "text/plain": [
       "<Figure size 360x360 with 1 Axes>"
      ]
     },
     "metadata": {
      "needs_background": "light"
     },
     "output_type": "display_data"
    }
   ],
   "source": [
    "gFS = sns.catplot(x=\"Single\",y=\"Survived\",data=df_data,kind=\"bar\")\n",
    "gFS = gFS.set_ylabels(\"Survival Probability\")\n",
    "gFS = sns.catplot(x=\"SmallF\",y=\"Survived\",data=df_data,kind=\"bar\")\n",
    "gFS = gFS.set_ylabels(\"Survival Probability\")\n",
    "gFS = sns.catplot(x=\"MedF\",y=\"Survived\",data=df_data,kind=\"bar\")\n",
    "gFS = gFS.set_ylabels(\"Survival Probability\")\n",
    "gFS = sns.catplot(x=\"LargeF\",y=\"Survived\",data=df_data,kind=\"bar\")\n",
    "gFS = gFS.set_ylabels(\"Survival Probability\")"
   ]
  },
  {
   "cell_type": "markdown",
   "metadata": {},
   "source": [
    "Las gráficas de las categorías de tamaño de familia muestran que las familias pequeñas y medianas tienen más posibilidades de sobrevivir que los pasajeros individuales y las familias numerosas."
   ]
  },
  {
   "cell_type": "code",
   "execution_count": 29,
   "metadata": {},
   "outputs": [],
   "source": [
    "# Convertimos la variable Sex en un valor categórico 0 para masculino y 1 para femenino\n",
    "df_data[\"Sex\"] = df_data[\"Sex\"].map({\"M\": 0, \"F\":1})"
   ]
  },
  {
   "cell_type": "code",
   "execution_count": 30,
   "metadata": {},
   "outputs": [],
   "source": [
    "#Realizamos one-hot encoding a la variable categorica de Embarked\n",
    "df_data = pd.get_dummies(df_data, columns = [\"Embarked\"], prefix=\"Em\")"
   ]
  },
  {
   "cell_type": "code",
   "execution_count": 31,
   "metadata": {},
   "outputs": [],
   "source": [
    "#Realizamos one-hot encoding a la variable categorica de Pclass\n",
    "#df_data[\"Pclass\"] = df_data[\"Pclass\"].astype(\"category\")\n",
    "df_data = pd.get_dummies(df_data, columns = [\"Pclass\"],prefix=\"Pc\")"
   ]
  },
  {
   "cell_type": "code",
   "execution_count": 32,
   "metadata": {},
   "outputs": [
    {
     "data": {
      "text/html": [
       "<div>\n",
       "<style scoped>\n",
       "    .dataframe tbody tr th:only-of-type {\n",
       "        vertical-align: middle;\n",
       "    }\n",
       "\n",
       "    .dataframe tbody tr th {\n",
       "        vertical-align: top;\n",
       "    }\n",
       "\n",
       "    .dataframe thead th {\n",
       "        text-align: right;\n",
       "    }\n",
       "</style>\n",
       "<table border=\"1\" class=\"dataframe\">\n",
       "  <thead>\n",
       "    <tr style=\"text-align: right;\">\n",
       "      <th></th>\n",
       "      <th>Name</th>\n",
       "      <th>Age</th>\n",
       "      <th>SibSp</th>\n",
       "      <th>Parch</th>\n",
       "      <th>Fare</th>\n",
       "      <th>Sex</th>\n",
       "      <th>Survived</th>\n",
       "      <th>Fsize</th>\n",
       "      <th>Single</th>\n",
       "      <th>SmallF</th>\n",
       "      <th>MedF</th>\n",
       "      <th>LargeF</th>\n",
       "      <th>Em_C</th>\n",
       "      <th>Em_Q</th>\n",
       "      <th>Em_S</th>\n",
       "      <th>Pc_Lower</th>\n",
       "      <th>Pc_Middle</th>\n",
       "      <th>Pc_Upper</th>\n",
       "    </tr>\n",
       "  </thead>\n",
       "  <tbody>\n",
       "    <tr>\n",
       "      <th>0</th>\n",
       "      <td>Braund, Mr. Owen Harris</td>\n",
       "      <td>22.0</td>\n",
       "      <td>1</td>\n",
       "      <td>0</td>\n",
       "      <td>7.2500</td>\n",
       "      <td>0</td>\n",
       "      <td>0</td>\n",
       "      <td>2</td>\n",
       "      <td>0</td>\n",
       "      <td>1</td>\n",
       "      <td>0</td>\n",
       "      <td>0</td>\n",
       "      <td>0</td>\n",
       "      <td>0</td>\n",
       "      <td>1</td>\n",
       "      <td>1</td>\n",
       "      <td>0</td>\n",
       "      <td>0</td>\n",
       "    </tr>\n",
       "    <tr>\n",
       "      <th>1</th>\n",
       "      <td>Cumings, Mrs. John Bradley (Florence Briggs Th...</td>\n",
       "      <td>38.0</td>\n",
       "      <td>1</td>\n",
       "      <td>0</td>\n",
       "      <td>71.2833</td>\n",
       "      <td>1</td>\n",
       "      <td>1</td>\n",
       "      <td>2</td>\n",
       "      <td>0</td>\n",
       "      <td>1</td>\n",
       "      <td>0</td>\n",
       "      <td>0</td>\n",
       "      <td>1</td>\n",
       "      <td>0</td>\n",
       "      <td>0</td>\n",
       "      <td>0</td>\n",
       "      <td>0</td>\n",
       "      <td>1</td>\n",
       "    </tr>\n",
       "    <tr>\n",
       "      <th>2</th>\n",
       "      <td>Heikkinen, Miss. Laina</td>\n",
       "      <td>26.0</td>\n",
       "      <td>0</td>\n",
       "      <td>0</td>\n",
       "      <td>7.9250</td>\n",
       "      <td>1</td>\n",
       "      <td>1</td>\n",
       "      <td>1</td>\n",
       "      <td>1</td>\n",
       "      <td>0</td>\n",
       "      <td>0</td>\n",
       "      <td>0</td>\n",
       "      <td>0</td>\n",
       "      <td>0</td>\n",
       "      <td>1</td>\n",
       "      <td>1</td>\n",
       "      <td>0</td>\n",
       "      <td>0</td>\n",
       "    </tr>\n",
       "    <tr>\n",
       "      <th>3</th>\n",
       "      <td>Futrelle, Mrs. Jacques Heath (Lily May Peel)</td>\n",
       "      <td>35.0</td>\n",
       "      <td>1</td>\n",
       "      <td>0</td>\n",
       "      <td>53.1000</td>\n",
       "      <td>1</td>\n",
       "      <td>1</td>\n",
       "      <td>2</td>\n",
       "      <td>0</td>\n",
       "      <td>1</td>\n",
       "      <td>0</td>\n",
       "      <td>0</td>\n",
       "      <td>0</td>\n",
       "      <td>0</td>\n",
       "      <td>1</td>\n",
       "      <td>0</td>\n",
       "      <td>0</td>\n",
       "      <td>1</td>\n",
       "    </tr>\n",
       "    <tr>\n",
       "      <th>4</th>\n",
       "      <td>Allen, Mr. William Henry</td>\n",
       "      <td>35.0</td>\n",
       "      <td>0</td>\n",
       "      <td>0</td>\n",
       "      <td>8.0500</td>\n",
       "      <td>0</td>\n",
       "      <td>0</td>\n",
       "      <td>1</td>\n",
       "      <td>1</td>\n",
       "      <td>0</td>\n",
       "      <td>0</td>\n",
       "      <td>0</td>\n",
       "      <td>0</td>\n",
       "      <td>0</td>\n",
       "      <td>1</td>\n",
       "      <td>1</td>\n",
       "      <td>0</td>\n",
       "      <td>0</td>\n",
       "    </tr>\n",
       "  </tbody>\n",
       "</table>\n",
       "</div>"
      ],
      "text/plain": [
       "                                                Name   Age  SibSp  Parch  \\\n",
       "0                            Braund, Mr. Owen Harris  22.0      1      0   \n",
       "1  Cumings, Mrs. John Bradley (Florence Briggs Th...  38.0      1      0   \n",
       "2                             Heikkinen, Miss. Laina  26.0      0      0   \n",
       "3       Futrelle, Mrs. Jacques Heath (Lily May Peel)  35.0      1      0   \n",
       "4                           Allen, Mr. William Henry  35.0      0      0   \n",
       "\n",
       "      Fare  Sex  Survived  Fsize  Single  SmallF  MedF  LargeF  Em_C  Em_Q  \\\n",
       "0   7.2500    0         0      2       0       1     0       0     0     0   \n",
       "1  71.2833    1         1      2       0       1     0       0     1     0   \n",
       "2   7.9250    1         1      1       1       0     0       0     0     0   \n",
       "3  53.1000    1         1      2       0       1     0       0     0     0   \n",
       "4   8.0500    0         0      1       1       0     0       0     0     0   \n",
       "\n",
       "   Em_S  Pc_Lower  Pc_Middle  Pc_Upper  \n",
       "0     1         1          0         0  \n",
       "1     0         0          0         1  \n",
       "2     1         1          0         0  \n",
       "3     1         0          0         1  \n",
       "4     1         1          0         0  "
      ]
     },
     "execution_count": 32,
     "metadata": {},
     "output_type": "execute_result"
    }
   ],
   "source": [
    "df_data.head()"
   ]
  },
  {
   "cell_type": "code",
   "execution_count": 33,
   "metadata": {},
   "outputs": [],
   "source": [
    "#Eliminamos las columnas que no son necesarias para el entrenamiento\n",
    "df_data.drop(['SibSp','Parch', 'Fsize', 'Name'], axis=1,inplace=True )"
   ]
  },
  {
   "cell_type": "code",
   "execution_count": 34,
   "metadata": {},
   "outputs": [
    {
     "data": {
      "text/html": [
       "<div>\n",
       "<style scoped>\n",
       "    .dataframe tbody tr th:only-of-type {\n",
       "        vertical-align: middle;\n",
       "    }\n",
       "\n",
       "    .dataframe tbody tr th {\n",
       "        vertical-align: top;\n",
       "    }\n",
       "\n",
       "    .dataframe thead th {\n",
       "        text-align: right;\n",
       "    }\n",
       "</style>\n",
       "<table border=\"1\" class=\"dataframe\">\n",
       "  <thead>\n",
       "    <tr style=\"text-align: right;\">\n",
       "      <th></th>\n",
       "      <th>Age</th>\n",
       "      <th>Fare</th>\n",
       "      <th>Sex</th>\n",
       "      <th>Survived</th>\n",
       "      <th>Single</th>\n",
       "      <th>SmallF</th>\n",
       "      <th>MedF</th>\n",
       "      <th>LargeF</th>\n",
       "      <th>Em_C</th>\n",
       "      <th>Em_Q</th>\n",
       "      <th>Em_S</th>\n",
       "      <th>Pc_Lower</th>\n",
       "      <th>Pc_Middle</th>\n",
       "      <th>Pc_Upper</th>\n",
       "    </tr>\n",
       "  </thead>\n",
       "  <tbody>\n",
       "    <tr>\n",
       "      <th>0</th>\n",
       "      <td>22.0</td>\n",
       "      <td>7.2500</td>\n",
       "      <td>0</td>\n",
       "      <td>0</td>\n",
       "      <td>0</td>\n",
       "      <td>1</td>\n",
       "      <td>0</td>\n",
       "      <td>0</td>\n",
       "      <td>0</td>\n",
       "      <td>0</td>\n",
       "      <td>1</td>\n",
       "      <td>1</td>\n",
       "      <td>0</td>\n",
       "      <td>0</td>\n",
       "    </tr>\n",
       "    <tr>\n",
       "      <th>1</th>\n",
       "      <td>38.0</td>\n",
       "      <td>71.2833</td>\n",
       "      <td>1</td>\n",
       "      <td>1</td>\n",
       "      <td>0</td>\n",
       "      <td>1</td>\n",
       "      <td>0</td>\n",
       "      <td>0</td>\n",
       "      <td>1</td>\n",
       "      <td>0</td>\n",
       "      <td>0</td>\n",
       "      <td>0</td>\n",
       "      <td>0</td>\n",
       "      <td>1</td>\n",
       "    </tr>\n",
       "    <tr>\n",
       "      <th>2</th>\n",
       "      <td>26.0</td>\n",
       "      <td>7.9250</td>\n",
       "      <td>1</td>\n",
       "      <td>1</td>\n",
       "      <td>1</td>\n",
       "      <td>0</td>\n",
       "      <td>0</td>\n",
       "      <td>0</td>\n",
       "      <td>0</td>\n",
       "      <td>0</td>\n",
       "      <td>1</td>\n",
       "      <td>1</td>\n",
       "      <td>0</td>\n",
       "      <td>0</td>\n",
       "    </tr>\n",
       "    <tr>\n",
       "      <th>3</th>\n",
       "      <td>35.0</td>\n",
       "      <td>53.1000</td>\n",
       "      <td>1</td>\n",
       "      <td>1</td>\n",
       "      <td>0</td>\n",
       "      <td>1</td>\n",
       "      <td>0</td>\n",
       "      <td>0</td>\n",
       "      <td>0</td>\n",
       "      <td>0</td>\n",
       "      <td>1</td>\n",
       "      <td>0</td>\n",
       "      <td>0</td>\n",
       "      <td>1</td>\n",
       "    </tr>\n",
       "    <tr>\n",
       "      <th>4</th>\n",
       "      <td>35.0</td>\n",
       "      <td>8.0500</td>\n",
       "      <td>0</td>\n",
       "      <td>0</td>\n",
       "      <td>1</td>\n",
       "      <td>0</td>\n",
       "      <td>0</td>\n",
       "      <td>0</td>\n",
       "      <td>0</td>\n",
       "      <td>0</td>\n",
       "      <td>1</td>\n",
       "      <td>1</td>\n",
       "      <td>0</td>\n",
       "      <td>0</td>\n",
       "    </tr>\n",
       "  </tbody>\n",
       "</table>\n",
       "</div>"
      ],
      "text/plain": [
       "    Age     Fare  Sex  Survived  Single  SmallF  MedF  LargeF  Em_C  Em_Q  \\\n",
       "0  22.0   7.2500    0         0       0       1     0       0     0     0   \n",
       "1  38.0  71.2833    1         1       0       1     0       0     1     0   \n",
       "2  26.0   7.9250    1         1       1       0     0       0     0     0   \n",
       "3  35.0  53.1000    1         1       0       1     0       0     0     0   \n",
       "4  35.0   8.0500    0         0       1       0     0       0     0     0   \n",
       "\n",
       "   Em_S  Pc_Lower  Pc_Middle  Pc_Upper  \n",
       "0     1         1          0         0  \n",
       "1     0         0          0         1  \n",
       "2     1         1          0         0  \n",
       "3     1         0          0         1  \n",
       "4     1         1          0         0  "
      ]
     },
     "execution_count": 34,
     "metadata": {},
     "output_type": "execute_result"
    }
   ],
   "source": [
    "df_data.head()"
   ]
  },
  {
   "cell_type": "markdown",
   "metadata": {},
   "source": [
    "**Train, val, test Split**"
   ]
  },
  {
   "cell_type": "code",
   "execution_count": 35,
   "metadata": {},
   "outputs": [
    {
     "name": "stdout",
     "output_type": "stream",
     "text": [
      "Longitud del data set completo:  891\n",
      "Longitud del data set de entrenamiento:  534\n",
      "Longitud del data set de pruebas:  357\n"
     ]
    }
   ],
   "source": [
    "#dividimos el data set en información de entrenamiento y pruebas primero\n",
    "df_train, df_test = train_test_split(df_data, test_size=0.40, random_state=42, shuffle=True)\n",
    "\n",
    "print('Longitud del data set completo: ',len(df_data))\n",
    "print('Longitud del data set de entrenamiento: ',len(df_train))\n",
    "print('Longitud del data set de pruebas: ',len(df_test))"
   ]
  },
  {
   "cell_type": "code",
   "execution_count": 36,
   "metadata": {},
   "outputs": [
    {
     "name": "stdout",
     "output_type": "stream",
     "text": [
      "Longitud del data set de pruebas:  178\n",
      "Longitud del data set de validación:  179\n"
     ]
    }
   ],
   "source": [
    "#Volvemos a dividir los datos para datos de pruebas y datos de validación\n",
    "df_test, df_val = train_test_split(df_test, test_size=0.50, random_state=42, shuffle=True)\n",
    "\n",
    "print('Longitud del data set de pruebas: ',len(df_test))\n",
    "print('Longitud del data set de validación: ',len(df_val))"
   ]
  },
  {
   "cell_type": "markdown",
   "metadata": {},
   "source": [
    "**Sampleo bootstrap**  \n",
    "Usando muestras de tamaño 400"
   ]
  },
  {
   "cell_type": "code",
   "execution_count": 159,
   "metadata": {},
   "outputs": [],
   "source": [
    "#Obtenemos un data frame para x con todas las variables independientes y una para Y con la variable a predecir\n",
    "cols_x = df_train.columns.tolist()\n",
    "cols_x.remove('Survived')\n",
    "#Datos Entrenamiento\n",
    "y_train = df_train['Survived']\n",
    "x_train = pd.DataFrame(data = df_train, columns = cols_x)\n",
    "\n",
    "#Datos Validación\n",
    "y_val = df_val['Survived']\n",
    "x_val = pd.DataFrame(data = df_val, columns = cols_x)"
   ]
  },
  {
   "cell_type": "code",
   "execution_count": 160,
   "metadata": {},
   "outputs": [],
   "source": [
    "x_train_m1, y_train_m1 = resample(x_train, y_train, n_samples = 400)\n",
    "x_train_m2, y_train_m2 = resample(x_train, y_train, n_samples = 400)\n",
    "x_train_m3, y_train_m3 = resample(x_train, y_train, n_samples = 400)\n",
    "x_train_m4, y_train_m4 = resample(x_train, y_train, n_samples = 400)"
   ]
  },
  {
   "cell_type": "code",
   "execution_count": 161,
   "metadata": {},
   "outputs": [],
   "source": [
    "x_val_m1, y_val_m1 = resample(x_val, y_val, n_samples = 100)\n",
    "x_val_m2, y_val_m2 = resample(x_val, y_val, n_samples = 100)\n",
    "x_val_m3, y_val_m3 = resample(x_val, y_val, n_samples = 100)\n",
    "x_val_m4, y_val_m4 = resample(x_val, y_val, n_samples = 100)"
   ]
  },
  {
   "cell_type": "code",
   "execution_count": 39,
   "metadata": {},
   "outputs": [
    {
     "name": "stderr",
     "output_type": "stream",
     "text": [
      "C:\\Users\\Rebeca\\Anaconda3\\lib\\site-packages\\ipykernel_launcher.py:2: SettingWithCopyWarning: \n",
      "A value is trying to be set on a copy of a slice from a DataFrame.\n",
      "Try using .loc[row_indexer,col_indexer] = value instead\n",
      "\n",
      "See the caveats in the documentation: https://pandas.pydata.org/pandas-docs/stable/user_guide/indexing.html#returning-a-view-versus-a-copy\n",
      "  \n"
     ]
    },
    {
     "data": {
      "text/html": [
       "<div>\n",
       "<style scoped>\n",
       "    .dataframe tbody tr th:only-of-type {\n",
       "        vertical-align: middle;\n",
       "    }\n",
       "\n",
       "    .dataframe tbody tr th {\n",
       "        vertical-align: top;\n",
       "    }\n",
       "\n",
       "    .dataframe thead th {\n",
       "        text-align: right;\n",
       "    }\n",
       "</style>\n",
       "<table border=\"1\" class=\"dataframe\">\n",
       "  <thead>\n",
       "    <tr style=\"text-align: right;\">\n",
       "      <th></th>\n",
       "      <th>Bias</th>\n",
       "      <th>Age</th>\n",
       "      <th>Fare</th>\n",
       "      <th>Sex</th>\n",
       "      <th>Single</th>\n",
       "      <th>SmallF</th>\n",
       "      <th>MedF</th>\n",
       "      <th>LargeF</th>\n",
       "      <th>Em_C</th>\n",
       "      <th>Em_Q</th>\n",
       "      <th>Em_S</th>\n",
       "      <th>Pc_Lower</th>\n",
       "      <th>Pc_Middle</th>\n",
       "      <th>Pc_Upper</th>\n",
       "    </tr>\n",
       "  </thead>\n",
       "  <tbody>\n",
       "    <tr>\n",
       "      <th>202</th>\n",
       "      <td>1</td>\n",
       "      <td>34.0</td>\n",
       "      <td>6.4958</td>\n",
       "      <td>0</td>\n",
       "      <td>1</td>\n",
       "      <td>0</td>\n",
       "      <td>0</td>\n",
       "      <td>0</td>\n",
       "      <td>0</td>\n",
       "      <td>0</td>\n",
       "      <td>1</td>\n",
       "      <td>1</td>\n",
       "      <td>0</td>\n",
       "      <td>0</td>\n",
       "    </tr>\n",
       "    <tr>\n",
       "      <th>598</th>\n",
       "      <td>1</td>\n",
       "      <td>28.0</td>\n",
       "      <td>7.2250</td>\n",
       "      <td>0</td>\n",
       "      <td>1</td>\n",
       "      <td>0</td>\n",
       "      <td>0</td>\n",
       "      <td>0</td>\n",
       "      <td>1</td>\n",
       "      <td>0</td>\n",
       "      <td>0</td>\n",
       "      <td>1</td>\n",
       "      <td>0</td>\n",
       "      <td>0</td>\n",
       "    </tr>\n",
       "    <tr>\n",
       "      <th>615</th>\n",
       "      <td>1</td>\n",
       "      <td>24.0</td>\n",
       "      <td>65.0000</td>\n",
       "      <td>1</td>\n",
       "      <td>0</td>\n",
       "      <td>0</td>\n",
       "      <td>1</td>\n",
       "      <td>0</td>\n",
       "      <td>0</td>\n",
       "      <td>0</td>\n",
       "      <td>1</td>\n",
       "      <td>0</td>\n",
       "      <td>1</td>\n",
       "      <td>0</td>\n",
       "    </tr>\n",
       "    <tr>\n",
       "      <th>4</th>\n",
       "      <td>1</td>\n",
       "      <td>35.0</td>\n",
       "      <td>8.0500</td>\n",
       "      <td>0</td>\n",
       "      <td>1</td>\n",
       "      <td>0</td>\n",
       "      <td>0</td>\n",
       "      <td>0</td>\n",
       "      <td>0</td>\n",
       "      <td>0</td>\n",
       "      <td>1</td>\n",
       "      <td>1</td>\n",
       "      <td>0</td>\n",
       "      <td>0</td>\n",
       "    </tr>\n",
       "    <tr>\n",
       "      <th>496</th>\n",
       "      <td>1</td>\n",
       "      <td>54.0</td>\n",
       "      <td>78.2667</td>\n",
       "      <td>1</td>\n",
       "      <td>0</td>\n",
       "      <td>1</td>\n",
       "      <td>0</td>\n",
       "      <td>0</td>\n",
       "      <td>1</td>\n",
       "      <td>0</td>\n",
       "      <td>0</td>\n",
       "      <td>0</td>\n",
       "      <td>0</td>\n",
       "      <td>1</td>\n",
       "    </tr>\n",
       "    <tr>\n",
       "      <th>...</th>\n",
       "      <td>...</td>\n",
       "      <td>...</td>\n",
       "      <td>...</td>\n",
       "      <td>...</td>\n",
       "      <td>...</td>\n",
       "      <td>...</td>\n",
       "      <td>...</td>\n",
       "      <td>...</td>\n",
       "      <td>...</td>\n",
       "      <td>...</td>\n",
       "      <td>...</td>\n",
       "      <td>...</td>\n",
       "      <td>...</td>\n",
       "      <td>...</td>\n",
       "    </tr>\n",
       "    <tr>\n",
       "      <th>700</th>\n",
       "      <td>1</td>\n",
       "      <td>18.0</td>\n",
       "      <td>227.5250</td>\n",
       "      <td>1</td>\n",
       "      <td>0</td>\n",
       "      <td>1</td>\n",
       "      <td>0</td>\n",
       "      <td>0</td>\n",
       "      <td>1</td>\n",
       "      <td>0</td>\n",
       "      <td>0</td>\n",
       "      <td>0</td>\n",
       "      <td>0</td>\n",
       "      <td>1</td>\n",
       "    </tr>\n",
       "    <tr>\n",
       "      <th>324</th>\n",
       "      <td>1</td>\n",
       "      <td>28.0</td>\n",
       "      <td>69.5500</td>\n",
       "      <td>0</td>\n",
       "      <td>0</td>\n",
       "      <td>0</td>\n",
       "      <td>0</td>\n",
       "      <td>1</td>\n",
       "      <td>0</td>\n",
       "      <td>0</td>\n",
       "      <td>1</td>\n",
       "      <td>1</td>\n",
       "      <td>0</td>\n",
       "      <td>0</td>\n",
       "    </tr>\n",
       "    <tr>\n",
       "      <th>576</th>\n",
       "      <td>1</td>\n",
       "      <td>34.0</td>\n",
       "      <td>13.0000</td>\n",
       "      <td>1</td>\n",
       "      <td>1</td>\n",
       "      <td>0</td>\n",
       "      <td>0</td>\n",
       "      <td>0</td>\n",
       "      <td>0</td>\n",
       "      <td>0</td>\n",
       "      <td>1</td>\n",
       "      <td>0</td>\n",
       "      <td>1</td>\n",
       "      <td>0</td>\n",
       "    </tr>\n",
       "    <tr>\n",
       "      <th>579</th>\n",
       "      <td>1</td>\n",
       "      <td>32.0</td>\n",
       "      <td>7.9250</td>\n",
       "      <td>0</td>\n",
       "      <td>1</td>\n",
       "      <td>0</td>\n",
       "      <td>0</td>\n",
       "      <td>0</td>\n",
       "      <td>0</td>\n",
       "      <td>0</td>\n",
       "      <td>1</td>\n",
       "      <td>1</td>\n",
       "      <td>0</td>\n",
       "      <td>0</td>\n",
       "    </tr>\n",
       "    <tr>\n",
       "      <th>502</th>\n",
       "      <td>1</td>\n",
       "      <td>28.0</td>\n",
       "      <td>7.6292</td>\n",
       "      <td>1</td>\n",
       "      <td>1</td>\n",
       "      <td>0</td>\n",
       "      <td>0</td>\n",
       "      <td>0</td>\n",
       "      <td>0</td>\n",
       "      <td>1</td>\n",
       "      <td>0</td>\n",
       "      <td>1</td>\n",
       "      <td>0</td>\n",
       "      <td>0</td>\n",
       "    </tr>\n",
       "  </tbody>\n",
       "</table>\n",
       "<p>400 rows × 14 columns</p>\n",
       "</div>"
      ],
      "text/plain": [
       "     Bias   Age      Fare  Sex  Single  SmallF  MedF  LargeF  Em_C  Em_Q  \\\n",
       "202     1  34.0    6.4958    0       1       0     0       0     0     0   \n",
       "598     1  28.0    7.2250    0       1       0     0       0     1     0   \n",
       "615     1  24.0   65.0000    1       0       0     1       0     0     0   \n",
       "4       1  35.0    8.0500    0       1       0     0       0     0     0   \n",
       "496     1  54.0   78.2667    1       0       1     0       0     1     0   \n",
       "..    ...   ...       ...  ...     ...     ...   ...     ...   ...   ...   \n",
       "700     1  18.0  227.5250    1       0       1     0       0     1     0   \n",
       "324     1  28.0   69.5500    0       0       0     0       1     0     0   \n",
       "576     1  34.0   13.0000    1       1       0     0       0     0     0   \n",
       "579     1  32.0    7.9250    0       1       0     0       0     0     0   \n",
       "502     1  28.0    7.6292    1       1       0     0       0     0     1   \n",
       "\n",
       "     Em_S  Pc_Lower  Pc_Middle  Pc_Upper  \n",
       "202     1         1          0         0  \n",
       "598     0         1          0         0  \n",
       "615     1         0          1         0  \n",
       "4       1         1          0         0  \n",
       "496     0         0          0         1  \n",
       "..    ...       ...        ...       ...  \n",
       "700     0         0          0         1  \n",
       "324     1         1          0         0  \n",
       "576     1         0          1         0  \n",
       "579     1         1          0         0  \n",
       "502     0         1          0         0  \n",
       "\n",
       "[400 rows x 14 columns]"
      ]
     },
     "execution_count": 39,
     "metadata": {},
     "output_type": "execute_result"
    }
   ],
   "source": [
    "#Para la regresión \n",
    "x_train_m4['Bias']=1\n",
    "cols = x_train_m4.columns.tolist()\n",
    "cols = cols[-1:] + cols[:-1]\n",
    "x_train_m4 = pd.DataFrame(data = x_train_m4, columns = cols)\n",
    "x_train_m4"
   ]
  },
  {
   "cell_type": "code",
   "execution_count": 40,
   "metadata": {},
   "outputs": [],
   "source": [
    "#Función para el cáclulo de las métricas de evaluación solicitadas\n",
    "def metricas_evaluacion(y_real, y_pred):\n",
    "    acurracy = accuracy_score(y_real, y_pred)\n",
    "    error = 1 - acurracy\n",
    "    precision = precision_score(y_real, y_pred)\n",
    "    recall = recall_score(y_real, y_pred)\n",
    "    f1 = f1_score(y_real, y_pred)\n",
    "    \n",
    "    return (acurracy, error, precision,recall,f1)"
   ]
  },
  {
   "cell_type": "markdown",
   "metadata": {},
   "source": [
    "### Modelo1: Árbol de decisión con sklearn"
   ]
  },
  {
   "cell_type": "code",
   "execution_count": 168,
   "metadata": {},
   "outputs": [],
   "source": [
    "#Definición de la función para entrenar nuestro modelo\n",
    "def entrenamiento_arbol(x_train, y_train, x_val, y_val,  max_depth = None, min_samples_split = 2, min_samples_leaf = 1):\n",
    "    # cadena para los datos del experimento\n",
    "    columnas = x_train.columns.tolist()\n",
    "    string = '/experimentos/'+\"arbol_\"+datetime.datetime.now().strftime(\"%Y%m%d-%H%M%S\")+\"_maxdepth=\" + str(max_depth) \\\n",
    "    + \"_minsamplesplit=\" + str(min_samples_split) + \"_minsampleleaf=\" + str(min_samples_leaf)\n",
    "    \n",
    "    dirlog = tensorboard_logger.Logger(string)\n",
    "    # Desicion trees\n",
    "    modelo_arbol = DecisionTreeClassifier(max_depth = max_depth, min_samples_split = min_samples_split, min_samples_leaf = min_samples_leaf)\n",
    "    modelo_arbol.fit(x_train, y_train)\n",
    "    \n",
    "    #Entrenamiento\n",
    "    y_pred_train = modelo_arbol.predict(x_train)\n",
    "    \n",
    "    acurracy_t, error_t, precision_t,recall_t,f1_t = metricas_evaluacion(y_train, y_pred_train)\n",
    "    #Escribir tensorflow  \n",
    "    dirlog.log_value('Acurracy_train', acurracy_t, 1)\n",
    "    dirlog.log_value('Error_train', error_t,1)\n",
    "    dirlog.log_value('Precision_train', precision_t, 1)\n",
    "    dirlog.log_value('Recall_train', recall_t, 1)\n",
    "    dirlog.log_value('F1_train', f1_t,1)\n",
    "    \n",
    "    metricas_dict_t = {'Modelo':'Arbol','Acurracy':acurracy_t, 'Error':error_t, 'Precision':precision_t, 'Recall':recall_t, 'F1':f1_t}\n",
    "    \n",
    "    #validación\n",
    "    y_pred_val = modelo_arbol.predict(x_val)\n",
    "    \n",
    "    acurracy_v, error_v, precision_v,recall_v,f1_v = metricas_evaluacion(y_val, y_pred_val)\n",
    "    #Escribir tensorflow  \n",
    "    dirlog.log_value('Acurracy_val', acurracy_v, 1)\n",
    "    dirlog.log_value('Error_val', error_v,1)\n",
    "    dirlog.log_value('Precision_val', precision_v, 1)\n",
    "    dirlog.log_value('Recall_val', recall_v, 1)\n",
    "    dirlog.log_value('F1_val', f1_v,1)\n",
    "    \n",
    "    metricas_dict_v = {'Modelo':'Arbol','Acurracy':acurracy_v, 'Error':error_v, 'Precision':precision_v, 'Recall':recall_v, 'F1':f1_v}\n",
    "    \n",
    "    print('Metrícas de Entrenamiento')\n",
    "    print(metricas_dict_t)\n",
    "    print('**************************')\n",
    "    print('Metrícas de Validación')\n",
    "    print(metricas_dict_v)\n",
    "    \n",
    "    return modelo_arbol\n",
    "   "
   ]
  },
  {
   "cell_type": "code",
   "execution_count": 169,
   "metadata": {},
   "outputs": [
    {
     "name": "stdout",
     "output_type": "stream",
     "text": [
      "Metrícas de Entrenamiento\n",
      "{'Modelo': 'Arbol', 'Acurracy': 0.99, 'Error': 0.010000000000000009, 'Precision': 1.0, 'Recall': 0.972027972027972, 'F1': 0.9858156028368793}\n",
      "**************************\n",
      "Metrícas de Validación\n",
      "{'Modelo': 'Arbol', 'Acurracy': 0.68, 'Error': 0.31999999999999995, 'Precision': 0.7027027027027027, 'Recall': 0.5531914893617021, 'F1': 0.6190476190476191}\n"
     ]
    }
   ],
   "source": [
    "# Probamos la función de entrenamiento para árbol de decisión\n",
    "#Con los valores por defecto\n",
    "#Experimento 1\n",
    "modelo_arbol = entrenamiento_arbol(x_train_m1, y_train_m1, x_val_m1, y_val_m1)"
   ]
  },
  {
   "cell_type": "code",
   "execution_count": 171,
   "metadata": {},
   "outputs": [
    {
     "name": "stdout",
     "output_type": "stream",
     "text": [
      "Metrícas de Entrenamiento\n",
      "{'Modelo': 'Arbol', 'Acurracy': 0.89, 'Error': 0.10999999999999999, 'Precision': 0.9900990099009901, 'Recall': 0.6993006993006993, 'F1': 0.819672131147541}\n",
      "**************************\n",
      "Metrícas de Validación\n",
      "{'Modelo': 'Arbol', 'Acurracy': 0.72, 'Error': 0.28, 'Precision': 0.8518518518518519, 'Recall': 0.48936170212765956, 'F1': 0.6216216216216216}\n"
     ]
    }
   ],
   "source": [
    "#Experimento 2\n",
    "modelo_arbol = entrenamiento_arbol(x_train_m1, y_train_m1, x_val_m1, y_val_m1,max_depth = 5, min_samples_split = 2, min_samples_leaf = 1)"
   ]
  },
  {
   "cell_type": "code",
   "execution_count": 170,
   "metadata": {},
   "outputs": [
    {
     "name": "stdout",
     "output_type": "stream",
     "text": [
      "Metrícas de Entrenamiento\n",
      "{'Modelo': 'Arbol', 'Acurracy': 0.965, 'Error': 0.03500000000000003, 'Precision': 0.9923664122137404, 'Recall': 0.9090909090909091, 'F1': 0.948905109489051}\n",
      "**************************\n",
      "Metrícas de Validación\n",
      "{'Modelo': 'Arbol', 'Acurracy': 0.73, 'Error': 0.27, 'Precision': 0.8125, 'Recall': 0.5531914893617021, 'F1': 0.6582278481012658}\n"
     ]
    }
   ],
   "source": [
    "#Experimento 3\n",
    "modelo_arbol = entrenamiento_arbol(x_train_m1, y_train_m1, x_val_m1, y_val_m1,max_depth = 10, min_samples_split = 2, min_samples_leaf = 1)"
   ]
  },
  {
   "cell_type": "code",
   "execution_count": 173,
   "metadata": {},
   "outputs": [
    {
     "name": "stdout",
     "output_type": "stream",
     "text": [
      "Metrícas de Entrenamiento\n",
      "{'Modelo': 'Arbol', 'Acurracy': 0.8675, 'Error': 0.13249999999999995, 'Precision': 0.9017857142857143, 'Recall': 0.7062937062937062, 'F1': 0.792156862745098}\n",
      "**************************\n",
      "Metrícas de Validación\n",
      "{'Modelo': 'Arbol', 'Acurracy': 0.76, 'Error': 0.24, 'Precision': 0.8484848484848485, 'Recall': 0.5957446808510638, 'F1': 0.7}\n"
     ]
    }
   ],
   "source": [
    "#Experimento 4\n",
    "modelo_arbol = entrenamiento_arbol(x_train_m1, y_train_m1, x_val_m1, y_val_m1,max_depth = None, min_samples_split = 3, min_samples_leaf = 15)"
   ]
  },
  {
   "cell_type": "code",
   "execution_count": 180,
   "metadata": {},
   "outputs": [],
   "source": [
    "#Guardamos el árbol de decisión para su posterior uso\n",
    "tree.export_graphviz(modelo_arbol, \n",
    "                     out_file = \"modelos/modelo_arbol.dot\", \n",
    "                     feature_names = cols_x,\n",
    "                     filled=True, \n",
    "                     rounded=True,\n",
    "                     special_characters=True)"
   ]
  },
  {
   "cell_type": "code",
   "execution_count": 181,
   "metadata": {},
   "outputs": [],
   "source": [
    "from joblib import dump"
   ]
  },
  {
   "cell_type": "code",
   "execution_count": 183,
   "metadata": {},
   "outputs": [
    {
     "data": {
      "text/plain": [
       "['modelos/modelo_arbol_train(max_depth = None, min_samples_split = 3, min_samples_leaf = 15).joblib']"
      ]
     },
     "execution_count": 183,
     "metadata": {},
     "output_type": "execute_result"
    }
   ],
   "source": [
    "dump(modelo_arbol, \"modelos/modelo_arbol_train(max_depth = None, min_samples_split = 3, min_samples_leaf = 15).joblib\")"
   ]
  },
  {
   "cell_type": "markdown",
   "metadata": {},
   "source": [
    "### Modelo2: SVM con sklearn"
   ]
  },
  {
   "cell_type": "code",
   "execution_count": null,
   "metadata": {},
   "outputs": [],
   "source": []
  },
  {
   "cell_type": "code",
   "execution_count": 189,
   "metadata": {},
   "outputs": [],
   "source": [
    "def entrenamiento_SVM(x_train, y_train, x_val, y_val, C = 1.0, kernel = 'rbf'):\n",
    "    # cadena para los datos del experimento\n",
    "    string = '/experimentos/'+\"svm_\"+datetime.datetime.now().strftime(\"%Y%m%d-%H%M%S\")+ \"_C=\" + str(C) + \"_kernel=\" + kernel\n",
    "    dirlog = tensorboard_logger.Logger(string)\n",
    "\n",
    "    #modelo_svm = svm.SVC(C=C, kernel=kernel)\n",
    "    modelo_svm = SVC(C=C, kernel=kernel)\n",
    "    modelo_svm.fit(x_train, y_train)\n",
    "    \n",
    "    y_pred_train = modelo_svm.predict(x_train)\n",
    "    \n",
    "    acurracy_t, error_t, precision_t,recall_t,f1_t = metricas_evaluacion(y_train, y_pred_train)\n",
    "    #Escribir tensorflow  \n",
    "    dirlog.log_value('Acurracy_train', acurracy_t, 2)\n",
    "    dirlog.log_value('Error_train', error_t,2)\n",
    "    dirlog.log_value('Precision_train', precision_t, 2)\n",
    "    dirlog.log_value('Recall_train', recall_t, 2)\n",
    "    dirlog.log_value('F1_train', f1_t,2)\n",
    "    \n",
    "    metricas_dict_t = {'Modelo':'SVM','Acurracy':acurracy_t, 'Error':error_t, 'Precision':precision_t, 'Recall':recall_t, 'F1':f1_t}\n",
    "    \n",
    "    #validación\n",
    "    y_pred_val = modelo_arbol.predict(x_val)\n",
    "    \n",
    "    acurracy_v, error_v, precision_v,recall_v,f1_v = metricas_evaluacion(y_val, y_pred_val)\n",
    "    #Escribir tensorflow  \n",
    "    dirlog.log_value('Acurracy_val', acurracy_v, 1)\n",
    "    dirlog.log_value('Error_val', error_v,1)\n",
    "    dirlog.log_value('Precision_val', precision_v, 1)\n",
    "    dirlog.log_value('Recall_val', recall_v, 1)\n",
    "    dirlog.log_value('F1_val', f1_v,1)\n",
    "    \n",
    "    metricas_dict_v = {'Modelo':'Arbol','Acurracy':acurracy_v, 'Error':error_v, 'Precision':precision_v, 'Recall':recall_v, 'F1':f1_v}\n",
    "    \n",
    "    print('Metrícas de Entrenamiento')\n",
    "    print(metricas_dict_t)\n",
    "    print('**************************')\n",
    "    print('Metrícas de Validación')\n",
    "    print(metricas_dict_v)\n",
    "    \n",
    "    \n",
    "    return modelo_svm"
   ]
  },
  {
   "cell_type": "code",
   "execution_count": 191,
   "metadata": {},
   "outputs": [
    {
     "name": "stdout",
     "output_type": "stream",
     "text": [
      "Metrícas de Entrenamiento\n",
      "{'Modelo': 'SVM', 'Acurracy': 0.6625, 'Error': 0.3375, 'Precision': 0.7837837837837838, 'Recall': 0.1858974358974359, 'F1': 0.3005181347150259}\n",
      "**************************\n",
      "Metrícas de Validación\n",
      "{'Modelo': 'Arbol', 'Acurracy': 0.73, 'Error': 0.27, 'Precision': 0.90625, 'Recall': 0.5471698113207547, 'F1': 0.6823529411764705}\n"
     ]
    }
   ],
   "source": [
    "#llamamos a la función de entrenamiento para svm\n",
    "#Experimento 1 - Valores por default\n",
    "modelo_svm = entrenamiento_SVM(x_train_m2, y_train_m2, x_val_m2, y_val_m2)"
   ]
  },
  {
   "cell_type": "code",
   "execution_count": 192,
   "metadata": {},
   "outputs": [
    {
     "name": "stdout",
     "output_type": "stream",
     "text": [
      "Metrícas de Entrenamiento\n",
      "{'Modelo': 'SVM', 'Acurracy': 0.82, 'Error': 0.18000000000000005, 'Precision': 0.828125, 'Recall': 0.6794871794871795, 'F1': 0.7464788732394365}\n",
      "**************************\n",
      "Metrícas de Validación\n",
      "{'Modelo': 'Arbol', 'Acurracy': 0.73, 'Error': 0.27, 'Precision': 0.90625, 'Recall': 0.5471698113207547, 'F1': 0.6823529411764705}\n"
     ]
    }
   ],
   "source": [
    "#Experimento 2\n",
    "modelo_svm = entrenamiento_SVM(x_train_m2, y_train_m2, x_val_m2, y_val_m2, C = 1.0, kernel = 'linear')"
   ]
  },
  {
   "cell_type": "code",
   "execution_count": 193,
   "metadata": {},
   "outputs": [
    {
     "name": "stdout",
     "output_type": "stream",
     "text": [
      "Metrícas de Entrenamiento\n",
      "{'Modelo': 'SVM', 'Acurracy': 0.6275, 'Error': 0.37250000000000005, 'Precision': 0.7692307692307693, 'Recall': 0.0641025641025641, 'F1': 0.11834319526627217}\n",
      "**************************\n",
      "Metrícas de Validación\n",
      "{'Modelo': 'Arbol', 'Acurracy': 0.73, 'Error': 0.27, 'Precision': 0.90625, 'Recall': 0.5471698113207547, 'F1': 0.6823529411764705}\n"
     ]
    }
   ],
   "source": [
    "#Experimento 3\n",
    "modelo_svm = entrenamiento_SVM(x_train_m2, y_train_m2, x_val_m2, y_val_m2,C = 1.0, kernel = 'poly')"
   ]
  },
  {
   "cell_type": "code",
   "execution_count": 195,
   "metadata": {},
   "outputs": [
    {
     "name": "stdout",
     "output_type": "stream",
     "text": [
      "Metrícas de Entrenamiento\n",
      "{'Modelo': 'SVM', 'Acurracy': 0.6625, 'Error': 0.3375, 'Precision': 0.7837837837837838, 'Recall': 0.1858974358974359, 'F1': 0.3005181347150259}\n",
      "**************************\n",
      "Metrícas de Validación\n",
      "{'Modelo': 'Arbol', 'Acurracy': 0.73, 'Error': 0.27, 'Precision': 0.90625, 'Recall': 0.5471698113207547, 'F1': 0.6823529411764705}\n"
     ]
    }
   ],
   "source": [
    "#Experimento 4\n",
    "modelo_svm = entrenamiento_SVM(x_train_m2, y_train_m2, x_val_m2, y_val_m2,C = 1, kernel = 'rbf')"
   ]
  },
  {
   "cell_type": "code",
   "execution_count": 200,
   "metadata": {},
   "outputs": [
    {
     "name": "stdout",
     "output_type": "stream",
     "text": [
      "Metrícas de Entrenamiento\n",
      "{'Modelo': 'SVM', 'Acurracy': 0.6975, 'Error': 0.3025, 'Precision': 0.8181818181818182, 'Recall': 0.28846153846153844, 'F1': 0.4265402843601896}\n",
      "**************************\n",
      "Metrícas de Validación\n",
      "{'Modelo': 'Arbol', 'Acurracy': 0.73, 'Error': 0.27, 'Precision': 0.90625, 'Recall': 0.5471698113207547, 'F1': 0.6823529411764705}\n"
     ]
    }
   ],
   "source": [
    "#Experimento 5\n",
    "modelo_svm = entrenamiento_SVM(x_train_m2, y_train_m2, x_val_m2, y_val_m2, C = 10.0, kernel = 'rbf')"
   ]
  },
  {
   "cell_type": "code",
   "execution_count": 203,
   "metadata": {},
   "outputs": [
    {
     "name": "stdout",
     "output_type": "stream",
     "text": [
      "Metrícas de Entrenamiento\n",
      "{'Modelo': 'SVM', 'Acurracy': 0.8375, 'Error': 0.16249999999999998, 'Precision': 0.8226950354609929, 'Recall': 0.7435897435897436, 'F1': 0.7811447811447811}\n",
      "**************************\n",
      "Metrícas de Validación\n",
      "{'Modelo': 'Arbol', 'Acurracy': 0.73, 'Error': 0.27, 'Precision': 0.90625, 'Recall': 0.5471698113207547, 'F1': 0.6823529411764705}\n"
     ]
    }
   ],
   "source": [
    "#Experimento 6\n",
    "modelo_svm = entrenamiento_SVM(x_train_m2, y_train_m2, x_val_m2, y_val_m2,C = 100.0, kernel = 'rbf')"
   ]
  },
  {
   "cell_type": "markdown",
   "metadata": {},
   "source": [
    "### Modelo3: Naive bayes"
   ]
  },
  {
   "cell_type": "code",
   "execution_count": 46,
   "metadata": {},
   "outputs": [],
   "source": [
    "def entrenamiento_bayes(x_train, y_train):\n",
    "    # cadena para los datos del experimento\n",
    "    columnas = x_train.columns.tolist()\n",
    "    string = '/experimentos/'+\"bayes_\"+datetime.datetime.now().strftime(\"%Y%m%d-%H%M%S\")+\"_\"+str('_'.join(columnas))\n",
    "    dirlog = tensorboard_logger.Logger(string)\n",
    "\n",
    "    modelo_bayes = GaussianNB()\n",
    "    modelo_bayes = modelo_bayes.fit(x_train, y_train)\n",
    "    \n",
    "    y_pred = modelo_bayes.predict(x_train)\n",
    "    \n",
    "    acurracy, error, precision,recall,f1 = metricas_evaluacion(y_train, y_pred)\n",
    "    #Escribir tensorflow  \n",
    "    dirlog.log_value('Acurracy', acurracy, 1)\n",
    "    dirlog.log_value('Error', error,1)\n",
    "    dirlog.log_value('Precision', precision, 1)\n",
    "    dirlog.log_value('Recall', recall, 1)\n",
    "    dirlog.log_value('F1', f1,1)\n",
    "    \n",
    "    metricas_dict = {'Modelo':'NBayes','Acurracy':acurracy, 'Error':error, 'Precision':precision, 'Recall':recall, 'F1':f1}\n",
    "    \n",
    "    #print(classification_report(y_train, y_pred))\n",
    "    \n",
    "    return modelo_bayes, metricas_dict"
   ]
  },
  {
   "cell_type": "code",
   "execution_count": 47,
   "metadata": {},
   "outputs": [
    {
     "data": {
      "text/plain": [
       "{'Modelo': 'NBayes',\n",
       " 'Acurracy': 0.755,\n",
       " 'Error': 0.245,\n",
       " 'Precision': 0.7007299270072993,\n",
       " 'Recall': 0.6274509803921569,\n",
       " 'F1': 0.6620689655172414}"
      ]
     },
     "execution_count": 47,
     "metadata": {},
     "output_type": "execute_result"
    }
   ],
   "source": [
    "modelo_bayes, metricas_bayes = entrenamiento_bayes(x_train_m3, y_train_m3)\n",
    "metricas_bayes"
   ]
  },
  {
   "cell_type": "code",
   "execution_count": 48,
   "metadata": {},
   "outputs": [
    {
     "data": {
      "text/plain": [
       "Reusing TensorBoard on port 6006 (pid 14768), started 2:54:56 ago. (Use '!kill 14768' to kill it.)"
      ]
     },
     "metadata": {},
     "output_type": "display_data"
    },
    {
     "data": {
      "text/html": [
       "\n",
       "      <iframe id=\"tensorboard-frame-7912f55f4db9bb94\" width=\"100%\" height=\"800\" frameborder=\"0\">\n",
       "      </iframe>\n",
       "      <script>\n",
       "        (function() {\n",
       "          const frame = document.getElementById(\"tensorboard-frame-7912f55f4db9bb94\");\n",
       "          const url = new URL(\"/\", window.location);\n",
       "          url.port = 6006;\n",
       "          frame.src = url;\n",
       "        })();\n",
       "      </script>\n",
       "  "
      ],
      "text/plain": [
       "<IPython.core.display.HTML object>"
      ]
     },
     "metadata": {},
     "output_type": "display_data"
    }
   ],
   "source": [
    "%tensorboard --logdir experimentos"
   ]
  },
  {
   "cell_type": "markdown",
   "metadata": {},
   "source": [
    "### Modelo4: Reg. logística binaria(sigmoid)  en Tensorflow con regularización   \n",
    "Probar L1, L2 y distintos valores del factor de regularización y elegir el mejor) y mini-batch gradient descent usando tamaño de mini-batch como hyper-parametro.\n"
   ]
  },
  {
   "cell_type": "code",
   "execution_count": 154,
   "metadata": {},
   "outputs": [],
   "source": [
    "#definimos una clase para el modelo de la regresión logística\n",
    "class regresion_logistica:\n",
    "    def __init__(self, x, lmd, tipo_re):\n",
    "        #un parametro para cada x de cada clase\n",
    "        self.parametros = tf.get_variable(\"parametros\", dtype = tf.float32, shape = [x.shape[1],1], initializer = tf.zeros_initializer())\n",
    "        self.lmd_param = tf.constant(lmd, dtype = tf.float32)\n",
    "        self.reg = tipo_re\n",
    "        #self.error = tf.get_variable(\"error\",dtype=tf.float32, shape=[], initializer=tf.zeros_initializer())\n",
    "        \n",
    "    #Calcular los logits\n",
    "    def c_logits(self, x):\n",
    "        return tf.matmul(x, self.parametros, name=\"logits\")\n",
    "    \n",
    "    #Calculamos la prediccion de probabilidad para cada posible resultado mediante softmax\n",
    "    def probabilidades_sigmoid(self, x):\n",
    "        prob_sigmoid = tf.nn.sigmoid(self.c_logits(x))\n",
    "        predicciones = tf.round(prob_sigmoid)\n",
    "        return predicciones\n",
    "    \n",
    "    #Calculo del error o costo mediante la entropía cruzada\n",
    "    def c_error(self, x, y, lmd):        \n",
    "        entropia_cruzada = tf.reduce_mean(tf.nn.sigmoid_cross_entropy_with_logits(labels = y, logits = self.c_logits(x)))\n",
    "        if self.reg == 'L1':\n",
    "            self.error = tf.add(entropia_cruzada,tf.multiply(self.lmd_param, tf.reduce_sum(tf.abs(self.parametros))))\n",
    "        if self.reg == 'L2':\n",
    "            self.error = tf.add(entropia_cruzada, tf.multiply(self.lmd_param, tf.sqrt(tf.reduce_sum(tf.square(self.parametros)))))\n",
    "        return self.error\n",
    "    \n",
    "    def c_accuracy(self, p_probabilidades, labels):\n",
    "        accuracy = tf.equal(p_probabilidades, labels)\n",
    "        accuracy = tf.dtypes.cast(accuracy, tf.int32)\n",
    "        #para calcular el acurracy = predicciones correctas del modelo/total predicciones\n",
    "        accuracy = tf.divide(tf.reduce_sum(accuracy), tf.shape(labels)[0])        \n",
    "        return accuracy\n",
    "            \n",
    "    def actualizar_gd(self, x_train, labels_train, lr,lmd, tipo_re):\n",
    "        \n",
    "        with tf.name_scope(\"funcion_costo\"):\n",
    "            train_error = self.c_error(x_train, labels_train, lmd)\n",
    "            train_error_summary = tf.summary.scalar(\"error_entrenamiento\", train_error)\n",
    "        \n",
    "        with tf.name_scope(\"sigmoid\"):\n",
    "            with tf.name_scope(\"logits\"):\n",
    "                predicciones_train = self.probabilidades_sigmoid(x_train)\n",
    "        \n",
    "        with tf.name_scope(\"acurracy\"):\n",
    "            train_accuracy = self.c_accuracy(predicciones_train, labels_train)\n",
    "            train_accuracy_summary = tf.summary.scalar(\"acurracy_entrenamiento\", train_accuracy)\n",
    "            \n",
    "        #actualización de parámetros por medio de gradient descent\n",
    "        gradiente = tf.gradients(train_error, [self.parametros])\n",
    "        param_actualizados = tf.assign(self.parametros, self.parametros - lr * gradiente[0])\n",
    "        return param_actualizados, train_error, train_accuracy, train_error_summary, train_accuracy_summary"
   ]
  },
  {
   "cell_type": "code",
   "execution_count": 139,
   "metadata": {},
   "outputs": [],
   "source": [
    "#Definición de la función para entrenar nuestro modelo\n",
    "def entrenamiento_rlog(x_train, labels_train, lr, epochs, error_cada, lmd, tipo_re, mb):\n",
    "    # cadena para los datos del experimento\n",
    "    string = './experimentos/RegLog'+ datetime.datetime.now().strftime(\"%Y%m%d-%H%M%S\") +\"_lr=\"+str(lr)+ \"_epochs=\"+str(epochs)+ \"_lambda=\"+str(lmd)+ \"_TipoReg=\"+str(tipo_re)\n",
    "    \n",
    "    #para entrenamiento con gradient descent se utilizarán mini batch de tamaño mb\n",
    "    tamaño_mbatch = mb\n",
    "    total_iteraciones = int((labels_train.shape[0] / tamaño_mbatch) * epochs)\n",
    "    \n",
    "    g = tf.Graph()\n",
    "    with g.as_default():\n",
    "        \n",
    "        modelo = regresion_logistica(x_train, lmd, tipo_re)\n",
    "        # Definicion de placeholders para entradas de data a grafo\n",
    "        with tf.name_scope(\"x_entrenamiento\"):\n",
    "            tensor_x_train = tf.placeholder(tf.float32, [None,x_train.shape[1]], \"tensor_x_train\")\n",
    "\n",
    "        with tf.name_scope(\"labels_entrenamiento\"):\n",
    "            tensor_labels_train = tf.placeholder(tf.float32, [None,1], \"tensor_labels_train\")\n",
    "\n",
    "        #Para realizar el entrenamiento\n",
    "        parametros_actualizados = modelo.actualizar_gd(tensor_x_train, tensor_labels_train, lr, lmd, tipo_re)\n",
    "    \n",
    "        # Writer para tensorboard\n",
    "        writer = tf.summary.FileWriter(string, g)\n",
    "               \n",
    "        with tf.train.MonitoredSession() as session:\n",
    "            \n",
    "            for i in range(total_iteraciones + 1):\n",
    "                #Definición de mini-batchs de tamaño 32 para entrenamiento\n",
    "                offset = (i * tamaño_mbatch) % (labels_train.shape[0] - tamaño_mbatch)\n",
    "                batch_x = x_train[offset:(offset + tamaño_mbatch),]\n",
    "                batch_labels = labels_train[offset:(offset + tamaño_mbatch),]\n",
    "                dict_parametros = {tensor_x_train:batch_x, tensor_labels_train:batch_labels}\n",
    "                \n",
    "                entrenamiento = session.run(parametros_actualizados, feed_dict = dict_parametros) # Entrenamiento\n",
    "                #impresión de eror y escritura para tensorboard\n",
    "                if (i)%error_cada == 0:\n",
    "                    \n",
    "                    parametros = session.run(modelo.parametros, feed_dict = dict_parametros)\n",
    "                    # Agregar datos para poder visualizarlos en tensorboard\n",
    "                    writer.add_summary(entrenamiento[3], i)\n",
    "                    writer.add_summary(entrenamiento[4], i)\n",
    "                    \n",
    "                    print(\"No.epoch:\", int(i//(labels_train.shape[0] / tamaño_mbatch)+1), \", mini batch:\", i, \", error de entrenamiento:\", entrenamiento[1], \", accuracy de entrenamiento:\", entrenamiento[2])\n",
    "                    print(\"_________________________________________________________________________________________________________________________\")\n",
    "            \n",
    "            return parametros\n",
    "            writer.close()"
   ]
  },
  {
   "cell_type": "code",
   "execution_count": 156,
   "metadata": {},
   "outputs": [
    {
     "name": "stdout",
     "output_type": "stream",
     "text": [
      "INFO:tensorflow:Graph was finalized.\n",
      "INFO:tensorflow:Running local_init_op.\n",
      "INFO:tensorflow:Done running local_init_op.\n",
      "No.epoch: 1 , mini batch: 0 , error de entrenamiento: 0.6931472 , accuracy de entrenamiento: 0.75\n",
      "_________________________________________________________________________________________________________________________\n",
      "No.epoch: 2 , mini batch: 20 , error de entrenamiento: 0.67647177 , accuracy de entrenamiento: 0.59375\n",
      "_________________________________________________________________________________________________________________________\n",
      "No.epoch: 4 , mini batch: 40 , error de entrenamiento: 0.61047065 , accuracy de entrenamiento: 0.6875\n",
      "_________________________________________________________________________________________________________________________\n",
      "No.epoch: 5 , mini batch: 60 , error de entrenamiento: 0.65224814 , accuracy de entrenamiento: 0.625\n",
      "_________________________________________________________________________________________________________________________\n",
      "No.epoch: 7 , mini batch: 80 , error de entrenamiento: 0.8008067 , accuracy de entrenamiento: 0.59375\n",
      "_________________________________________________________________________________________________________________________\n",
      "No.epoch: 9 , mini batch: 100 , error de entrenamiento: 0.69867593 , accuracy de entrenamiento: 0.625\n",
      "_________________________________________________________________________________________________________________________\n",
      "No.epoch: 10 , mini batch: 120 , error de entrenamiento: 0.5725068 , accuracy de entrenamiento: 0.65625\n",
      "_________________________________________________________________________________________________________________________\n"
     ]
    }
   ],
   "source": [
    "#lr = 0.1 epochs = 5 lmd, tipo_re, mb\n",
    "y_m4 = np.array(y_train_m4).reshape(len(y_train_m4),1)\n",
    "fil, col = np.shape(x_train_m4)\n",
    "x_m4 = np.array(x_train_m4).reshape(fil,col)\n",
    "modelo_reglog = entrenamiento_rlog(x_m4, y_m4, 0.001, 10, 20, 0.02, 'L1', 32)"
   ]
  },
  {
   "cell_type": "code",
   "execution_count": null,
   "metadata": {},
   "outputs": [],
   "source": []
  },
  {
   "cell_type": "code",
   "execution_count": null,
   "metadata": {},
   "outputs": [],
   "source": []
  },
  {
   "cell_type": "code",
   "execution_count": null,
   "metadata": {},
   "outputs": [],
   "source": []
  },
  {
   "cell_type": "code",
   "execution_count": null,
   "metadata": {},
   "outputs": [],
   "source": []
  }
 ],
 "metadata": {
  "kernelspec": {
   "display_name": "Python 3",
   "language": "python",
   "name": "python3"
  },
  "language_info": {
   "codemirror_mode": {
    "name": "ipython",
    "version": 3
   },
   "file_extension": ".py",
   "mimetype": "text/x-python",
   "name": "python",
   "nbconvert_exporter": "python",
   "pygments_lexer": "ipython3",
   "version": "3.7.7"
  }
 },
 "nbformat": 4,
 "nbformat_minor": 4
}
