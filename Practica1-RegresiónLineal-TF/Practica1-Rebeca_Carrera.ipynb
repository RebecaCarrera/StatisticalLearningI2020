{
 "cells": [
  {
   "cell_type": "markdown",
   "metadata": {},
   "source": [
    "###  Autor: Lilian Rebeca Carrera Lemus \n",
    "No. Carnet: 20008077  \n",
    "\n",
    "\n",
    "# Práctica No. 1 - Regresión lineal utilizando Tensorflow\n",
    "\n",
    "### Descripción general:\n",
    "\n",
    "La tarea práctica consiste en usar el mismo dataset del proyecto del curso pasado e implementar gradient descent aplicado a regresión lineal con este(usando la variable con mayor correlación elegida en el proyecto anterior). Realizar el entrenamiento con gradient descent usando Tensorflow, así mismo se debe usar Tensorboard para monitorear que el error disminuya conforme avanzan las iteraciones \"en vivo\"."
   ]
  },
  {
   "cell_type": "code",
   "execution_count": 1,
   "metadata": {},
   "outputs": [
    {
     "name": "stdout",
     "output_type": "stream",
     "text": [
      "2.1.0\n"
     ]
    }
   ],
   "source": [
    "import tensorflow as tf\n",
    "import numpy as np \n",
    "import pandas as pd\n",
    "import datetime as dt\n",
    "%load_ext tensorboard\n",
    "\n",
    "print(tf.__version__)"
   ]
  },
  {
   "cell_type": "code",
   "execution_count": 2,
   "metadata": {},
   "outputs": [
    {
     "name": "stdout",
     "output_type": "stream",
     "text": [
      "WARNING:tensorflow:From C:\\Users\\Rebeca\\Anaconda3\\lib\\site-packages\\tensorflow_core\\python\\compat\\v2_compat.py:88: disable_resource_variables (from tensorflow.python.ops.variable_scope) is deprecated and will be removed in a future version.\n",
      "Instructions for updating:\n",
      "non-resource variables are not supported in the long term\n",
      "Enabled compatitility to tf1.x\n"
     ]
    }
   ],
   "source": [
    "if tf.__version__.startswith(\"2.\"):\n",
    "  import tensorflow.compat.v1 as tf\n",
    "  tf.compat.v1.disable_v2_behavior()\n",
    "  tf.compat.v1.disable_eager_execution()\n",
    "  print(\"Enabled compatitility to tf1.x\")"
   ]
  },
  {
   "cell_type": "code",
   "execution_count": 3,
   "metadata": {},
   "outputs": [
    {
     "data": {
      "text/plain": [
       "array([[2.08500e+05, 7.00000e+00, 8.56000e+02, 8.00000e+00, 2.00300e+03,\n",
       "        6.50000e+01],\n",
       "       [1.81500e+05, 6.00000e+00, 1.26200e+03, 6.00000e+00, 1.97600e+03,\n",
       "        8.00000e+01],\n",
       "       [2.23500e+05, 7.00000e+00, 9.20000e+02, 6.00000e+00, 2.00100e+03,\n",
       "        6.80000e+01],\n",
       "       ...,\n",
       "       [2.66500e+05, 7.00000e+00, 1.18800e+03, 9.00000e+00, 1.94100e+03,\n",
       "        6.60000e+01],\n",
       "       [1.42125e+05, 5.00000e+00, 1.07800e+03, 5.00000e+00, 1.95000e+03,\n",
       "        6.80000e+01],\n",
       "       [1.47500e+05, 5.00000e+00, 1.25600e+03, 6.00000e+00, 1.96500e+03,\n",
       "        7.50000e+01]])"
      ]
     },
     "execution_count": 3,
     "metadata": {},
     "output_type": "execute_result"
    }
   ],
   "source": [
    "#Cargamos los datos para este proyecto\n",
    "datos = np.load('proyecto_training_data.npy')\n",
    "datos"
   ]
  },
  {
   "cell_type": "code",
   "execution_count": 4,
   "metadata": {},
   "outputs": [
    {
     "data": {
      "text/html": [
       "<div>\n",
       "<style scoped>\n",
       "    .dataframe tbody tr th:only-of-type {\n",
       "        vertical-align: middle;\n",
       "    }\n",
       "\n",
       "    .dataframe tbody tr th {\n",
       "        vertical-align: top;\n",
       "    }\n",
       "\n",
       "    .dataframe thead th {\n",
       "        text-align: right;\n",
       "    }\n",
       "</style>\n",
       "<table border=\"1\" class=\"dataframe\">\n",
       "  <thead>\n",
       "    <tr style=\"text-align: right;\">\n",
       "      <th></th>\n",
       "      <th>PrecioVenta</th>\n",
       "      <th>CalidadMaterial</th>\n",
       "      <th>PCPerPiso</th>\n",
       "      <th>THabitaciones</th>\n",
       "      <th>AConstruccion</th>\n",
       "      <th>PLFrente</th>\n",
       "    </tr>\n",
       "  </thead>\n",
       "  <tbody>\n",
       "    <tr>\n",
       "      <th>count</th>\n",
       "      <td>1460.000000</td>\n",
       "      <td>1460.000000</td>\n",
       "      <td>1460.000000</td>\n",
       "      <td>1460.000000</td>\n",
       "      <td>1460.000000</td>\n",
       "      <td>1201.000000</td>\n",
       "    </tr>\n",
       "    <tr>\n",
       "      <th>mean</th>\n",
       "      <td>180921.195890</td>\n",
       "      <td>6.099315</td>\n",
       "      <td>1162.626712</td>\n",
       "      <td>6.517808</td>\n",
       "      <td>1971.267808</td>\n",
       "      <td>70.049958</td>\n",
       "    </tr>\n",
       "    <tr>\n",
       "      <th>std</th>\n",
       "      <td>79442.502883</td>\n",
       "      <td>1.382997</td>\n",
       "      <td>386.587738</td>\n",
       "      <td>1.625393</td>\n",
       "      <td>30.202904</td>\n",
       "      <td>24.284752</td>\n",
       "    </tr>\n",
       "    <tr>\n",
       "      <th>min</th>\n",
       "      <td>34900.000000</td>\n",
       "      <td>1.000000</td>\n",
       "      <td>334.000000</td>\n",
       "      <td>2.000000</td>\n",
       "      <td>1872.000000</td>\n",
       "      <td>21.000000</td>\n",
       "    </tr>\n",
       "    <tr>\n",
       "      <th>25%</th>\n",
       "      <td>129975.000000</td>\n",
       "      <td>5.000000</td>\n",
       "      <td>882.000000</td>\n",
       "      <td>5.000000</td>\n",
       "      <td>1954.000000</td>\n",
       "      <td>59.000000</td>\n",
       "    </tr>\n",
       "    <tr>\n",
       "      <th>50%</th>\n",
       "      <td>163000.000000</td>\n",
       "      <td>6.000000</td>\n",
       "      <td>1087.000000</td>\n",
       "      <td>6.000000</td>\n",
       "      <td>1973.000000</td>\n",
       "      <td>69.000000</td>\n",
       "    </tr>\n",
       "    <tr>\n",
       "      <th>75%</th>\n",
       "      <td>214000.000000</td>\n",
       "      <td>7.000000</td>\n",
       "      <td>1391.250000</td>\n",
       "      <td>7.000000</td>\n",
       "      <td>2000.000000</td>\n",
       "      <td>80.000000</td>\n",
       "    </tr>\n",
       "    <tr>\n",
       "      <th>max</th>\n",
       "      <td>755000.000000</td>\n",
       "      <td>10.000000</td>\n",
       "      <td>4692.000000</td>\n",
       "      <td>14.000000</td>\n",
       "      <td>2010.000000</td>\n",
       "      <td>313.000000</td>\n",
       "    </tr>\n",
       "  </tbody>\n",
       "</table>\n",
       "</div>"
      ],
      "text/plain": [
       "         PrecioVenta  CalidadMaterial    PCPerPiso  THabitaciones  \\\n",
       "count    1460.000000      1460.000000  1460.000000    1460.000000   \n",
       "mean   180921.195890         6.099315  1162.626712       6.517808   \n",
       "std     79442.502883         1.382997   386.587738       1.625393   \n",
       "min     34900.000000         1.000000   334.000000       2.000000   \n",
       "25%    129975.000000         5.000000   882.000000       5.000000   \n",
       "50%    163000.000000         6.000000  1087.000000       6.000000   \n",
       "75%    214000.000000         7.000000  1391.250000       7.000000   \n",
       "max    755000.000000        10.000000  4692.000000      14.000000   \n",
       "\n",
       "       AConstruccion     PLFrente  \n",
       "count    1460.000000  1201.000000  \n",
       "mean     1971.267808    70.049958  \n",
       "std        30.202904    24.284752  \n",
       "min      1872.000000    21.000000  \n",
       "25%      1954.000000    59.000000  \n",
       "50%      1973.000000    69.000000  \n",
       "75%      2000.000000    80.000000  \n",
       "max      2010.000000   313.000000  "
      ]
     },
     "execution_count": 4,
     "metadata": {},
     "output_type": "execute_result"
    }
   ],
   "source": [
    "#Convertimos el set de datos que vamos a utlizar para entrenamiento a dataframe para que sea más fácil identificar cada característica y hacer conversiones\n",
    "#Agregar nombres a las columnas de acuerdo a la información proporcionada\n",
    "df_datos = pd.DataFrame(data = datos, columns = [\"PrecioVenta\", \"CalidadMaterial\",\"PCPerPiso\", \"THabitaciones\", \"AConstruccion\", \"PLFrente\"])\n",
    "\n",
    "#Conversion para los datos de calidad del material, el total de habitaciones y el año de contruscción, ya que son enteros\n",
    "df_datos = df_datos.astype({\"CalidadMaterial\" : int, \"THabitaciones\" : int, \"AConstruccion\" : int})\n",
    "\n",
    "#Información básica de dataframe\n",
    "df_datos.describe()"
   ]
  },
  {
   "cell_type": "markdown",
   "metadata": {},
   "source": [
    "##### Dividimos los datos de la siguiente manera:\n",
    "80% de las filas serán datos de entrenamiento y 20% de las filas serán para pruebas."
   ]
  },
  {
   "cell_type": "code",
   "execution_count": 5,
   "metadata": {},
   "outputs": [
    {
     "name": "stdout",
     "output_type": "stream",
     "text": [
      "Longitud del data set completo:  1460\n",
      "Longitud del data set de entrenamiento:  1168\n",
      "Longitud del data set de validación:  292\n"
     ]
    }
   ],
   "source": [
    "#Datos de entrenamiento\n",
    "d_entrenamiento = int(0.8 * len(datos))\n",
    "df_entrenamiento = df_datos[:d_entrenamiento]\n",
    "\n",
    "#datos de validacion\n",
    "df_validacion = df_datos[d_entrenamiento:]\n",
    "\n",
    "print('Longitud del data set completo: ',len(df_datos))\n",
    "print('Longitud del data set de entrenamiento: ',len(df_entrenamiento))\n",
    "print('Longitud del data set de validación: ',len(df_validacion))"
   ]
  },
  {
   "cell_type": "code",
   "execution_count": 6,
   "metadata": {
    "scrolled": true
   },
   "outputs": [
    {
     "data": {
      "text/html": [
       "<div>\n",
       "<style scoped>\n",
       "    .dataframe tbody tr th:only-of-type {\n",
       "        vertical-align: middle;\n",
       "    }\n",
       "\n",
       "    .dataframe tbody tr th {\n",
       "        vertical-align: top;\n",
       "    }\n",
       "\n",
       "    .dataframe thead th {\n",
       "        text-align: right;\n",
       "    }\n",
       "</style>\n",
       "<table border=\"1\" class=\"dataframe\">\n",
       "  <thead>\n",
       "    <tr style=\"text-align: right;\">\n",
       "      <th></th>\n",
       "      <th>PrecioVenta</th>\n",
       "      <th>CalidadMaterial</th>\n",
       "      <th>PCPerPiso</th>\n",
       "      <th>THabitaciones</th>\n",
       "      <th>AConstruccion</th>\n",
       "      <th>PLFrente</th>\n",
       "    </tr>\n",
       "  </thead>\n",
       "  <tbody>\n",
       "    <tr>\n",
       "      <th>PrecioVenta</th>\n",
       "      <td>1.000000</td>\n",
       "      <td>0.793990</td>\n",
       "      <td>0.616289</td>\n",
       "      <td>0.564707</td>\n",
       "      <td>0.534171</td>\n",
       "      <td>0.363292</td>\n",
       "    </tr>\n",
       "    <tr>\n",
       "      <th>CalidadMaterial</th>\n",
       "      <td>0.793990</td>\n",
       "      <td>1.000000</td>\n",
       "      <td>0.469411</td>\n",
       "      <td>0.444293</td>\n",
       "      <td>0.567313</td>\n",
       "      <td>0.242420</td>\n",
       "    </tr>\n",
       "    <tr>\n",
       "      <th>PCPerPiso</th>\n",
       "      <td>0.616289</td>\n",
       "      <td>0.469411</td>\n",
       "      <td>1.000000</td>\n",
       "      <td>0.409318</td>\n",
       "      <td>0.292074</td>\n",
       "      <td>0.417388</td>\n",
       "    </tr>\n",
       "    <tr>\n",
       "      <th>THabitaciones</th>\n",
       "      <td>0.564707</td>\n",
       "      <td>0.444293</td>\n",
       "      <td>0.409318</td>\n",
       "      <td>1.000000</td>\n",
       "      <td>0.122911</td>\n",
       "      <td>0.341005</td>\n",
       "    </tr>\n",
       "    <tr>\n",
       "      <th>AConstruccion</th>\n",
       "      <td>0.534171</td>\n",
       "      <td>0.567313</td>\n",
       "      <td>0.292074</td>\n",
       "      <td>0.122911</td>\n",
       "      <td>1.000000</td>\n",
       "      <td>0.121474</td>\n",
       "    </tr>\n",
       "    <tr>\n",
       "      <th>PLFrente</th>\n",
       "      <td>0.363292</td>\n",
       "      <td>0.242420</td>\n",
       "      <td>0.417388</td>\n",
       "      <td>0.341005</td>\n",
       "      <td>0.121474</td>\n",
       "      <td>1.000000</td>\n",
       "    </tr>\n",
       "  </tbody>\n",
       "</table>\n",
       "</div>"
      ],
      "text/plain": [
       "                 PrecioVenta  CalidadMaterial  PCPerPiso  THabitaciones  \\\n",
       "PrecioVenta         1.000000         0.793990   0.616289       0.564707   \n",
       "CalidadMaterial     0.793990         1.000000   0.469411       0.444293   \n",
       "PCPerPiso           0.616289         0.469411   1.000000       0.409318   \n",
       "THabitaciones       0.564707         0.444293   0.409318       1.000000   \n",
       "AConstruccion       0.534171         0.567313   0.292074       0.122911   \n",
       "PLFrente            0.363292         0.242420   0.417388       0.341005   \n",
       "\n",
       "                 AConstruccion  PLFrente  \n",
       "PrecioVenta           0.534171  0.363292  \n",
       "CalidadMaterial       0.567313  0.242420  \n",
       "PCPerPiso             0.292074  0.417388  \n",
       "THabitaciones         0.122911  0.341005  \n",
       "AConstruccion         1.000000  0.121474  \n",
       "PLFrente              0.121474  1.000000  "
      ]
     },
     "execution_count": 6,
     "metadata": {},
     "output_type": "execute_result"
    }
   ],
   "source": [
    "#Calculamos el coeficiente de correlación\n",
    "df_correlacion = df_entrenamiento.corr()\n",
    "df_correlacion"
   ]
  },
  {
   "cell_type": "markdown",
   "metadata": {},
   "source": [
    "### Elección de Variable\n",
    "\n",
    "Se ha decidido elegir la variable de Calidad del Material, ya que de acuerdo a su coeficiente de correlación, es la variable que mejor explica o estima el precio de venta de las casas(Variable Dependiente)"
   ]
  },
  {
   "cell_type": "markdown",
   "metadata": {},
   "source": [
    "## Modelo de Regresión Lineal y Gradient Descent\n",
    "\n",
    "Este modelo lo que trata es de predecir los precios de casas utilizando un modelo de regresión lineal simple. Este modelo de regresión lineal busca encontrar la ecuación lineal que minimice el error cuadrado medio (MSE).\n",
    "\n",
    "La ecuación lineal para el modelo es la siguiente:\n",
    "\n",
    "$h(x) = wx + b$\n",
    "\n",
    "*donde:*\n",
    "\n",
    "$x$ : Variable independiente  \n",
    "$w$ : Pendiente  \n",
    "$b$ : Intercepto  \n",
    "\n",
    "y la función de costo a minimizar es:\n",
    "\n",
    "$C(w,b) = \\frac{1}{2} \\sum_{i=1}^{n} (y_i − h(x_i))^2$\n",
    "\n",
    "*donde:*\n",
    "\n",
    "$y_i$ : Valor real de cada dato en el dataset  \n",
    "$h(x_{i})$ : Valor predecido por nuestro modelo  \n",
    "\n",
    "Para implementar Gradient Descent aplicado a regresión el modelo de Regresión Lineal se entrenará utilizando la función de costo indicada. El algoritmo de gradient descent calcula la derivada parcial para cada uno de los parámetros (w,b) de la función de costo y en cada iteración los valores de $m$ y $b$ son actualizados iterativamente hasta minimizar el error."
   ]
  },
  {
   "cell_type": "markdown",
   "metadata": {},
   "source": [
    "### Implementación de Modelo de Regresión Lineal utilizando Tensorflow"
   ]
  },
  {
   "cell_type": "code",
   "execution_count": 7,
   "metadata": {},
   "outputs": [],
   "source": [
    "#Aplicando reutilización de código por medio del uso de programación orientada a objetos para crear el modelo\n",
    "class ModeloLineal:    \n",
    "    def __init__(self):\n",
    "         # Vector de parametros, para pendiente e intercepto\n",
    "        self.parametros = tf.get_variable(\"parametros\",dtype=tf.float32,shape=[1,2],initializer=tf.zeros_initializer())\n",
    "    \n",
    "    def __call__(self,x):\n",
    "        #Calculamos \"y\" estimada\n",
    "        return tf.matmul(self.parametros,x, name=\"MatMul\")\n",
    "\n",
    "    def actualizar(self,x,y,learning_rate):\n",
    "        with tf.name_scope(\"modelo\"):\n",
    "            prediccion = self(x)\n",
    "        \n",
    "        with tf.name_scope(\"error\"):\n",
    "            #Calculo del error MSE mediante la fórmula de costo\n",
    "            error = 1/2 * tf.reduce_mean(tf.math.square(y - prediccion))\n",
    "            #Scalar para utilizar en tensorboard\n",
    "            error_summary = tf.summary.scalar(\"error_summary\", error)\n",
    "                                     \n",
    "        #Actualizamos los parametros por medio de Gradient Descent\n",
    "        gradiente = tf.gradients(error, [self.parametros], name=\"gradientes\")\n",
    "        actualizacion_parametros = tf.assign(self.parametros, self.parametros -learning_rate*gradiente[0], name=\"actualizar\")\n",
    "        \n",
    "        return actualizacion_parametros, error, error_summary"
   ]
  },
  {
   "cell_type": "code",
   "execution_count": 8,
   "metadata": {},
   "outputs": [],
   "source": [
    "#Aplicando reutilización de código por medio del uso de programación orientada a objetos p/definir la fun. de entrenamiento\n",
    "def entrenamiento(x, y, lr, epochs, imprimir_error):\n",
    "    # Definimos el string de configuración para cada experimiento\n",
    "    string_conf = './logs/'+ dt.datetime.now().strftime(\"%Y%m%d-%H%M%S\") +\"_lr=\"+str(lr)+ \"_epochs=\"+str(epochs)\n",
    "    \n",
    "    tf.reset_default_graph()\n",
    "    g = tf.Graph()  #definición del grafo a usar\n",
    "    \n",
    "    with g.as_default():\n",
    "        modelo = ModeloLineal()\n",
    "        #Transformamos x para poder utilizarla en el modelo\n",
    "        x = np.array([x, np.ones_like(x)], dtype = \"float64\")\n",
    "        x_fil, x_col = np.shape(x)\n",
    "        # Definimos las entradas del grafo, los tensores para x y para y\n",
    "        tensor_y = tf.placeholder(float,[len(y)], name=\"Y\")\n",
    "        tensor_x = tf.placeholder(float,[x_fil,x_col], name=\"X\")\n",
    "        \n",
    "        # Realizamos el entrenamiento mediante el metodo actualizar\n",
    "        actualizar_parametros = modelo.actualizar(tensor_x, tensor_y, lr)\n",
    "        \n",
    "        # Escribimos el archivo para tensorboard\n",
    "        writer = tf.summary.FileWriter(string_conf, g)\n",
    "        \n",
    "        with tf.train.MonitoredSession() as session:\n",
    "            feed_dict = {tensor_x:x, tensor_y:y}\n",
    "            for i in range(1, epochs+1):   \n",
    "                # Ejecutamos el entrenamiento\n",
    "                entrenamiento = session.run(actualizar_parametros, feed_dict = feed_dict)\n",
    "            \n",
    "                if (i)%imprimir_error == 0:\n",
    "                    # Calculamos los parametros para cada epoch que se va a imprimir\n",
    "                    parametros = session.run(modelo.parametros, feed_dict = feed_dict)\n",
    "                    # Agregamos un escalar para monitorear el MSE posteriormente en tensorboard\n",
    "                    writer.add_summary(entrenamiento[2], i)\n",
    "                    print(\"No. de Iteración:\",i,\", Parametros del modelo: \", parametros,\", Error del modelo:\",entrenamiento[1])\n",
    "                    print(\"_______________________________________________________________________________________________________\")\n",
    "                    \n",
    "            writer.close()"
   ]
  },
  {
   "cell_type": "markdown",
   "metadata": {},
   "source": [
    "### Grafo del Modelo implementado\n",
    "\n",
    "<img src=\"./Imagenes/Grafo del Modelo.jpg\">"
   ]
  },
  {
   "cell_type": "markdown",
   "metadata": {},
   "source": [
    "### Experimentos utilizando el Modelo Generado\n",
    "\n",
    "Es necesario realizar varios experimentos para poder encontrar el valor óptimo de los hiper-párametros del modelo, como los son en este caso el learning rate y el número de epochs. Debido a que no hay una receta para poder determinar estos hiper-párametros de entrenamiento para el modelo, nos vemos en la necesidad de experimentar con los mismos. \n",
    "\n",
    "Para este modelo la rapidez con el que el modelo alcanza el error mínimo depende del learning rate (tamaño del paso), lo cual condiciona también el número de epochs (número de pasos) necesario para llegar al mínimo.\n"
   ]
  },
  {
   "cell_type": "code",
   "execution_count": 9,
   "metadata": {},
   "outputs": [],
   "source": [
    "#Obtenemos los valores para \"x\" y \"\"y  del data frame de entrenamiento para usarlos en los experimentos\n",
    "y = df_entrenamiento[\"PrecioVenta\"]\n",
    "x = df_entrenamiento[\"CalidadMaterial\"]"
   ]
  },
  {
   "cell_type": "markdown",
   "metadata": {},
   "source": [
    "### Experimento No.1\n",
    "\n",
    "En este primer experimento utilizaremos un learning rate pequeño, por lo cual esto condiciona la necesidad de utilizar un número de epochs mayor para poder llegar a un mínimo\n"
   ]
  },
  {
   "cell_type": "code",
   "execution_count": 10,
   "metadata": {},
   "outputs": [
    {
     "name": "stdout",
     "output_type": "stream",
     "text": [
      "INFO:tensorflow:Graph was finalized.\n",
      "INFO:tensorflow:Running local_init_op.\n",
      "INFO:tensorflow:Done running local_init_op.\n",
      "No. de Iteración: 3000 , Parametros del modelo:  [[31716.578 -8760.742]] , Error del modelo: 1333491700.0\n",
      "_______________________________________________________________________________________________________\n",
      "No. de Iteración: 6000 , Parametros del modelo:  [[ 33530.043 -20374.766]] , Error del modelo: 1287352200.0\n",
      "_______________________________________________________________________________________________________\n",
      "No. de Iteración: 9000 , Parametros del modelo:  [[ 35103.37  -30450.777]] , Error del modelo: 1252623200.0\n",
      "_______________________________________________________________________________________________________\n",
      "No. de Iteración: 12000 , Parametros del modelo:  [[ 36468.4   -39192.555]] , Error del modelo: 1226482600.0\n",
      "_______________________________________________________________________________________________________\n",
      "No. de Iteración: 15000 , Parametros del modelo:  [[ 37652.61  -46776.734]] , Error del modelo: 1206806100.0\n",
      "_______________________________________________________________________________________________________\n"
     ]
    }
   ],
   "source": [
    "#lr = 0.001, epochs= 15000\n",
    "entrenamiento(x, y, 0.001, 15000,3000)"
   ]
  },
  {
   "cell_type": "markdown",
   "metadata": {},
   "source": [
    "<img src=\"./Imagenes/Experimento1.png\">"
   ]
  },
  {
   "cell_type": "markdown",
   "metadata": {},
   "source": [
    "### Experimento No.2\n",
    "\n",
    "Debido a que el error está disminuyendo pero no converge en el experimento1, en este segundo experimento utilizaremos un learning rate más grande, para que los pasos sean más grandes y mantendremos el número de epochs igual para poder llegar a un mínimo. Esperamos que ahora el error si tienda a disminuir más rápido, ya que daremos pasos más grandes para llegar al mínimo.\n"
   ]
  },
  {
   "cell_type": "code",
   "execution_count": 11,
   "metadata": {},
   "outputs": [
    {
     "name": "stdout",
     "output_type": "stream",
     "text": [
      "INFO:tensorflow:Graph was finalized.\n",
      "INFO:tensorflow:Running local_init_op.\n",
      "INFO:tensorflow:Done running local_init_op.\n",
      "No. de Iteración: 3000 , Parametros del modelo:  [[ 41599.26 -72051.84]] , Error del modelo: 1161388700.0\n",
      "_______________________________________________________________________________________________________\n",
      "No. de Iteración: 6000 , Parametros del modelo:  [[ 44491.09 -90571.84]] , Error del modelo: 1147760500.0\n",
      "_______________________________________________________________________________________________________\n",
      "No. de Iteración: 9000 , Parametros del modelo:  [[ 45189.555 -95044.984]] , Error del modelo: 1146965500.0\n",
      "_______________________________________________________________________________________________________\n",
      "No. de Iteración: 12000 , Parametros del modelo:  [[ 45358.25 -96125.35]] , Error del modelo: 1146919000.0\n",
      "_______________________________________________________________________________________________________\n",
      "No. de Iteración: 15000 , Parametros del modelo:  [[ 45398.973 -96386.13 ]] , Error del modelo: 1146916400.0\n",
      "_______________________________________________________________________________________________________\n"
     ]
    }
   ],
   "source": [
    "#lr = 0.01, epochs= 15000\n",
    "entrenamiento(x, y, 0.01, 15000,3000)"
   ]
  },
  {
   "cell_type": "markdown",
   "metadata": {},
   "source": [
    "<img src=\"./Imagenes/Experimento2.png\">"
   ]
  },
  {
   "cell_type": "markdown",
   "metadata": {},
   "source": [
    "### Experimento No.3\n",
    "\n",
    "Pudimos observar que en el experimento anterior el error disminuyó considereblemente, por lo cual en este tercer experimento mantendremos el valor del learning rate y aumentaremos el número de epochs para dar más pasos. Esperamos que el error disminuya más, ya que daremos más pasos para llegar al mínimo.\n"
   ]
  },
  {
   "cell_type": "code",
   "execution_count": 12,
   "metadata": {},
   "outputs": [
    {
     "name": "stdout",
     "output_type": "stream",
     "text": [
      "INFO:tensorflow:Graph was finalized.\n",
      "INFO:tensorflow:Running local_init_op.\n",
      "INFO:tensorflow:Done running local_init_op.\n",
      "No. de Iteración: 5000 , Parametros del modelo:  [[ 43933.26  -86999.375]] , Error del modelo: 1149093200.0\n",
      "_______________________________________________________________________________________________________\n",
      "No. de Iteración: 10000 , Parametros del modelo:  [[ 45273.457 -95582.31 ]] , Error del modelo: 1146935400.0\n",
      "_______________________________________________________________________________________________________\n",
      "No. de Iteración: 15000 , Parametros del modelo:  [[ 45398.973 -96386.13 ]] , Error del modelo: 1146916400.0\n",
      "_______________________________________________________________________________________________________\n",
      "No. de Iteración: 20000 , Parametros del modelo:  [[ 45410.65  -96460.945]] , Error del modelo: 1146916000.0\n",
      "_______________________________________________________________________________________________________\n",
      "No. de Iteración: 25000 , Parametros del modelo:  [[ 45410.65  -96460.945]] , Error del modelo: 1146916000.0\n",
      "_______________________________________________________________________________________________________\n"
     ]
    }
   ],
   "source": [
    "#lr = 0.01, epochs= 25000\n",
    "entrenamiento(x, y, 0.01, 25000,5000)"
   ]
  },
  {
   "cell_type": "markdown",
   "metadata": {},
   "source": [
    "<img src=\"./Imagenes/Experimento3.png\">"
   ]
  },
  {
   "cell_type": "markdown",
   "metadata": {},
   "source": [
    "### Experimento No.4\n",
    "\n",
    "Debido a que en el tercer experimento aumentando el número de epochs el error bajó muy poco, en este cuarto experimento  aumentaremos el valor de learning rate y bajaremos el número de epochs. Con esto se espera que dando pasos más grandes necesitemos de menos epochs para llegar al mínimo."
   ]
  },
  {
   "cell_type": "code",
   "execution_count": 13,
   "metadata": {},
   "outputs": [
    {
     "name": "stdout",
     "output_type": "stream",
     "text": [
      "INFO:tensorflow:Graph was finalized.\n",
      "INFO:tensorflow:Running local_init_op.\n",
      "INFO:tensorflow:Done running local_init_op.\n",
      "No. de Iteración: 2000 , Parametros del modelo:  [[ 43038.633 -81269.945]] , Error del modelo: 1152529300.0\n",
      "_______________________________________________________________________________________________________\n",
      "No. de Iteración: 4000 , Parametros del modelo:  [[ 45055.17 -94184.34]] , Error del modelo: 1147043000.0\n",
      "_______________________________________________________________________________________________________\n",
      "No. de Iteración: 6000 , Parametros del modelo:  [[ 45358.34 -96125.94]] , Error del modelo: 1146918900.0\n",
      "_______________________________________________________________________________________________________\n",
      "No. de Iteración: 8000 , Parametros del modelo:  [[ 45403.918 -96417.81 ]] , Error del modelo: 1146916200.0\n",
      "_______________________________________________________________________________________________________\n",
      "No. de Iteración: 10000 , Parametros del modelo:  [[ 45410.695 -96461.22 ]] , Error del modelo: 1146916200.0\n",
      "_______________________________________________________________________________________________________\n"
     ]
    }
   ],
   "source": [
    "#lr = 0.02, epochs= 10000\n",
    "entrenamiento(x, y, 0.02, 10000,2000)"
   ]
  },
  {
   "cell_type": "markdown",
   "metadata": {},
   "source": [
    "<img src=\"./Imagenes/Experimento4.png\">"
   ]
  },
  {
   "cell_type": "markdown",
   "metadata": {},
   "source": [
    "### Experimento No.5\n",
    "\n",
    "Debido a que en el cuarto experimento el error bajó muy poco, en este quinto experimento aumentaremos un poco más el valor de learning rate y mantendremos el número de epochs. Con esto se espera que disminuya el error."
   ]
  },
  {
   "cell_type": "code",
   "execution_count": 14,
   "metadata": {},
   "outputs": [
    {
     "name": "stdout",
     "output_type": "stream",
     "text": [
      "INFO:tensorflow:Graph was finalized.\n",
      "INFO:tensorflow:Running local_init_op.\n",
      "INFO:tensorflow:Done running local_init_op.\n",
      "No. de Iteración: 2000 , Parametros del modelo:  [[ 44492.344 -90579.875]] , Error del modelo: 1147759700.0\n",
      "_______________________________________________________________________________________________________\n",
      "No. de Iteración: 4000 , Parametros del modelo:  [[ 45358.42  -96126.445]] , Error del modelo: 1146918800.0\n",
      "_______________________________________________________________________________________________________\n",
      "No. de Iteración: 6000 , Parametros del modelo:  [[ 45408.88 -96449.6 ]] , Error del modelo: 1146916100.0\n",
      "_______________________________________________________________________________________________________\n",
      "No. de Iteración: 8000 , Parametros del modelo:  [[ 45411.562 -96466.78 ]] , Error del modelo: 1146916100.0\n",
      "_______________________________________________________________________________________________________\n",
      "No. de Iteración: 10000 , Parametros del modelo:  [[ 45411.562 -96466.78 ]] , Error del modelo: 1146916100.0\n",
      "_______________________________________________________________________________________________________\n"
     ]
    }
   ],
   "source": [
    "#lr = 0.03, epochs= 10000\n",
    "entrenamiento(x, y, 0.03, 10000,2000)"
   ]
  },
  {
   "cell_type": "markdown",
   "metadata": {},
   "source": [
    "<img src=\"./Imagenes/Experimento5.png\">"
   ]
  },
  {
   "cell_type": "markdown",
   "metadata": {},
   "source": [
    "### Experimento No.6\n",
    "\n",
    "Debido a que en el experimento anterior el error bajo rapidamente pero a partir del epoch 600 se mantuvo el mismo valor, corroborando la hipotesis esperada en el experimento anterior. En este sexto experimento aumentaremos un poco más el valor de learning rate y mantendremos el número de epochs. Con esto se esperamos que dando pasos más grandes necesitemos aún de menos epochs para llegar al mínimo."
   ]
  },
  {
   "cell_type": "code",
   "execution_count": 15,
   "metadata": {},
   "outputs": [
    {
     "name": "stdout",
     "output_type": "stream",
     "text": [
      "INFO:tensorflow:Graph was finalized.\n",
      "INFO:tensorflow:Running local_init_op.\n",
      "INFO:tensorflow:Done running local_init_op.\n",
      "No. de Iteración: 2000 , Parametros del modelo:  [[ 45055.81 -94188.43]] , Error del modelo: 1147043200.0\n",
      "_______________________________________________________________________________________________________\n",
      "No. de Iteración: 4000 , Parametros del modelo:  [[ 45403.965 -96418.125]] , Error del modelo: 1146916700.0\n",
      "_______________________________________________________________________________________________________\n",
      "No. de Iteración: 6000 , Parametros del modelo:  [[ 45411.676 -96467.51 ]] , Error del modelo: 1146916000.0\n",
      "_______________________________________________________________________________________________________\n",
      "No. de Iteración: 8000 , Parametros del modelo:  [[ 45411.676 -96467.51 ]] , Error del modelo: 1146916000.0\n",
      "_______________________________________________________________________________________________________\n",
      "No. de Iteración: 10000 , Parametros del modelo:  [[ 45411.676 -96467.51 ]] , Error del modelo: 1146916000.0\n",
      "_______________________________________________________________________________________________________\n"
     ]
    }
   ],
   "source": [
    "#lr = 0.04, epochs= 10000\n",
    "entrenamiento(x, y, 0.04, 10000,2000)"
   ]
  },
  {
   "cell_type": "markdown",
   "metadata": {},
   "source": [
    "<img src=\"./Imagenes/Experimento6.png\">"
   ]
  },
  {
   "cell_type": "markdown",
   "metadata": {},
   "source": [
    "### Experimento No.7\n",
    "\n",
    "En el experimento anterior nuevamente el error disminuyó rapidamente y se mantuvo a partir de la iteración 600, por lo cual en este séptimo experimento aumentaremos un poco más el valor de learning rate y mantendremos el número de iteraciones. Esperamos encontrar el número óptimo para el larning rate, es decir hasta donde podríamos aumentar el tamaño de los pasos para llegar al mínimo."
   ]
  },
  {
   "cell_type": "code",
   "execution_count": 16,
   "metadata": {},
   "outputs": [
    {
     "name": "stdout",
     "output_type": "stream",
     "text": [
      "INFO:tensorflow:Graph was finalized.\n",
      "INFO:tensorflow:Running local_init_op.\n",
      "INFO:tensorflow:Done running local_init_op.\n",
      "No. de Iteración: 2000 , Parametros del modelo:  [[-41193584.   -6534861.5]] , Error del modelo: 3.4653553e+16\n",
      "_______________________________________________________________________________________________________\n",
      "No. de Iteración: 4000 , Parametros del modelo:  [[-5.7403527e+10 -8.9634847e+09]] , Error del modelo: 6.7145005e+22\n",
      "_______________________________________________________________________________________________________\n",
      "No. de Iteración: 6000 , Parametros del modelo:  [[-7.9905644e+13 -1.2476931e+13]] , Error del modelo: 1.3010384e+29\n",
      "_______________________________________________________________________________________________________\n",
      "No. de Iteración: 8000 , Parametros del modelo:  [[-1.1122632e+17 -1.7367456e+16]] , Error del modelo: inf\n",
      "_______________________________________________________________________________________________________\n",
      "No. de Iteración: 10000 , Parametros del modelo:  [[-1.5482779e+20 -2.4175774e+19]] , Error del modelo: inf\n",
      "_______________________________________________________________________________________________________\n"
     ]
    }
   ],
   "source": [
    "#lr = 0.05, epochs= 10000\n",
    "entrenamiento(x, y, 0.05, 10000,2000)"
   ]
  },
  {
   "cell_type": "markdown",
   "metadata": {},
   "source": [
    "<img src=\"./Imagenes/Experimento7.png\">"
   ]
  },
  {
   "cell_type": "markdown",
   "metadata": {},
   "source": [
    "### Experimento No.8\n",
    "\n",
    "Como pudimos observar en el experimento anterior el learning rate de 0.05 causa divergencia, por lo cual en este octavo experimento bajaremos el valor del learning rate hasta lo máximo que pudimos aumentarlo antes de divergiera y disminuiremos el número de iteraciones. Esperamos encontrar el número de iteraciones óptimas, esperando que sean menos debido a que tendremos un larning rate grande."
   ]
  },
  {
   "cell_type": "code",
   "execution_count": 17,
   "metadata": {},
   "outputs": [
    {
     "name": "stdout",
     "output_type": "stream",
     "text": [
      "INFO:tensorflow:Graph was finalized.\n",
      "INFO:tensorflow:Running local_init_op.\n",
      "INFO:tensorflow:Done running local_init_op.\n",
      "No. de Iteración: 1000 , Parametros del modelo:  [[ 43040.75 -81283.51]] , Error del modelo: 1152530000.0\n",
      "_______________________________________________________________________________________________________\n",
      "No. de Iteración: 2000 , Parametros del modelo:  [[ 45055.81 -94188.43]] , Error del modelo: 1147043200.0\n",
      "_______________________________________________________________________________________________________\n",
      "No. de Iteración: 3000 , Parametros del modelo:  [[ 45358.492 -96126.9  ]] , Error del modelo: 1146918700.0\n",
      "_______________________________________________________________________________________________________\n",
      "No. de Iteración: 4000 , Parametros del modelo:  [[ 45403.965 -96418.125]] , Error del modelo: 1146916700.0\n",
      "_______________________________________________________________________________________________________\n",
      "No. de Iteración: 5000 , Parametros del modelo:  [[ 45410.773 -96461.734]] , Error del modelo: 1146916000.0\n",
      "_______________________________________________________________________________________________________\n",
      "No. de Iteración: 6000 , Parametros del modelo:  [[ 45411.676 -96467.51 ]] , Error del modelo: 1146916000.0\n",
      "_______________________________________________________________________________________________________\n"
     ]
    }
   ],
   "source": [
    "#lr = 0.04, epochs= 6000\n",
    "entrenamiento(x, y, 0.04, 6000,1000)"
   ]
  },
  {
   "cell_type": "markdown",
   "metadata": {},
   "source": [
    "<img src=\"./Imagenes/Experimento8.png\">"
   ]
  },
  {
   "cell_type": "markdown",
   "metadata": {},
   "source": [
    "### Experimento No.9\n",
    "\n",
    "Como pudimos observar en el experimento anterior efectivamente necesitamos menos iteraciones para llegar al mínimo, por lo cual en este noveno experimento bajaremos el número de iteraciones. Esperamos encontrar el número de iteraciones óptimas, esperando que sean cada vez menos."
   ]
  },
  {
   "cell_type": "code",
   "execution_count": 18,
   "metadata": {},
   "outputs": [
    {
     "name": "stdout",
     "output_type": "stream",
     "text": [
      "INFO:tensorflow:Graph was finalized.\n",
      "INFO:tensorflow:Running local_init_op.\n",
      "INFO:tensorflow:Done running local_init_op.\n",
      "No. de Iteración: 1000 , Parametros del modelo:  [[ 43040.75 -81283.51]] , Error del modelo: 1152530000.0\n",
      "_______________________________________________________________________________________________________\n",
      "No. de Iteración: 2000 , Parametros del modelo:  [[ 45055.81 -94188.43]] , Error del modelo: 1147043200.0\n",
      "_______________________________________________________________________________________________________\n",
      "No. de Iteración: 3000 , Parametros del modelo:  [[ 45358.492 -96126.9  ]] , Error del modelo: 1146918700.0\n",
      "_______________________________________________________________________________________________________\n",
      "No. de Iteración: 4000 , Parametros del modelo:  [[ 45403.965 -96418.125]] , Error del modelo: 1146916700.0\n",
      "_______________________________________________________________________________________________________\n",
      "No. de Iteración: 5000 , Parametros del modelo:  [[ 45410.773 -96461.734]] , Error del modelo: 1146916000.0\n",
      "_______________________________________________________________________________________________________\n"
     ]
    }
   ],
   "source": [
    "#lr = 0.04, epochs= 5000\n",
    "entrenamiento(x, y, 0.04, 5000,1000)"
   ]
  },
  {
   "cell_type": "markdown",
   "metadata": {},
   "source": [
    "<img src=\"./Imagenes/Experimento9.png\">"
   ]
  },
  {
   "cell_type": "markdown",
   "metadata": {},
   "source": [
    "### Experimento No.10\n",
    "\n",
    "Como pudimos observar en el experimento anterior efectivamente necesitamos menos iteraciones para llegar al mínimo, por lo cual en este decimo experimento bajaremos el número de iteraciones aún más. Esperamos encontrar el número de iteraciones óptimas, es decir cuál es el menor número de iteraciones que podremos usar para llegar al mínimo."
   ]
  },
  {
   "cell_type": "code",
   "execution_count": 19,
   "metadata": {},
   "outputs": [
    {
     "name": "stdout",
     "output_type": "stream",
     "text": [
      "INFO:tensorflow:Graph was finalized.\n",
      "INFO:tensorflow:Running local_init_op.\n",
      "INFO:tensorflow:Done running local_init_op.\n",
      "No. de Iteración: 1000 , Parametros del modelo:  [[ 43040.75 -81283.51]] , Error del modelo: 1152530000.0\n",
      "_______________________________________________________________________________________________________\n",
      "No. de Iteración: 2000 , Parametros del modelo:  [[ 45055.81 -94188.43]] , Error del modelo: 1147043200.0\n",
      "_______________________________________________________________________________________________________\n",
      "No. de Iteración: 3000 , Parametros del modelo:  [[ 45358.492 -96126.9  ]] , Error del modelo: 1146918700.0\n",
      "_______________________________________________________________________________________________________\n",
      "No. de Iteración: 4000 , Parametros del modelo:  [[ 45403.965 -96418.125]] , Error del modelo: 1146916700.0\n",
      "_______________________________________________________________________________________________________\n"
     ]
    }
   ],
   "source": [
    "#lr = 0.04, epochs= 4000\n",
    "entrenamiento(x, y, 0.04, 4000,1000)"
   ]
  },
  {
   "cell_type": "markdown",
   "metadata": {},
   "source": [
    "<img src=\"./Imagenes/Experimento10.png\">"
   ]
  },
  {
   "cell_type": "markdown",
   "metadata": {},
   "source": [
    "### Experimento No.11\n",
    "\n",
    "Como pudimos observar en el experimento anterior con 4000 iteraciones ya no pudimos llegar al mínimo, por lo cual en este decimo experimento  umentaremos el número de iteraciones un poco. Esperamos encontrar el número de iteraciones óptimas, es decir cuál es el menor número de iteraciones que podremos usar para llegar al mínimo."
   ]
  },
  {
   "cell_type": "code",
   "execution_count": 20,
   "metadata": {},
   "outputs": [
    {
     "name": "stdout",
     "output_type": "stream",
     "text": [
      "INFO:tensorflow:Graph was finalized.\n",
      "INFO:tensorflow:Running local_init_op.\n",
      "INFO:tensorflow:Done running local_init_op.\n",
      "No. de Iteración: 500 , Parametros del modelo:  [[ 39293.85  -57287.406]] , Error del modelo: 1184288600.0\n",
      "_______________________________________________________________________________________________________\n",
      "No. de Iteración: 1000 , Parametros del modelo:  [[ 43040.75 -81283.51]] , Error del modelo: 1152530000.0\n",
      "_______________________________________________________________________________________________________\n",
      "No. de Iteración: 1500 , Parametros del modelo:  [[ 44492.97 -90583.87]] , Error del modelo: 1147759400.0\n",
      "_______________________________________________________________________________________________________\n",
      "No. de Iteración: 2000 , Parametros del modelo:  [[ 45055.81 -94188.43]] , Error del modelo: 1147043200.0\n",
      "_______________________________________________________________________________________________________\n",
      "No. de Iteración: 2500 , Parametros del modelo:  [[ 45273.953 -95585.49 ]] , Error del modelo: 1146935700.0\n",
      "_______________________________________________________________________________________________________\n",
      "No. de Iteración: 3000 , Parametros del modelo:  [[ 45358.492 -96126.9  ]] , Error del modelo: 1146918700.0\n",
      "_______________________________________________________________________________________________________\n",
      "No. de Iteración: 3500 , Parametros del modelo:  [[ 45391.258 -96336.74 ]] , Error del modelo: 1146916400.0\n",
      "_______________________________________________________________________________________________________\n",
      "No. de Iteración: 4000 , Parametros del modelo:  [[ 45403.965 -96418.125]] , Error del modelo: 1146916700.0\n",
      "_______________________________________________________________________________________________________\n",
      "No. de Iteración: 4500 , Parametros del modelo:  [[ 45408.875 -96449.58 ]] , Error del modelo: 1146916100.0\n",
      "_______________________________________________________________________________________________________\n"
     ]
    }
   ],
   "source": [
    "#lr = 0.04, epochs= 4500\n",
    "entrenamiento(x, y, 0.04, 4500,500)"
   ]
  },
  {
   "cell_type": "markdown",
   "metadata": {},
   "source": [
    "<img src=\"./Imagenes/Experimento11.png\">"
   ]
  },
  {
   "cell_type": "markdown",
   "metadata": {},
   "source": [
    "Como se puede observar en este experimento, utilizando un número de iteraciones de 4500 no pudimos llegar al error mínimo."
   ]
  },
  {
   "cell_type": "markdown",
   "metadata": {},
   "source": [
    "### Conclusiones Generales:\n",
    "\n",
    "* Un learning rate de 0.04 es cercano al máximo permitido antes de que el algoritmo de Gradient Descent empiece a diverger.\n",
    "* Debido a que 0.04 es un learning rate que permite tomar pasos más grandes, son necesarias menos iteraciones (epochs) para llegar al mínimo de la función de costo.\n",
    "* El mejor experimento es el número nueve, ya que cuenta con la combinación óptima de larning rate(tamaño del paso) y número de iteraciones(epochs) para llegar al error mínimo, esta combinación es un larning rate= 0.04 y un número de epochs=5000."
   ]
  },
  {
   "cell_type": "markdown",
   "metadata": {},
   "source": [
    "Gráfico general en Tensorboard de la ejecución de los experimentos, excluyendo el experimento No.7 ya que tiende al infinito (el experimento No.1 tampoco se aprecia en la imagen debido a la escala).\n",
    "\n",
    "<img src=\"./Imagenes/GeneralExperimentos.png\">\n"
   ]
  },
  {
   "cell_type": "markdown",
   "metadata": {},
   "source": [
    "#### Integración de Tensorboard en el Notebook"
   ]
  },
  {
   "cell_type": "code",
   "execution_count": 23,
   "metadata": {},
   "outputs": [
    {
     "data": {
      "text/plain": [
       "ERROR: Timed out waiting for TensorBoard to start. It may still be running as pid 21144."
      ]
     },
     "metadata": {},
     "output_type": "display_data"
    }
   ],
   "source": [
    "%tensorboard --logdir  ./logs --host localhost"
   ]
  },
  {
   "cell_type": "code",
   "execution_count": 24,
   "metadata": {},
   "outputs": [
    {
     "data": {
      "text/plain": [
       "Reusing TensorBoard on port 6006 (pid 3680), started 0:01:07 ago. (Use '!kill 3680' to kill it.)"
      ]
     },
     "metadata": {},
     "output_type": "display_data"
    },
    {
     "data": {
      "text/html": [
       "\n",
       "      <iframe id=\"tensorboard-frame-e595bd8c273f9b59\" width=\"100%\" height=\"800\" frameborder=\"0\">\n",
       "      </iframe>\n",
       "      <script>\n",
       "        (function() {\n",
       "          const frame = document.getElementById(\"tensorboard-frame-e595bd8c273f9b59\");\n",
       "          const url = new URL(\"/\", window.location);\n",
       "          url.port = 6006;\n",
       "          frame.src = url;\n",
       "        })();\n",
       "      </script>\n",
       "  "
      ],
      "text/plain": [
       "<IPython.core.display.HTML object>"
      ]
     },
     "metadata": {},
     "output_type": "display_data"
    }
   ],
   "source": [
    "%tensorboard --logdir  ./logs --host localhost"
   ]
  }
 ],
 "metadata": {
  "kernelspec": {
   "display_name": "Python 3",
   "language": "python",
   "name": "python3"
  },
  "language_info": {
   "codemirror_mode": {
    "name": "ipython",
    "version": 3
   },
   "file_extension": ".py",
   "mimetype": "text/x-python",
   "name": "python",
   "nbconvert_exporter": "python",
   "pygments_lexer": "ipython3",
   "version": "3.7.7"
  }
 },
 "nbformat": 4,
 "nbformat_minor": 4
}
